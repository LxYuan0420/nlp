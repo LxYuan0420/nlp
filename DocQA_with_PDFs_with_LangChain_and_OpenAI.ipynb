{
  "nbformat": 4,
  "nbformat_minor": 0,
  "metadata": {
    "colab": {
      "provenance": [],
      "include_colab_link": true
    },
    "kernelspec": {
      "name": "python3",
      "display_name": "Python 3"
    },
    "language_info": {
      "name": "python"
    }
  },
  "cells": [
    {
      "cell_type": "markdown",
      "metadata": {
        "id": "view-in-github",
        "colab_type": "text"
      },
      "source": [
        "<a href=\"https://colab.research.google.com/github/LxYuan0420/nlp/blob/main/DocQA_with_PDFs_with_LangChain_and_OpenAI.ipynb\" target=\"_parent\"><img src=\"https://colab.research.google.com/assets/colab-badge.svg\" alt=\"Open In Colab\"/></a>"
      ]
    },
    {
      "cell_type": "markdown",
      "source": [
        "#### DocQA with PDFs with LangChain and OpenAI\n",
        "\n",
        "\n",
        "\n",
        "\n"
      ],
      "metadata": {
        "id": "_x1GI7Fo8Y7x"
      }
    },
    {
      "cell_type": "markdown",
      "source": [
        "###### Install and setup api key "
      ],
      "metadata": {
        "id": "Q24Y-g6h-Bg0"
      }
    },
    {
      "cell_type": "code",
      "source": [
        "# RUN THIS CELL FIRST!\n",
        "!pip install -U langchain pypdf tiktoken openai "
      ],
      "metadata": {
        "id": "gk2J2sYYjTkM"
      },
      "execution_count": null,
      "outputs": []
    },
    {
      "cell_type": "code",
      "source": [
        "!pip install chromadb"
      ],
      "metadata": {
        "id": "r7TwY79f0nk7"
      },
      "execution_count": null,
      "outputs": []
    },
    {
      "cell_type": "code",
      "source": [
        "import os\n",
        "from langchain.document_loaders import PyPDFDirectoryLoader\n",
        "from langchain.text_splitter import RecursiveCharacterTextSplitter\n",
        "from langchain.llms import OpenAI\n",
        "from langchain.chains import ConversationalRetrievalChain\n",
        "from langchain.vectorstores import Chroma\n",
        "from langchain.embeddings import OpenAIEmbeddings\n",
        "from langchain.chat_models import ChatOpenAI\n",
        "from langchain.chains import RetrievalQA"
      ],
      "metadata": {
        "id": "l-uszlwN641q"
      },
      "execution_count": 1,
      "outputs": []
    },
    {
      "cell_type": "code",
      "source": [
        "os.environ[\"OPENAI_API_KEY\"] = \"<your-openai-api-key\""
      ],
      "metadata": {
        "id": "E2Buv5Y0uFr8"
      },
      "execution_count": 2,
      "outputs": []
    },
    {
      "cell_type": "markdown",
      "source": [
        "######  Load PDFs from directory and split them into chunks"
      ],
      "metadata": {
        "id": "RLULMPXa-Hu8"
      }
    },
    {
      "cell_type": "code",
      "source": [
        "!ls /content/my_pdf_dir"
      ],
      "metadata": {
        "colab": {
          "base_uri": "https://localhost:8080/"
        },
        "id": "HDpInA-P6Nr7",
        "outputId": "05580815-5959-4741-bfb8-4cafd23317b9"
      },
      "execution_count": 23,
      "outputs": [
        {
          "output_type": "stream",
          "name": "stdout",
          "text": [
            "'SG221111OTHRYBSC_Stamford Land Corporation Ltd_20221111172130_00_FS_2Q_20220930.pdf'\n",
            "'SG221111OTHRYC5J_Dragon Group Intl Limited_20221111173823_00_FS_3Q_20220930.pdf'\n",
            "'SG221114OTHRKF8W_Hs Optimus Holdings Limited_20221114213742_00_FS_2Q_20220930.pdf'\n"
          ]
        }
      ]
    },
    {
      "cell_type": "code",
      "source": [
        "loader = PyPDFDirectoryLoader(\"/content/my_pdf_dir\")\n",
        "docs = loader.load()"
      ],
      "metadata": {
        "id": "ZQFypwwtwpcv"
      },
      "execution_count": 5,
      "outputs": []
    },
    {
      "cell_type": "code",
      "source": [
        "type(docs)"
      ],
      "metadata": {
        "colab": {
          "base_uri": "https://localhost:8080/"
        },
        "id": "OtVfq8oAzaIv",
        "outputId": "d33f387b-12b7-4cda-84db-62376e525cd5"
      },
      "execution_count": 6,
      "outputs": [
        {
          "output_type": "execute_result",
          "data": {
            "text/plain": [
              "list"
            ]
          },
          "metadata": {},
          "execution_count": 6
        }
      ]
    },
    {
      "cell_type": "code",
      "source": [
        "# like a list of namedTuple\n",
        "docs[0]"
      ],
      "metadata": {
        "colab": {
          "base_uri": "https://localhost:8080/"
        },
        "id": "U-9ESiM87Yxr",
        "outputId": "2c17b589-e60a-4e7a-9367-8eb0efb11a3e"
      },
      "execution_count": 24,
      "outputs": [
        {
          "output_type": "execute_result",
          "data": {
            "text/plain": [
              "Document(page_content=' \\n \\n \\n \\n \\n \\n \\n \\n \\n \\n \\n \\n \\nCompany No. 199306761C \\n \\n  \\nDragon International Limited and its Subsidiaries \\n \\n \\nCondensed Financial Statements  \\nFor the Nine Months Ended 30 September 2022 \\n \\n \\n \\n \\n \\n \\n \\n \\n \\n \\n \\n \\n \\n \\n \\n \\n \\n \\n \\n \\n ', metadata={'source': '/content/my_pdf_dir/SG221111OTHRYC5J_Dragon Group Intl Limited_20221111173823_00_FS_3Q_20220930.pdf', 'page': 0})"
            ]
          },
          "metadata": {},
          "execution_count": 24
        }
      ]
    },
    {
      "cell_type": "code",
      "source": [
        "docs[7].page_content"
      ],
      "metadata": {
        "colab": {
          "base_uri": "https://localhost:8080/",
          "height": 400
        },
        "id": "MnBojpKkzbvP",
        "outputId": "b64f3750-c4bf-47ec-8171-9b43bfe4948f"
      },
      "execution_count": 26,
      "outputs": [
        {
          "output_type": "execute_result",
          "data": {
            "text/plain": [
              "'Dragon Group International Limited   •   Page 8 \\n \\n \\nNOTES TO THE CONDENSED FINANCIAL STATEMENTS \\nFOR THE NINE MONTHS ENDED 30 SEPTEMBER 2022 \\n \\n 1. CORPORATION INFORMATION \\n \\nDragon Group International Limited (the “Company”) is a limited liability company which is domiciled a nd incorporated \\nin Singapore and listed on the Singapore Exchange Secu rities Trading Limited (“SGX-ST”). The immediate and \\nultimate holding company is ASTI Holdings Limited (“ ASTI”), also incorporated in Singapore. \\n \\nThe Company was placed on the watch-list under fina ncial entry criteria pursuant to Rule 1311(1) of th e Listing \\nManual of the SGX-ST on 4 March 2015, and under minim um trading price criteria pursuant to Rule 1311(2) of the \\nListing Manual of SGX-ST on 3 March 2016. The deadlin e for the Company to meet the financial exit criter ia set out \\nin Rule 1314(1) of the Listing Manual (the “Financi al Exit Criteria”) was 3rd March 2017 pursuant to Ru le 1315 of the \\nListing Manual. On 14 August 2017, the Company annou nced that SGX-ST had granted the Company an extension  \\nof time until 3rd March 2018 to meet the Financial Exit Criteria (the “Extended Deadline”). As the Compan y was \\nunable to satisfy the Financial Exit Criteria on or  before the expiry of the Extended Deadline, a Deli sting Notification \\nwas issued by SGX-ST to the Company on 11 April 2018.  Trading in the Company’s securities was ceased on 5pm, \\n10 May 2018 and trading will remain suspended until  the completion of the exit offer. Pursuant to Listi ng Rule 1306, \\nthe Company or its controlling shareholder(s) must comply with Listing Rule 1309 which requires the Co mpany or its \\ncontrolling shareholder(s) to provide a reasonable exit offer to shareholders. Work on the exit propos al is on-going. \\n \\nThe registered office of the Company is located at 1 Robinson Road, #18-00 AIA Tower, Singapore 048542. \\n \\nThe principal place of business is located at Block 33, Ubi Ave 3 #08-69 Vertex, Singapore 408868. \\n \\nThe principal activities of the Company are those o f investment holding and acting as corporate manage r and advisor \\nin relation to the administration and organisation of the businesses of its subsidiary companies. \\n \\nDetails of the significant subsidiary companies and  their principal activities are included in Note 4.  \\n \\n \\n2. SUMMARY OF SIGNIFICANT ACCOUNTING POLICIES \\n \\n2.1 Basis of preparation \\n \\nThe condensed interim financial statements for the nine months ended 30 September 2022 have been \\nprepared in accordance with SFRS(I) 1-34 Interim Fin ancial Reporting issued by the Accounting Standards \\nCouncil Singapore. The condensed interim financial statements do not include all the information requi red \\nfor a complete set of financial statements. However , selected explanatory notes are included to explai n \\nevents and transactions that are significant to an understanding of the changes in the Group’s financi al \\nposition and performance of the Group since the las t annual unaudited financial statements for the yea r \\nended 31 December 2021.  \\n \\nThe accounting policies adopted are consistent with  those of the previous financial year which were \\nprepared in accordance with SFRS(I)s, except for the  adoption of new and amended standards as set out \\nin Note 2.2. \\n \\nThe condensed interim financial statements are pres ented in United States Dollars (“USD” or “US$”), which  \\nis the functional currency of the Company. All valu es in the tables are rounded to the nearest thousan d \\n(“US$’000”) except when otherwise indicated. \\n \\n \\n \\n  '"
            ],
            "application/vnd.google.colaboratory.intrinsic+json": {
              "type": "string"
            }
          },
          "metadata": {},
          "execution_count": 26
        }
      ]
    },
    {
      "cell_type": "code",
      "source": [
        "docs[7].metadata[\"page\"]"
      ],
      "metadata": {
        "colab": {
          "base_uri": "https://localhost:8080/"
        },
        "id": "GlPMKl1IzqUi",
        "outputId": "3aac7b66-f9eb-44ed-b51d-1172274e1606"
      },
      "execution_count": 27,
      "outputs": [
        {
          "output_type": "execute_result",
          "data": {
            "text/plain": [
              "7"
            ]
          },
          "metadata": {},
          "execution_count": 27
        }
      ]
    },
    {
      "cell_type": "code",
      "source": [
        "text_splitter = RecursiveCharacterTextSplitter(chunk_size=512, chunk_overlap=100)\n",
        "texts = text_splitter.split_documents(docs)"
      ],
      "metadata": {
        "id": "XxJOHn__0AT_"
      },
      "execution_count": 9,
      "outputs": []
    },
    {
      "cell_type": "code",
      "source": [
        "type(texts), len(texts)"
      ],
      "metadata": {
        "colab": {
          "base_uri": "https://localhost:8080/"
        },
        "id": "zNkWpK8r0EB8",
        "outputId": "661a2eae-6877-40b0-8582-706ba18938c3"
      },
      "execution_count": 10,
      "outputs": [
        {
          "output_type": "execute_result",
          "data": {
            "text/plain": [
              "(list, 374)"
            ]
          },
          "metadata": {},
          "execution_count": 10
        }
      ]
    },
    {
      "cell_type": "markdown",
      "source": [
        "###### Embed text and store embeddings"
      ],
      "metadata": {
        "id": "_IlznUDK-i2m"
      }
    },
    {
      "cell_type": "code",
      "source": [
        "persist_directory = \"./my_pdf_db\"\n",
        "embeddings = OpenAIEmbeddings()\n",
        "vectordb = Chroma.from_documents(documents=texts, \n",
        "                                 embedding=embeddings,\n",
        "                                 persist_directory=persist_directory)\n",
        "vectordb.persist()"
      ],
      "metadata": {
        "id": "92ObhTAKnZzQ"
      },
      "execution_count": 12,
      "outputs": []
    },
    {
      "cell_type": "markdown",
      "source": [
        "###### Setup retrieval function"
      ],
      "metadata": {
        "id": "2LPwdGDP-nPO"
      }
    },
    {
      "cell_type": "code",
      "source": [
        "retriever = vectordb.as_retriever()\n",
        "llm = ChatOpenAI(model_name='gpt-3.5-turbo') #gpt-4 or gpt-3.5-turbo\n",
        "qa = RetrievalQA.from_chain_type(llm=llm, chain_type=\"stuff\", retriever=retriever)"
      ],
      "metadata": {
        "id": "ZAcEy-ml1wnV"
      },
      "execution_count": 21,
      "outputs": []
    },
    {
      "cell_type": "code",
      "source": [
        "while True:\n",
        "        user_input = input(\"Enter a query: \")\n",
        "        if user_input == \"exit\":\n",
        "            break\n",
        "\n",
        "        query = f\"###Prompt {user_input}\"\n",
        "        try:\n",
        "            llm_response = qa(query)\n",
        "            print(llm_response[\"result\"])\n",
        "            print(\"\\n\")\n",
        "        except Exception as err:\n",
        "            print('Exception occurred. Please try again', str(err))"
      ],
      "metadata": {
        "colab": {
          "base_uri": "https://localhost:8080/",
          "height": 818
        },
        "id": "DcFhWAh6149B",
        "outputId": "8aa798e3-1b84-4894-cda5-e97d5e88f769"
      },
      "execution_count": 29,
      "outputs": [
        {
          "output_type": "stream",
          "name": "stdout",
          "text": [
            "Enter a query: Refer to Dragon Group International financial report, what is the reported \"Cash and cash equivalent\" amount as of 30 September 2022?\n",
            "I'm sorry, I cannot find the reported \"Cash and cash equivalent\" amount as of 30 September 2022 in the given context. The condensed consolidated balance sheet available on page 20 provides some financial information, but it does not include this specific figure.\n",
            "\n",
            "\n",
            "Enter a query: Refer to the Dragon Group financial report, where is the company located?\n",
            "According to the financial report, Dragon Group International Limited is domiciled and incorporated in Singapore.\n",
            "\n",
            "\n",
            "Enter a query: Has the company HS Optimus Holdings Limited proposed any interim dividend for the periods ending on September 30, 2022, and September 30, 2021, based on the given context\n",
            "According to the given context, there is no proposal or declaration of any dividend by HS Optimus Holdings Limited for the six months ended 30 September 2022 or the corresponding period of the immediately preceding financial year.\n",
            "\n",
            "\n",
            "Enter a query: Refer to the HS Optimus Holding Limited report, what is the reported net asset value per share as of 30 September 2022?\n",
            "The reported net asset value per share based on existing issued share capital as of 30 September 2022 is 1.09 cents.\n",
            "\n",
            "\n",
            "Enter a query: Refer to the HS Optimus Holding Limited report, what is the reported net asset value per share as of 31 Mar 2022?\n",
            "The reported net asset value per share as of 31 Mar 2022 for HS Optimus Holding Limited is 1.16 cents.\n",
            "\n",
            "\n",
            "Enter a query: What was the net book value of the assets disposed of by the Group during the six months ended September 30, 2022?\n",
            "The net book value of the assets disposed of by the Group during the six months ended September 30, 2022 was $190.\n",
            "\n",
            "\n"
          ]
        },
        {
          "output_type": "error",
          "ename": "KeyboardInterrupt",
          "evalue": "ignored",
          "traceback": [
            "\u001b[0;31m---------------------------------------------------------------------------\u001b[0m",
            "\u001b[0;31mKeyboardInterrupt\u001b[0m                         Traceback (most recent call last)",
            "\u001b[0;32m<ipython-input-29-aa07b6d91b66>\u001b[0m in \u001b[0;36m<cell line: 1>\u001b[0;34m()\u001b[0m\n\u001b[1;32m      1\u001b[0m \u001b[0;32mwhile\u001b[0m \u001b[0;32mTrue\u001b[0m\u001b[0;34m:\u001b[0m\u001b[0;34m\u001b[0m\u001b[0;34m\u001b[0m\u001b[0m\n\u001b[0;32m----> 2\u001b[0;31m         \u001b[0muser_input\u001b[0m \u001b[0;34m=\u001b[0m \u001b[0minput\u001b[0m\u001b[0;34m(\u001b[0m\u001b[0;34m\"Enter a query: \"\u001b[0m\u001b[0;34m)\u001b[0m\u001b[0;34m\u001b[0m\u001b[0;34m\u001b[0m\u001b[0m\n\u001b[0m\u001b[1;32m      3\u001b[0m         \u001b[0;32mif\u001b[0m \u001b[0muser_input\u001b[0m \u001b[0;34m==\u001b[0m \u001b[0;34m\"exit\"\u001b[0m\u001b[0;34m:\u001b[0m\u001b[0;34m\u001b[0m\u001b[0;34m\u001b[0m\u001b[0m\n\u001b[1;32m      4\u001b[0m             \u001b[0;32mbreak\u001b[0m\u001b[0;34m\u001b[0m\u001b[0;34m\u001b[0m\u001b[0m\n\u001b[1;32m      5\u001b[0m \u001b[0;34m\u001b[0m\u001b[0m\n",
            "\u001b[0;32m/usr/local/lib/python3.10/dist-packages/ipykernel/kernelbase.py\u001b[0m in \u001b[0;36mraw_input\u001b[0;34m(self, prompt)\u001b[0m\n\u001b[1;32m    849\u001b[0m                 \u001b[0;34m\"raw_input was called, but this frontend does not support input requests.\"\u001b[0m\u001b[0;34m\u001b[0m\u001b[0;34m\u001b[0m\u001b[0m\n\u001b[1;32m    850\u001b[0m             )\n\u001b[0;32m--> 851\u001b[0;31m         return self._input_request(str(prompt),\n\u001b[0m\u001b[1;32m    852\u001b[0m             \u001b[0mself\u001b[0m\u001b[0;34m.\u001b[0m\u001b[0m_parent_ident\u001b[0m\u001b[0;34m,\u001b[0m\u001b[0;34m\u001b[0m\u001b[0;34m\u001b[0m\u001b[0m\n\u001b[1;32m    853\u001b[0m             \u001b[0mself\u001b[0m\u001b[0;34m.\u001b[0m\u001b[0m_parent_header\u001b[0m\u001b[0;34m,\u001b[0m\u001b[0;34m\u001b[0m\u001b[0;34m\u001b[0m\u001b[0m\n",
            "\u001b[0;32m/usr/local/lib/python3.10/dist-packages/ipykernel/kernelbase.py\u001b[0m in \u001b[0;36m_input_request\u001b[0;34m(self, prompt, ident, parent, password)\u001b[0m\n\u001b[1;32m    893\u001b[0m             \u001b[0;32mexcept\u001b[0m \u001b[0mKeyboardInterrupt\u001b[0m\u001b[0;34m:\u001b[0m\u001b[0;34m\u001b[0m\u001b[0;34m\u001b[0m\u001b[0m\n\u001b[1;32m    894\u001b[0m                 \u001b[0;31m# re-raise KeyboardInterrupt, to truncate traceback\u001b[0m\u001b[0;34m\u001b[0m\u001b[0;34m\u001b[0m\u001b[0m\n\u001b[0;32m--> 895\u001b[0;31m                 \u001b[0;32mraise\u001b[0m \u001b[0mKeyboardInterrupt\u001b[0m\u001b[0;34m(\u001b[0m\u001b[0;34m\"Interrupted by user\"\u001b[0m\u001b[0;34m)\u001b[0m \u001b[0;32mfrom\u001b[0m \u001b[0;32mNone\u001b[0m\u001b[0;34m\u001b[0m\u001b[0;34m\u001b[0m\u001b[0m\n\u001b[0m\u001b[1;32m    896\u001b[0m             \u001b[0;32mexcept\u001b[0m \u001b[0mException\u001b[0m \u001b[0;32mas\u001b[0m \u001b[0me\u001b[0m\u001b[0;34m:\u001b[0m\u001b[0;34m\u001b[0m\u001b[0;34m\u001b[0m\u001b[0m\n\u001b[1;32m    897\u001b[0m                 \u001b[0mself\u001b[0m\u001b[0;34m.\u001b[0m\u001b[0mlog\u001b[0m\u001b[0;34m.\u001b[0m\u001b[0mwarning\u001b[0m\u001b[0;34m(\u001b[0m\u001b[0;34m\"Invalid Message:\"\u001b[0m\u001b[0;34m,\u001b[0m \u001b[0mexc_info\u001b[0m\u001b[0;34m=\u001b[0m\u001b[0;32mTrue\u001b[0m\u001b[0;34m)\u001b[0m\u001b[0;34m\u001b[0m\u001b[0;34m\u001b[0m\u001b[0m\n",
            "\u001b[0;31mKeyboardInterrupt\u001b[0m: Interrupted by user"
          ]
        }
      ]
    },
    {
      "cell_type": "code",
      "source": [
        "# Questions\n",
        "\"\"\"\n",
        "Refer to Dragon Group International financial report, what is the reported \"Cash and cash equivalent\" amount as of 30 September 2022?\n",
        "Refer to the Dragon Group financial report, where is the company located?\n",
        "Has the company HS Optimus Holdings Limited proposed any interim dividend for the periods ending on September 30, 2022, and September 30, 2021, based on the given context?\n",
        "\n",
        "Refer to the HS Optimus Holding Limited report, what is the reported net asset value per share as of 30 September 2022?\n",
        "Refer to the HS Optimus Holding Limited report, what is the reported net asset value per share as of 31 Mar 2022?\n",
        "What was the net book value of the assets disposed of by the Group during the six months ended September 30, 2022?\n",
        "\"\"\""
      ],
      "metadata": {
        "id": "47phdk3H4-dd"
      },
      "execution_count": null,
      "outputs": []
    }
  ]
}