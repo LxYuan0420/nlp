{
  "nbformat": 4,
  "nbformat_minor": 0,
  "metadata": {
    "colab": {
      "name": "IMDB Review Classification using BERT Tensorflow.ipynb",
      "provenance": []
    },
    "kernelspec": {
      "name": "python3",
      "display_name": "Python 3"
    },
    "language_info": {
      "name": "python"
    },
    "accelerator": "GPU"
  },
  "cells": [
    {
      "cell_type": "markdown",
      "source": [
        "#### Setup"
      ],
      "metadata": {
        "id": "xZlUecurdaQ-"
      }
    },
    {
      "cell_type": "code",
      "execution_count": 1,
      "metadata": {
        "colab": {
          "base_uri": "https://localhost:8080/"
        },
        "id": "RK9HaqQLcQSj",
        "outputId": "d939d0f4-06d1-4983-811f-ccc9c7a29f0e"
      },
      "outputs": [
        {
          "output_type": "stream",
          "name": "stdout",
          "text": [
            "\u001b[K     |████████████████████████████████| 4.9 MB 13.3 MB/s \n",
            "\u001b[K     |████████████████████████████████| 1.8 MB 12.9 MB/s \n",
            "\u001b[K     |████████████████████████████████| 596 kB 42.8 MB/s \n",
            "\u001b[K     |████████████████████████████████| 43 kB 1.9 MB/s \n",
            "\u001b[K     |████████████████████████████████| 1.2 MB 21.8 MB/s \n",
            "\u001b[K     |████████████████████████████████| 1.1 MB 34.2 MB/s \n",
            "\u001b[K     |████████████████████████████████| 352 kB 36.9 MB/s \n",
            "\u001b[K     |████████████████████████████████| 99 kB 8.7 MB/s \n",
            "\u001b[K     |████████████████████████████████| 213 kB 47.6 MB/s \n",
            "\u001b[K     |████████████████████████████████| 90 kB 9.5 MB/s \n",
            "\u001b[K     |████████████████████████████████| 47.6 MB 49.8 MB/s \n",
            "\u001b[?25h  Building wheel for py-cpuinfo (setup.py) ... \u001b[?25l\u001b[?25hdone\n",
            "  Building wheel for seqeval (setup.py) ... \u001b[?25l\u001b[?25hdone\n"
          ]
        }
      ],
      "source": [
        "# A dependency of the preprocessing for BERT inputs\n",
        "!pip install -q -U tensorflow-text\n",
        "!pip install -q tf-models-official"
      ]
    },
    {
      "cell_type": "code",
      "source": [
        "import os\n",
        "import shutil\n",
        "\n",
        "import tensorflow as tf\n",
        "import tensorflow_hub as hub\n",
        "import tensorflow_text as text\n",
        "from official.nlp import optimization  # to create AdamW optimizer\n",
        "\n",
        "import matplotlib.pyplot as plt\n",
        "\n",
        "tf.get_logger().setLevel('ERROR')"
      ],
      "metadata": {
        "id": "oiN1_l40toWA"
      },
      "execution_count": 2,
      "outputs": []
    },
    {
      "cell_type": "markdown",
      "source": [
        "#### Download the IMDB dataset"
      ],
      "metadata": {
        "id": "sJsHRL0odfXq"
      }
    },
    {
      "cell_type": "code",
      "source": [
        "url = 'https://ai.stanford.edu/~amaas/data/sentiment/aclImdb_v1.tar.gz'\n",
        "\n",
        "imdb_dataset = tf.keras.utils.get_file(\n",
        "    fname=\"imdb.tar.gz\",\n",
        "    origin=url,\n",
        "    untar=True,\n",
        "    cache_dir=\".\",\n",
        "    cache_subdir=\"\",\n",
        ")"
      ],
      "metadata": {
        "id": "9H_TDJTJdhSh"
      },
      "execution_count": 19,
      "outputs": []
    },
    {
      "cell_type": "code",
      "source": [
        "train_dir = \"/content/aclImdb/train/\"\n",
        "test_dir = \"/content/aclImdb/test/\"\n",
        "\n",
        "BATCH_SIZE = 64\n",
        "MAX_LENGTH = 256\n",
        "\n",
        "\n",
        "# remove additiona dir: unsup in train\n",
        "shutil.rmtree(train_dir + \"unsup/\")\n",
        "\n",
        "train_dataset = tf.keras.utils.text_dataset_from_directory(\n",
        "    directory=train_dir, \n",
        "    labels='inferred', \n",
        "    label_mode='int',\n",
        "    batch_size=BATCH_SIZE, \n",
        "    max_length=MAX_LENGTH, \n",
        "    shuffle=True, \n",
        "    seed=42,\n",
        "    validation_split=0.2, \n",
        "    subset=\"training\", \n",
        ") \n",
        "\n",
        "class_name = train_dataset.class_names\n",
        "\n",
        "valid_dataset = tf.keras.utils.text_dataset_from_directory(\n",
        "    directory=train_dir, \n",
        "    labels='inferred', \n",
        "    label_mode='int',\n",
        "    batch_size=BATCH_SIZE, \n",
        "    max_length=MAX_LENGTH, \n",
        "    shuffle=True, \n",
        "    seed=42,\n",
        "    validation_split=0.2, \n",
        "    subset=\"validation\", \n",
        ") \n",
        "\n",
        "test_dataset = tf.keras.utils.text_dataset_from_directory(\n",
        "    directory=test_dir, \n",
        "    labels='inferred', \n",
        "    label_mode='int',\n",
        "    batch_size=BATCH_SIZE, \n",
        "    max_length=MAX_LENGTH, \n",
        "    shuffle=True, \n",
        "    seed=42,\n",
        ") \n",
        "\n",
        "\n",
        "train_dataset = train_dataset.cache().prefetch(buffer_size=tf.data.AUTOTUNE)\n",
        "valid_dataset = valid_dataset.cache().prefetch(buffer_size=tf.data.AUTOTUNE)\n",
        "test_dataset = test_dataset.cache().prefetch(buffer_size=tf.data.AUTOTUNE)"
      ],
      "metadata": {
        "colab": {
          "base_uri": "https://localhost:8080/"
        },
        "id": "2OwK1mpFuW8x",
        "outputId": "781d7c95-18b0-46de-8c82-9679c8439340"
      },
      "execution_count": 20,
      "outputs": [
        {
          "output_type": "stream",
          "name": "stdout",
          "text": [
            "Found 25000 files belonging to 2 classes.\n",
            "Using 20000 files for training.\n",
            "Found 25000 files belonging to 2 classes.\n",
            "Using 5000 files for validation.\n",
            "Found 25000 files belonging to 2 classes.\n"
          ]
        }
      ]
    },
    {
      "cell_type": "code",
      "source": [
        "class_name"
      ],
      "metadata": {
        "colab": {
          "base_uri": "https://localhost:8080/"
        },
        "id": "wSM-WfAH1J_h",
        "outputId": "8843024f-228e-4b30-824a-804c73a9f4f7"
      },
      "execution_count": 21,
      "outputs": [
        {
          "output_type": "execute_result",
          "data": {
            "text/plain": [
              "['neg', 'pos']"
            ]
          },
          "metadata": {},
          "execution_count": 21
        }
      ]
    },
    {
      "cell_type": "code",
      "source": [
        "for text, label in train_dataset.take(1):\n",
        "    print(f\"{label.numpy()[:5]}\")\n",
        "    print(f\"{text.numpy()[:5]}\")"
      ],
      "metadata": {
        "colab": {
          "base_uri": "https://localhost:8080/"
        },
        "id": "WFEWt_OuvCB5",
        "outputId": "66e32a21-cb30-4148-dd5a-e008400b0c59"
      },
      "execution_count": 22,
      "outputs": [
        {
          "output_type": "stream",
          "name": "stdout",
          "text": [
            "[1 0 0 0 0]\n",
            "[b\"First of all, I liked very much the central idea of locating the '' intruders'', Others in the fragile Self, on various levels - mainly subconscious but sometimes more allegorical. In fact the intruders are omnipresent throughout the film : in the Swiss-Fr\"\n",
            " b\"David Mamet is a very interesting and a very un-equal director. His first movie 'House of Games' was the one I liked best, and it set a series of films with characters whose perspective of life changes as they get into complicated situations, and so does t\"\n",
            " b\"After Harry Reems' teenage girlfriend is raped by Zebbedy Colt (The Night-Walker), Reems becomes despondent and consoles himself by having sex with some lesbians. Meanwhile, Colt, who carries a cane and dresses like a magician, rapes some more women. Event\"\n",
            " b\"It's boggles the mind how this movie was nominated for seven Oscars and won one. Not because it's abysmal or because given the collective credentials of the creative team behind it really ought to deserve them but because in every category it was nominated\"\n",
            " b'This movie is pretty awful but I have some interesting information about it:<br /><br />It was filmed in 1976 at Northern Arizona University in Flagstaff, AZ, as well as at Oak Creek Canyon near Sedona, AZ. A good bulk of the extras in the film are then-dr']\n"
          ]
        }
      ]
    },
    {
      "cell_type": "markdown",
      "source": [
        "#### Loading models from TensorFlow Hub"
      ],
      "metadata": {
        "id": "2gynQnSbdjlh"
      }
    },
    {
      "cell_type": "code",
      "source": [
        "bert_model_url = \"https://tfhub.dev/tensorflow/small_bert/bert_en_uncased_L-4_H-512_A-8/2\"\n",
        "bert_tokenizer_url = \"https://tfhub.dev/tensorflow/bert_en_uncased_preprocess/3\"\n",
        "\n",
        "bert_model = hub.KerasLayer(bert_model_url)\n",
        "tokenizer = hub.KerasLayer(bert_tokenizer_url)"
      ],
      "metadata": {
        "id": "BJ8x27zXdmom"
      },
      "execution_count": 23,
      "outputs": []
    },
    {
      "cell_type": "code",
      "source": [
        "tokenizer"
      ],
      "metadata": {
        "colab": {
          "base_uri": "https://localhost:8080/"
        },
        "id": "qaAsC1zDx8th",
        "outputId": "f0f922a8-c788-40f1-f2dc-30ce135daf7f"
      },
      "execution_count": 24,
      "outputs": [
        {
          "output_type": "execute_result",
          "data": {
            "text/plain": [
              "<tensorflow_hub.keras_layer.KerasLayer at 0x7f680a3923d0>"
            ]
          },
          "metadata": {},
          "execution_count": 24
        }
      ]
    },
    {
      "cell_type": "code",
      "source": [
        "sample = tf.constant([\"This movie is awesome. Love it !\"])\n",
        "\n",
        "processed_sample = tokenizer(sample)\n",
        "\n",
        "print(f\"Processed sample keys: {processed_sample.keys()}\")\n",
        "\n",
        "print(f\"input_mask: {processed_sample['input_mask']}\")\n",
        "print(f\"input_mask size: {processed_sample['input_mask'].shape}\")\n",
        "print(f\"input_word_ids: {processed_sample['input_word_ids']}\")\n",
        "print(f\"input_type_ids: {processed_sample['input_type_ids']}\")"
      ],
      "metadata": {
        "colab": {
          "base_uri": "https://localhost:8080/"
        },
        "id": "iSVEYWg0xkar",
        "outputId": "3fcc7745-b520-4d90-9dc9-e8d4382b1282"
      },
      "execution_count": 25,
      "outputs": [
        {
          "output_type": "stream",
          "name": "stdout",
          "text": [
            "Processed sample keys: dict_keys(['input_type_ids', 'input_mask', 'input_word_ids'])\n",
            "input_mask: [[1 1 1 1 1 1 1 1 1 1 0 0 0 0 0 0 0 0 0 0 0 0 0 0 0 0 0 0 0 0 0 0 0 0 0 0\n",
            "  0 0 0 0 0 0 0 0 0 0 0 0 0 0 0 0 0 0 0 0 0 0 0 0 0 0 0 0 0 0 0 0 0 0 0 0\n",
            "  0 0 0 0 0 0 0 0 0 0 0 0 0 0 0 0 0 0 0 0 0 0 0 0 0 0 0 0 0 0 0 0 0 0 0 0\n",
            "  0 0 0 0 0 0 0 0 0 0 0 0 0 0 0 0 0 0 0 0]]\n",
            "input_mask size: (1, 128)\n",
            "input_word_ids: [[  101  2023  3185  2003 12476  1012  2293  2009   999   102     0     0\n",
            "      0     0     0     0     0     0     0     0     0     0     0     0\n",
            "      0     0     0     0     0     0     0     0     0     0     0     0\n",
            "      0     0     0     0     0     0     0     0     0     0     0     0\n",
            "      0     0     0     0     0     0     0     0     0     0     0     0\n",
            "      0     0     0     0     0     0     0     0     0     0     0     0\n",
            "      0     0     0     0     0     0     0     0     0     0     0     0\n",
            "      0     0     0     0     0     0     0     0     0     0     0     0\n",
            "      0     0     0     0     0     0     0     0     0     0     0     0\n",
            "      0     0     0     0     0     0     0     0     0     0     0     0\n",
            "      0     0     0     0     0     0     0     0]]\n",
            "input_type_ids: [[0 0 0 0 0 0 0 0 0 0 0 0 0 0 0 0 0 0 0 0 0 0 0 0 0 0 0 0 0 0 0 0 0 0 0 0\n",
            "  0 0 0 0 0 0 0 0 0 0 0 0 0 0 0 0 0 0 0 0 0 0 0 0 0 0 0 0 0 0 0 0 0 0 0 0\n",
            "  0 0 0 0 0 0 0 0 0 0 0 0 0 0 0 0 0 0 0 0 0 0 0 0 0 0 0 0 0 0 0 0 0 0 0 0\n",
            "  0 0 0 0 0 0 0 0 0 0 0 0 0 0 0 0 0 0 0 0]]\n"
          ]
        }
      ]
    },
    {
      "cell_type": "code",
      "source": [
        "bert_output = bert_model(processed_sample)\n",
        "\n",
        "print(f\"Outputs: {bert_output.keys()}\")\n",
        "print(f\"pooled_output: {bert_output['pooled_output'].shape}\")\n",
        "print(f\"sequence_output: {bert_output['sequence_output'].shape}\")\n"
      ],
      "metadata": {
        "colab": {
          "base_uri": "https://localhost:8080/"
        },
        "id": "9VXec9dGy-A5",
        "outputId": "ed3be8cd-1531-47f2-8b6b-98596e9178fb"
      },
      "execution_count": 26,
      "outputs": [
        {
          "output_type": "stream",
          "name": "stdout",
          "text": [
            "Outputs: dict_keys(['pooled_output', 'default', 'sequence_output', 'encoder_outputs'])\n",
            "pooled_output: (1, 512)\n",
            "sequence_output: (1, 128, 512)\n"
          ]
        }
      ]
    },
    {
      "cell_type": "markdown",
      "source": [
        "#### Define your model"
      ],
      "metadata": {
        "id": "E4tCl0eAdpeD"
      }
    },
    {
      "cell_type": "code",
      "source": [
        "def build_model():\n",
        "    bert_model = hub.KerasLayer(bert_model_url, trainable=True, name=\"bert_model\")\n",
        "    tokenizer = hub.KerasLayer(bert_tokenizer_url, name='tokenizer')\n",
        "    \n",
        "    text_input = tf.keras.layers.Input(shape=(), dtype=tf.string, name=\"text\")\n",
        "    tokenized = tokenizer(text_input)\n",
        "    outputs = bert_model(tokenized)\n",
        "    pooled_output = outputs['pooled_output']\n",
        "    output = tf.keras.layers.Dense(1, activation=None, name=\"classifier\")(pooled_output)\n",
        "    model = tf.keras.Model(text_input, output)\n",
        "\n",
        "    return model"
      ],
      "metadata": {
        "id": "T1Sk-sOvdqFu"
      },
      "execution_count": 34,
      "outputs": []
    },
    {
      "cell_type": "code",
      "source": [
        "model = build_model()\n",
        "\n",
        "model_output = model(sample)\n",
        "\n",
        "print(tf.sigmoid(model_output))"
      ],
      "metadata": {
        "colab": {
          "base_uri": "https://localhost:8080/"
        },
        "id": "Y9Bi1ZKy3iXK",
        "outputId": "23fab997-3f74-40a4-f041-77d1df11bfc9"
      },
      "execution_count": 35,
      "outputs": [
        {
          "output_type": "stream",
          "name": "stdout",
          "text": [
            "tf.Tensor([[0.09168365]], shape=(1, 1), dtype=float32)\n"
          ]
        }
      ]
    },
    {
      "cell_type": "code",
      "source": [
        "tf.keras.utils.plot_model(model)"
      ],
      "metadata": {
        "colab": {
          "base_uri": "https://localhost:8080/",
          "height": 368
        },
        "id": "BywtyJ7V3yHD",
        "outputId": "3ed0d6b5-35ae-41d4-b621-478b7fc14e37"
      },
      "execution_count": 36,
      "outputs": [
        {
          "output_type": "execute_result",
          "data": {
            "image/png": "[encoded data removed]",
            "text/plain": [
              "<IPython.core.display.Image object>"
            ]
          },
          "metadata": {},
          "execution_count": 36
        }
      ]
    },
    {
      "cell_type": "code",
      "source": [
        "model.summary()"
      ],
      "metadata": {
        "colab": {
          "base_uri": "https://localhost:8080/"
        },
        "id": "2XtyZ0Nq4L5a",
        "outputId": "9c2d85ae-dcc4-4c75-9bd0-0a966bd4b400"
      },
      "execution_count": 37,
      "outputs": [
        {
          "output_type": "stream",
          "name": "stdout",
          "text": [
            "Model: \"model_2\"\n",
            "__________________________________________________________________________________________________\n",
            " Layer (type)                   Output Shape         Param #     Connected to                     \n",
            "==================================================================================================\n",
            " text (InputLayer)              [(None,)]            0           []                               \n",
            "                                                                                                  \n",
            " tokenizer (KerasLayer)         {'input_word_ids':   0           ['text[0][0]']                   \n",
            "                                (None, 128),                                                      \n",
            "                                 'input_mask': (Non                                               \n",
            "                                e, 128),                                                          \n",
            "                                 'input_type_ids':                                                \n",
            "                                (None, 128)}                                                      \n",
            "                                                                                                  \n",
            " bert_model (KerasLayer)        {'sequence_output':  28763649    ['tokenizer[0][0]',              \n",
            "                                 (None, 128, 512),                'tokenizer[0][1]',              \n",
            "                                 'encoder_outputs':               'tokenizer[0][2]']              \n",
            "                                 [(None, 128, 512),                                               \n",
            "                                 (None, 128, 512),                                                \n",
            "                                 (None, 128, 512),                                                \n",
            "                                 (None, 128, 512)],                                               \n",
            "                                 'pooled_output': (                                               \n",
            "                                None, 512),                                                       \n",
            "                                 'default': (None,                                                \n",
            "                                512)}                                                             \n",
            "                                                                                                  \n",
            " classifier (Dense)             (None, 1)            513         ['bert_model[0][5]']             \n",
            "                                                                                                  \n",
            "==================================================================================================\n",
            "Total params: 28,764,162\n",
            "Trainable params: 28,764,161\n",
            "Non-trainable params: 1\n",
            "__________________________________________________________________________________________________\n"
          ]
        }
      ]
    },
    {
      "cell_type": "markdown",
      "source": [
        "#### Model training"
      ],
      "metadata": {
        "id": "aTm854Ywds4J"
      }
    },
    {
      "cell_type": "code",
      "source": [
        "loss = tf.keras.losses.BinaryCrossentropy(from_logits=True)\n",
        "optimizer = tf.keras.optimizers.Adam(learning_rate=0.00003)\n",
        "metrics = tf.keras.metrics.BinaryAccuracy()"
      ],
      "metadata": {
        "id": "qHR6lNHBdt6m"
      },
      "execution_count": 31,
      "outputs": []
    },
    {
      "cell_type": "code",
      "source": [
        "model.compile(loss=loss, optimizer=optimizer, metrics=metrics)"
      ],
      "metadata": {
        "id": "CEV8m7Zl4nAJ"
      },
      "execution_count": 39,
      "outputs": []
    },
    {
      "cell_type": "code",
      "source": [
        "history = model.fit(\n",
        "    x=train_dataset,\n",
        "    validation_data=valid_dataset,\n",
        "    epochs=5,\n",
        ")"
      ],
      "metadata": {
        "colab": {
          "base_uri": "https://localhost:8080/"
        },
        "id": "pfHPeI3F4tow",
        "outputId": "a5472661-54a3-4a70-f5be-23256b872c69"
      },
      "execution_count": 40,
      "outputs": [
        {
          "output_type": "stream",
          "name": "stdout",
          "text": [
            "Epoch 1/5\n",
            "313/313 [==============================] - 285s 891ms/step - loss: 0.5161 - binary_accuracy: 0.6693 - val_loss: 0.4604 - val_binary_accuracy: 0.7792\n",
            "Epoch 2/5\n",
            "313/313 [==============================] - 274s 876ms/step - loss: 0.3964 - binary_accuracy: 0.8084 - val_loss: 0.4624 - val_binary_accuracy: 0.7868\n",
            "Epoch 3/5\n",
            "313/313 [==============================] - 268s 858ms/step - loss: 0.3049 - binary_accuracy: 0.8617 - val_loss: 0.4886 - val_binary_accuracy: 0.7930\n",
            "Epoch 4/5\n",
            "313/313 [==============================] - 270s 861ms/step - loss: 0.2366 - binary_accuracy: 0.8992 - val_loss: 0.5367 - val_binary_accuracy: 0.7896\n",
            "Epoch 5/5\n",
            "313/313 [==============================] - 268s 857ms/step - loss: 0.1800 - binary_accuracy: 0.9263 - val_loss: 0.5701 - val_binary_accuracy: 0.7870\n"
          ]
        }
      ]
    },
    {
      "cell_type": "markdown",
      "source": [
        "#### Evaluate the model"
      ],
      "metadata": {
        "id": "uj1VBS5ud0xR"
      }
    },
    {
      "cell_type": "code",
      "source": [
        "model.evaluate(test_dataset)"
      ],
      "metadata": {
        "colab": {
          "base_uri": "https://localhost:8080/"
        },
        "id": "j-8PVPKFd2BX",
        "outputId": "c85a5a9d-8f41-48ab-eb94-4a4fb66fdfc3"
      },
      "execution_count": 41,
      "outputs": [
        {
          "output_type": "stream",
          "name": "stdout",
          "text": [
            "391/391 [==============================] - 163s 416ms/step - loss: 0.5646 - binary_accuracy: 0.7918\n"
          ]
        },
        {
          "output_type": "execute_result",
          "data": {
            "text/plain": [
              "[0.5646409392356873, 0.7917600274085999]"
            ]
          },
          "metadata": {},
          "execution_count": 41
        }
      ]
    },
    {
      "cell_type": "code",
      "source": [
        "history_dict = history.history\n",
        "print(history_dict.keys())\n",
        "\n",
        "acc = history_dict['binary_accuracy']\n",
        "val_acc = history_dict['val_binary_accuracy']\n",
        "loss = history_dict['loss']\n",
        "val_loss = history_dict['val_loss']\n",
        "\n",
        "epochs = range(1, len(acc) + 1)\n",
        "fig = plt.figure(figsize=(10, 6))\n",
        "fig.tight_layout()\n",
        "\n",
        "plt.subplot(2, 1, 1)\n",
        "# r is for \"solid red line\"\n",
        "plt.plot(epochs, loss, 'r', label='Training loss')\n",
        "# b is for \"solid blue line\"\n",
        "plt.plot(epochs, val_loss, 'b', label='Validation loss')\n",
        "plt.title('Training and validation loss')\n",
        "# plt.xlabel('Epochs')\n",
        "plt.ylabel('Loss')\n",
        "plt.legend()\n",
        "\n",
        "plt.subplot(2, 1, 2)\n",
        "plt.plot(epochs, acc, 'r', label='Training acc')\n",
        "plt.plot(epochs, val_acc, 'b', label='Validation acc')\n",
        "plt.title('Training and validation accuracy')\n",
        "plt.xlabel('Epochs')\n",
        "plt.ylabel('Accuracy')\n",
        "plt.legend(loc='lower right')"
      ],
      "metadata": {
        "colab": {
          "base_uri": "https://localhost:8080/",
          "height": 438
        },
        "id": "070lGeDe9Vma",
        "outputId": "99fef1cc-8123-4d3c-baf5-91635be03799"
      },
      "execution_count": 42,
      "outputs": [
        {
          "output_type": "stream",
          "name": "stdout",
          "text": [
            "dict_keys(['loss', 'binary_accuracy', 'val_loss', 'val_binary_accuracy'])\n"
          ]
        },
        {
          "output_type": "execute_result",
          "data": {
            "text/plain": [
              "<matplotlib.legend.Legend at 0x7f6791a94ad0>"
            ]
          },
          "metadata": {},
          "execution_count": 42
        },
        {
          "output_type": "display_data",
          "data": {
            "image/png": "[encoded data removed]",
            "text/plain": [
              "<Figure size 720x432 with 2 Axes>"
            ]
          },
          "metadata": {
            "needs_background": "light"
          }
        }
      ]
    },
    {
      "cell_type": "code",
      "source": [
        ""
      ],
      "metadata": {
        "id": "dP81e0-D9eK-"
      },
      "execution_count": null,
      "outputs": []
    },
    {
      "cell_type": "markdown",
      "source": [
        "#### Export for inference"
      ],
      "metadata": {
        "id": "7dYdYRCO9mfh"
      }
    },
    {
      "cell_type": "code",
      "source": [
        "dataset_name = 'imdb'\n",
        "saved_model_path = './{}_bert'.format(dataset_name.replace('/', '_'))\n",
        "\n",
        "model.save(saved_model_path, include_optimizer=False)"
      ],
      "metadata": {
        "colab": {
          "base_uri": "https://localhost:8080/"
        },
        "id": "i0PJqyfI9n8P",
        "outputId": "75afd49f-d377-4707-c44e-abdc75392064"
      },
      "execution_count": 43,
      "outputs": [
        {
          "output_type": "stream",
          "name": "stderr",
          "text": [
            "WARNING:absl:Found untraced functions such as restored_function_body, restored_function_body, restored_function_body, restored_function_body, restored_function_body while saving (showing 5 of 315). These functions will not be directly callable after loading.\n"
          ]
        }
      ]
    },
    {
      "cell_type": "code",
      "source": [
        "reloaded_model = tf.saved_model.load(saved_model_path)"
      ],
      "metadata": {
        "id": "5OSLLE_u9u1Y"
      },
      "execution_count": 44,
      "outputs": []
    },
    {
      "cell_type": "code",
      "source": [
        "def print_my_examples(inputs, results):\n",
        "  result_for_printing = \\\n",
        "    [f'input: {inputs[i]:<30} : score: {results[i][0]:.6f}'\n",
        "                         for i in range(len(inputs))]\n",
        "  print(*result_for_printing, sep='\\n')\n",
        "  print()\n",
        "\n",
        "\n",
        "examples = [\n",
        "    'this is such an amazing movie!',  # this is the same sentence tried earlier\n",
        "    'The movie was great!',\n",
        "    'The movie was meh.',\n",
        "    'The movie was okish.',\n",
        "    'The movie was terrible...'\n",
        "]\n",
        "\n",
        "reloaded_results = tf.sigmoid(reloaded_model(tf.constant(examples)))\n",
        "original_results = tf.sigmoid(model(tf.constant(examples)))\n",
        "\n",
        "print('Results from the saved model:')\n",
        "print_my_examples(examples, reloaded_results)\n",
        "print('Results from the model in memory:')\n",
        "print_my_examples(examples, original_results)"
      ],
      "metadata": {
        "colab": {
          "base_uri": "https://localhost:8080/"
        },
        "id": "5dR5kWY19xiq",
        "outputId": "5a621cb2-dcf3-44c1-d4d3-7af2d199a68f"
      },
      "execution_count": 45,
      "outputs": [
        {
          "output_type": "stream",
          "name": "stdout",
          "text": [
            "Results from the saved model:\n",
            "input: this is such an amazing movie! : score: 0.999682\n",
            "input: The movie was great!           : score: 0.995349\n",
            "input: The movie was meh.             : score: 0.301350\n",
            "input: The movie was okish.           : score: 0.003706\n",
            "input: The movie was terrible...      : score: 0.002417\n",
            "\n",
            "Results from the model in memory:\n",
            "input: this is such an amazing movie! : score: 0.999682\n",
            "input: The movie was great!           : score: 0.995349\n",
            "input: The movie was meh.             : score: 0.301349\n",
            "input: The movie was okish.           : score: 0.003706\n",
            "input: The movie was terrible...      : score: 0.002417\n",
            "\n"
          ]
        }
      ]
    },
    {
      "cell_type": "code",
      "source": [
        ""
      ],
      "metadata": {
        "id": "-CkgNvCV90V8"
      },
      "execution_count": null,
      "outputs": []
    }
  ]
}