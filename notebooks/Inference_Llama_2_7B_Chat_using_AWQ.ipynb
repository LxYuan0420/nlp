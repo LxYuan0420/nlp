{
  "nbformat": 4,
  "nbformat_minor": 0,
  "metadata": {
    "colab": {
      "provenance": [],
      "gpuType": "T4",
      "authorship_tag": "ABX9TyPdab0u/1YOye2fwCzM8x+n",
      "include_colab_link": true
    },
    "kernelspec": {
      "name": "python3",
      "display_name": "Python 3"
    },
    "language_info": {
      "name": "python"
    },
    "accelerator": "GPU",
    "widgets": {
      "application/vnd.jupyter.widget-state+json": {
        "9547763228284ac890ddaece8dd7f028": {
          "model_module": "@jupyter-widgets/controls",
          "model_name": "HBoxModel",
          "model_module_version": "1.5.0",
          "state": {
            "_dom_classes": [],
            "_model_module": "@jupyter-widgets/controls",
            "_model_module_version": "1.5.0",
            "_model_name": "HBoxModel",
            "_view_count": null,
            "_view_module": "@jupyter-widgets/controls",
            "_view_module_version": "1.5.0",
            "_view_name": "HBoxView",
            "box_style": "",
            "children": [
              "IPY_MODEL_aef1bfb8351140f6806ac306129fda43",
              "IPY_MODEL_bcbf7c6d2e294fa7a65ba8ca2e9b105a",
              "IPY_MODEL_c895b65d1fb843059c649432121431b1"
            ],
            "layout": "IPY_MODEL_c8ea450a8a4e463db9a4832246d15a8f"
          }
        },
        "aef1bfb8351140f6806ac306129fda43": {
          "model_module": "@jupyter-widgets/controls",
          "model_name": "HTMLModel",
          "model_module_version": "1.5.0",
          "state": {
            "_dom_classes": [],
            "_model_module": "@jupyter-widgets/controls",
            "_model_module_version": "1.5.0",
            "_model_name": "HTMLModel",
            "_view_count": null,
            "_view_module": "@jupyter-widgets/controls",
            "_view_module_version": "1.5.0",
            "_view_name": "HTMLView",
            "description": "",
            "description_tooltip": null,
            "layout": "IPY_MODEL_47ee8f798b1e4d8999e5f6c3cef84855",
            "placeholder": "​",
            "style": "IPY_MODEL_cfa6af1967a0492cb4ff7ee6b27f8fee",
            "value": "generation_config.json: 100%"
          }
        },
        "bcbf7c6d2e294fa7a65ba8ca2e9b105a": {
          "model_module": "@jupyter-widgets/controls",
          "model_name": "FloatProgressModel",
          "model_module_version": "1.5.0",
          "state": {
            "_dom_classes": [],
            "_model_module": "@jupyter-widgets/controls",
            "_model_module_version": "1.5.0",
            "_model_name": "FloatProgressModel",
            "_view_count": null,
            "_view_module": "@jupyter-widgets/controls",
            "_view_module_version": "1.5.0",
            "_view_name": "ProgressView",
            "bar_style": "success",
            "description": "",
            "description_tooltip": null,
            "layout": "IPY_MODEL_ca5860e580b74036b041ebbaa503b936",
            "max": 188,
            "min": 0,
            "orientation": "horizontal",
            "style": "IPY_MODEL_adcca3b930f1406ab0d9b524228a4514",
            "value": 188
          }
        },
        "c895b65d1fb843059c649432121431b1": {
          "model_module": "@jupyter-widgets/controls",
          "model_name": "HTMLModel",
          "model_module_version": "1.5.0",
          "state": {
            "_dom_classes": [],
            "_model_module": "@jupyter-widgets/controls",
            "_model_module_version": "1.5.0",
            "_model_name": "HTMLModel",
            "_view_count": null,
            "_view_module": "@jupyter-widgets/controls",
            "_view_module_version": "1.5.0",
            "_view_name": "HTMLView",
            "description": "",
            "description_tooltip": null,
            "layout": "IPY_MODEL_0f96cc8c827a4d9dbe3d1779587618e2",
            "placeholder": "​",
            "style": "IPY_MODEL_fc672c6e3c674cd39d31bcfdc9ba8b04",
            "value": " 188/188 [00:00&lt;00:00, 7.10kB/s]"
          }
        },
        "c8ea450a8a4e463db9a4832246d15a8f": {
          "model_module": "@jupyter-widgets/base",
          "model_name": "LayoutModel",
          "model_module_version": "1.2.0",
          "state": {
            "_model_module": "@jupyter-widgets/base",
            "_model_module_version": "1.2.0",
            "_model_name": "LayoutModel",
            "_view_count": null,
            "_view_module": "@jupyter-widgets/base",
            "_view_module_version": "1.2.0",
            "_view_name": "LayoutView",
            "align_content": null,
            "align_items": null,
            "align_self": null,
            "border": null,
            "bottom": null,
            "display": null,
            "flex": null,
            "flex_flow": null,
            "grid_area": null,
            "grid_auto_columns": null,
            "grid_auto_flow": null,
            "grid_auto_rows": null,
            "grid_column": null,
            "grid_gap": null,
            "grid_row": null,
            "grid_template_areas": null,
            "grid_template_columns": null,
            "grid_template_rows": null,
            "height": null,
            "justify_content": null,
            "justify_items": null,
            "left": null,
            "margin": null,
            "max_height": null,
            "max_width": null,
            "min_height": null,
            "min_width": null,
            "object_fit": null,
            "object_position": null,
            "order": null,
            "overflow": null,
            "overflow_x": null,
            "overflow_y": null,
            "padding": null,
            "right": null,
            "top": null,
            "visibility": null,
            "width": null
          }
        },
        "47ee8f798b1e4d8999e5f6c3cef84855": {
          "model_module": "@jupyter-widgets/base",
          "model_name": "LayoutModel",
          "model_module_version": "1.2.0",
          "state": {
            "_model_module": "@jupyter-widgets/base",
            "_model_module_version": "1.2.0",
            "_model_name": "LayoutModel",
            "_view_count": null,
            "_view_module": "@jupyter-widgets/base",
            "_view_module_version": "1.2.0",
            "_view_name": "LayoutView",
            "align_content": null,
            "align_items": null,
            "align_self": null,
            "border": null,
            "bottom": null,
            "display": null,
            "flex": null,
            "flex_flow": null,
            "grid_area": null,
            "grid_auto_columns": null,
            "grid_auto_flow": null,
            "grid_auto_rows": null,
            "grid_column": null,
            "grid_gap": null,
            "grid_row": null,
            "grid_template_areas": null,
            "grid_template_columns": null,
            "grid_template_rows": null,
            "height": null,
            "justify_content": null,
            "justify_items": null,
            "left": null,
            "margin": null,
            "max_height": null,
            "max_width": null,
            "min_height": null,
            "min_width": null,
            "object_fit": null,
            "object_position": null,
            "order": null,
            "overflow": null,
            "overflow_x": null,
            "overflow_y": null,
            "padding": null,
            "right": null,
            "top": null,
            "visibility": null,
            "width": null
          }
        },
        "cfa6af1967a0492cb4ff7ee6b27f8fee": {
          "model_module": "@jupyter-widgets/controls",
          "model_name": "DescriptionStyleModel",
          "model_module_version": "1.5.0",
          "state": {
            "_model_module": "@jupyter-widgets/controls",
            "_model_module_version": "1.5.0",
            "_model_name": "DescriptionStyleModel",
            "_view_count": null,
            "_view_module": "@jupyter-widgets/base",
            "_view_module_version": "1.2.0",
            "_view_name": "StyleView",
            "description_width": ""
          }
        },
        "ca5860e580b74036b041ebbaa503b936": {
          "model_module": "@jupyter-widgets/base",
          "model_name": "LayoutModel",
          "model_module_version": "1.2.0",
          "state": {
            "_model_module": "@jupyter-widgets/base",
            "_model_module_version": "1.2.0",
            "_model_name": "LayoutModel",
            "_view_count": null,
            "_view_module": "@jupyter-widgets/base",
            "_view_module_version": "1.2.0",
            "_view_name": "LayoutView",
            "align_content": null,
            "align_items": null,
            "align_self": null,
            "border": null,
            "bottom": null,
            "display": null,
            "flex": null,
            "flex_flow": null,
            "grid_area": null,
            "grid_auto_columns": null,
            "grid_auto_flow": null,
            "grid_auto_rows": null,
            "grid_column": null,
            "grid_gap": null,
            "grid_row": null,
            "grid_template_areas": null,
            "grid_template_columns": null,
            "grid_template_rows": null,
            "height": null,
            "justify_content": null,
            "justify_items": null,
            "left": null,
            "margin": null,
            "max_height": null,
            "max_width": null,
            "min_height": null,
            "min_width": null,
            "object_fit": null,
            "object_position": null,
            "order": null,
            "overflow": null,
            "overflow_x": null,
            "overflow_y": null,
            "padding": null,
            "right": null,
            "top": null,
            "visibility": null,
            "width": null
          }
        },
        "adcca3b930f1406ab0d9b524228a4514": {
          "model_module": "@jupyter-widgets/controls",
          "model_name": "ProgressStyleModel",
          "model_module_version": "1.5.0",
          "state": {
            "_model_module": "@jupyter-widgets/controls",
            "_model_module_version": "1.5.0",
            "_model_name": "ProgressStyleModel",
            "_view_count": null,
            "_view_module": "@jupyter-widgets/base",
            "_view_module_version": "1.2.0",
            "_view_name": "StyleView",
            "bar_color": null,
            "description_width": ""
          }
        },
        "0f96cc8c827a4d9dbe3d1779587618e2": {
          "model_module": "@jupyter-widgets/base",
          "model_name": "LayoutModel",
          "model_module_version": "1.2.0",
          "state": {
            "_model_module": "@jupyter-widgets/base",
            "_model_module_version": "1.2.0",
            "_model_name": "LayoutModel",
            "_view_count": null,
            "_view_module": "@jupyter-widgets/base",
            "_view_module_version": "1.2.0",
            "_view_name": "LayoutView",
            "align_content": null,
            "align_items": null,
            "align_self": null,
            "border": null,
            "bottom": null,
            "display": null,
            "flex": null,
            "flex_flow": null,
            "grid_area": null,
            "grid_auto_columns": null,
            "grid_auto_flow": null,
            "grid_auto_rows": null,
            "grid_column": null,
            "grid_gap": null,
            "grid_row": null,
            "grid_template_areas": null,
            "grid_template_columns": null,
            "grid_template_rows": null,
            "height": null,
            "justify_content": null,
            "justify_items": null,
            "left": null,
            "margin": null,
            "max_height": null,
            "max_width": null,
            "min_height": null,
            "min_width": null,
            "object_fit": null,
            "object_position": null,
            "order": null,
            "overflow": null,
            "overflow_x": null,
            "overflow_y": null,
            "padding": null,
            "right": null,
            "top": null,
            "visibility": null,
            "width": null
          }
        },
        "fc672c6e3c674cd39d31bcfdc9ba8b04": {
          "model_module": "@jupyter-widgets/controls",
          "model_name": "DescriptionStyleModel",
          "model_module_version": "1.5.0",
          "state": {
            "_model_module": "@jupyter-widgets/controls",
            "_model_module_version": "1.5.0",
            "_model_name": "DescriptionStyleModel",
            "_view_count": null,
            "_view_module": "@jupyter-widgets/base",
            "_view_module_version": "1.2.0",
            "_view_name": "StyleView",
            "description_width": ""
          }
        },
        "aca2189ffaa24eb0a8e34a43aa8dc8c7": {
          "model_module": "@jupyter-widgets/controls",
          "model_name": "HBoxModel",
          "model_module_version": "1.5.0",
          "state": {
            "_dom_classes": [],
            "_model_module": "@jupyter-widgets/controls",
            "_model_module_version": "1.5.0",
            "_model_name": "HBoxModel",
            "_view_count": null,
            "_view_module": "@jupyter-widgets/controls",
            "_view_module_version": "1.5.0",
            "_view_name": "HBoxView",
            "box_style": "",
            "children": [
              "IPY_MODEL_fbcb35f772a14e389ecaf58a067eeff0",
              "IPY_MODEL_c0e2209ef009452a9314b5c53cd18506",
              "IPY_MODEL_04ab10b147b145e788c1a241295b24c1"
            ],
            "layout": "IPY_MODEL_fef1550e5dd8441ca0b4c0bd2493749b"
          }
        },
        "fbcb35f772a14e389ecaf58a067eeff0": {
          "model_module": "@jupyter-widgets/controls",
          "model_name": "HTMLModel",
          "model_module_version": "1.5.0",
          "state": {
            "_dom_classes": [],
            "_model_module": "@jupyter-widgets/controls",
            "_model_module_version": "1.5.0",
            "_model_name": "HTMLModel",
            "_view_count": null,
            "_view_module": "@jupyter-widgets/controls",
            "_view_module_version": "1.5.0",
            "_view_name": "HTMLView",
            "description": "",
            "description_tooltip": null,
            "layout": "IPY_MODEL_691109bea8e549dabaf59504b36f6c42",
            "placeholder": "​",
            "style": "IPY_MODEL_265037eb5441441084bfed1e65c8ed07",
            "value": "tokenizer_config.json: 100%"
          }
        },
        "c0e2209ef009452a9314b5c53cd18506": {
          "model_module": "@jupyter-widgets/controls",
          "model_name": "FloatProgressModel",
          "model_module_version": "1.5.0",
          "state": {
            "_dom_classes": [],
            "_model_module": "@jupyter-widgets/controls",
            "_model_module_version": "1.5.0",
            "_model_name": "FloatProgressModel",
            "_view_count": null,
            "_view_module": "@jupyter-widgets/controls",
            "_view_module_version": "1.5.0",
            "_view_name": "ProgressView",
            "bar_style": "success",
            "description": "",
            "description_tooltip": null,
            "layout": "IPY_MODEL_745ed6a895a445bc863dc8445dbf60b2",
            "max": 776,
            "min": 0,
            "orientation": "horizontal",
            "style": "IPY_MODEL_b8e8886db2d24d3d8e3bed78e5eee06a",
            "value": 776
          }
        },
        "04ab10b147b145e788c1a241295b24c1": {
          "model_module": "@jupyter-widgets/controls",
          "model_name": "HTMLModel",
          "model_module_version": "1.5.0",
          "state": {
            "_dom_classes": [],
            "_model_module": "@jupyter-widgets/controls",
            "_model_module_version": "1.5.0",
            "_model_name": "HTMLModel",
            "_view_count": null,
            "_view_module": "@jupyter-widgets/controls",
            "_view_module_version": "1.5.0",
            "_view_name": "HTMLView",
            "description": "",
            "description_tooltip": null,
            "layout": "IPY_MODEL_25170a04b2354923a59b4ed586663cf7",
            "placeholder": "​",
            "style": "IPY_MODEL_48cb02e6ad304774b308e697b4550020",
            "value": " 776/776 [00:00&lt;00:00, 29.5kB/s]"
          }
        },
        "fef1550e5dd8441ca0b4c0bd2493749b": {
          "model_module": "@jupyter-widgets/base",
          "model_name": "LayoutModel",
          "model_module_version": "1.2.0",
          "state": {
            "_model_module": "@jupyter-widgets/base",
            "_model_module_version": "1.2.0",
            "_model_name": "LayoutModel",
            "_view_count": null,
            "_view_module": "@jupyter-widgets/base",
            "_view_module_version": "1.2.0",
            "_view_name": "LayoutView",
            "align_content": null,
            "align_items": null,
            "align_self": null,
            "border": null,
            "bottom": null,
            "display": null,
            "flex": null,
            "flex_flow": null,
            "grid_area": null,
            "grid_auto_columns": null,
            "grid_auto_flow": null,
            "grid_auto_rows": null,
            "grid_column": null,
            "grid_gap": null,
            "grid_row": null,
            "grid_template_areas": null,
            "grid_template_columns": null,
            "grid_template_rows": null,
            "height": null,
            "justify_content": null,
            "justify_items": null,
            "left": null,
            "margin": null,
            "max_height": null,
            "max_width": null,
            "min_height": null,
            "min_width": null,
            "object_fit": null,
            "object_position": null,
            "order": null,
            "overflow": null,
            "overflow_x": null,
            "overflow_y": null,
            "padding": null,
            "right": null,
            "top": null,
            "visibility": null,
            "width": null
          }
        },
        "691109bea8e549dabaf59504b36f6c42": {
          "model_module": "@jupyter-widgets/base",
          "model_name": "LayoutModel",
          "model_module_version": "1.2.0",
          "state": {
            "_model_module": "@jupyter-widgets/base",
            "_model_module_version": "1.2.0",
            "_model_name": "LayoutModel",
            "_view_count": null,
            "_view_module": "@jupyter-widgets/base",
            "_view_module_version": "1.2.0",
            "_view_name": "LayoutView",
            "align_content": null,
            "align_items": null,
            "align_self": null,
            "border": null,
            "bottom": null,
            "display": null,
            "flex": null,
            "flex_flow": null,
            "grid_area": null,
            "grid_auto_columns": null,
            "grid_auto_flow": null,
            "grid_auto_rows": null,
            "grid_column": null,
            "grid_gap": null,
            "grid_row": null,
            "grid_template_areas": null,
            "grid_template_columns": null,
            "grid_template_rows": null,
            "height": null,
            "justify_content": null,
            "justify_items": null,
            "left": null,
            "margin": null,
            "max_height": null,
            "max_width": null,
            "min_height": null,
            "min_width": null,
            "object_fit": null,
            "object_position": null,
            "order": null,
            "overflow": null,
            "overflow_x": null,
            "overflow_y": null,
            "padding": null,
            "right": null,
            "top": null,
            "visibility": null,
            "width": null
          }
        },
        "265037eb5441441084bfed1e65c8ed07": {
          "model_module": "@jupyter-widgets/controls",
          "model_name": "DescriptionStyleModel",
          "model_module_version": "1.5.0",
          "state": {
            "_model_module": "@jupyter-widgets/controls",
            "_model_module_version": "1.5.0",
            "_model_name": "DescriptionStyleModel",
            "_view_count": null,
            "_view_module": "@jupyter-widgets/base",
            "_view_module_version": "1.2.0",
            "_view_name": "StyleView",
            "description_width": ""
          }
        },
        "745ed6a895a445bc863dc8445dbf60b2": {
          "model_module": "@jupyter-widgets/base",
          "model_name": "LayoutModel",
          "model_module_version": "1.2.0",
          "state": {
            "_model_module": "@jupyter-widgets/base",
            "_model_module_version": "1.2.0",
            "_model_name": "LayoutModel",
            "_view_count": null,
            "_view_module": "@jupyter-widgets/base",
            "_view_module_version": "1.2.0",
            "_view_name": "LayoutView",
            "align_content": null,
            "align_items": null,
            "align_self": null,
            "border": null,
            "bottom": null,
            "display": null,
            "flex": null,
            "flex_flow": null,
            "grid_area": null,
            "grid_auto_columns": null,
            "grid_auto_flow": null,
            "grid_auto_rows": null,
            "grid_column": null,
            "grid_gap": null,
            "grid_row": null,
            "grid_template_areas": null,
            "grid_template_columns": null,
            "grid_template_rows": null,
            "height": null,
            "justify_content": null,
            "justify_items": null,
            "left": null,
            "margin": null,
            "max_height": null,
            "max_width": null,
            "min_height": null,
            "min_width": null,
            "object_fit": null,
            "object_position": null,
            "order": null,
            "overflow": null,
            "overflow_x": null,
            "overflow_y": null,
            "padding": null,
            "right": null,
            "top": null,
            "visibility": null,
            "width": null
          }
        },
        "b8e8886db2d24d3d8e3bed78e5eee06a": {
          "model_module": "@jupyter-widgets/controls",
          "model_name": "ProgressStyleModel",
          "model_module_version": "1.5.0",
          "state": {
            "_model_module": "@jupyter-widgets/controls",
            "_model_module_version": "1.5.0",
            "_model_name": "ProgressStyleModel",
            "_view_count": null,
            "_view_module": "@jupyter-widgets/base",
            "_view_module_version": "1.2.0",
            "_view_name": "StyleView",
            "bar_color": null,
            "description_width": ""
          }
        },
        "25170a04b2354923a59b4ed586663cf7": {
          "model_module": "@jupyter-widgets/base",
          "model_name": "LayoutModel",
          "model_module_version": "1.2.0",
          "state": {
            "_model_module": "@jupyter-widgets/base",
            "_model_module_version": "1.2.0",
            "_model_name": "LayoutModel",
            "_view_count": null,
            "_view_module": "@jupyter-widgets/base",
            "_view_module_version": "1.2.0",
            "_view_name": "LayoutView",
            "align_content": null,
            "align_items": null,
            "align_self": null,
            "border": null,
            "bottom": null,
            "display": null,
            "flex": null,
            "flex_flow": null,
            "grid_area": null,
            "grid_auto_columns": null,
            "grid_auto_flow": null,
            "grid_auto_rows": null,
            "grid_column": null,
            "grid_gap": null,
            "grid_row": null,
            "grid_template_areas": null,
            "grid_template_columns": null,
            "grid_template_rows": null,
            "height": null,
            "justify_content": null,
            "justify_items": null,
            "left": null,
            "margin": null,
            "max_height": null,
            "max_width": null,
            "min_height": null,
            "min_width": null,
            "object_fit": null,
            "object_position": null,
            "order": null,
            "overflow": null,
            "overflow_x": null,
            "overflow_y": null,
            "padding": null,
            "right": null,
            "top": null,
            "visibility": null,
            "width": null
          }
        },
        "48cb02e6ad304774b308e697b4550020": {
          "model_module": "@jupyter-widgets/controls",
          "model_name": "DescriptionStyleModel",
          "model_module_version": "1.5.0",
          "state": {
            "_model_module": "@jupyter-widgets/controls",
            "_model_module_version": "1.5.0",
            "_model_name": "DescriptionStyleModel",
            "_view_count": null,
            "_view_module": "@jupyter-widgets/base",
            "_view_module_version": "1.2.0",
            "_view_name": "StyleView",
            "description_width": ""
          }
        },
        "840f5d09ca8c4167b6fb1a1c84143b5a": {
          "model_module": "@jupyter-widgets/controls",
          "model_name": "HBoxModel",
          "model_module_version": "1.5.0",
          "state": {
            "_dom_classes": [],
            "_model_module": "@jupyter-widgets/controls",
            "_model_module_version": "1.5.0",
            "_model_name": "HBoxModel",
            "_view_count": null,
            "_view_module": "@jupyter-widgets/controls",
            "_view_module_version": "1.5.0",
            "_view_name": "HBoxView",
            "box_style": "",
            "children": [
              "IPY_MODEL_291641a9b10a40ea89572722a432b75e",
              "IPY_MODEL_9399dbdc52864308931ef2c13db37fd3",
              "IPY_MODEL_2760135f76864a89a17213c9135b54e0"
            ],
            "layout": "IPY_MODEL_b6e85e6a65da49e0bcb39b7284822482"
          }
        },
        "291641a9b10a40ea89572722a432b75e": {
          "model_module": "@jupyter-widgets/controls",
          "model_name": "HTMLModel",
          "model_module_version": "1.5.0",
          "state": {
            "_dom_classes": [],
            "_model_module": "@jupyter-widgets/controls",
            "_model_module_version": "1.5.0",
            "_model_name": "HTMLModel",
            "_view_count": null,
            "_view_module": "@jupyter-widgets/controls",
            "_view_module_version": "1.5.0",
            "_view_name": "HTMLView",
            "description": "",
            "description_tooltip": null,
            "layout": "IPY_MODEL_1ef49c77fe044e90ae647ba1b5f721e8",
            "placeholder": "​",
            "style": "IPY_MODEL_55fa0a8a2e2c4766b9a3d537fbd1b93a",
            "value": "tokenizer.model: 100%"
          }
        },
        "9399dbdc52864308931ef2c13db37fd3": {
          "model_module": "@jupyter-widgets/controls",
          "model_name": "FloatProgressModel",
          "model_module_version": "1.5.0",
          "state": {
            "_dom_classes": [],
            "_model_module": "@jupyter-widgets/controls",
            "_model_module_version": "1.5.0",
            "_model_name": "FloatProgressModel",
            "_view_count": null,
            "_view_module": "@jupyter-widgets/controls",
            "_view_module_version": "1.5.0",
            "_view_name": "ProgressView",
            "bar_style": "success",
            "description": "",
            "description_tooltip": null,
            "layout": "IPY_MODEL_b9298a84631c429aa7e81460180c6cb0",
            "max": 499723,
            "min": 0,
            "orientation": "horizontal",
            "style": "IPY_MODEL_a382738a993445a69d2895a692c8ec78",
            "value": 499723
          }
        },
        "2760135f76864a89a17213c9135b54e0": {
          "model_module": "@jupyter-widgets/controls",
          "model_name": "HTMLModel",
          "model_module_version": "1.5.0",
          "state": {
            "_dom_classes": [],
            "_model_module": "@jupyter-widgets/controls",
            "_model_module_version": "1.5.0",
            "_model_name": "HTMLModel",
            "_view_count": null,
            "_view_module": "@jupyter-widgets/controls",
            "_view_module_version": "1.5.0",
            "_view_name": "HTMLView",
            "description": "",
            "description_tooltip": null,
            "layout": "IPY_MODEL_824def9026ee4371804039a58271ef00",
            "placeholder": "​",
            "style": "IPY_MODEL_532c5cf5dd3f4a1eaed149a1a66e6e46",
            "value": " 500k/500k [00:00&lt;00:00, 12.0MB/s]"
          }
        },
        "b6e85e6a65da49e0bcb39b7284822482": {
          "model_module": "@jupyter-widgets/base",
          "model_name": "LayoutModel",
          "model_module_version": "1.2.0",
          "state": {
            "_model_module": "@jupyter-widgets/base",
            "_model_module_version": "1.2.0",
            "_model_name": "LayoutModel",
            "_view_count": null,
            "_view_module": "@jupyter-widgets/base",
            "_view_module_version": "1.2.0",
            "_view_name": "LayoutView",
            "align_content": null,
            "align_items": null,
            "align_self": null,
            "border": null,
            "bottom": null,
            "display": null,
            "flex": null,
            "flex_flow": null,
            "grid_area": null,
            "grid_auto_columns": null,
            "grid_auto_flow": null,
            "grid_auto_rows": null,
            "grid_column": null,
            "grid_gap": null,
            "grid_row": null,
            "grid_template_areas": null,
            "grid_template_columns": null,
            "grid_template_rows": null,
            "height": null,
            "justify_content": null,
            "justify_items": null,
            "left": null,
            "margin": null,
            "max_height": null,
            "max_width": null,
            "min_height": null,
            "min_width": null,
            "object_fit": null,
            "object_position": null,
            "order": null,
            "overflow": null,
            "overflow_x": null,
            "overflow_y": null,
            "padding": null,
            "right": null,
            "top": null,
            "visibility": null,
            "width": null
          }
        },
        "1ef49c77fe044e90ae647ba1b5f721e8": {
          "model_module": "@jupyter-widgets/base",
          "model_name": "LayoutModel",
          "model_module_version": "1.2.0",
          "state": {
            "_model_module": "@jupyter-widgets/base",
            "_model_module_version": "1.2.0",
            "_model_name": "LayoutModel",
            "_view_count": null,
            "_view_module": "@jupyter-widgets/base",
            "_view_module_version": "1.2.0",
            "_view_name": "LayoutView",
            "align_content": null,
            "align_items": null,
            "align_self": null,
            "border": null,
            "bottom": null,
            "display": null,
            "flex": null,
            "flex_flow": null,
            "grid_area": null,
            "grid_auto_columns": null,
            "grid_auto_flow": null,
            "grid_auto_rows": null,
            "grid_column": null,
            "grid_gap": null,
            "grid_row": null,
            "grid_template_areas": null,
            "grid_template_columns": null,
            "grid_template_rows": null,
            "height": null,
            "justify_content": null,
            "justify_items": null,
            "left": null,
            "margin": null,
            "max_height": null,
            "max_width": null,
            "min_height": null,
            "min_width": null,
            "object_fit": null,
            "object_position": null,
            "order": null,
            "overflow": null,
            "overflow_x": null,
            "overflow_y": null,
            "padding": null,
            "right": null,
            "top": null,
            "visibility": null,
            "width": null
          }
        },
        "55fa0a8a2e2c4766b9a3d537fbd1b93a": {
          "model_module": "@jupyter-widgets/controls",
          "model_name": "DescriptionStyleModel",
          "model_module_version": "1.5.0",
          "state": {
            "_model_module": "@jupyter-widgets/controls",
            "_model_module_version": "1.5.0",
            "_model_name": "DescriptionStyleModel",
            "_view_count": null,
            "_view_module": "@jupyter-widgets/base",
            "_view_module_version": "1.2.0",
            "_view_name": "StyleView",
            "description_width": ""
          }
        },
        "b9298a84631c429aa7e81460180c6cb0": {
          "model_module": "@jupyter-widgets/base",
          "model_name": "LayoutModel",
          "model_module_version": "1.2.0",
          "state": {
            "_model_module": "@jupyter-widgets/base",
            "_model_module_version": "1.2.0",
            "_model_name": "LayoutModel",
            "_view_count": null,
            "_view_module": "@jupyter-widgets/base",
            "_view_module_version": "1.2.0",
            "_view_name": "LayoutView",
            "align_content": null,
            "align_items": null,
            "align_self": null,
            "border": null,
            "bottom": null,
            "display": null,
            "flex": null,
            "flex_flow": null,
            "grid_area": null,
            "grid_auto_columns": null,
            "grid_auto_flow": null,
            "grid_auto_rows": null,
            "grid_column": null,
            "grid_gap": null,
            "grid_row": null,
            "grid_template_areas": null,
            "grid_template_columns": null,
            "grid_template_rows": null,
            "height": null,
            "justify_content": null,
            "justify_items": null,
            "left": null,
            "margin": null,
            "max_height": null,
            "max_width": null,
            "min_height": null,
            "min_width": null,
            "object_fit": null,
            "object_position": null,
            "order": null,
            "overflow": null,
            "overflow_x": null,
            "overflow_y": null,
            "padding": null,
            "right": null,
            "top": null,
            "visibility": null,
            "width": null
          }
        },
        "a382738a993445a69d2895a692c8ec78": {
          "model_module": "@jupyter-widgets/controls",
          "model_name": "ProgressStyleModel",
          "model_module_version": "1.5.0",
          "state": {
            "_model_module": "@jupyter-widgets/controls",
            "_model_module_version": "1.5.0",
            "_model_name": "ProgressStyleModel",
            "_view_count": null,
            "_view_module": "@jupyter-widgets/base",
            "_view_module_version": "1.2.0",
            "_view_name": "StyleView",
            "bar_color": null,
            "description_width": ""
          }
        },
        "824def9026ee4371804039a58271ef00": {
          "model_module": "@jupyter-widgets/base",
          "model_name": "LayoutModel",
          "model_module_version": "1.2.0",
          "state": {
            "_model_module": "@jupyter-widgets/base",
            "_model_module_version": "1.2.0",
            "_model_name": "LayoutModel",
            "_view_count": null,
            "_view_module": "@jupyter-widgets/base",
            "_view_module_version": "1.2.0",
            "_view_name": "LayoutView",
            "align_content": null,
            "align_items": null,
            "align_self": null,
            "border": null,
            "bottom": null,
            "display": null,
            "flex": null,
            "flex_flow": null,
            "grid_area": null,
            "grid_auto_columns": null,
            "grid_auto_flow": null,
            "grid_auto_rows": null,
            "grid_column": null,
            "grid_gap": null,
            "grid_row": null,
            "grid_template_areas": null,
            "grid_template_columns": null,
            "grid_template_rows": null,
            "height": null,
            "justify_content": null,
            "justify_items": null,
            "left": null,
            "margin": null,
            "max_height": null,
            "max_width": null,
            "min_height": null,
            "min_width": null,
            "object_fit": null,
            "object_position": null,
            "order": null,
            "overflow": null,
            "overflow_x": null,
            "overflow_y": null,
            "padding": null,
            "right": null,
            "top": null,
            "visibility": null,
            "width": null
          }
        },
        "532c5cf5dd3f4a1eaed149a1a66e6e46": {
          "model_module": "@jupyter-widgets/controls",
          "model_name": "DescriptionStyleModel",
          "model_module_version": "1.5.0",
          "state": {
            "_model_module": "@jupyter-widgets/controls",
            "_model_module_version": "1.5.0",
            "_model_name": "DescriptionStyleModel",
            "_view_count": null,
            "_view_module": "@jupyter-widgets/base",
            "_view_module_version": "1.2.0",
            "_view_name": "StyleView",
            "description_width": ""
          }
        },
        "4375d8e5e6be4d568987fd95cc050fda": {
          "model_module": "@jupyter-widgets/controls",
          "model_name": "HBoxModel",
          "model_module_version": "1.5.0",
          "state": {
            "_dom_classes": [],
            "_model_module": "@jupyter-widgets/controls",
            "_model_module_version": "1.5.0",
            "_model_name": "HBoxModel",
            "_view_count": null,
            "_view_module": "@jupyter-widgets/controls",
            "_view_module_version": "1.5.0",
            "_view_name": "HBoxView",
            "box_style": "",
            "children": [
              "IPY_MODEL_236a6b718ae14a18a623d6f59e3c7211",
              "IPY_MODEL_0a8a1692c4154cbf81c56fb913b062b1",
              "IPY_MODEL_772574d8a3274f6dbc8515bc439f21fe"
            ],
            "layout": "IPY_MODEL_8d6b60980d2a4ee2b9d2544e3ec5aec9"
          }
        },
        "236a6b718ae14a18a623d6f59e3c7211": {
          "model_module": "@jupyter-widgets/controls",
          "model_name": "HTMLModel",
          "model_module_version": "1.5.0",
          "state": {
            "_dom_classes": [],
            "_model_module": "@jupyter-widgets/controls",
            "_model_module_version": "1.5.0",
            "_model_name": "HTMLModel",
            "_view_count": null,
            "_view_module": "@jupyter-widgets/controls",
            "_view_module_version": "1.5.0",
            "_view_name": "HTMLView",
            "description": "",
            "description_tooltip": null,
            "layout": "IPY_MODEL_8ef801fe4c864757abf10ca835018e6b",
            "placeholder": "​",
            "style": "IPY_MODEL_f2e616b0ba9345f18677d6a5c758a099",
            "value": "tokenizer.json: 100%"
          }
        },
        "0a8a1692c4154cbf81c56fb913b062b1": {
          "model_module": "@jupyter-widgets/controls",
          "model_name": "FloatProgressModel",
          "model_module_version": "1.5.0",
          "state": {
            "_dom_classes": [],
            "_model_module": "@jupyter-widgets/controls",
            "_model_module_version": "1.5.0",
            "_model_name": "FloatProgressModel",
            "_view_count": null,
            "_view_module": "@jupyter-widgets/controls",
            "_view_module_version": "1.5.0",
            "_view_name": "ProgressView",
            "bar_style": "success",
            "description": "",
            "description_tooltip": null,
            "layout": "IPY_MODEL_cf6484b58907443da23b48211be6a02f",
            "max": 1842767,
            "min": 0,
            "orientation": "horizontal",
            "style": "IPY_MODEL_3475c02d2a934c31931f612ac18ea9aa",
            "value": 1842767
          }
        },
        "772574d8a3274f6dbc8515bc439f21fe": {
          "model_module": "@jupyter-widgets/controls",
          "model_name": "HTMLModel",
          "model_module_version": "1.5.0",
          "state": {
            "_dom_classes": [],
            "_model_module": "@jupyter-widgets/controls",
            "_model_module_version": "1.5.0",
            "_model_name": "HTMLModel",
            "_view_count": null,
            "_view_module": "@jupyter-widgets/controls",
            "_view_module_version": "1.5.0",
            "_view_name": "HTMLView",
            "description": "",
            "description_tooltip": null,
            "layout": "IPY_MODEL_d58173a604b4494fa9938c3af99c0205",
            "placeholder": "​",
            "style": "IPY_MODEL_95336b98fa8245c29e948629f86a57c2",
            "value": " 1.84M/1.84M [00:00&lt;00:00, 6.18MB/s]"
          }
        },
        "8d6b60980d2a4ee2b9d2544e3ec5aec9": {
          "model_module": "@jupyter-widgets/base",
          "model_name": "LayoutModel",
          "model_module_version": "1.2.0",
          "state": {
            "_model_module": "@jupyter-widgets/base",
            "_model_module_version": "1.2.0",
            "_model_name": "LayoutModel",
            "_view_count": null,
            "_view_module": "@jupyter-widgets/base",
            "_view_module_version": "1.2.0",
            "_view_name": "LayoutView",
            "align_content": null,
            "align_items": null,
            "align_self": null,
            "border": null,
            "bottom": null,
            "display": null,
            "flex": null,
            "flex_flow": null,
            "grid_area": null,
            "grid_auto_columns": null,
            "grid_auto_flow": null,
            "grid_auto_rows": null,
            "grid_column": null,
            "grid_gap": null,
            "grid_row": null,
            "grid_template_areas": null,
            "grid_template_columns": null,
            "grid_template_rows": null,
            "height": null,
            "justify_content": null,
            "justify_items": null,
            "left": null,
            "margin": null,
            "max_height": null,
            "max_width": null,
            "min_height": null,
            "min_width": null,
            "object_fit": null,
            "object_position": null,
            "order": null,
            "overflow": null,
            "overflow_x": null,
            "overflow_y": null,
            "padding": null,
            "right": null,
            "top": null,
            "visibility": null,
            "width": null
          }
        },
        "8ef801fe4c864757abf10ca835018e6b": {
          "model_module": "@jupyter-widgets/base",
          "model_name": "LayoutModel",
          "model_module_version": "1.2.0",
          "state": {
            "_model_module": "@jupyter-widgets/base",
            "_model_module_version": "1.2.0",
            "_model_name": "LayoutModel",
            "_view_count": null,
            "_view_module": "@jupyter-widgets/base",
            "_view_module_version": "1.2.0",
            "_view_name": "LayoutView",
            "align_content": null,
            "align_items": null,
            "align_self": null,
            "border": null,
            "bottom": null,
            "display": null,
            "flex": null,
            "flex_flow": null,
            "grid_area": null,
            "grid_auto_columns": null,
            "grid_auto_flow": null,
            "grid_auto_rows": null,
            "grid_column": null,
            "grid_gap": null,
            "grid_row": null,
            "grid_template_areas": null,
            "grid_template_columns": null,
            "grid_template_rows": null,
            "height": null,
            "justify_content": null,
            "justify_items": null,
            "left": null,
            "margin": null,
            "max_height": null,
            "max_width": null,
            "min_height": null,
            "min_width": null,
            "object_fit": null,
            "object_position": null,
            "order": null,
            "overflow": null,
            "overflow_x": null,
            "overflow_y": null,
            "padding": null,
            "right": null,
            "top": null,
            "visibility": null,
            "width": null
          }
        },
        "f2e616b0ba9345f18677d6a5c758a099": {
          "model_module": "@jupyter-widgets/controls",
          "model_name": "DescriptionStyleModel",
          "model_module_version": "1.5.0",
          "state": {
            "_model_module": "@jupyter-widgets/controls",
            "_model_module_version": "1.5.0",
            "_model_name": "DescriptionStyleModel",
            "_view_count": null,
            "_view_module": "@jupyter-widgets/base",
            "_view_module_version": "1.2.0",
            "_view_name": "StyleView",
            "description_width": ""
          }
        },
        "cf6484b58907443da23b48211be6a02f": {
          "model_module": "@jupyter-widgets/base",
          "model_name": "LayoutModel",
          "model_module_version": "1.2.0",
          "state": {
            "_model_module": "@jupyter-widgets/base",
            "_model_module_version": "1.2.0",
            "_model_name": "LayoutModel",
            "_view_count": null,
            "_view_module": "@jupyter-widgets/base",
            "_view_module_version": "1.2.0",
            "_view_name": "LayoutView",
            "align_content": null,
            "align_items": null,
            "align_self": null,
            "border": null,
            "bottom": null,
            "display": null,
            "flex": null,
            "flex_flow": null,
            "grid_area": null,
            "grid_auto_columns": null,
            "grid_auto_flow": null,
            "grid_auto_rows": null,
            "grid_column": null,
            "grid_gap": null,
            "grid_row": null,
            "grid_template_areas": null,
            "grid_template_columns": null,
            "grid_template_rows": null,
            "height": null,
            "justify_content": null,
            "justify_items": null,
            "left": null,
            "margin": null,
            "max_height": null,
            "max_width": null,
            "min_height": null,
            "min_width": null,
            "object_fit": null,
            "object_position": null,
            "order": null,
            "overflow": null,
            "overflow_x": null,
            "overflow_y": null,
            "padding": null,
            "right": null,
            "top": null,
            "visibility": null,
            "width": null
          }
        },
        "3475c02d2a934c31931f612ac18ea9aa": {
          "model_module": "@jupyter-widgets/controls",
          "model_name": "ProgressStyleModel",
          "model_module_version": "1.5.0",
          "state": {
            "_model_module": "@jupyter-widgets/controls",
            "_model_module_version": "1.5.0",
            "_model_name": "ProgressStyleModel",
            "_view_count": null,
            "_view_module": "@jupyter-widgets/base",
            "_view_module_version": "1.2.0",
            "_view_name": "StyleView",
            "bar_color": null,
            "description_width": ""
          }
        },
        "d58173a604b4494fa9938c3af99c0205": {
          "model_module": "@jupyter-widgets/base",
          "model_name": "LayoutModel",
          "model_module_version": "1.2.0",
          "state": {
            "_model_module": "@jupyter-widgets/base",
            "_model_module_version": "1.2.0",
            "_model_name": "LayoutModel",
            "_view_count": null,
            "_view_module": "@jupyter-widgets/base",
            "_view_module_version": "1.2.0",
            "_view_name": "LayoutView",
            "align_content": null,
            "align_items": null,
            "align_self": null,
            "border": null,
            "bottom": null,
            "display": null,
            "flex": null,
            "flex_flow": null,
            "grid_area": null,
            "grid_auto_columns": null,
            "grid_auto_flow": null,
            "grid_auto_rows": null,
            "grid_column": null,
            "grid_gap": null,
            "grid_row": null,
            "grid_template_areas": null,
            "grid_template_columns": null,
            "grid_template_rows": null,
            "height": null,
            "justify_content": null,
            "justify_items": null,
            "left": null,
            "margin": null,
            "max_height": null,
            "max_width": null,
            "min_height": null,
            "min_width": null,
            "object_fit": null,
            "object_position": null,
            "order": null,
            "overflow": null,
            "overflow_x": null,
            "overflow_y": null,
            "padding": null,
            "right": null,
            "top": null,
            "visibility": null,
            "width": null
          }
        },
        "95336b98fa8245c29e948629f86a57c2": {
          "model_module": "@jupyter-widgets/controls",
          "model_name": "DescriptionStyleModel",
          "model_module_version": "1.5.0",
          "state": {
            "_model_module": "@jupyter-widgets/controls",
            "_model_module_version": "1.5.0",
            "_model_name": "DescriptionStyleModel",
            "_view_count": null,
            "_view_module": "@jupyter-widgets/base",
            "_view_module_version": "1.2.0",
            "_view_name": "StyleView",
            "description_width": ""
          }
        },
        "28a5261ece9949899c3ca2a72a6c0b7f": {
          "model_module": "@jupyter-widgets/controls",
          "model_name": "HBoxModel",
          "model_module_version": "1.5.0",
          "state": {
            "_dom_classes": [],
            "_model_module": "@jupyter-widgets/controls",
            "_model_module_version": "1.5.0",
            "_model_name": "HBoxModel",
            "_view_count": null,
            "_view_module": "@jupyter-widgets/controls",
            "_view_module_version": "1.5.0",
            "_view_name": "HBoxView",
            "box_style": "",
            "children": [
              "IPY_MODEL_87ce50525c9a4dedb5704a07f2cd0ab2",
              "IPY_MODEL_0c3903b954334c3aa5e3eb2a13c308ba",
              "IPY_MODEL_afaa90f66b0144a9ba0288303efa3ac0"
            ],
            "layout": "IPY_MODEL_521fe6b1b67347918082f7a7f8bc4d0d"
          }
        },
        "87ce50525c9a4dedb5704a07f2cd0ab2": {
          "model_module": "@jupyter-widgets/controls",
          "model_name": "HTMLModel",
          "model_module_version": "1.5.0",
          "state": {
            "_dom_classes": [],
            "_model_module": "@jupyter-widgets/controls",
            "_model_module_version": "1.5.0",
            "_model_name": "HTMLModel",
            "_view_count": null,
            "_view_module": "@jupyter-widgets/controls",
            "_view_module_version": "1.5.0",
            "_view_name": "HTMLView",
            "description": "",
            "description_tooltip": null,
            "layout": "IPY_MODEL_5390f50609284a7294d47a675942680a",
            "placeholder": "​",
            "style": "IPY_MODEL_4a6330b8c6584889bf1fdfae1f7f1233",
            "value": "special_tokens_map.json: 100%"
          }
        },
        "0c3903b954334c3aa5e3eb2a13c308ba": {
          "model_module": "@jupyter-widgets/controls",
          "model_name": "FloatProgressModel",
          "model_module_version": "1.5.0",
          "state": {
            "_dom_classes": [],
            "_model_module": "@jupyter-widgets/controls",
            "_model_module_version": "1.5.0",
            "_model_name": "FloatProgressModel",
            "_view_count": null,
            "_view_module": "@jupyter-widgets/controls",
            "_view_module_version": "1.5.0",
            "_view_name": "ProgressView",
            "bar_style": "success",
            "description": "",
            "description_tooltip": null,
            "layout": "IPY_MODEL_e2d673d0d23440baaacdac85b47e7e21",
            "max": 414,
            "min": 0,
            "orientation": "horizontal",
            "style": "IPY_MODEL_2c7553582f9747b09bec986d77b526c9",
            "value": 414
          }
        },
        "afaa90f66b0144a9ba0288303efa3ac0": {
          "model_module": "@jupyter-widgets/controls",
          "model_name": "HTMLModel",
          "model_module_version": "1.5.0",
          "state": {
            "_dom_classes": [],
            "_model_module": "@jupyter-widgets/controls",
            "_model_module_version": "1.5.0",
            "_model_name": "HTMLModel",
            "_view_count": null,
            "_view_module": "@jupyter-widgets/controls",
            "_view_module_version": "1.5.0",
            "_view_name": "HTMLView",
            "description": "",
            "description_tooltip": null,
            "layout": "IPY_MODEL_92d17cc7c944452c8985e6364e5570b9",
            "placeholder": "​",
            "style": "IPY_MODEL_faa7c827da3c4681829c4f83273ef8d4",
            "value": " 414/414 [00:00&lt;00:00, 12.1kB/s]"
          }
        },
        "521fe6b1b67347918082f7a7f8bc4d0d": {
          "model_module": "@jupyter-widgets/base",
          "model_name": "LayoutModel",
          "model_module_version": "1.2.0",
          "state": {
            "_model_module": "@jupyter-widgets/base",
            "_model_module_version": "1.2.0",
            "_model_name": "LayoutModel",
            "_view_count": null,
            "_view_module": "@jupyter-widgets/base",
            "_view_module_version": "1.2.0",
            "_view_name": "LayoutView",
            "align_content": null,
            "align_items": null,
            "align_self": null,
            "border": null,
            "bottom": null,
            "display": null,
            "flex": null,
            "flex_flow": null,
            "grid_area": null,
            "grid_auto_columns": null,
            "grid_auto_flow": null,
            "grid_auto_rows": null,
            "grid_column": null,
            "grid_gap": null,
            "grid_row": null,
            "grid_template_areas": null,
            "grid_template_columns": null,
            "grid_template_rows": null,
            "height": null,
            "justify_content": null,
            "justify_items": null,
            "left": null,
            "margin": null,
            "max_height": null,
            "max_width": null,
            "min_height": null,
            "min_width": null,
            "object_fit": null,
            "object_position": null,
            "order": null,
            "overflow": null,
            "overflow_x": null,
            "overflow_y": null,
            "padding": null,
            "right": null,
            "top": null,
            "visibility": null,
            "width": null
          }
        },
        "5390f50609284a7294d47a675942680a": {
          "model_module": "@jupyter-widgets/base",
          "model_name": "LayoutModel",
          "model_module_version": "1.2.0",
          "state": {
            "_model_module": "@jupyter-widgets/base",
            "_model_module_version": "1.2.0",
            "_model_name": "LayoutModel",
            "_view_count": null,
            "_view_module": "@jupyter-widgets/base",
            "_view_module_version": "1.2.0",
            "_view_name": "LayoutView",
            "align_content": null,
            "align_items": null,
            "align_self": null,
            "border": null,
            "bottom": null,
            "display": null,
            "flex": null,
            "flex_flow": null,
            "grid_area": null,
            "grid_auto_columns": null,
            "grid_auto_flow": null,
            "grid_auto_rows": null,
            "grid_column": null,
            "grid_gap": null,
            "grid_row": null,
            "grid_template_areas": null,
            "grid_template_columns": null,
            "grid_template_rows": null,
            "height": null,
            "justify_content": null,
            "justify_items": null,
            "left": null,
            "margin": null,
            "max_height": null,
            "max_width": null,
            "min_height": null,
            "min_width": null,
            "object_fit": null,
            "object_position": null,
            "order": null,
            "overflow": null,
            "overflow_x": null,
            "overflow_y": null,
            "padding": null,
            "right": null,
            "top": null,
            "visibility": null,
            "width": null
          }
        },
        "4a6330b8c6584889bf1fdfae1f7f1233": {
          "model_module": "@jupyter-widgets/controls",
          "model_name": "DescriptionStyleModel",
          "model_module_version": "1.5.0",
          "state": {
            "_model_module": "@jupyter-widgets/controls",
            "_model_module_version": "1.5.0",
            "_model_name": "DescriptionStyleModel",
            "_view_count": null,
            "_view_module": "@jupyter-widgets/base",
            "_view_module_version": "1.2.0",
            "_view_name": "StyleView",
            "description_width": ""
          }
        },
        "e2d673d0d23440baaacdac85b47e7e21": {
          "model_module": "@jupyter-widgets/base",
          "model_name": "LayoutModel",
          "model_module_version": "1.2.0",
          "state": {
            "_model_module": "@jupyter-widgets/base",
            "_model_module_version": "1.2.0",
            "_model_name": "LayoutModel",
            "_view_count": null,
            "_view_module": "@jupyter-widgets/base",
            "_view_module_version": "1.2.0",
            "_view_name": "LayoutView",
            "align_content": null,
            "align_items": null,
            "align_self": null,
            "border": null,
            "bottom": null,
            "display": null,
            "flex": null,
            "flex_flow": null,
            "grid_area": null,
            "grid_auto_columns": null,
            "grid_auto_flow": null,
            "grid_auto_rows": null,
            "grid_column": null,
            "grid_gap": null,
            "grid_row": null,
            "grid_template_areas": null,
            "grid_template_columns": null,
            "grid_template_rows": null,
            "height": null,
            "justify_content": null,
            "justify_items": null,
            "left": null,
            "margin": null,
            "max_height": null,
            "max_width": null,
            "min_height": null,
            "min_width": null,
            "object_fit": null,
            "object_position": null,
            "order": null,
            "overflow": null,
            "overflow_x": null,
            "overflow_y": null,
            "padding": null,
            "right": null,
            "top": null,
            "visibility": null,
            "width": null
          }
        },
        "2c7553582f9747b09bec986d77b526c9": {
          "model_module": "@jupyter-widgets/controls",
          "model_name": "ProgressStyleModel",
          "model_module_version": "1.5.0",
          "state": {
            "_model_module": "@jupyter-widgets/controls",
            "_model_module_version": "1.5.0",
            "_model_name": "ProgressStyleModel",
            "_view_count": null,
            "_view_module": "@jupyter-widgets/base",
            "_view_module_version": "1.2.0",
            "_view_name": "StyleView",
            "bar_color": null,
            "description_width": ""
          }
        },
        "92d17cc7c944452c8985e6364e5570b9": {
          "model_module": "@jupyter-widgets/base",
          "model_name": "LayoutModel",
          "model_module_version": "1.2.0",
          "state": {
            "_model_module": "@jupyter-widgets/base",
            "_model_module_version": "1.2.0",
            "_model_name": "LayoutModel",
            "_view_count": null,
            "_view_module": "@jupyter-widgets/base",
            "_view_module_version": "1.2.0",
            "_view_name": "LayoutView",
            "align_content": null,
            "align_items": null,
            "align_self": null,
            "border": null,
            "bottom": null,
            "display": null,
            "flex": null,
            "flex_flow": null,
            "grid_area": null,
            "grid_auto_columns": null,
            "grid_auto_flow": null,
            "grid_auto_rows": null,
            "grid_column": null,
            "grid_gap": null,
            "grid_row": null,
            "grid_template_areas": null,
            "grid_template_columns": null,
            "grid_template_rows": null,
            "height": null,
            "justify_content": null,
            "justify_items": null,
            "left": null,
            "margin": null,
            "max_height": null,
            "max_width": null,
            "min_height": null,
            "min_width": null,
            "object_fit": null,
            "object_position": null,
            "order": null,
            "overflow": null,
            "overflow_x": null,
            "overflow_y": null,
            "padding": null,
            "right": null,
            "top": null,
            "visibility": null,
            "width": null
          }
        },
        "faa7c827da3c4681829c4f83273ef8d4": {
          "model_module": "@jupyter-widgets/controls",
          "model_name": "DescriptionStyleModel",
          "model_module_version": "1.5.0",
          "state": {
            "_model_module": "@jupyter-widgets/controls",
            "_model_module_version": "1.5.0",
            "_model_name": "DescriptionStyleModel",
            "_view_count": null,
            "_view_module": "@jupyter-widgets/base",
            "_view_module_version": "1.2.0",
            "_view_name": "StyleView",
            "description_width": ""
          }
        }
      }
    }
  },
  "cells": [
    {
      "cell_type": "markdown",
      "metadata": {
        "id": "view-in-github",
        "colab_type": "text"
      },
      "source": [
        "<a href=\"https://colab.research.google.com/github/LxYuan0420/nlp/blob/main/notebooks/Inference_Llama_2_7B_Chat_using_AWQ.ipynb\" target=\"_parent\"><img src=\"https://colab.research.google.com/assets/colab-badge.svg\" alt=\"Open In Colab\"/></a>"
      ]
    },
    {
      "cell_type": "markdown",
      "source": [
        "### 1. Install and Load Required Libraries"
      ],
      "metadata": {
        "id": "q9b8Q9Dz-x6u"
      }
    },
    {
      "cell_type": "code",
      "source": [
        "!nvidia-smi"
      ],
      "metadata": {
        "colab": {
          "base_uri": "https://localhost:8080/"
        },
        "id": "gfrYpXMLA5jx",
        "outputId": "293554f4-6d35-4bae-d911-40c3c550c6f6"
      },
      "execution_count": 1,
      "outputs": [
        {
          "output_type": "stream",
          "name": "stdout",
          "text": [
            "Sat Jan 20 03:56:59 2024       \n",
            "+---------------------------------------------------------------------------------------+\n",
            "| NVIDIA-SMI 535.104.05             Driver Version: 535.104.05   CUDA Version: 12.2     |\n",
            "|-----------------------------------------+----------------------+----------------------+\n",
            "| GPU  Name                 Persistence-M | Bus-Id        Disp.A | Volatile Uncorr. ECC |\n",
            "| Fan  Temp   Perf          Pwr:Usage/Cap |         Memory-Usage | GPU-Util  Compute M. |\n",
            "|                                         |                      |               MIG M. |\n",
            "|=========================================+======================+======================|\n",
            "|   0  Tesla T4                       Off | 00000000:00:04.0 Off |                    0 |\n",
            "| N/A   69C    P8              10W /  70W |      0MiB / 15360MiB |      0%      Default |\n",
            "|                                         |                      |                  N/A |\n",
            "+-----------------------------------------+----------------------+----------------------+\n",
            "                                                                                         \n",
            "+---------------------------------------------------------------------------------------+\n",
            "| Processes:                                                                            |\n",
            "|  GPU   GI   CI        PID   Type   Process name                            GPU Memory |\n",
            "|        ID   ID                                                             Usage      |\n",
            "|=======================================================================================|\n",
            "|  No running processes found                                                           |\n",
            "+---------------------------------------------------------------------------------------+\n"
          ]
        }
      ]
    },
    {
      "cell_type": "code",
      "execution_count": 5,
      "metadata": {
        "colab": {
          "base_uri": "https://localhost:8080/"
        },
        "id": "FO8N_-Gp-WN0",
        "outputId": "c05d32d5-802f-4e4b-c3a0-f411d18bded5"
      },
      "outputs": [
        {
          "output_type": "stream",
          "name": "stdout",
          "text": [
            "\u001b[2K     \u001b[90m━━━━━━━━━━━━━━━━━━━━━━━━━━━━━━━━━━━━━━━━\u001b[0m \u001b[32m8.2/8.2 MB\u001b[0m \u001b[31m18.6 MB/s\u001b[0m eta \u001b[36m0:00:00\u001b[0m\n",
            "\u001b[?25h"
          ]
        }
      ],
      "source": [
        "!pip install -q -U transformers accelerate autoawq"
      ]
    },
    {
      "cell_type": "code",
      "source": [
        "!pip freeze | grep -E \"trans|awq|acce\""
      ],
      "metadata": {
        "colab": {
          "base_uri": "https://localhost:8080/"
        },
        "id": "T9LLFoyZ-hwj",
        "outputId": "a53fe11d-aa65-46e8-d3aa-d8531ea1c518"
      },
      "execution_count": 6,
      "outputs": [
        {
          "output_type": "stream",
          "name": "stdout",
          "text": [
            "accelerate==0.26.1\n",
            "autoawq==0.1.8\n",
            "google-cloud-translate==3.11.3\n",
            "transformers==4.36.2\n"
          ]
        }
      ]
    },
    {
      "cell_type": "markdown",
      "source": [
        "### 2. Load AWQ-Quantized Model from Huggingface"
      ],
      "metadata": {
        "id": "bKx_No-N_DqQ"
      }
    },
    {
      "cell_type": "code",
      "source": [
        "from transformers import AutoModelForCausalLM, AutoTokenizer\n",
        "\n",
        "model_id = \"TheBloke/Llama-2-7b-Chat-AWQ\"\n",
        "model = AutoModelForCausalLM.from_pretrained(model_id, device_map=\"cuda:0\")\n",
        "tokenizer = AutoTokenizer.from_pretrained(model_id)"
      ],
      "metadata": {
        "colab": {
          "base_uri": "https://localhost:8080/",
          "height": 177,
          "referenced_widgets": [
            "9547763228284ac890ddaece8dd7f028",
            "aef1bfb8351140f6806ac306129fda43",
            "bcbf7c6d2e294fa7a65ba8ca2e9b105a",
            "c895b65d1fb843059c649432121431b1",
            "c8ea450a8a4e463db9a4832246d15a8f",
            "47ee8f798b1e4d8999e5f6c3cef84855",
            "cfa6af1967a0492cb4ff7ee6b27f8fee",
            "ca5860e580b74036b041ebbaa503b936",
            "adcca3b930f1406ab0d9b524228a4514",
            "0f96cc8c827a4d9dbe3d1779587618e2",
            "fc672c6e3c674cd39d31bcfdc9ba8b04",
            "aca2189ffaa24eb0a8e34a43aa8dc8c7",
            "fbcb35f772a14e389ecaf58a067eeff0",
            "c0e2209ef009452a9314b5c53cd18506",
            "04ab10b147b145e788c1a241295b24c1",
            "fef1550e5dd8441ca0b4c0bd2493749b",
            "691109bea8e549dabaf59504b36f6c42",
            "265037eb5441441084bfed1e65c8ed07",
            "745ed6a895a445bc863dc8445dbf60b2",
            "b8e8886db2d24d3d8e3bed78e5eee06a",
            "25170a04b2354923a59b4ed586663cf7",
            "48cb02e6ad304774b308e697b4550020",
            "840f5d09ca8c4167b6fb1a1c84143b5a",
            "291641a9b10a40ea89572722a432b75e",
            "9399dbdc52864308931ef2c13db37fd3",
            "2760135f76864a89a17213c9135b54e0",
            "b6e85e6a65da49e0bcb39b7284822482",
            "1ef49c77fe044e90ae647ba1b5f721e8",
            "55fa0a8a2e2c4766b9a3d537fbd1b93a",
            "b9298a84631c429aa7e81460180c6cb0",
            "a382738a993445a69d2895a692c8ec78",
            "824def9026ee4371804039a58271ef00",
            "532c5cf5dd3f4a1eaed149a1a66e6e46",
            "4375d8e5e6be4d568987fd95cc050fda",
            "236a6b718ae14a18a623d6f59e3c7211",
            "0a8a1692c4154cbf81c56fb913b062b1",
            "772574d8a3274f6dbc8515bc439f21fe",
            "8d6b60980d2a4ee2b9d2544e3ec5aec9",
            "8ef801fe4c864757abf10ca835018e6b",
            "f2e616b0ba9345f18677d6a5c758a099",
            "cf6484b58907443da23b48211be6a02f",
            "3475c02d2a934c31931f612ac18ea9aa",
            "d58173a604b4494fa9938c3af99c0205",
            "95336b98fa8245c29e948629f86a57c2",
            "28a5261ece9949899c3ca2a72a6c0b7f",
            "87ce50525c9a4dedb5704a07f2cd0ab2",
            "0c3903b954334c3aa5e3eb2a13c308ba",
            "afaa90f66b0144a9ba0288303efa3ac0",
            "521fe6b1b67347918082f7a7f8bc4d0d",
            "5390f50609284a7294d47a675942680a",
            "4a6330b8c6584889bf1fdfae1f7f1233",
            "e2d673d0d23440baaacdac85b47e7e21",
            "2c7553582f9747b09bec986d77b526c9",
            "92d17cc7c944452c8985e6364e5570b9",
            "faa7c827da3c4681829c4f83273ef8d4"
          ]
        },
        "id": "0uIq3i0A_WDH",
        "outputId": "cc813b5e-8a28-4ee4-d501-9a1bdfeb0b41"
      },
      "execution_count": 7,
      "outputs": [
        {
          "output_type": "display_data",
          "data": {
            "text/plain": [
              "generation_config.json:   0%|          | 0.00/188 [00:00<?, ?B/s]"
            ],
            "application/vnd.jupyter.widget-view+json": {
              "version_major": 2,
              "version_minor": 0,
              "model_id": "9547763228284ac890ddaece8dd7f028"
            }
          },
          "metadata": {}
        },
        {
          "output_type": "display_data",
          "data": {
            "text/plain": [
              "tokenizer_config.json:   0%|          | 0.00/776 [00:00<?, ?B/s]"
            ],
            "application/vnd.jupyter.widget-view+json": {
              "version_major": 2,
              "version_minor": 0,
              "model_id": "aca2189ffaa24eb0a8e34a43aa8dc8c7"
            }
          },
          "metadata": {}
        },
        {
          "output_type": "display_data",
          "data": {
            "text/plain": [
              "tokenizer.model:   0%|          | 0.00/500k [00:00<?, ?B/s]"
            ],
            "application/vnd.jupyter.widget-view+json": {
              "version_major": 2,
              "version_minor": 0,
              "model_id": "840f5d09ca8c4167b6fb1a1c84143b5a"
            }
          },
          "metadata": {}
        },
        {
          "output_type": "display_data",
          "data": {
            "text/plain": [
              "tokenizer.json:   0%|          | 0.00/1.84M [00:00<?, ?B/s]"
            ],
            "application/vnd.jupyter.widget-view+json": {
              "version_major": 2,
              "version_minor": 0,
              "model_id": "4375d8e5e6be4d568987fd95cc050fda"
            }
          },
          "metadata": {}
        },
        {
          "output_type": "display_data",
          "data": {
            "text/plain": [
              "special_tokens_map.json:   0%|          | 0.00/414 [00:00<?, ?B/s]"
            ],
            "application/vnd.jupyter.widget-view+json": {
              "version_major": 2,
              "version_minor": 0,
              "model_id": "28a5261ece9949899c3ca2a72a6c0b7f"
            }
          },
          "metadata": {}
        }
      ]
    },
    {
      "cell_type": "code",
      "source": [
        "chat = [\n",
        "   {\"role\": \"system\", \"content\": \"You are a friendly and smart AI model that acts like a wikipedia question answering bot\"},\n",
        "   {\"role\": \"user\", \"content\": \"Who is Elon Musk? Summarize your answer in point form\"},\n",
        "]\n",
        "\n",
        "prompt_template = tokenizer.apply_chat_template(chat, tokenize=False)"
      ],
      "metadata": {
        "id": "B0tUTa96BdRG"
      },
      "execution_count": 9,
      "outputs": []
    },
    {
      "cell_type": "code",
      "source": [
        "prompt_template"
      ],
      "metadata": {
        "colab": {
          "base_uri": "https://localhost:8080/",
          "height": 53
        },
        "id": "RghvmQn3CsLz",
        "outputId": "19915518-380a-49fa-ddff-beb20d858f0c"
      },
      "execution_count": 10,
      "outputs": [
        {
          "output_type": "execute_result",
          "data": {
            "text/plain": [
              "'<s>[INST] <<SYS>>\\nYou are a friendly and smart AI model that acts like a wikipedia question answering bot\\n<</SYS>>\\n\\nWho is Elon Musk? Summarize your answer in point form [/INST]'"
            ],
            "application/vnd.google.colaboratory.intrinsic+json": {
              "type": "string"
            }
          },
          "metadata": {},
          "execution_count": 10
        }
      ]
    },
    {
      "cell_type": "code",
      "source": [
        "# Inference can also be done using transformers' pipeline\n",
        "from transformers import pipeline\n",
        "\n",
        "pipe = pipeline(\n",
        "    \"text-generation\",\n",
        "    model=model,\n",
        "    tokenizer=tokenizer,\n",
        "    max_new_tokens=512,\n",
        "    do_sample=True,\n",
        "    temperature=0.7,\n",
        "    top_p=0.95,\n",
        "    top_k=40,\n",
        "    repetition_penalty=1.1\n",
        ")\n",
        "\n",
        "response = (pipe(prompt_template)[0]['generated_text'])"
      ],
      "metadata": {
        "id": "1l5QX7pW-_aa"
      },
      "execution_count": 13,
      "outputs": []
    },
    {
      "cell_type": "code",
      "source": [
        "response = pipe(prompt_template)"
      ],
      "metadata": {
        "id": "idqw4ab4DK45"
      },
      "execution_count": 15,
      "outputs": []
    },
    {
      "cell_type": "code",
      "source": [
        "print(response)"
      ],
      "metadata": {
        "colab": {
          "base_uri": "https://localhost:8080/"
        },
        "id": "gE_7Ao0fCwPK",
        "outputId": "584be08b-b9e3-4784-c632-98bcf6011402"
      },
      "execution_count": 16,
      "outputs": [
        {
          "output_type": "stream",
          "name": "stdout",
          "text": [
            "[{'generated_text': \"<s>[INST] <<SYS>>\\nYou are a friendly and smart AI model that acts like a wikipedia question answering bot\\n<</SYS>>\\n\\nWho is Elon Musk? Summarize your answer in point form [/INST]  Of course! Elon Musk is a South African-born entrepreneur, inventor, and business magnate who has had a significant impact on various industries. Here's a summary of his life and achievements in bullet points:\\n\\n* Born on June 28, 1971, in Pretoria, South Africa\\n* Co-founder of PayPal, an online payment system (1998)\\n* Founder and CEO of SpaceX, a private space exploration company (2002)\\n* Founder and CEO of Tesla, Inc., an electric vehicle manufacturer (2003)\\n* Founder of Neuralink, a neurotechnology company focused on brain–machine interfaces (2016)\\n* Founder of The Boring Company, a tunnel construction company (2016)\\n* Co-founder of SolarCity, a solar energy services provider (2004)\\n* Acquired Twitter in 2013\\n* First entrepreneur to have a successful IPO with a market valuation of over $1 billion without raising any external capital (2010)\\n* Ranked 21st on Forbes list of wealthiest people in the world (2020)\\n* Known for his innovative ideas, visionary leadership, and ambitious goals in revolutionizing transportation, energy, and space technology\\n* Recipient of numerous awards and honors, including the 2007 Heinlein Prize for Advances in Space Commercialization, the 2013 National Academy of Engineering's Arthur M. Bueche Award, and the 2017 Solar Energy Industry Association's (SEIA) John F. Kennedy Renewable Energy Award\\n* Has been featured on the cover of multiple publications, including Time magazine (2017), Forbes (2015), and Bloomberg Businessweek (2013)\\n\\nI hope this helps you get a better understanding of Elon Musk and his impressive accomplishments!\"}]\n"
          ]
        }
      ]
    },
    {
      "cell_type": "code",
      "source": [
        "print(response[0][\"generated_text\"])"
      ],
      "metadata": {
        "colab": {
          "base_uri": "https://localhost:8080/"
        },
        "id": "l1uX5kWHDUuJ",
        "outputId": "8ac0ff29-e3b3-4cb2-deb0-839619e7028c"
      },
      "execution_count": 17,
      "outputs": [
        {
          "output_type": "stream",
          "name": "stdout",
          "text": [
            "<s>[INST] <<SYS>>\n",
            "You are a friendly and smart AI model that acts like a wikipedia question answering bot\n",
            "<</SYS>>\n",
            "\n",
            "Who is Elon Musk? Summarize your answer in point form [/INST]  Of course! Elon Musk is a South African-born entrepreneur, inventor, and business magnate who has had a significant impact on various industries. Here's a summary of his life and achievements in bullet points:\n",
            "\n",
            "* Born on June 28, 1971, in Pretoria, South Africa\n",
            "* Co-founder of PayPal, an online payment system (1998)\n",
            "* Founder and CEO of SpaceX, a private space exploration company (2002)\n",
            "* Founder and CEO of Tesla, Inc., an electric vehicle manufacturer (2003)\n",
            "* Founder of Neuralink, a neurotechnology company focused on brain–machine interfaces (2016)\n",
            "* Founder of The Boring Company, a tunnel construction company (2016)\n",
            "* Co-founder of SolarCity, a solar energy services provider (2004)\n",
            "* Acquired Twitter in 2013\n",
            "* First entrepreneur to have a successful IPO with a market valuation of over $1 billion without raising any external capital (2010)\n",
            "* Ranked 21st on Forbes list of wealthiest people in the world (2020)\n",
            "* Known for his innovative ideas, visionary leadership, and ambitious goals in revolutionizing transportation, energy, and space technology\n",
            "* Recipient of numerous awards and honors, including the 2007 Heinlein Prize for Advances in Space Commercialization, the 2013 National Academy of Engineering's Arthur M. Bueche Award, and the 2017 Solar Energy Industry Association's (SEIA) John F. Kennedy Renewable Energy Award\n",
            "* Has been featured on the cover of multiple publications, including Time magazine (2017), Forbes (2015), and Bloomberg Businessweek (2013)\n",
            "\n",
            "I hope this helps you get a better understanding of Elon Musk and his impressive accomplishments!\n"
          ]
        }
      ]
    },
    {
      "cell_type": "code",
      "source": [
        "model_response = response[0][\"generated_text\"].replace(prompt_template, \"\")\n",
        "print(model_response)"
      ],
      "metadata": {
        "colab": {
          "base_uri": "https://localhost:8080/"
        },
        "id": "7uFs9v5WDZK_",
        "outputId": "813be622-acc2-403d-bb56-bf5ffe3597ee"
      },
      "execution_count": 18,
      "outputs": [
        {
          "output_type": "stream",
          "name": "stdout",
          "text": [
            "  Of course! Elon Musk is a South African-born entrepreneur, inventor, and business magnate who has had a significant impact on various industries. Here's a summary of his life and achievements in bullet points:\n",
            "\n",
            "* Born on June 28, 1971, in Pretoria, South Africa\n",
            "* Co-founder of PayPal, an online payment system (1998)\n",
            "* Founder and CEO of SpaceX, a private space exploration company (2002)\n",
            "* Founder and CEO of Tesla, Inc., an electric vehicle manufacturer (2003)\n",
            "* Founder of Neuralink, a neurotechnology company focused on brain–machine interfaces (2016)\n",
            "* Founder of The Boring Company, a tunnel construction company (2016)\n",
            "* Co-founder of SolarCity, a solar energy services provider (2004)\n",
            "* Acquired Twitter in 2013\n",
            "* First entrepreneur to have a successful IPO with a market valuation of over $1 billion without raising any external capital (2010)\n",
            "* Ranked 21st on Forbes list of wealthiest people in the world (2020)\n",
            "* Known for his innovative ideas, visionary leadership, and ambitious goals in revolutionizing transportation, energy, and space technology\n",
            "* Recipient of numerous awards and honors, including the 2007 Heinlein Prize for Advances in Space Commercialization, the 2013 National Academy of Engineering's Arthur M. Bueche Award, and the 2017 Solar Energy Industry Association's (SEIA) John F. Kennedy Renewable Energy Award\n",
            "* Has been featured on the cover of multiple publications, including Time magazine (2017), Forbes (2015), and Bloomberg Businessweek (2013)\n",
            "\n",
            "I hope this helps you get a better understanding of Elon Musk and his impressive accomplishments!\n"
          ]
        }
      ]
    },
    {
      "cell_type": "code",
      "source": [
        "chat = [\n",
        "   {\"role\": \"system\", \"content\": \"You are a friendly and smart AI model that acts like a wikipedia question answering bot\"},\n",
        "   {\"role\": \"user\", \"content\": \"Who is Elon Musk? Summarize your answer in point form\"},\n",
        "   {\"role\": \"assistant\", \"content\": model_response},\n",
        "   {\"role\": \"user\", \"content\": \"Extract list of relation triplet from your above answer\"},\n",
        "]\n",
        "\n",
        "continued_prompt_template = tokenizer.apply_chat_template(chat, tokenize=False)"
      ],
      "metadata": {
        "id": "RRTI2_m2DjT7"
      },
      "execution_count": 19,
      "outputs": []
    },
    {
      "cell_type": "code",
      "source": [
        "continued_prompt_template"
      ],
      "metadata": {
        "colab": {
          "base_uri": "https://localhost:8080/",
          "height": 226
        },
        "id": "mdk8bTXUC7rS",
        "outputId": "6092f931-a3a5-4e51-9919-c4cef2d50523"
      },
      "execution_count": 21,
      "outputs": [
        {
          "output_type": "execute_result",
          "data": {
            "text/plain": [
              "\"<s>[INST] <<SYS>>\\nYou are a friendly and smart AI model that acts like a wikipedia question answering bot\\n<</SYS>>\\n\\nWho is Elon Musk? Summarize your answer in point form [/INST] Of course! Elon Musk is a South African-born entrepreneur, inventor, and business magnate who has had a significant impact on various industries. Here's a summary of his life and achievements in bullet points:\\n\\n* Born on June 28, 1971, in Pretoria, South Africa\\n* Co-founder of PayPal, an online payment system (1998)\\n* Founder and CEO of SpaceX, a private space exploration company (2002)\\n* Founder and CEO of Tesla, Inc., an electric vehicle manufacturer (2003)\\n* Founder of Neuralink, a neurotechnology company focused on brain–machine interfaces (2016)\\n* Founder of The Boring Company, a tunnel construction company (2016)\\n* Co-founder of SolarCity, a solar energy services provider (2004)\\n* Acquired Twitter in 2013\\n* First entrepreneur to have a successful IPO with a market valuation of over $1 billion without raising any external capital (2010)\\n* Ranked 21st on Forbes list of wealthiest people in the world (2020)\\n* Known for his innovative ideas, visionary leadership, and ambitious goals in revolutionizing transportation, energy, and space technology\\n* Recipient of numerous awards and honors, including the 2007 Heinlein Prize for Advances in Space Commercialization, the 2013 National Academy of Engineering's Arthur M. Bueche Award, and the 2017 Solar Energy Industry Association's (SEIA) John F. Kennedy Renewable Energy Award\\n* Has been featured on the cover of multiple publications, including Time magazine (2017), Forbes (2015), and Bloomberg Businessweek (2013)\\n\\nI hope this helps you get a better understanding of Elon Musk and his impressive accomplishments! </s><s>[INST] Extract list of relation triplet from your above answer [/INST]\""
            ],
            "application/vnd.google.colaboratory.intrinsic+json": {
              "type": "string"
            }
          },
          "metadata": {},
          "execution_count": 21
        }
      ]
    },
    {
      "cell_type": "code",
      "source": [
        "continued_response = pipe(continued_prompt_template)"
      ],
      "metadata": {
        "id": "OPnrWV4wD66b"
      },
      "execution_count": 22,
      "outputs": []
    },
    {
      "cell_type": "code",
      "source": [
        "continued_response"
      ],
      "metadata": {
        "colab": {
          "base_uri": "https://localhost:8080/"
        },
        "id": "qKRhhwq2EJcK",
        "outputId": "745ec1b0-dd44-4c34-e27d-86fac42c2dcf"
      },
      "execution_count": 23,
      "outputs": [
        {
          "output_type": "execute_result",
          "data": {
            "text/plain": [
              "[{'generated_text': \"<s>[INST] <<SYS>>\\nYou are a friendly and smart AI model that acts like a wikipedia question answering bot\\n<</SYS>>\\n\\nWho is Elon Musk? Summarize your answer in point form [/INST] Of course! Elon Musk is a South African-born entrepreneur, inventor, and business magnate who has had a significant impact on various industries. Here's a summary of his life and achievements in bullet points:\\n\\n* Born on June 28, 1971, in Pretoria, South Africa\\n* Co-founder of PayPal, an online payment system (1998)\\n* Founder and CEO of SpaceX, a private space exploration company (2002)\\n* Founder and CEO of Tesla, Inc., an electric vehicle manufacturer (2003)\\n* Founder of Neuralink, a neurotechnology company focused on brain–machine interfaces (2016)\\n* Founder of The Boring Company, a tunnel construction company (2016)\\n* Co-founder of SolarCity, a solar energy services provider (2004)\\n* Acquired Twitter in 2013\\n* First entrepreneur to have a successful IPO with a market valuation of over $1 billion without raising any external capital (2010)\\n* Ranked 21st on Forbes list of wealthiest people in the world (2020)\\n* Known for his innovative ideas, visionary leadership, and ambitious goals in revolutionizing transportation, energy, and space technology\\n* Recipient of numerous awards and honors, including the 2007 Heinlein Prize for Advances in Space Commercialization, the 2013 National Academy of Engineering's Arthur M. Bueche Award, and the 2017 Solar Energy Industry Association's (SEIA) John F. Kennedy Renewable Energy Award\\n* Has been featured on the cover of multiple publications, including Time magazine (2017), Forbes (2015), and Bloomberg Businessweek (2013)\\n\\nI hope this helps you get a better understanding of Elon Musk and his impressive accomplishments! </s><s>[INST] Extract list of relation triplet from your above answer [/INST]  Certainly! From my previous answer, here are some relation triplets that can be extracted:\\nRelationship: Co-founder\\n* Elon Musk co-founded PayPal with Peter Thiel (1998)\\nRelationship: Founder and CEO\\n* Elon Musk founded SpaceX in 2002\\n* Elon Musk founded Tesla in 2003\\n\\nRelationship: Acquisition\\n* Elon Musk acquired Twitter in 2013\\n\\nRelationship: Honors and Awards\\n* Elon Musk received the 2007 Heinlein Prize for Advances in Space Commercialization (2007)\\n* Elon Musk received the 2013 National Academy of Engineering's Arthur M. Bueche Award (2013)\\n* Elon Musk received the 2017 Solar Energy Industry Association's (SEIA) John F. Kennedy Renewable Energy Award (2017)\\n\\nPlease note that these are just some of the relation triplets that can be extracted from my previous answer, and there may be more depending on how one defines and structures their data.\"}]"
            ]
          },
          "metadata": {},
          "execution_count": 23
        }
      ]
    },
    {
      "cell_type": "code",
      "source": [
        "print(continued_response[0][\"generated_text\"].replace(continued_prompt_template, \"\"))"
      ],
      "metadata": {
        "colab": {
          "base_uri": "https://localhost:8080/"
        },
        "id": "WIAe4gp0ELEA",
        "outputId": "e7bc08fe-7ef1-4a11-ae42-56f8123d3c3b"
      },
      "execution_count": 26,
      "outputs": [
        {
          "output_type": "stream",
          "name": "stdout",
          "text": [
            "  Certainly! From my previous answer, here are some relation triplets that can be extracted:\n",
            "Relationship: Co-founder\n",
            "* Elon Musk co-founded PayPal with Peter Thiel (1998)\n",
            "Relationship: Founder and CEO\n",
            "* Elon Musk founded SpaceX in 2002\n",
            "* Elon Musk founded Tesla in 2003\n",
            "\n",
            "Relationship: Acquisition\n",
            "* Elon Musk acquired Twitter in 2013\n",
            "\n",
            "Relationship: Honors and Awards\n",
            "* Elon Musk received the 2007 Heinlein Prize for Advances in Space Commercialization (2007)\n",
            "* Elon Musk received the 2013 National Academy of Engineering's Arthur M. Bueche Award (2013)\n",
            "* Elon Musk received the 2017 Solar Energy Industry Association's (SEIA) John F. Kennedy Renewable Energy Award (2017)\n",
            "\n",
            "Please note that these are just some of the relation triplets that can be extracted from my previous answer, and there may be more depending on how one defines and structures their data.\n"
          ]
        }
      ]
    },
    {
      "cell_type": "code",
      "source": [
        "import locale\n",
        "locale.getpreferredencoding = lambda: \"UTF-8\"\n",
        "\n",
        "!nvidia-smi"
      ],
      "metadata": {
        "colab": {
          "base_uri": "https://localhost:8080/"
        },
        "id": "dNrHOVTlES7q",
        "outputId": "d7eba345-6929-4438-b6ac-2a246fce80b7"
      },
      "execution_count": 32,
      "outputs": [
        {
          "output_type": "stream",
          "name": "stdout",
          "text": [
            "Sat Jan 20 04:14:10 2024       \n",
            "+---------------------------------------------------------------------------------------+\n",
            "| NVIDIA-SMI 535.104.05             Driver Version: 535.104.05   CUDA Version: 12.2     |\n",
            "|-----------------------------------------+----------------------+----------------------+\n",
            "| GPU  Name                 Persistence-M | Bus-Id        Disp.A | Volatile Uncorr. ECC |\n",
            "| Fan  Temp   Perf          Pwr:Usage/Cap |         Memory-Usage | GPU-Util  Compute M. |\n",
            "|                                         |                      |               MIG M. |\n",
            "|=========================================+======================+======================|\n",
            "|   0  Tesla T4                       Off | 00000000:00:04.0 Off |                    0 |\n",
            "| N/A   76C    P0              29W /  70W |   5235MiB / 15360MiB |      0%      Default |\n",
            "|                                         |                      |                  N/A |\n",
            "+-----------------------------------------+----------------------+----------------------+\n",
            "                                                                                         \n",
            "+---------------------------------------------------------------------------------------+\n",
            "| Processes:                                                                            |\n",
            "|  GPU   GI   CI        PID   Type   Process name                            GPU Memory |\n",
            "|        ID   ID                                                             Usage      |\n",
            "|=======================================================================================|\n",
            "+---------------------------------------------------------------------------------------+\n"
          ]
        }
      ]
    },
    {
      "cell_type": "code",
      "source": [],
      "metadata": {
        "id": "Nh8nV4qiEj77"
      },
      "execution_count": null,
      "outputs": []
    }
  ]
}