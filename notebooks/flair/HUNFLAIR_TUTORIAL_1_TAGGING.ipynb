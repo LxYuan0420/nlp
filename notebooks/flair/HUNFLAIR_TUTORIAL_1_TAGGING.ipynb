{
  "nbformat": 4,
  "nbformat_minor": 0,
  "metadata": {
    "colab": {
      "provenance": [],
      "authorship_tag": "ABX9TyM3WBgoLs0AeP5qSJOaWKSv",
      "include_colab_link": true
    },
    "kernelspec": {
      "name": "python3",
      "display_name": "Python 3"
    },
    "language_info": {
      "name": "python"
    }
  },
  "cells": [
    {
      "cell_type": "markdown",
      "metadata": {
        "id": "view-in-github",
        "colab_type": "text"
      },
      "source": [
        "<a href=\"https://colab.research.google.com/github/LxYuan0420/nlp/blob/main/notebooks/flair/HUNFLAIR_TUTORIAL_1_TAGGING.ipynb\" target=\"_parent\"><img src=\"https://colab.research.google.com/assets/colab-badge.svg\" alt=\"Open In Colab\"/></a>"
      ]
    },
    {
      "cell_type": "code",
      "execution_count": null,
      "metadata": {
        "id": "sE3NsOe3Uyat"
      },
      "outputs": [],
      "source": [
        "#!pip install flair"
      ]
    },
    {
      "cell_type": "markdown",
      "source": [
        "### HunFlair Tutorial 1: Tagging\n",
        "\n",
        "This is part 1 of the tutorial, in which we show how to use our pre-trained HunFlair models to tag your text.\n",
        "\n",
        "##### Tagging with Pre-trained HunFlair-Models\n",
        "\n",
        "Let's use the pre-trained HunFlair model for biomedical named entity recognition (NER). This model was trained over 24 biomedical NER data sets and can recognize 5 different entity types, i.e. cell lines, chemicals, disease, gene / proteins and species."
      ],
      "metadata": {
        "id": "QoJxrJM3VRf8"
      }
    },
    {
      "cell_type": "code",
      "source": [
        "from flair.models import MultiTagger\n",
        "\n",
        "tagger = MultiTagger.load(\"hunflair\")"
      ],
      "metadata": {
        "colab": {
          "base_uri": "https://localhost:8080/"
        },
        "id": "Xm9jVOlNU843",
        "outputId": "142beb8f-05bd-40cb-f9ff-f62d77808b54"
      },
      "execution_count": 2,
      "outputs": [
        {
          "output_type": "stream",
          "name": "stdout",
          "text": [
            "2022-11-12 05:52:25,866 loading file /root/.flair/models/hunflair-celline-v1.0.pt\n",
            "2022-11-12 05:52:39,307 SequenceTagger predicts: Dictionary with 8 tags: <unk>, O, S-CellLine, B-CellLine, I-CellLine, E-CellLine, <START>, <STOP>\n",
            "2022-11-12 05:52:39,813 loading file /root/.flair/models/hunflair-chemical-full-v1.0.pt\n",
            "2022-11-12 05:52:59,190 SequenceTagger predicts: Dictionary with 8 tags: <unk>, O, S-Chemical, B-Chemical, I-Chemical, E-Chemical, <START>, <STOP>\n",
            "2022-11-12 05:52:59,480 loading file /root/.flair/models/hunflair-disease-full-v1.0.pt\n",
            "2022-11-12 05:53:11,553 SequenceTagger predicts: Dictionary with 8 tags: <unk>, O, B-Disease, E-Disease, I-Disease, S-Disease, <START>, <STOP>\n",
            "2022-11-12 05:53:12,187 loading file /root/.flair/models/hunflair-gene-full-v1.0.pt\n",
            "2022-11-12 05:53:24,718 SequenceTagger predicts: Dictionary with 8 tags: <unk>, O, S-Gene, B-Gene, I-Gene, E-Gene, <START>, <STOP>\n",
            "2022-11-12 05:53:25,086 loading file /root/.flair/models/hunflair-species-full-v1.1.pt\n",
            "2022-11-12 05:53:35,603 SequenceTagger predicts: Dictionary with 8 tags: <unk>, O, S-Species, B-Species, I-Species, E-Species, <START>, <STOP>\n"
          ]
        }
      ]
    },
    {
      "cell_type": "markdown",
      "source": [
        "All you need to do is use the predict() method of the tagger on a sentence. This will add predicted tags to the tokens in the sentence. Lets use a sentence with four named entities:"
      ],
      "metadata": {
        "id": "p66yR4_YVso-"
      }
    },
    {
      "cell_type": "code",
      "source": [
        "from flair.data import Sentence\n",
        "\n",
        "sentence = Sentence(\"Behavioral abnormalities in the Fmr1 KO2 MOuse Model of Fragile X Syndrome\")\n",
        "\n",
        "# predict NER tags\n",
        "tagger.predict(sentence)\n",
        "\n",
        "# print sentence with predicted tags\n",
        "print(sentence.to_tagged_string())"
      ],
      "metadata": {
        "colab": {
          "base_uri": "https://localhost:8080/"
        },
        "id": "5hr4brlNVigj",
        "outputId": "092d6579-c9f9-4659-a09b-6638458d9c11"
      },
      "execution_count": 3,
      "outputs": [
        {
          "output_type": "stream",
          "name": "stderr",
          "text": [
            "WARNING:root:We recommend to use SciSpaCy for tokenization and sentence splitting if HunFlair is applied to biomedical text, e.g.\n",
            "\n",
            "from flair.tokenization import SciSpacySentenceSplitter\n",
            "sentence = Sentence('Your biomed text', use_tokenizer=SciSpacySentenceSplitter())\n",
            "\n"
          ]
        },
        {
          "output_type": "stream",
          "name": "stdout",
          "text": [
            "Sentence: \"Behavioral abnormalities in the Fmr1 KO2 MOuse Model of Fragile X Syndrome\" → [\"Behavioral abnormalities\"/Disease, \"Fmr1\"/Gene, \"MOuse\"/Species, \"Fragile X Syndrome\"/Disease]\n"
          ]
        }
      ]
    },
    {
      "cell_type": "markdown",
      "source": [
        "The output contains the words of the original text extended by tags indicating whether the word is the beginning (B), inside (I) or end (E) of an entity. For example, \"Fragil\" is the first word of the disease \"Fragil X Syndrom\". Entities consisting of just one word are marked with a special single tag (S). For example, \"Mouse\" refers to a species entity.\n",
        "\n",
        "#### Getting Annotated Spans\n",
        "\n",
        "Often named entities consist of multiple words spanning a certain text span in the input text, such as \"Behavioral Abnormalities\" or \"Fragile X Syndrome\" in our example sentence. You can directly get such spans in a tagged sentence like this:"
      ],
      "metadata": {
        "id": "IMMVV094WIEI"
      }
    },
    {
      "cell_type": "code",
      "source": [
        "for disease in sentence.get_spans(\"hunflair-disease\"):\n",
        "    print(disease)"
      ],
      "metadata": {
        "colab": {
          "base_uri": "https://localhost:8080/"
        },
        "id": "GkIVMk9OWAQN",
        "outputId": "2e655859-f850-4110-80bb-9c881fbfd483"
      },
      "execution_count": 4,
      "outputs": [
        {
          "output_type": "stream",
          "name": "stdout",
          "text": [
            "Span[0:2]: \"Behavioral abnormalities\" → Disease (0.6723)\n",
            "Span[9:12]: \"Fragile X Syndrome\" → Disease (0.99)\n"
          ]
        }
      ]
    },
    {
      "cell_type": "code",
      "source": [
        "for gene in sentence.get_spans(\"hunflair-gene\"):\n",
        "    print(gene)"
      ],
      "metadata": {
        "colab": {
          "base_uri": "https://localhost:8080/"
        },
        "id": "ngjIj7_LXKqT",
        "outputId": "8cf1e13f-479a-42a5-e043-d4ed156273a7"
      },
      "execution_count": 5,
      "outputs": [
        {
          "output_type": "stream",
          "name": "stdout",
          "text": [
            "Span[4:5]: \"Fmr1\" → Gene (0.8459)\n"
          ]
        }
      ]
    },
    {
      "cell_type": "markdown",
      "source": [
        "Which indicates that \"Behavioral Abnormalities\" or \"Fragile X Syndrome\" are both disease. Each such Span has a text, its position in the sentence and Label with a value and a score (confidence in the prediction). You can also get additional information, such as the position offsets of each entity in the sentence by calling the to_dict() method:"
      ],
      "metadata": {
        "id": "CqBJD259W5Cq"
      }
    },
    {
      "cell_type": "code",
      "source": [
        "print(sentence.to_dict(\"hunflair-disease\"))"
      ],
      "metadata": {
        "colab": {
          "base_uri": "https://localhost:8080/"
        },
        "id": "bo2nZ4AcW3Ic",
        "outputId": "3776f95e-78c1-4d33-cae0-725570ce13c7"
      },
      "execution_count": 6,
      "outputs": [
        {
          "output_type": "stream",
          "name": "stdout",
          "text": [
            "{'text': 'Behavioral abnormalities in the Fmr1 KO2 MOuse Model of Fragile X Syndrome', 'hunflair-disease': [{'value': 'Disease', 'confidence': 0.6722518503665924}, {'value': 'Disease', 'confidence': 0.9900489449501038}]}\n"
          ]
        }
      ]
    },
    {
      "cell_type": "markdown",
      "source": [
        "You can retrieve all annotated entities of the other entity types in analogous way using `hunflair-cellline` for cell lines, `hunflair-chemical` for chemicals, `hunflair-gene` for genes and proteins, and `hunflair-species` for species. To get all entities in one you can run:"
      ],
      "metadata": {
        "id": "EC1QZxroXAjc"
      }
    },
    {
      "cell_type": "code",
      "source": [
        "for annotation_layer in sentence.annotation_layers.keys():\n",
        "    for entity in sentence.get_spans(annotation_layer):\n",
        "        print(entity)"
      ],
      "metadata": {
        "colab": {
          "base_uri": "https://localhost:8080/"
        },
        "id": "L7qv4XTrW90p",
        "outputId": "36d09722-0375-4225-f5cc-fe5333eba592"
      },
      "execution_count": 7,
      "outputs": [
        {
          "output_type": "stream",
          "name": "stdout",
          "text": [
            "Span[0:2]: \"Behavioral abnormalities\" → Disease (0.6723)\n",
            "Span[9:12]: \"Fragile X Syndrome\" → Disease (0.99)\n",
            "Span[4:5]: \"Fmr1\" → Gene (0.8459)\n",
            "Span[6:7]: \"MOuse\" → Species (0.997)\n"
          ]
        }
      ]
    },
    {
      "cell_type": "markdown",
      "source": [
        "----\n",
        "\n",
        "##### Using a Biomedical Tokenizer\n",
        "Tokenization, i.e. separating a text into tokens / words, is an important issue in natural language processing in general and biomedical text mining in particular. So far, we used a tokenizer for general domain text. This can be unfavourable if applied to biomedical texts.\n",
        "\n",
        "HunFlair integrates SciSpaCy, a library specially designed to work with scientific text. To use the library we first have to install it and download one of it's models:"
      ],
      "metadata": {
        "id": "KLwqfVdXXguS"
      }
    },
    {
      "cell_type": "code",
      "source": [
        "#!pip install scispacy==0.2.5\n",
        "#!pip install https://s3-us-west-2.amazonaws.com/ai2-s2-scispacy/releases/v0.2.5/en_core_sci_sm-0.2.5.tar.gz"
      ],
      "metadata": {
        "id": "Bayt-mPAXbBB"
      },
      "execution_count": 8,
      "outputs": []
    },
    {
      "cell_type": "markdown",
      "source": [
        "To use the tokenizer we just have to pass it as parameter to when instancing a sentence:\n",
        "\n"
      ],
      "metadata": {
        "id": "9oGMxET6XqKm"
      }
    },
    {
      "cell_type": "code",
      "source": [
        "from flair.tokenization import SciSpacyTokenizer\n",
        "\n",
        "sentence = Sentence(\"Behavioral abnormalities in the Fmr1 KO2 Mouse Model of Fragile X Syndrome\",\n",
        "                    use_tokenizer=SciSpacyTokenizer())"
      ],
      "metadata": {
        "id": "wPQhyOeSXmvu"
      },
      "execution_count": 9,
      "outputs": []
    },
    {
      "cell_type": "markdown",
      "source": [
        "#### Working with longer Texts\n",
        "Often, we are concerned with complete scientific abstracts or full-texts when performing biomedical text mining, e.g."
      ],
      "metadata": {
        "id": "7FteSsMNZ4hs"
      }
    },
    {
      "cell_type": "code",
      "source": [
        "abstract = \"Fragile X syndrome (FXS) is a developmental disorder caused by a mutation in the X-linked FMR1 gene, \" \\\n",
        "           \"coding for the FMRP protein which is largely involved in synaptic function. FXS patients present several \" \\\n",
        "           \"behavioral abnormalities, including hyperactivity, anxiety, sensory hyper-responsiveness, and cognitive \" \\\n",
        "           \"deficits. Autistic symptoms, e.g., altered social interaction and communication, are also often observed: \" \\\n",
        "           \"FXS is indeed the most common monogenic cause of autism.\""
      ],
      "metadata": {
        "id": "SYxH5tpVYkkp"
      },
      "execution_count": 10,
      "outputs": []
    },
    {
      "cell_type": "markdown",
      "source": [
        "To work with complete abstracts or full-text, we first have to split them into separate sentences. Again we can apply the integration of the SciSpaCy library:"
      ],
      "metadata": {
        "id": "hezo_QxuZ8oZ"
      }
    },
    {
      "cell_type": "code",
      "source": [
        "from flair.tokenization import SciSpacySentenceSplitter\n",
        "\n",
        "# initialize the sentence splitter\n",
        "splitter = SciSpacySentenceSplitter()\n",
        "\n",
        "# split text into a list of Sentence objects\n",
        "sentences = splitter.split(abstract)\n",
        "\n",
        "# you can apply the HunFlair tagger directly to this list\n",
        "tagger.predict(sentences)"
      ],
      "metadata": {
        "id": "xgxqHG13Z6ij"
      },
      "execution_count": 11,
      "outputs": []
    },
    {
      "cell_type": "markdown",
      "source": [
        "We can access the annotations of the single sentences by just iterating over the list:\n",
        "\n"
      ],
      "metadata": {
        "id": "VID2o8MbagU7"
      }
    },
    {
      "cell_type": "code",
      "source": [
        "for sentence in sentences:\n",
        "    print(sentence.to_tagged_string())"
      ],
      "metadata": {
        "colab": {
          "base_uri": "https://localhost:8080/"
        },
        "id": "qasGs2N6adso",
        "outputId": "67e8ae88-bb91-4686-f2a1-57e44a463880"
      },
      "execution_count": 12,
      "outputs": [
        {
          "output_type": "stream",
          "name": "stdout",
          "text": [
            "Sentence: \"Fragile X syndrome ( FXS ) is a developmental disorder caused by a mutation in the X - linked FMR1 gene , coding for the FMRP protein which is largely involved in synaptic function .\" → [\"Fragile X syndrome\"/Disease, \"FXS\"/Disease, \"developmental disorder\"/Disease, \"FMR1\"/Gene, \"FMRP\"/Gene]\n",
            "Sentence: \"FXS patients present several behavioral abnormalities , including hyperactivity , anxiety , sensory hyper - responsiveness , and cognitive deficits .\" → [\"FXS\"/Disease, \"behavioral abnormalities\"/Disease, \"hyperactivity\"/Disease, \"anxiety\"/Disease, \"cognitive deficits\"/Disease]\n",
            "Sentence: \"Autistic symptoms , e.g. , altered social interaction and communication , are also often observed : FXS is indeed the most common monogenic cause of autism .\" → [\"Autistic symptoms\"/Disease, \"FXS\"/Disease, \"autism\"/Disease]\n"
          ]
        }
      ]
    },
    {
      "cell_type": "markdown",
      "source": [
        "Reference: https://github.com/flairNLP/flair/blob/master/resources/docs/HUNFLAIR_TUTORIAL_1_TAGGING.md"
      ],
      "metadata": {
        "id": "oXOsAyuUapaD"
      }
    }
  ]
}