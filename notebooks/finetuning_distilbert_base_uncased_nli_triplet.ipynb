{
  "nbformat": 4,
  "nbformat_minor": 0,
  "metadata": {
    "colab": {
      "provenance": [],
      "gpuType": "T4",
      "authorship_tag": "ABX9TyMSbg49UEnADhWuA0WtuVaY",
      "include_colab_link": true
    },
    "kernelspec": {
      "name": "python3",
      "display_name": "Python 3"
    },
    "language_info": {
      "name": "python"
    },
    "accelerator": "GPU",
    "widgets": {
      "application/vnd.jupyter.widget-state+json": {
        "91121288337a473299e6afca7ce9d303": {
          "model_module": "@jupyter-widgets/controls",
          "model_name": "HBoxModel",
          "model_module_version": "1.5.0",
          "state": {
            "_dom_classes": [],
            "_model_module": "@jupyter-widgets/controls",
            "_model_module_version": "1.5.0",
            "_model_name": "HBoxModel",
            "_view_count": null,
            "_view_module": "@jupyter-widgets/controls",
            "_view_module_version": "1.5.0",
            "_view_name": "HBoxView",
            "box_style": "",
            "children": [
              "IPY_MODEL_2aab64361f754f4d9b5ba562ee91e0c7",
              "IPY_MODEL_f366b56ce0cf474d9057a5a1a720da7a",
              "IPY_MODEL_47bbbf80dcae47bc8db082ed441420de"
            ],
            "layout": "IPY_MODEL_1d3d57b4d3b64c2a9714cada3076395a"
          }
        },
        "2aab64361f754f4d9b5ba562ee91e0c7": {
          "model_module": "@jupyter-widgets/controls",
          "model_name": "HTMLModel",
          "model_module_version": "1.5.0",
          "state": {
            "_dom_classes": [],
            "_model_module": "@jupyter-widgets/controls",
            "_model_module_version": "1.5.0",
            "_model_name": "HTMLModel",
            "_view_count": null,
            "_view_module": "@jupyter-widgets/controls",
            "_view_module_version": "1.5.0",
            "_view_name": "HTMLView",
            "description": "",
            "description_tooltip": null,
            "layout": "IPY_MODEL_085bf50f97964ea3a86189fbe9cbaa24",
            "placeholder": "​",
            "style": "IPY_MODEL_85adfd5c70f8472792cdce39d8ba33c4",
            "value": "Computing widget examples: 100%"
          }
        },
        "f366b56ce0cf474d9057a5a1a720da7a": {
          "model_module": "@jupyter-widgets/controls",
          "model_name": "FloatProgressModel",
          "model_module_version": "1.5.0",
          "state": {
            "_dom_classes": [],
            "_model_module": "@jupyter-widgets/controls",
            "_model_module_version": "1.5.0",
            "_model_name": "FloatProgressModel",
            "_view_count": null,
            "_view_module": "@jupyter-widgets/controls",
            "_view_module_version": "1.5.0",
            "_view_name": "ProgressView",
            "bar_style": "",
            "description": "",
            "description_tooltip": null,
            "layout": "IPY_MODEL_61a4de3b8fbd4e3aae667c99024f2371",
            "max": 1,
            "min": 0,
            "orientation": "horizontal",
            "style": "IPY_MODEL_b2d819d0cd244c808d0ec094fd79fa08",
            "value": 1
          }
        },
        "47bbbf80dcae47bc8db082ed441420de": {
          "model_module": "@jupyter-widgets/controls",
          "model_name": "HTMLModel",
          "model_module_version": "1.5.0",
          "state": {
            "_dom_classes": [],
            "_model_module": "@jupyter-widgets/controls",
            "_model_module_version": "1.5.0",
            "_model_name": "HTMLModel",
            "_view_count": null,
            "_view_module": "@jupyter-widgets/controls",
            "_view_module_version": "1.5.0",
            "_view_name": "HTMLView",
            "description": "",
            "description_tooltip": null,
            "layout": "IPY_MODEL_0ea79f50a4084b29909c0db94d569b18",
            "placeholder": "​",
            "style": "IPY_MODEL_d702f27b858645048e4fafda5b8ea970",
            "value": " 1/1 [00:00&lt;00:00,  9.06example/s]"
          }
        },
        "1d3d57b4d3b64c2a9714cada3076395a": {
          "model_module": "@jupyter-widgets/base",
          "model_name": "LayoutModel",
          "model_module_version": "1.2.0",
          "state": {
            "_model_module": "@jupyter-widgets/base",
            "_model_module_version": "1.2.0",
            "_model_name": "LayoutModel",
            "_view_count": null,
            "_view_module": "@jupyter-widgets/base",
            "_view_module_version": "1.2.0",
            "_view_name": "LayoutView",
            "align_content": null,
            "align_items": null,
            "align_self": null,
            "border": null,
            "bottom": null,
            "display": null,
            "flex": null,
            "flex_flow": null,
            "grid_area": null,
            "grid_auto_columns": null,
            "grid_auto_flow": null,
            "grid_auto_rows": null,
            "grid_column": null,
            "grid_gap": null,
            "grid_row": null,
            "grid_template_areas": null,
            "grid_template_columns": null,
            "grid_template_rows": null,
            "height": null,
            "justify_content": null,
            "justify_items": null,
            "left": null,
            "margin": null,
            "max_height": null,
            "max_width": null,
            "min_height": null,
            "min_width": null,
            "object_fit": null,
            "object_position": null,
            "order": null,
            "overflow": null,
            "overflow_x": null,
            "overflow_y": null,
            "padding": null,
            "right": null,
            "top": null,
            "visibility": "hidden",
            "width": null
          }
        },
        "085bf50f97964ea3a86189fbe9cbaa24": {
          "model_module": "@jupyter-widgets/base",
          "model_name": "LayoutModel",
          "model_module_version": "1.2.0",
          "state": {
            "_model_module": "@jupyter-widgets/base",
            "_model_module_version": "1.2.0",
            "_model_name": "LayoutModel",
            "_view_count": null,
            "_view_module": "@jupyter-widgets/base",
            "_view_module_version": "1.2.0",
            "_view_name": "LayoutView",
            "align_content": null,
            "align_items": null,
            "align_self": null,
            "border": null,
            "bottom": null,
            "display": null,
            "flex": null,
            "flex_flow": null,
            "grid_area": null,
            "grid_auto_columns": null,
            "grid_auto_flow": null,
            "grid_auto_rows": null,
            "grid_column": null,
            "grid_gap": null,
            "grid_row": null,
            "grid_template_areas": null,
            "grid_template_columns": null,
            "grid_template_rows": null,
            "height": null,
            "justify_content": null,
            "justify_items": null,
            "left": null,
            "margin": null,
            "max_height": null,
            "max_width": null,
            "min_height": null,
            "min_width": null,
            "object_fit": null,
            "object_position": null,
            "order": null,
            "overflow": null,
            "overflow_x": null,
            "overflow_y": null,
            "padding": null,
            "right": null,
            "top": null,
            "visibility": null,
            "width": null
          }
        },
        "85adfd5c70f8472792cdce39d8ba33c4": {
          "model_module": "@jupyter-widgets/controls",
          "model_name": "DescriptionStyleModel",
          "model_module_version": "1.5.0",
          "state": {
            "_model_module": "@jupyter-widgets/controls",
            "_model_module_version": "1.5.0",
            "_model_name": "DescriptionStyleModel",
            "_view_count": null,
            "_view_module": "@jupyter-widgets/base",
            "_view_module_version": "1.2.0",
            "_view_name": "StyleView",
            "description_width": ""
          }
        },
        "61a4de3b8fbd4e3aae667c99024f2371": {
          "model_module": "@jupyter-widgets/base",
          "model_name": "LayoutModel",
          "model_module_version": "1.2.0",
          "state": {
            "_model_module": "@jupyter-widgets/base",
            "_model_module_version": "1.2.0",
            "_model_name": "LayoutModel",
            "_view_count": null,
            "_view_module": "@jupyter-widgets/base",
            "_view_module_version": "1.2.0",
            "_view_name": "LayoutView",
            "align_content": null,
            "align_items": null,
            "align_self": null,
            "border": null,
            "bottom": null,
            "display": null,
            "flex": null,
            "flex_flow": null,
            "grid_area": null,
            "grid_auto_columns": null,
            "grid_auto_flow": null,
            "grid_auto_rows": null,
            "grid_column": null,
            "grid_gap": null,
            "grid_row": null,
            "grid_template_areas": null,
            "grid_template_columns": null,
            "grid_template_rows": null,
            "height": null,
            "justify_content": null,
            "justify_items": null,
            "left": null,
            "margin": null,
            "max_height": null,
            "max_width": null,
            "min_height": null,
            "min_width": null,
            "object_fit": null,
            "object_position": null,
            "order": null,
            "overflow": null,
            "overflow_x": null,
            "overflow_y": null,
            "padding": null,
            "right": null,
            "top": null,
            "visibility": null,
            "width": null
          }
        },
        "b2d819d0cd244c808d0ec094fd79fa08": {
          "model_module": "@jupyter-widgets/controls",
          "model_name": "ProgressStyleModel",
          "model_module_version": "1.5.0",
          "state": {
            "_model_module": "@jupyter-widgets/controls",
            "_model_module_version": "1.5.0",
            "_model_name": "ProgressStyleModel",
            "_view_count": null,
            "_view_module": "@jupyter-widgets/base",
            "_view_module_version": "1.2.0",
            "_view_name": "StyleView",
            "bar_color": null,
            "description_width": ""
          }
        },
        "0ea79f50a4084b29909c0db94d569b18": {
          "model_module": "@jupyter-widgets/base",
          "model_name": "LayoutModel",
          "model_module_version": "1.2.0",
          "state": {
            "_model_module": "@jupyter-widgets/base",
            "_model_module_version": "1.2.0",
            "_model_name": "LayoutModel",
            "_view_count": null,
            "_view_module": "@jupyter-widgets/base",
            "_view_module_version": "1.2.0",
            "_view_name": "LayoutView",
            "align_content": null,
            "align_items": null,
            "align_self": null,
            "border": null,
            "bottom": null,
            "display": null,
            "flex": null,
            "flex_flow": null,
            "grid_area": null,
            "grid_auto_columns": null,
            "grid_auto_flow": null,
            "grid_auto_rows": null,
            "grid_column": null,
            "grid_gap": null,
            "grid_row": null,
            "grid_template_areas": null,
            "grid_template_columns": null,
            "grid_template_rows": null,
            "height": null,
            "justify_content": null,
            "justify_items": null,
            "left": null,
            "margin": null,
            "max_height": null,
            "max_width": null,
            "min_height": null,
            "min_width": null,
            "object_fit": null,
            "object_position": null,
            "order": null,
            "overflow": null,
            "overflow_x": null,
            "overflow_y": null,
            "padding": null,
            "right": null,
            "top": null,
            "visibility": null,
            "width": null
          }
        },
        "d702f27b858645048e4fafda5b8ea970": {
          "model_module": "@jupyter-widgets/controls",
          "model_name": "DescriptionStyleModel",
          "model_module_version": "1.5.0",
          "state": {
            "_model_module": "@jupyter-widgets/controls",
            "_model_module_version": "1.5.0",
            "_model_name": "DescriptionStyleModel",
            "_view_count": null,
            "_view_module": "@jupyter-widgets/base",
            "_view_module_version": "1.2.0",
            "_view_name": "StyleView",
            "description_width": ""
          }
        }
      }
    }
  },
  "cells": [
    {
      "cell_type": "markdown",
      "metadata": {
        "id": "view-in-github",
        "colab_type": "text"
      },
      "source": [
        "<a href=\"https://colab.research.google.com/github/LxYuan0420/nlp/blob/main/notebooks/finetuning_distilbert_base_uncased_nli_triplet.ipynb\" target=\"_parent\"><img src=\"https://colab.research.google.com/assets/colab-badge.svg\" alt=\"Open In Colab\"/></a>"
      ]
    },
    {
      "cell_type": "code",
      "source": [
        "#!pip install -q datasets sentence-transformers\n",
        "#!pip install accelerate -U"
      ],
      "metadata": {
        "id": "uFFvUGyXe9A0"
      },
      "execution_count": null,
      "outputs": []
    },
    {
      "cell_type": "code",
      "execution_count": 1,
      "metadata": {
        "id": "ETawPOVscJaL"
      },
      "outputs": [],
      "source": [
        "from datasets import load_dataset\n",
        "from sentence_transformers import (\n",
        "    SentenceTransformer,\n",
        "    SentenceTransformerTrainer,\n",
        "    SentenceTransformerTrainingArguments,\n",
        "    SentenceTransformerModelCardData,\n",
        ")\n",
        "from sentence_transformers.losses import MultipleNegativesRankingLoss\n",
        "from sentence_transformers.training_args import BatchSamplers\n",
        "from sentence_transformers.evaluation import TripletEvaluator"
      ]
    },
    {
      "cell_type": "code",
      "source": [
        "# 1. Load a model to finetune with 2. (Optional) model card data\n",
        "model = SentenceTransformer(\n",
        "    \"distilbert/distilbert-base-uncased\",\n",
        "    model_card_data=SentenceTransformerModelCardData(\n",
        "        language=\"en\",\n",
        "        license=\"apache-2.0\",\n",
        "        model_name=\"Distillbert base uncased model trained on AllNLI triplets\",\n",
        "    )\n",
        ")"
      ],
      "metadata": {
        "colab": {
          "base_uri": "https://localhost:8080/"
        },
        "id": "VZBwlivvelMm",
        "outputId": "235c1bdb-395e-4839-9f48-d01492673de1"
      },
      "execution_count": 2,
      "outputs": [
        {
          "output_type": "stream",
          "name": "stderr",
          "text": [
            "WARNING:sentence_transformers.SentenceTransformer:No sentence-transformers model found with name distilbert/distilbert-base-uncased. Creating a new one with mean pooling.\n",
            "/usr/local/lib/python3.10/dist-packages/huggingface_hub/file_download.py:1132: FutureWarning: `resume_download` is deprecated and will be removed in version 1.0.0. Downloads always resume when possible. If you want to force a new download, use `force_download=True`.\n",
            "  warnings.warn(\n"
          ]
        }
      ]
    },
    {
      "cell_type": "code",
      "source": [
        "# 2. Load a dataset to finetune on\n",
        "dataset = load_dataset(\"sentence-transformers/all-nli\", \"triplet\")\n",
        "train_dataset = dataset[\"train\"].select(range(150000))\n",
        "eval_dataset = dataset[\"dev\"]\n",
        "test_dataset = dataset[\"test\"]"
      ],
      "metadata": {
        "id": "Fr4NjaI3fKLG"
      },
      "execution_count": 3,
      "outputs": []
    },
    {
      "cell_type": "code",
      "source": [
        "# 3. define a lose function\n",
        "loss = MultipleNegativesRankingLoss(model)"
      ],
      "metadata": {
        "id": "WGKH6Gwkffme"
      },
      "execution_count": 4,
      "outputs": []
    },
    {
      "cell_type": "code",
      "source": [
        "# 4. Specifc training arguments\n",
        "args = SentenceTransformerTrainingArguments(\n",
        "    # Required parameter:\n",
        "    output_dir=\"models/distilbert-base-uncased-nli-triplet\",\n",
        "    # Optional training parameters:\n",
        "    num_train_epochs=1,\n",
        "    per_device_train_batch_size=64,\n",
        "    per_device_eval_batch_size=16,\n",
        "    learning_rate=2e-5,\n",
        "    warmup_ratio=0.1,\n",
        "    fp16=True,  # Set to False if you get an error that your GPU can't run on FP16\n",
        "    bf16=False,  # Set to True if you have a GPU that supports BF16\n",
        "    batch_sampler=BatchSamplers.NO_DUPLICATES,  # MultipleNegativesRankingLoss benefits from no duplicate samples in a batch\n",
        "    # Optional tracking/debugging parameters:\n",
        "    eval_strategy=\"epoch\",\n",
        "    save_strategy=\"epoch\",\n",
        "    save_total_limit=2,\n",
        "    logging_strategy=\"epoch\",\n",
        "    #run_name=\"distilbert-base-uncased-nli-triplet\",  # Will be used in W&B if `wandb` is installed\n",
        ")"
      ],
      "metadata": {
        "id": "RaTRylQ0ft31"
      },
      "execution_count": 5,
      "outputs": []
    },
    {
      "cell_type": "code",
      "source": [
        "#5 Create an evaluator % evaluate the base model\n",
        "dev_evaluator = TripletEvaluator(\n",
        "    anchors=eval_dataset[\"anchor\"],\n",
        "    positives=eval_dataset[\"positive\"],\n",
        "    negatives=eval_dataset[\"negative\"],\n",
        "    batch_size=16,\n",
        "    name=\"distilbert-base-uncased-nli-triplet-dev\",\n",
        ")\n",
        "\n",
        "dev_evaluator(model)"
      ],
      "metadata": {
        "colab": {
          "base_uri": "https://localhost:8080/"
        },
        "id": "4-AsOVAKgLcx",
        "outputId": "61ca4558-eccd-4b11-9af3-1912cd6fa000"
      },
      "execution_count": 6,
      "outputs": [
        {
          "output_type": "execute_result",
          "data": {
            "text/plain": [
              "{'distilbert-base-uncased-nli-triplet-dev_cosine_accuracy': 0.712636695018226,\n",
              " 'distilbert-base-uncased-nli-triplet-dev_dot_accuracy': 0.34234507897934385,\n",
              " 'distilbert-base-uncased-nli-triplet-dev_manhattan_accuracy': 0.714003645200486,\n",
              " 'distilbert-base-uncased-nli-triplet-dev_euclidean_accuracy': 0.7088396111786148,\n",
              " 'distilbert-base-uncased-nli-triplet-dev_max_accuracy': 0.714003645200486}"
            ]
          },
          "metadata": {},
          "execution_count": 6
        }
      ]
    },
    {
      "cell_type": "code",
      "source": [
        "# 6. Create a trainer & train\n",
        "trainer = SentenceTransformerTrainer(\n",
        "    model=model,\n",
        "    args=args,\n",
        "    train_dataset=train_dataset,\n",
        "    eval_dataset=eval_dataset,\n",
        "    loss=loss,\n",
        "    evaluator=dev_evaluator,\n",
        ")\n",
        "\n",
        "trainer.train()"
      ],
      "metadata": {
        "colab": {
          "base_uri": "https://localhost:8080/",
          "height": 228,
          "referenced_widgets": [
            "91121288337a473299e6afca7ce9d303",
            "2aab64361f754f4d9b5ba562ee91e0c7",
            "f366b56ce0cf474d9057a5a1a720da7a",
            "47bbbf80dcae47bc8db082ed441420de",
            "1d3d57b4d3b64c2a9714cada3076395a",
            "085bf50f97964ea3a86189fbe9cbaa24",
            "85adfd5c70f8472792cdce39d8ba33c4",
            "61a4de3b8fbd4e3aae667c99024f2371",
            "b2d819d0cd244c808d0ec094fd79fa08",
            "0ea79f50a4084b29909c0db94d569b18",
            "d702f27b858645048e4fafda5b8ea970"
          ]
        },
        "id": "CGEB97EdhRow",
        "outputId": "d515a00a-0f60-4664-979e-a94479d22593"
      },
      "execution_count": 7,
      "outputs": [
        {
          "output_type": "display_data",
          "data": {
            "text/plain": [
              "<IPython.core.display.HTML object>"
            ],
            "text/html": [
              "\n",
              "    <div>\n",
              "      \n",
              "      <progress value='2344' max='2344' style='width:300px; height:20px; vertical-align: middle;'></progress>\n",
              "      [2344/2344 39:24, Epoch 1/1]\n",
              "    </div>\n",
              "    <table border=\"1\" class=\"dataframe\">\n",
              "  <thead>\n",
              " <tr style=\"text-align: left;\">\n",
              "      <th>Epoch</th>\n",
              "      <th>Training Loss</th>\n",
              "      <th>Validation Loss</th>\n",
              "      <th>Distilbert-base-uncased-nli-triplet-dev Cosine Accuracy</th>\n",
              "      <th>Distilbert-base-uncased-nli-triplet-dev Dot Accuracy</th>\n",
              "      <th>Distilbert-base-uncased-nli-triplet-dev Manhattan Accuracy</th>\n",
              "      <th>Distilbert-base-uncased-nli-triplet-dev Euclidean Accuracy</th>\n",
              "      <th>Distilbert-base-uncased-nli-triplet-dev Max Accuracy</th>\n",
              "    </tr>\n",
              "  </thead>\n",
              "  <tbody>\n",
              "    <tr>\n",
              "      <td>1</td>\n",
              "      <td>1.265000</td>\n",
              "      <td>0.643917</td>\n",
              "      <td>0.903098</td>\n",
              "      <td>0.110723</td>\n",
              "      <td>0.900213</td>\n",
              "      <td>0.900972</td>\n",
              "      <td>0.903098</td>\n",
              "    </tr>\n",
              "  </tbody>\n",
              "</table><p>"
            ]
          },
          "metadata": {}
        },
        {
          "output_type": "display_data",
          "data": {
            "text/plain": [
              "Computing widget examples:   0%|          | 0/1 [00:00<?, ?example/s]"
            ],
            "application/vnd.jupyter.widget-view+json": {
              "version_major": 2,
              "version_minor": 0,
              "model_id": "91121288337a473299e6afca7ce9d303"
            }
          },
          "metadata": {}
        },
        {
          "output_type": "execute_result",
          "data": {
            "text/plain": [
              "TrainOutput(global_step=2344, training_loss=1.2650227725709258, metrics={'train_runtime': 2364.6432, 'train_samples_per_second': 63.435, 'train_steps_per_second': 0.991, 'total_flos': 0.0, 'train_loss': 1.2650227725709258, 'epoch': 1.0})"
            ]
          },
          "metadata": {},
          "execution_count": 7
        }
      ]
    },
    {
      "cell_type": "code",
      "source": [
        "# 7. check the finetuned model on dev set\n",
        "dev_evaluator(model)"
      ],
      "metadata": {
        "colab": {
          "base_uri": "https://localhost:8080/"
        },
        "id": "caSJg46nhs_h",
        "outputId": "12426ff3-826e-485c-bcb1-7088f36f4ea2"
      },
      "execution_count": 8,
      "outputs": [
        {
          "output_type": "execute_result",
          "data": {
            "text/plain": [
              "{'distilbert-base-uncased-nli-triplet-dev_cosine_accuracy': 0.9030984204131227,\n",
              " 'distilbert-base-uncased-nli-triplet-dev_dot_accuracy': 0.11072296476306197,\n",
              " 'distilbert-base-uncased-nli-triplet-dev_manhattan_accuracy': 0.9002126366950183,\n",
              " 'distilbert-base-uncased-nli-triplet-dev_euclidean_accuracy': 0.9009720534629405,\n",
              " 'distilbert-base-uncased-nli-triplet-dev_max_accuracy': 0.9030984204131227}"
            ]
          },
          "metadata": {},
          "execution_count": 8
        }
      ]
    },
    {
      "cell_type": "code",
      "source": [
        "# 8. check the trained model on test set\n",
        "test_evaluator = TripletEvaluator(\n",
        "    anchors=test_dataset[\"anchor\"],\n",
        "    positives=test_dataset[\"positive\"],\n",
        "    negatives=test_dataset[\"negative\"],\n",
        "    name=\"distilbert-base-uncased-nli-triplet-test\",\n",
        ")\n",
        "\n",
        "test_evaluator(model)"
      ],
      "metadata": {
        "colab": {
          "base_uri": "https://localhost:8080/"
        },
        "id": "j82G0VpThx0N",
        "outputId": "664947f0-e16f-42e0-9024-33cee2bb154b"
      },
      "execution_count": 9,
      "outputs": [
        {
          "output_type": "execute_result",
          "data": {
            "text/plain": [
              "{'distilbert-base-uncased-nli-triplet-test_cosine_accuracy': 0.9129974277500378,\n",
              " 'distilbert-base-uncased-nli-triplet-test_dot_accuracy': 0.10379785141473748,\n",
              " 'distilbert-base-uncased-nli-triplet-test_manhattan_accuracy': 0.911484339536995,\n",
              " 'distilbert-base-uncased-nli-triplet-test_euclidean_accuracy': 0.9105764866091693,\n",
              " 'distilbert-base-uncased-nli-triplet-test_max_accuracy': 0.9129974277500378}"
            ]
          },
          "metadata": {},
          "execution_count": 9
        }
      ]
    },
    {
      "cell_type": "code",
      "source": [],
      "metadata": {
        "id": "dP7VDwnth7Wx"
      },
      "execution_count": null,
      "outputs": []
    }
  ]
}