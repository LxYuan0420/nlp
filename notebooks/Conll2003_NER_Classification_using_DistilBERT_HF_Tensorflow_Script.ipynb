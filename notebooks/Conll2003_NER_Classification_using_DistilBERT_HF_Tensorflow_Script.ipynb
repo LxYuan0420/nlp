{
  "nbformat": 4,
  "nbformat_minor": 0,
  "metadata": {
    "colab": {
      "name": "Conll2003 NER Classification using DistilBERT HF Tensorflow Script.ipynb",
      "provenance": [],
      "collapsed_sections": []
    },
    "kernelspec": {
      "name": "python3",
      "display_name": "Python 3"
    },
    "language_info": {
      "name": "python"
    },
    "accelerator": "GPU"
  },
  "cells": [
    {
      "cell_type": "markdown",
      "metadata": {
        "id": "O21tI9CjAXIc"
      },
      "source": [
        "### 0. Install and load library"
      ]
    },
    {
      "cell_type": "code",
      "metadata": {
        "id": "FyZGa3XuFX96"
      },
      "source": [
        "#Restart kernel after installation: Runtime -> Restart runtime\n",
        "\n",
        "#!pip install -U sentencepiece datasets\n",
        "#!pip install -U transformers sentencepiece datasets, seqeval"
      ],
      "execution_count": null,
      "outputs": []
    },
    {
      "cell_type": "code",
      "metadata": {
        "id": "HIcCT1VkqhlO"
      },
      "source": [
        "import transformers"
      ],
      "execution_count": 2,
      "outputs": []
    },
    {
      "cell_type": "markdown",
      "metadata": {
        "id": "t6_HQ2yqlCDA"
      },
      "source": [
        "### 1. Fine-tuning DistillBERT model on CONLL2003 NER dataset."
      ]
    },
    {
      "cell_type": "code",
      "metadata": {
        "colab": {
          "base_uri": "https://localhost:8080/"
        },
        "id": "OYP1WvLnoQAl",
        "outputId": "9103a37a-4c92-45e7-a156-f808817d0c78"
      },
      "source": [
        "!wget https://raw.githubusercontent.com/huggingface/transformers/master/examples/tensorflow/token_classification/run_ner.py "
      ],
      "execution_count": 1,
      "outputs": [
        {
          "output_type": "stream",
          "text": [
            "--2021-07-10 04:25:33--  https://raw.githubusercontent.com/huggingface/transformers/master/examples/tensorflow/token_classification/run_ner.py\n",
            "Resolving raw.githubusercontent.com (raw.githubusercontent.com)... 185.199.108.133, 185.199.109.133, 185.199.110.133, ...\n",
            "Connecting to raw.githubusercontent.com (raw.githubusercontent.com)|185.199.108.133|:443... connected.\n",
            "HTTP request sent, awaiting response... 200 OK\n",
            "Length: 22263 (22K) [text/plain]\n",
            "Saving to: ‘run_ner.py’\n",
            "\n",
            "\rrun_ner.py            0%[                    ]       0  --.-KB/s               \rrun_ner.py          100%[===================>]  21.74K  --.-KB/s    in 0s      \n",
            "\n",
            "2021-07-10 04:25:33 (112 MB/s) - ‘run_ner.py’ saved [22263/22263]\n",
            "\n"
          ],
          "name": "stdout"
        }
      ]
    },
    {
      "cell_type": "code",
      "metadata": {
        "colab": {
          "base_uri": "https://localhost:8080/"
        },
        "id": "CP_E2Z9FDkcR",
        "outputId": "11d55197-2474-47b4-a004-dd1f0395b36c"
      },
      "source": [
        "!python /content/run_ner.py \\\n",
        "  --model_name_or_path distilbert-base-cased \\\n",
        "  --label_all_tokens True \\\n",
        "  --return_entity_level_metrics True \\\n",
        "  --dataset_name conll2003 \\\n",
        "  --output_dir /tmp/distilbert-base-cased-finetuned-conll03-english_tf \\\n",
        "  --do_train \\\n",
        "  --do_eval \\\n",
        "  --do_predict \\\n",
        "  --evaluation_strategy epoch \\\n",
        "  --save_strategy epoch \\\n",
        "  --logging_strategy epoch "
      ],
      "execution_count": 6,
      "outputs": [
        {
          "output_type": "stream",
          "text": [
            "2021-07-10 04:29:24.864148: I tensorflow/stream_executor/platform/default/dso_loader.cc:53] Successfully opened dynamic library libcudart.so.11.0\n",
            "Reusing dataset conll2003 (/root/.cache/huggingface/datasets/conll2003/conll2003/1.0.0/40e7cb6bcc374f7c349c83acd1e9352a4f09474eb691f64f364ee62eb65d0ca6)\n",
            "loading configuration file https://huggingface.co/distilbert-base-cased/resolve/main/config.json from cache at /root/.cache/huggingface/transformers/ebe1ea24d11aa664488b8de5b21e33989008ca78f207d4e30ec6350b693f073f.302bfd1b5e031cc1b17796e0b6e5b242ba2045d31d00f97589e12b458ebff27a\n",
            "Model config DistilBertConfig {\n",
            "  \"activation\": \"gelu\",\n",
            "  \"attention_dropout\": 0.1,\n",
            "  \"dim\": 768,\n",
            "  \"dropout\": 0.1,\n",
            "  \"hidden_dim\": 3072,\n",
            "  \"id2label\": {\n",
            "    \"0\": \"LABEL_0\",\n",
            "    \"1\": \"LABEL_1\",\n",
            "    \"2\": \"LABEL_2\",\n",
            "    \"3\": \"LABEL_3\",\n",
            "    \"4\": \"LABEL_4\",\n",
            "    \"5\": \"LABEL_5\",\n",
            "    \"6\": \"LABEL_6\",\n",
            "    \"7\": \"LABEL_7\",\n",
            "    \"8\": \"LABEL_8\"\n",
            "  },\n",
            "  \"initializer_range\": 0.02,\n",
            "  \"label2id\": {\n",
            "    \"LABEL_0\": 0,\n",
            "    \"LABEL_1\": 1,\n",
            "    \"LABEL_2\": 2,\n",
            "    \"LABEL_3\": 3,\n",
            "    \"LABEL_4\": 4,\n",
            "    \"LABEL_5\": 5,\n",
            "    \"LABEL_6\": 6,\n",
            "    \"LABEL_7\": 7,\n",
            "    \"LABEL_8\": 8\n",
            "  },\n",
            "  \"max_position_embeddings\": 512,\n",
            "  \"model_type\": \"distilbert\",\n",
            "  \"n_heads\": 12,\n",
            "  \"n_layers\": 6,\n",
            "  \"output_past\": true,\n",
            "  \"pad_token_id\": 0,\n",
            "  \"qa_dropout\": 0.1,\n",
            "  \"seq_classif_dropout\": 0.2,\n",
            "  \"sinusoidal_pos_embds\": false,\n",
            "  \"tie_weights_\": true,\n",
            "  \"transformers_version\": \"4.8.2\",\n",
            "  \"vocab_size\": 28996\n",
            "}\n",
            "\n",
            "loading configuration file https://huggingface.co/distilbert-base-cased/resolve/main/config.json from cache at /root/.cache/huggingface/transformers/ebe1ea24d11aa664488b8de5b21e33989008ca78f207d4e30ec6350b693f073f.302bfd1b5e031cc1b17796e0b6e5b242ba2045d31d00f97589e12b458ebff27a\n",
            "Model config DistilBertConfig {\n",
            "  \"activation\": \"gelu\",\n",
            "  \"attention_dropout\": 0.1,\n",
            "  \"dim\": 768,\n",
            "  \"dropout\": 0.1,\n",
            "  \"hidden_dim\": 3072,\n",
            "  \"initializer_range\": 0.02,\n",
            "  \"max_position_embeddings\": 512,\n",
            "  \"model_type\": \"distilbert\",\n",
            "  \"n_heads\": 12,\n",
            "  \"n_layers\": 6,\n",
            "  \"output_past\": true,\n",
            "  \"pad_token_id\": 0,\n",
            "  \"qa_dropout\": 0.1,\n",
            "  \"seq_classif_dropout\": 0.2,\n",
            "  \"sinusoidal_pos_embds\": false,\n",
            "  \"tie_weights_\": true,\n",
            "  \"transformers_version\": \"4.8.2\",\n",
            "  \"vocab_size\": 28996\n",
            "}\n",
            "\n",
            "loading file https://huggingface.co/distilbert-base-cased/resolve/main/vocab.txt from cache at /root/.cache/huggingface/transformers/ba377304984dc63e3ede0e23a938bbbf04d5c3835b66d5bb48343aecca188429.437aa611e89f6fc6675a049d2b5545390adbc617e7d655286421c191d2be2791\n",
            "loading file https://huggingface.co/distilbert-base-cased/resolve/main/tokenizer.json from cache at /root/.cache/huggingface/transformers/acb5c2138c1f8c84f074b86dafce3631667fccd6efcb1a7ea1320cf75c386a36.3dab63143af66769bbb35e3811f75f7e16b2320e12b7935e216bd6159ce6d9a6\n",
            "loading file https://huggingface.co/distilbert-base-cased/resolve/main/added_tokens.json from cache at None\n",
            "loading file https://huggingface.co/distilbert-base-cased/resolve/main/special_tokens_map.json from cache at None\n",
            "loading file https://huggingface.co/distilbert-base-cased/resolve/main/tokenizer_config.json from cache at /root/.cache/huggingface/transformers/81e970e5e6ec68be12da0f8f3b2f2469c78d579282299a2ea65b4b7441719107.ec5c189f89475aac7d8cbd243960a0655cfadc3d0474da8ff2ed0bf1699c2a5f\n",
            "Loading cached processed dataset at /root/.cache/huggingface/datasets/conll2003/conll2003/1.0.0/40e7cb6bcc374f7c349c83acd1e9352a4f09474eb691f64f364ee62eb65d0ca6/cache-fbb592c214be3497.arrow\n",
            "Running tokenizer on dataset: 100% 4/4 [00:00<00:00, 10.53ba/s]\n",
            "Loading cached processed dataset at /root/.cache/huggingface/datasets/conll2003/conll2003/1.0.0/40e7cb6bcc374f7c349c83acd1e9352a4f09474eb691f64f364ee62eb65d0ca6/cache-c577d39113801abc.arrow\n",
            "Sample 10476 of the training set: {'attention_mask': [1, 1, 1, 1, 1, 1, 1, 1, 1, 1, 1, 1, 1, 1], 'input_ids': [101, 140, 11607, 19747, 2249, 11185, 21669, 13020, 18732, 2162, 9565, 14569, 2346, 102], 'labels': [-100, 3, 3, 3, 3, 3, 3, 0, 5, 5, 5, 5, 5, -100]}.\n",
            "Sample 1824 of the training set: {'attention_mask': [1, 1, 1, 1, 1, 1, 1, 1, 1, 1, 1, 1, 1, 1, 1, 1, 1, 1, 1, 1, 1, 1], 'input_ids': [101, 9269, 1114, 2733, 117, 1134, 1110, 1412, 1514, 3547, 117, 1138, 1632, 4495, 117, 107, 23209, 1732, 1918, 1163, 119, 102], 'labels': [-100, 0, 0, 5, 0, 0, 0, 0, 0, 0, 0, 0, 0, 0, 0, 0, 1, 1, 1, 0, 0, -100]}.\n",
            "Sample 409 of the training set: {'attention_mask': [1, 1, 1, 1, 1, 1, 1, 1, 1, 1, 1, 1, 1, 1, 1, 1, 1], 'input_ids': [101, 1124, 1896, 131, 107, 1409, 1185, 1141, 1455, 117, 146, 1309, 1533, 1139, 1779, 119, 102], 'labels': [-100, 0, 0, 0, 0, 0, 0, 0, 0, 0, 0, 0, 0, 0, 0, 0, -100]}.\n",
            "Tensorflow: setting up strategy\n",
            "2021-07-10 04:29:27.867792: I tensorflow/stream_executor/platform/default/dso_loader.cc:53] Successfully opened dynamic library libcuda.so.1\n",
            "2021-07-10 04:29:27.867979: I tensorflow/stream_executor/cuda/cuda_gpu_executor.cc:937] successful NUMA node read from SysFS had negative value (-1), but there must be at least one NUMA node, so returning NUMA node zero\n",
            "2021-07-10 04:29:27.868589: I tensorflow/core/common_runtime/gpu/gpu_device.cc:1733] Found device 0 with properties: \n",
            "pciBusID: 0000:00:04.0 name: Tesla T4 computeCapability: 7.5\n",
            "coreClock: 1.59GHz coreCount: 40 deviceMemorySize: 14.75GiB deviceMemoryBandwidth: 298.08GiB/s\n",
            "2021-07-10 04:29:27.868634: I tensorflow/stream_executor/platform/default/dso_loader.cc:53] Successfully opened dynamic library libcudart.so.11.0\n",
            "2021-07-10 04:29:27.870692: I tensorflow/stream_executor/platform/default/dso_loader.cc:53] Successfully opened dynamic library libcublas.so.11\n",
            "2021-07-10 04:29:27.870795: I tensorflow/stream_executor/platform/default/dso_loader.cc:53] Successfully opened dynamic library libcublasLt.so.11\n",
            "2021-07-10 04:29:27.872279: I tensorflow/stream_executor/platform/default/dso_loader.cc:53] Successfully opened dynamic library libcufft.so.10\n",
            "2021-07-10 04:29:27.872642: I tensorflow/stream_executor/platform/default/dso_loader.cc:53] Successfully opened dynamic library libcurand.so.10\n",
            "2021-07-10 04:29:27.874168: I tensorflow/stream_executor/platform/default/dso_loader.cc:53] Successfully opened dynamic library libcusolver.so.10\n",
            "2021-07-10 04:29:27.874630: I tensorflow/stream_executor/platform/default/dso_loader.cc:53] Successfully opened dynamic library libcusparse.so.11\n",
            "2021-07-10 04:29:27.874820: I tensorflow/stream_executor/platform/default/dso_loader.cc:53] Successfully opened dynamic library libcudnn.so.8\n",
            "2021-07-10 04:29:27.874926: I tensorflow/stream_executor/cuda/cuda_gpu_executor.cc:937] successful NUMA node read from SysFS had negative value (-1), but there must be at least one NUMA node, so returning NUMA node zero\n",
            "2021-07-10 04:29:27.875533: I tensorflow/stream_executor/cuda/cuda_gpu_executor.cc:937] successful NUMA node read from SysFS had negative value (-1), but there must be at least one NUMA node, so returning NUMA node zero\n",
            "2021-07-10 04:29:27.876072: I tensorflow/core/common_runtime/gpu/gpu_device.cc:1871] Adding visible gpu devices: 0\n",
            "2021-07-10 04:29:27.876759: I tensorflow/stream_executor/cuda/cuda_gpu_executor.cc:937] successful NUMA node read from SysFS had negative value (-1), but there must be at least one NUMA node, so returning NUMA node zero\n",
            "2021-07-10 04:29:27.877318: I tensorflow/core/common_runtime/gpu/gpu_device.cc:1733] Found device 0 with properties: \n",
            "pciBusID: 0000:00:04.0 name: Tesla T4 computeCapability: 7.5\n",
            "coreClock: 1.59GHz coreCount: 40 deviceMemorySize: 14.75GiB deviceMemoryBandwidth: 298.08GiB/s\n",
            "2021-07-10 04:29:27.877401: I tensorflow/stream_executor/cuda/cuda_gpu_executor.cc:937] successful NUMA node read from SysFS had negative value (-1), but there must be at least one NUMA node, so returning NUMA node zero\n",
            "2021-07-10 04:29:27.877953: I tensorflow/stream_executor/cuda/cuda_gpu_executor.cc:937] successful NUMA node read from SysFS had negative value (-1), but there must be at least one NUMA node, so returning NUMA node zero\n",
            "2021-07-10 04:29:27.878480: I tensorflow/core/common_runtime/gpu/gpu_device.cc:1871] Adding visible gpu devices: 0\n",
            "2021-07-10 04:29:27.878534: I tensorflow/stream_executor/platform/default/dso_loader.cc:53] Successfully opened dynamic library libcudart.so.11.0\n",
            "2021-07-10 04:29:28.466880: I tensorflow/core/common_runtime/gpu/gpu_device.cc:1258] Device interconnect StreamExecutor with strength 1 edge matrix:\n",
            "2021-07-10 04:29:28.466937: I tensorflow/core/common_runtime/gpu/gpu_device.cc:1264]      0 \n",
            "2021-07-10 04:29:28.466955: I tensorflow/core/common_runtime/gpu/gpu_device.cc:1277] 0:   N \n",
            "2021-07-10 04:29:28.467139: I tensorflow/stream_executor/cuda/cuda_gpu_executor.cc:937] successful NUMA node read from SysFS had negative value (-1), but there must be at least one NUMA node, so returning NUMA node zero\n",
            "2021-07-10 04:29:28.467831: I tensorflow/stream_executor/cuda/cuda_gpu_executor.cc:937] successful NUMA node read from SysFS had negative value (-1), but there must be at least one NUMA node, so returning NUMA node zero\n",
            "2021-07-10 04:29:28.468415: I tensorflow/stream_executor/cuda/cuda_gpu_executor.cc:937] successful NUMA node read from SysFS had negative value (-1), but there must be at least one NUMA node, so returning NUMA node zero\n",
            "2021-07-10 04:29:28.468918: W tensorflow/core/common_runtime/gpu/gpu_bfc_allocator.cc:39] Overriding allow_growth setting because the TF_FORCE_GPU_ALLOW_GROWTH environment variable is set. Original config value was 0.\n",
            "2021-07-10 04:29:28.468962: I tensorflow/core/common_runtime/gpu/gpu_device.cc:1418] Created TensorFlow device (/job:localhost/replica:0/task:0/device:GPU:0 with 13837 MB memory) -> physical GPU (device: 0, name: Tesla T4, pci bus id: 0000:00:04.0, compute capability: 7.5)\n",
            "loading weights file https://huggingface.co/distilbert-base-cased/resolve/main/tf_model.h5 from cache at /root/.cache/huggingface/transformers/fe773335fbb46b412a9093627b6c3235a69c55bad3bd1deee40813cd0a8d0a82.33c483181ffc4c7cbdd0b733245bcc9b479f14f3b2e892f635fe03f4f3a41495.h5\n",
            "2021-07-10 04:29:28.512953: W tensorflow/python/util/util.cc:348] Sets are not currently considered sequences, but this may change in the future, so consider avoiding using them.\n",
            "2021-07-10 04:29:28.576780: I tensorflow/stream_executor/platform/default/dso_loader.cc:53] Successfully opened dynamic library libcublas.so.11\n",
            "2021-07-10 04:29:29.073749: I tensorflow/stream_executor/platform/default/dso_loader.cc:53] Successfully opened dynamic library libcublasLt.so.11\n",
            "Some layers from the model checkpoint at distilbert-base-cased were not used when initializing TFDistilBertForTokenClassification: ['vocab_projector', 'activation_13', 'vocab_layer_norm', 'vocab_transform']\n",
            "- This IS expected if you are initializing TFDistilBertForTokenClassification from the checkpoint of a model trained on another task or with another architecture (e.g. initializing a BertForSequenceClassification model from a BertForPreTraining model).\n",
            "- This IS NOT expected if you are initializing TFDistilBertForTokenClassification from the checkpoint of a model that you expect to be exactly identical (initializing a BertForSequenceClassification model from a BertForSequenceClassification model).\n",
            "Some layers of TFDistilBertForTokenClassification were not initialized from the model checkpoint at distilbert-base-cased and are newly initialized: ['dropout_19', 'classifier']\n",
            "You should probably TRAIN this model on a down-stream task to be able to use it for predictions and inference.\n",
            "***** Running training *****\n",
            "  Num examples = 14041\n",
            "  Num Epochs = 3.0\n",
            "  Instantaneous batch size per device = 8\n",
            "  Total train batch size = 8\n",
            "2021-07-10 04:29:30.043297: I tensorflow/compiler/mlir/mlir_graph_optimization_pass.cc:176] None of the MLIR Optimization Passes are enabled (registered 2)\n",
            "2021-07-10 04:29:30.043671: I tensorflow/core/platform/profile_utils/cpu_utils.cc:114] CPU Frequency: 2199995000 Hz\n",
            "Epoch 1/3\n",
            "WARNING:tensorflow:The parameters `output_attentions`, `output_hidden_states` and `use_cache` cannot be updated when calling a model.They have to be set to True/False in the config object (i.e.: `config=XConfig.from_pretrained('name', output_attentions=True)`).\n",
            "WARNING:tensorflow:The parameter `return_dict` cannot be set in graph mode and will always be set to `True`.\n",
            "WARNING:tensorflow:From /usr/local/lib/python3.7/dist-packages/tensorflow/python/ops/array_ops.py:5049: calling gather (from tensorflow.python.ops.array_ops) with validate_indices is deprecated and will be removed in a future version.\n",
            "Instructions for updating:\n",
            "The `validate_indices` argument has no effect. Indices are always validated on CPU and never validated on GPU.\n",
            "/usr/local/lib/python3.7/dist-packages/tensorflow/python/autograph/impl/api.py:376: UserWarning: Using `-1` to mask the loss for the token is deprecated. Please use `-100` instead.\n",
            "  return py_builtins.overload_of(f)(*args)\n",
            "WARNING:tensorflow:The parameters `output_attentions`, `output_hidden_states` and `use_cache` cannot be updated when calling a model.They have to be set to True/False in the config object (i.e.: `config=XConfig.from_pretrained('name', output_attentions=True)`).\n",
            "WARNING:tensorflow:The parameter `return_dict` cannot be set in graph mode and will always be set to `True`.\n",
            "1755/1755 [==============================] - ETA: 0s - loss: 0.1542 - loss_loss: 0.1542WARNING:tensorflow:The parameters `output_attentions`, `output_hidden_states` and `use_cache` cannot be updated when calling a model.They have to be set to True/False in the config object (i.e.: `config=XConfig.from_pretrained('name', output_attentions=True)`).\n",
            "WARNING:tensorflow:The parameter `return_dict` cannot be set in graph mode and will always be set to `True`.\n",
            "1755/1755 [==============================] - 122s 64ms/step - loss: 0.1542 - loss_loss: 0.1542 - val_loss: 0.0870 - val_loss_loss: 0.0870\n",
            "Epoch 2/3\n",
            "1755/1755 [==============================] - 114s 65ms/step - loss: 0.0482 - loss_loss: 0.0482 - val_loss: 0.0682 - val_loss_loss: 0.0682\n",
            "Epoch 3/3\n",
            "1755/1755 [==============================] - 113s 65ms/step - loss: 0.0194 - loss_loss: 0.0194 - val_loss: 0.0666 - val_loss_loss: 0.0666\n",
            "2021-07-10 04:35:20.481167: W tensorflow/core/grappler/optimizers/data/auto_shard.cc:695] AUTO sharding policy will apply DATA sharding policy as it failed to apply FILE sharding policy because of the following reason: Did not find a shardable source, walked to a node which is not a dataset: name: \"FlatMapDataset/_9\"\n",
            "op: \"FlatMapDataset\"\n",
            "input: \"PrefetchDataset/_8\"\n",
            "attr {\n",
            "  key: \"Targuments\"\n",
            "  value {\n",
            "    list {\n",
            "    }\n",
            "  }\n",
            "}\n",
            "attr {\n",
            "  key: \"f\"\n",
            "  value {\n",
            "    func {\n",
            "      name: \"__inference_Dataset_flat_map_slice_batch_indices_183563\"\n",
            "    }\n",
            "  }\n",
            "}\n",
            "attr {\n",
            "  key: \"output_shapes\"\n",
            "  value {\n",
            "    list {\n",
            "      shape {\n",
            "        dim {\n",
            "          size: -1\n",
            "        }\n",
            "      }\n",
            "    }\n",
            "  }\n",
            "}\n",
            "attr {\n",
            "  key: \"output_types\"\n",
            "  value {\n",
            "    list {\n",
            "      type: DT_INT64\n",
            "    }\n",
            "  }\n",
            "}\n",
            ". Consider either turning off auto-sharding or switching the auto_shard_policy to DATA to shard this dataset. You can do this by creating a new `tf.data.Options()` object then setting `options.experimental_distribute.auto_shard_policy = AutoShardPolicy.DATA` before applying the options object to the dataset via `dataset.with_options(options)`.\n",
            "WARNING:tensorflow:The parameters `output_attentions`, `output_hidden_states` and `use_cache` cannot be updated when calling a model.They have to be set to True/False in the config object (i.e.: `config=XConfig.from_pretrained('name', output_attentions=True)`).\n",
            "WARNING:tensorflow:The parameter `return_dict` cannot be set in graph mode and will always be set to `True`.\n",
            "Evaluation metrics:\n",
            "LOC_precision: 0.9633\n",
            "LOC_recall: 0.9521\n",
            "LOC_f1: 0.9577\n",
            "LOC_number: 3635.0000\n",
            "MISC_precision: 0.8486\n",
            "MISC_recall: 0.8784\n",
            "MISC_f1: 0.8632\n",
            "MISC_number: 1480.0000\n",
            "ORG_precision: 0.8958\n",
            "ORG_recall: 0.9127\n",
            "ORG_f1: 0.9041\n",
            "ORG_number: 2702.0000\n",
            "PER_precision: 0.9514\n",
            "PER_recall: 0.9588\n",
            "PER_f1: 0.9551\n",
            "PER_number: 3329.0000\n",
            "overall_precision: 0.9275\n",
            "overall_recall: 0.9348\n",
            "overall_f1: 0.9311\n",
            "overall_accuracy: 0.9829\n",
            "Configuration saved in /tmp/distilbert-base-cased-finetuned-conll03-english_tf/config.json\n",
            "Model weights saved in /tmp/distilbert-base-cased-finetuned-conll03-english_tf/tf_model.h5\n"
          ],
          "name": "stdout"
        }
      ]
    },
    {
      "cell_type": "code",
      "metadata": {
        "id": "1Kye944GmmZd"
      },
      "source": [
        "\"\"\"\n",
        "Evaluation metrics:\n",
        "LOC_precision: 0.9633\n",
        "LOC_recall: 0.9521\n",
        "LOC_f1: 0.9577\n",
        "LOC_number: 3635.0000\n",
        "MISC_precision: 0.8486\n",
        "MISC_recall: 0.8784\n",
        "MISC_f1: 0.8632\n",
        "MISC_number: 1480.0000\n",
        "ORG_precision: 0.8958\n",
        "ORG_recall: 0.9127\n",
        "ORG_f1: 0.9041\n",
        "ORG_number: 2702.0000\n",
        "PER_precision: 0.9514\n",
        "PER_recall: 0.9588\n",
        "PER_f1: 0.9551\n",
        "PER_number: 3329.0000\n",
        "overall_precision: 0.9275\n",
        "overall_recall: 0.9348\n",
        "overall_f1: 0.9311\n",
        "overall_accuracy: 0.9829\n",
        "Configuration saved in /tmp/distilbert-base-cased-finetuned-conll03-english_tf/config.json\n",
        "Model weights saved in /tmp/distilbert-base-cased-finetuned-conll03-english_tf/tf_model.h5\n",
        "\"\"\""
      ],
      "execution_count": null,
      "outputs": []
    },
    {
      "cell_type": "markdown",
      "metadata": {
        "id": "np6obh3fGfGw"
      },
      "source": [
        "### 2. Inference using pipeline"
      ]
    },
    {
      "cell_type": "code",
      "metadata": {
        "colab": {
          "base_uri": "https://localhost:8080/"
        },
        "id": "yoNgwOCTV6YL",
        "outputId": "5adbe44a-28e0-4d8e-baf6-466a7d9cacfa"
      },
      "source": [
        "!ls /tmp/distilbert-base-cased-finetuned-conll03-english_tf"
      ],
      "execution_count": 8,
      "outputs": [
        {
          "output_type": "stream",
          "text": [
            "config.json  tf_model.h5\n"
          ],
          "name": "stdout"
        }
      ]
    },
    {
      "cell_type": "code",
      "metadata": {
        "id": "6Kg3EH1Iav3v"
      },
      "source": [
        "# Update NER label2id and id2label in model config file: config.json\n",
        "\"\"\"\n",
        "  \"id2label\": {\n",
        "    \"0\": \"O\",\n",
        "    \"1\": \"B-PER\",\n",
        "    \"2\": \"i-PER\",\n",
        "    \"3\": \"B-ORG\",\n",
        "    \"4\": \"I-ORG\",\n",
        "    \"5\": \"B-LOC\",\n",
        "    \"6\": \"I-LOC\",\n",
        "    \"7\": \"B-MISC\",\n",
        "    \"8\": \"I-MISC\"\n",
        "  },\n",
        "\n",
        "\n",
        "  \"label2id\": {\n",
        "    \"B-LOC\": 5,\n",
        "    \"B-MISC\": 7,\n",
        "    \"B-ORG\": 3,\n",
        "    \"B-PER\": 1,\n",
        "    \"I-MISC\": 8,\n",
        "    \"I-ORG\": 4,\n",
        "    \"I-PER\": 2,\n",
        "    \"O\": 0\n",
        "  },\n",
        "\n",
        "\"\"\""
      ],
      "execution_count": null,
      "outputs": []
    },
    {
      "cell_type": "code",
      "metadata": {
        "id": "9pUeIUVJGSMc"
      },
      "source": [
        "from transformers import pipeline\n",
        "distilbert_ner = pipeline('ner', model=\"/tmp/distilbert-base-cased-finetuned-conll03-english_tf/\", tokenizer=\"distilbert-base-cased\", aggregation_strategy='first')"
      ],
      "execution_count": null,
      "outputs": []
    },
    {
      "cell_type": "code",
      "metadata": {
        "id": "e8mDhsXIWol2"
      },
      "source": [
        "article = \"\"\"\n",
        "KUALA LUMPUR - Malaysian Prime Minister Muhyiddin Yassin's party said on Thursday (July 8) that his government would continue to function despite Umno withdrawing its backing. \n",
        "Amid uncertainty over whether Tan Sri Muhyiddin continues to command majority support without Umno, the largest party in the Perikatan Nasional (PN) ruling pact, \n",
        "his Parti Pribumi Bersatu Malaysia said Umno's decision \"had no effect on the workings of government\".\"\"\"\n",
        "\n",
        "\n",
        "results = distilbert_ner(article)"
      ],
      "execution_count": 17,
      "outputs": []
    },
    {
      "cell_type": "code",
      "metadata": {
        "colab": {
          "base_uri": "https://localhost:8080/",
          "height": 277
        },
        "id": "bXb3kWwIXMvw",
        "outputId": "88b60a91-205f-4061-fefc-e1241779ff3f"
      },
      "source": [
        "print(\"Predicted:\")\n",
        "for tag in results:\n",
        "    print(f\"{tag['entity_group']:<5} as {tag['word']}\")\n",
        "\n",
        "\n",
        "\"\"\"\n",
        "Output\n",
        "------\n",
        "Predicted:\n",
        "ORG   as KUALA LUMPUR\n",
        "MISC  as Malaysian\n",
        "PER   as Muhyiddin\n",
        "PER   as Yassin\n",
        "PER   as Umno\n",
        "PER   as Tan\n",
        "PER   as Sri\n",
        "PER   as Muhyiddin\n",
        "PER   as Umno\n",
        "ORG   as Perikatan Nasional\n",
        "ORG   as PN\n",
        "ORG   as Parti Pribumi Bersatu Malaysia\n",
        "PER   as Umno\n",
        "\n",
        "\"\"\""
      ],
      "execution_count": 19,
      "outputs": [
        {
          "output_type": "stream",
          "text": [
            "Predicted:\n",
            "ORG   as KUALA LUMPUR\n",
            "MISC  as Malaysian\n",
            "PER   as Muhyiddin\n",
            "PER   as Yassin\n",
            "PER   as Umno\n",
            "PER   as Tan\n",
            "PER   as Sri\n",
            "PER   as Muhyiddin\n",
            "PER   as Umno\n",
            "ORG   as Perikatan Nasional\n",
            "ORG   as PN\n",
            "ORG   as Parti Pribumi Bersatu Malaysia\n",
            "PER   as Umno\n"
          ],
          "name": "stdout"
        },
        {
          "output_type": "execute_result",
          "data": {
            "application/vnd.google.colaboratory.intrinsic+json": {
              "type": "string"
            },
            "text/plain": [
              "'\\nOutput\\n------\\nPredicted:\\nORG   as KUALA LUMPUR\\nMISC  as Malaysian\\nPER   as Muhyiddin\\nPER   as Yassin\\nPER   as Umno\\nPER   as Tan\\nPER   as Sri\\nPER   as Muhyiddin\\nPER   as Umno\\nORG   as Perikatan Nasional\\nORG   as PN\\nORG   as Parti Pribumi Bersatu Malaysia\\nPER   as Umno\\n\\n'"
            ]
          },
          "metadata": {
            "tags": []
          },
          "execution_count": 19
        }
      ]
    },
    {
      "cell_type": "code",
      "metadata": {
        "id": "UkPQ0qTWvc_c"
      },
      "source": [
        ""
      ],
      "execution_count": null,
      "outputs": []
    }
  ]
}