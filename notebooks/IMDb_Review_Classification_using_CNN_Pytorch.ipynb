{
  "nbformat": 4,
  "nbformat_minor": 0,
  "metadata": {
    "colab": {
      "name": "IMDb Review Classification using CNN Pytorch.ipynb",
      "provenance": [],
      "collapsed_sections": []
    },
    "kernelspec": {
      "name": "python3",
      "display_name": "Python 3"
    },
    "language_info": {
      "name": "python"
    }
  },
  "cells": [
    {
      "cell_type": "code",
      "metadata": {
        "id": "OLuafex--R85"
      },
      "source": [
        "import torch\n",
        "import torch.nn as nn\n",
        "from torchtext.datasets import IMDB\n",
        "from torchtext.data.utils import get_tokenizer\n",
        "from torchtext.data.functional import to_map_style_dataset\n",
        "from torch.utils.data.dataset import random_split\n",
        "from torch.utils.data import DataLoader\n",
        "from torchtext.vocab import build_vocab_from_iterator\n",
        "import numpy as np\n",
        "import string\n",
        "import re"
      ],
      "execution_count": 272,
      "outputs": []
    },
    {
      "cell_type": "markdown",
      "metadata": {
        "id": "lw6tgh8x_PO4"
      },
      "source": [
        "#### Download Dataset"
      ]
    },
    {
      "cell_type": "code",
      "metadata": {
        "id": "Hh-wErRv_Qw_"
      },
      "source": [
        "train_iter, test_iter = IMDB()"
      ],
      "execution_count": 273,
      "outputs": []
    },
    {
      "cell_type": "markdown",
      "metadata": {
        "id": "JqV4ZsR2_RaY"
      },
      "source": [
        "#### Dataset overview"
      ]
    },
    {
      "cell_type": "code",
      "metadata": {
        "colab": {
          "base_uri": "https://localhost:8080/"
        },
        "id": "fJBNQTu1pbaO",
        "outputId": "9ff3e9a8-6dc7-45e4-bbb0-e366d8d6c1a8"
      },
      "source": [
        "len(train_iter), len(test_iter)"
      ],
      "execution_count": 274,
      "outputs": [
        {
          "output_type": "execute_result",
          "data": {
            "text/plain": [
              "(25000, 25000)"
            ]
          },
          "metadata": {},
          "execution_count": 274
        }
      ]
    },
    {
      "cell_type": "code",
      "metadata": {
        "colab": {
          "base_uri": "https://localhost:8080/"
        },
        "id": "4RzCu4zH_QHg",
        "outputId": "d384016f-f23c-4d4f-8ce9-e985d7596e61"
      },
      "source": [
        "next(train_iter)"
      ],
      "execution_count": 275,
      "outputs": [
        {
          "output_type": "execute_result",
          "data": {
            "text/plain": [
              "('neg',\n",
              " 'I rented I AM CURIOUS-YELLOW from my video store because of all the controversy that surrounded it when it was first released in 1967. I also heard that at first it was seized by U.S. customs if it ever tried to enter this country, therefore being a fan of films considered \"controversial\" I really had to see this for myself.<br /><br />The plot is centered around a young Swedish drama student named Lena who wants to learn everything she can about life. In particular she wants to focus her attentions to making some sort of documentary on what the average Swede thought about certain political issues such as the Vietnam War and race issues in the United States. In between asking politicians and ordinary denizens of Stockholm about their opinions on politics, she has sex with her drama teacher, classmates, and married men.<br /><br />What kills me about I AM CURIOUS-YELLOW is that 40 years ago, this was considered pornographic. Really, the sex and nudity scenes are few and far between, even then it\\'s not shot like some cheaply made porno. While my countrymen mind find it shocking, in reality sex and nudity are a major staple in Swedish cinema. Even Ingmar Bergman, arguably their answer to good old boy John Ford, had sex scenes in his films.<br /><br />I do commend the filmmakers for the fact that any sex shown in the film is shown for artistic purposes rather than just to shock people and make money to be shown in pornographic theaters in America. I AM CURIOUS-YELLOW is a good film for anyone wanting to study the meat and potatoes (no pun intended) of Swedish cinema. But really, this film doesn\\'t have much of a plot.')"
            ]
          },
          "metadata": {},
          "execution_count": 275
        }
      ]
    },
    {
      "cell_type": "markdown",
      "metadata": {
        "id": "2BkB1eDP_PRw"
      },
      "source": [
        "#### Build vocab"
      ]
    },
    {
      "cell_type": "code",
      "metadata": {
        "id": "LWaJRDF4ZrD0"
      },
      "source": [
        "tokenizer = get_tokenizer(\"basic_english\")\n",
        "\n",
        "def yield_tokens(data_iter):\n",
        "    for _, text in data_iter:\n",
        "        yield tokenizer(text)\n",
        "\n",
        "\n",
        "vocab = build_vocab_from_iterator(yield_tokens(train_iter), specials=[\"<unk>\"])\n",
        "vocab.set_default_index(vocab[\"<unk>\"])\n"
      ],
      "execution_count": 276,
      "outputs": []
    },
    {
      "cell_type": "code",
      "metadata": {
        "colab": {
          "base_uri": "https://localhost:8080/"
        },
        "id": "CE0k4ZL7boKg",
        "outputId": "ed45c670-96cb-439f-fb8a-fe132c96d357"
      },
      "source": [
        "print(f\"Number of vocab: {len(vocab)}\")\n",
        "print(f\"Idx for unknown word: {vocab.get_default_index()}\")"
      ],
      "execution_count": 277,
      "outputs": [
        {
          "output_type": "stream",
          "text": [
            "Number of vocab: 100682\n",
            "Idx for unknown word: 0\n"
          ],
          "name": "stdout"
        }
      ]
    },
    {
      "cell_type": "code",
      "metadata": {
        "colab": {
          "base_uri": "https://localhost:8080/"
        },
        "id": "IsMFlzUudfGM",
        "outputId": "3d1fb4b8-612e-4ca5-8755-1dc10960ca0e"
      },
      "source": [
        "vocab[\"<pad>\"]"
      ],
      "execution_count": 278,
      "outputs": [
        {
          "output_type": "execute_result",
          "data": {
            "text/plain": [
              "0"
            ]
          },
          "metadata": {},
          "execution_count": 278
        }
      ]
    },
    {
      "cell_type": "markdown",
      "metadata": {
        "id": "RX52SRGagC_6"
      },
      "source": [
        "#### Reload iterable dataset and build dataloader"
      ]
    },
    {
      "cell_type": "code",
      "metadata": {
        "id": "fzG5tpW4ZxQv"
      },
      "source": [
        "EMBEDDING_SIZE = 300\n",
        "MAX_SEQ_LEN = 128\n",
        "VOCAB_SIZE = len(vocab)\n",
        "BATCH_SIZE = 32\n",
        "\n",
        "def encode(text):\n",
        "    tokenized_text = tokenizer(text)\n",
        "    vectorized_text = vocab(tokenized_text)\n",
        "    sliced_text = vectorized_text[:MAX_SEQ_LEN]\n",
        "    pad_size = MAX_SEQ_LEN - len(sliced_text)\n",
        "    sliced_text += [vocab.get_default_index()] * pad_size\n",
        "    return sliced_text\n",
        "\n",
        "label_pipeline = lambda label: 1 if label == \"pos\" else 0"
      ],
      "execution_count": 279,
      "outputs": []
    },
    {
      "cell_type": "code",
      "metadata": {
        "id": "NlmvPpzqdv6K"
      },
      "source": [
        "def collate_batch(batch):\n",
        "    label_list, text_list = [], []\n",
        "\n",
        "    for _label, _text in batch:\n",
        "        label_list.append(label_pipeline(_label))\n",
        "        text_list.append(encode(_text))\n",
        "\n",
        "    text_tensor = torch.tensor(text_list, dtype=torch.int64)\n",
        "    label_tensor = torch.tensor(label_list, dtype=torch.long)\n",
        "\n",
        "    return label_tensor, text_tensor\n"
      ],
      "execution_count": 280,
      "outputs": []
    },
    {
      "cell_type": "code",
      "metadata": {
        "id": "o9YvzwQQX1Nx"
      },
      "source": [
        "train_iter, test_iter = IMDB()\n",
        "\n",
        "train_dataset = to_map_style_dataset(train_iter)\n",
        "test_dataset = to_map_style_dataset(test_iter)\n",
        "\n",
        "num_train = int(len(train_dataset) * 0.95)\n",
        "num_val = len(train_dataset) - num_train\n",
        "\n",
        "split_train, split_val = random_split(train_dataset, [num_train, num_val])\n",
        "\n",
        "train_dataloader = DataLoader(split_train, batch_size=BATCH_SIZE, shuffle=True, collate_fn=collate_batch)\n",
        "val_dataloader = DataLoader(split_val, batch_size=BATCH_SIZE, shuffle=True, collate_fn=collate_batch)\n",
        "test_dataloder = DataLoader(test_dataset, batch_size=BATCH_SIZE, shuffle=True, collate_fn=collate_batch)"
      ],
      "execution_count": 281,
      "outputs": []
    },
    {
      "cell_type": "markdown",
      "metadata": {
        "id": "UamJOiMWH0z6"
      },
      "source": [
        "#### Build Model"
      ]
    },
    {
      "cell_type": "code",
      "metadata": {
        "id": "c1G1YWMFIDhA"
      },
      "source": [
        "class CNNText(torch.nn.Module):\n",
        "    def __init__(self, vocab_size, emb_size):\n",
        "        super(CNNText, self).__init__()\n",
        "\n",
        "        self.emb = nn.Embedding(num_embeddings=vocab_size,\n",
        "                                embedding_dim=emb_size,\n",
        "                                padding_idx=0)\n",
        "        self.conv1 = nn.Conv1d(in_channels=emb_size,\n",
        "                               out_channels=128,\n",
        "                               kernel_size=3)\n",
        "        self.conv2 = nn.Conv1d(in_channels=128,\n",
        "                               out_channels=256,\n",
        "                               kernel_size=6)\n",
        "        self.globalmaxpooling = nn.AdaptiveMaxPool1d(1)\n",
        "        self.classifier = nn.Linear(256, 2)\n",
        "        self.dropout = nn.Dropout(0.5)\n",
        "        self.relu = nn.ReLU()\n",
        "\n",
        "    def forward(self, x):\n",
        "        # original: bs, seq_len\n",
        "\n",
        "        # bs, seq_len, emb_dim\n",
        "        x = self.emb(x)\n",
        "\n",
        "        # bs, emb_dim, seq_len\n",
        "        x = x.permute(0, 2, 1)\n",
        "        x = self.conv1(x)\n",
        "        x = self.relu(x)\n",
        "\n",
        "        # bs, emb_dim, seq_len\n",
        "        x = self.conv2(x)\n",
        "        x = self.relu(x)\n",
        "\n",
        "        # output shape: bs, emb_dim, 1 \n",
        "        x = self.globalmaxpooling(x)\n",
        "        x = self.dropout(x)\n",
        "\n",
        "        # output shape: bs, emb_dim\n",
        "        x = x.squeeze(dim=2)\n",
        "        x = self.classifier(x)\n",
        "\n",
        "        return x"
      ],
      "execution_count": 282,
      "outputs": []
    },
    {
      "cell_type": "code",
      "metadata": {
        "id": "Nslp7m79TWmo"
      },
      "source": [
        "model = CNNText(VOCAB_SIZE, EMBEDDING_SIZE)"
      ],
      "execution_count": 283,
      "outputs": []
    },
    {
      "cell_type": "markdown",
      "metadata": {
        "id": "rllsV16sTrXH"
      },
      "source": [
        "#### Training"
      ]
    },
    {
      "cell_type": "code",
      "metadata": {
        "id": "54asJrPbTye_"
      },
      "source": [
        "EPOCHS = 3\n",
        "optimizer = torch.optim.Adam(model.parameters(), lr=0.001)\n",
        "criterion = torch.nn.CrossEntropyLoss()"
      ],
      "execution_count": 293,
      "outputs": []
    },
    {
      "cell_type": "code",
      "metadata": {
        "id": "ufRUFmkCnwB_"
      },
      "source": [
        "def train(dataloader):\n",
        "    model.train()\n",
        "    training_count = 0\n",
        "    training_correct = 0\n",
        "\n",
        "    for idx, (label, text) in enumerate(dataloader):\n",
        "        optimizer.zero_grad()\n",
        "\n",
        "        predictions = model(text)\n",
        "        loss = criterion(predictions, label)\n",
        "\n",
        "        loss.backward()\n",
        "        optimizer.step()\n",
        "        \n",
        "        training_correct += (predictions.argmax(1) == label).sum().item()\n",
        "        training_count += label.size(0)\n",
        "\n",
        "        if (idx % 50 == 0) and (idx > 0):\n",
        "            print(f\"Epoch: {epoch} on {idx} batches with {training_correct/training_count:.3f} accuracy\")\n",
        "\n",
        "def evaluate(dataloader):\n",
        "    model.eval()\n",
        "    total_count = 0\n",
        "    total_correct = 0\n",
        "\n",
        "    with torch.no_grad():\n",
        "        for idx, (label, text) in enumerate(dataloader):\n",
        "            predictions = model(text)\n",
        "            total_correct += (predictions.argmax(1) == label).sum().item()\n",
        "            total_count += label.size(0)\n",
        "\n",
        "    return total_correct/total_count"
      ],
      "execution_count": 294,
      "outputs": []
    },
    {
      "cell_type": "code",
      "metadata": {
        "colab": {
          "base_uri": "https://localhost:8080/"
        },
        "id": "MCfGtBoorIKG",
        "outputId": "de0bc7c6-8a99-4ef5-fe23-11b6e9563d86"
      },
      "source": [
        "for epoch in range(1, EPOCHS+1):\n",
        "    train(train_dataloader)\n",
        "    val_acc = evaluate(val_dataloader)\n",
        "\n",
        "    print(f\"Epoch: {epoch} with {val_acc:.3f} validation accuracy\")"
      ],
      "execution_count": 295,
      "outputs": [
        {
          "output_type": "stream",
          "text": [
            "Epoch: 1 on 50 batches with 0.526 accuracy\n",
            "Epoch: 1 on 100 batches with 0.555 accuracy\n",
            "Epoch: 1 on 150 batches with 0.573 accuracy\n",
            "Epoch: 1 on 200 batches with 0.593 accuracy\n",
            "Epoch: 1 on 250 batches with 0.612 accuracy\n",
            "Epoch: 1 on 300 batches with 0.620 accuracy\n",
            "Epoch: 1 on 350 batches with 0.634 accuracy\n",
            "Epoch: 1 on 400 batches with 0.644 accuracy\n",
            "Epoch: 1 on 450 batches with 0.653 accuracy\n",
            "Epoch: 1 on 500 batches with 0.661 accuracy\n",
            "Epoch: 1 on 550 batches with 0.668 accuracy\n",
            "Epoch: 1 on 600 batches with 0.676 accuracy\n",
            "Epoch: 1 on 650 batches with 0.680 accuracy\n",
            "Epoch: 1 on 700 batches with 0.685 accuracy\n",
            "Epoch: 1 with 0.742 validation accuracy\n",
            "Epoch: 2 on 50 batches with 0.804 accuracy\n",
            "Epoch: 2 on 100 batches with 0.811 accuracy\n",
            "Epoch: 2 on 150 batches with 0.814 accuracy\n",
            "Epoch: 2 on 200 batches with 0.817 accuracy\n",
            "Epoch: 2 on 250 batches with 0.818 accuracy\n",
            "Epoch: 2 on 300 batches with 0.817 accuracy\n",
            "Epoch: 2 on 350 batches with 0.817 accuracy\n",
            "Epoch: 2 on 400 batches with 0.814 accuracy\n",
            "Epoch: 2 on 450 batches with 0.816 accuracy\n",
            "Epoch: 2 on 500 batches with 0.819 accuracy\n",
            "Epoch: 2 on 550 batches with 0.819 accuracy\n",
            "Epoch: 2 on 600 batches with 0.819 accuracy\n",
            "Epoch: 2 on 650 batches with 0.819 accuracy\n",
            "Epoch: 2 on 700 batches with 0.819 accuracy\n",
            "Epoch: 2 with 0.827 validation accuracy\n",
            "Epoch: 3 on 50 batches with 0.913 accuracy\n",
            "Epoch: 3 on 100 batches with 0.903 accuracy\n",
            "Epoch: 3 on 150 batches with 0.901 accuracy\n",
            "Epoch: 3 on 200 batches with 0.898 accuracy\n",
            "Epoch: 3 on 250 batches with 0.894 accuracy\n",
            "Epoch: 3 on 300 batches with 0.892 accuracy\n",
            "Epoch: 3 on 350 batches with 0.893 accuracy\n",
            "Epoch: 3 on 400 batches with 0.891 accuracy\n",
            "Epoch: 3 on 450 batches with 0.891 accuracy\n",
            "Epoch: 3 on 500 batches with 0.891 accuracy\n",
            "Epoch: 3 on 550 batches with 0.889 accuracy\n",
            "Epoch: 3 on 600 batches with 0.887 accuracy\n",
            "Epoch: 3 on 650 batches with 0.887 accuracy\n",
            "Epoch: 3 on 700 batches with 0.886 accuracy\n",
            "Epoch: 3 with 0.826 validation accuracy\n"
          ],
          "name": "stdout"
        }
      ]
    },
    {
      "cell_type": "markdown",
      "metadata": {
        "id": "bqjQ2JdnUr2f"
      },
      "source": [
        "#### Testing"
      ]
    },
    {
      "cell_type": "code",
      "metadata": {
        "colab": {
          "base_uri": "https://localhost:8080/"
        },
        "id": "yc8sRb-oUal3",
        "outputId": "67886547-bda2-4e52-99b2-f05a4f3e9499"
      },
      "source": [
        "test_acc = evaluate(test_dataloder)\n",
        "print(f\"Test acc: {test_acc:.3f}\")"
      ],
      "execution_count": 297,
      "outputs": [
        {
          "output_type": "stream",
          "text": [
            "Test acc: 0.811\n"
          ],
          "name": "stdout"
        }
      ]
    },
    {
      "cell_type": "markdown",
      "metadata": {
        "id": "qBlfgLV6UvF_"
      },
      "source": [
        "#### Inferencing"
      ]
    },
    {
      "cell_type": "code",
      "metadata": {
        "colab": {
          "base_uri": "https://localhost:8080/"
        },
        "id": "jJe1mGBaUySX",
        "outputId": "2bf94c78-74dc-475b-b26a-61ddb644d646"
      },
      "source": [
        "test_sentence = \"Terrible movie. Bad Bad I hate this so much.\"\n",
        "test_input = torch.tensor(encode(test_sentence), dtype=torch.int64).unsqueeze(dim=0)\n",
        "\n",
        "with torch.no_grad():\n",
        "    predictions = model(test_input).argmax(1)\n",
        "\n",
        "print(f\"Text: {test_sentence}\")\n",
        "print(f\"Predictions: {predictions} ({'Positive' if predictions == 1 else 'Negative'})\")"
      ],
      "execution_count": 302,
      "outputs": [
        {
          "output_type": "stream",
          "text": [
            "Text: Terrible movie. Bad Bad I hate this so much.\n",
            "Predictions: tensor([0]) (Negative)\n"
          ],
          "name": "stdout"
        }
      ]
    },
    {
      "cell_type": "code",
      "metadata": {
        "colab": {
          "base_uri": "https://localhost:8080/"
        },
        "id": "yoFQZhtYXiDm",
        "outputId": "05797c94-e730-4466-c5f4-26d27cfe5b6d"
      },
      "source": [
        "test_sentence = \"BEST movie. I love this so much.\"\n",
        "test_input = torch.tensor(encode(test_sentence), dtype=torch.int64).unsqueeze(dim=0)\n",
        "\n",
        "with torch.no_grad():\n",
        "    predictions = model(test_input).argmax(1)\n",
        "\n",
        "print(f\"Text: {test_sentence}\")\n",
        "print(f\"Predictions: {predictions} ({'Positive' if predictions == 1 else 'Negative'})\")"
      ],
      "execution_count": 304,
      "outputs": [
        {
          "output_type": "stream",
          "text": [
            "Text: BEST movie. I love this so much.\n",
            "Predictions: tensor([1]) (Positive)\n"
          ],
          "name": "stdout"
        }
      ]
    }
  ]
}