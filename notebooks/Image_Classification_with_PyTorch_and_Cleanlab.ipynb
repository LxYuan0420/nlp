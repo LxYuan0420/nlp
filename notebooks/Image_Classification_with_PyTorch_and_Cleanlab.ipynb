{
  "cells": [
    {
      "cell_type": "markdown",
      "metadata": {
        "id": "view-in-github",
        "colab_type": "text"
      },
      "source": [
        "<a href=\"https://colab.research.google.com/github/LxYuan0420/nlp/blob/main/notebooks/Image_Classification_with_PyTorch_and_Cleanlab.ipynb\" target=\"_parent\"><img src=\"https://colab.research.google.com/assets/colab-badge.svg\" alt=\"Open In Colab\"/></a>"
      ]
    },
    {
      "cell_type": "markdown",
      "metadata": {
        "id": "NNi88z0DNaRW"
      },
      "source": [
        "# Image Classification with PyTorch and Cleanlab\n"
      ]
    },
    {
      "cell_type": "markdown",
      "metadata": {
        "id": "O47VQNAkNaRa"
      },
      "source": [
        "This 5-minute quickstart tutorial demonstrates how to find potential label errors in image classification data. Here we use the MNIST dataset containing 70,000 images of handwritten digits from 0 to 9.\n",
        "\n",
        "**Overview of what we'll do in this tutorial:**\n",
        "\n",
        "- Build a simple [PyTorch](https://pytorch.org/) neural net and wrap it with [skorch](https://skorch.readthedocs.io/) to make it scikit-learn compatible.\n",
        "\n",
        "- Use this model to compute out-of-sample predicted probabilities, `pred_probs`, via cross-validation.\n",
        "\n",
        "- Compute a list of potential label errors with cleanlab's `find_label_issues` method.\n"
      ]
    },
    {
      "cell_type": "markdown",
      "metadata": {
        "id": "clUUZz_ANaRa"
      },
      "source": [
        "<div class=\"alert alert-info\">\n",
        "Quickstart\n",
        "<br/>\n",
        "    \n",
        "Already have a `model`? Run cross-validation to get out-of-sample `pred_probs` and then the code below to get label issue indices ranked by their inferred severity.\n",
        "\n",
        "\n",
        "<div  class=markdown markdown=\"1\" style=\"background:white;margin:16px\">  \n",
        "    \n",
        "```python\n",
        "\n",
        "from cleanlab.filter import find_label_issues\n",
        "\n",
        "ranked_label_issues = find_label_issues(\n",
        "    labels,\n",
        "    pred_probs,\n",
        "    return_indices_ranked_by=\"self_confidence\",\n",
        ")\n",
        "    \n",
        "\n",
        "```\n",
        "    \n",
        "</div>\n",
        "</div>"
      ]
    },
    {
      "cell_type": "markdown",
      "metadata": {
        "id": "CbG2q0RcNaRb"
      },
      "source": [
        "## 1. Install and import required dependencies\n"
      ]
    },
    {
      "cell_type": "markdown",
      "metadata": {
        "id": "-zMcMl4lNaRb"
      },
      "source": [
        "You can use `pip` to install all packages required for this tutorial as follows:\n",
        "\n",
        "```ipython3\n",
        "!pip install matplotlib torch torchvision skorch\n",
        "!pip install cleanlab\n",
        "# Make sure to install the version corresponding to this tutorial\n",
        "# E.g. if viewing master branch documentation:\n",
        "#     !pip install git+https://github.com/cleanlab/cleanlab.git\n",
        "```"
      ]
    },
    {
      "cell_type": "code",
      "source": [
        "!pip install matplotlib torch torchvision skorch\n",
        "!pip install cleanlab"
      ],
      "metadata": {
        "id": "ELOUdVVXNwU4"
      },
      "execution_count": null,
      "outputs": []
    },
    {
      "cell_type": "code",
      "execution_count": 2,
      "metadata": {
        "execution": {
          "iopub.execute_input": "2023-03-01T09:13:53.856155Z",
          "iopub.status.busy": "2023-03-01T09:13:53.855952Z",
          "iopub.status.idle": "2023-03-01T09:13:55.640511Z",
          "shell.execute_reply": "2023-03-01T09:13:55.639850Z"
        },
        "nbsphinx": "hidden",
        "id": "vcu7bJvRNaRc",
        "colab": {
          "base_uri": "https://localhost:8080/"
        },
        "outputId": "84d4feee-04de-48df-cc88-0cea0bf536a6"
      },
      "outputs": [
        {
          "output_type": "stream",
          "name": "stdout",
          "text": [
            "Looking in indexes: https://pypi.org/simple, https://us-python.pkg.dev/colab-wheels/public/simple/\n",
            "Requirement already satisfied: cleanlab==v2.3.0 in /usr/local/lib/python3.8/dist-packages (2.3.0)\n",
            "Requirement already satisfied: termcolor>=2.0.0 in /usr/local/lib/python3.8/dist-packages (from cleanlab==v2.3.0) (2.2.0)\n",
            "Requirement already satisfied: tqdm>=4.53.0 in /usr/local/lib/python3.8/dist-packages (from cleanlab==v2.3.0) (4.64.1)\n",
            "Requirement already satisfied: numpy>=1.20.0 in /usr/local/lib/python3.8/dist-packages (from cleanlab==v2.3.0) (1.22.4)\n",
            "Requirement already satisfied: scikit-learn>=1.0 in /usr/local/lib/python3.8/dist-packages (from cleanlab==v2.3.0) (1.2.1)\n",
            "Requirement already satisfied: pandas>=1.1.5 in /usr/local/lib/python3.8/dist-packages (from cleanlab==v2.3.0) (1.3.5)\n",
            "Requirement already satisfied: pytz>=2017.3 in /usr/local/lib/python3.8/dist-packages (from pandas>=1.1.5->cleanlab==v2.3.0) (2022.7.1)\n",
            "Requirement already satisfied: python-dateutil>=2.7.3 in /usr/local/lib/python3.8/dist-packages (from pandas>=1.1.5->cleanlab==v2.3.0) (2.8.2)\n",
            "Requirement already satisfied: scipy>=1.3.2 in /usr/local/lib/python3.8/dist-packages (from scikit-learn>=1.0->cleanlab==v2.3.0) (1.10.1)\n",
            "Requirement already satisfied: joblib>=1.1.1 in /usr/local/lib/python3.8/dist-packages (from scikit-learn>=1.0->cleanlab==v2.3.0) (1.2.0)\n",
            "Requirement already satisfied: threadpoolctl>=2.0.0 in /usr/local/lib/python3.8/dist-packages (from scikit-learn>=1.0->cleanlab==v2.3.0) (3.1.0)\n",
            "Requirement already satisfied: six>=1.5 in /usr/local/lib/python3.8/dist-packages (from python-dateutil>=2.7.3->pandas>=1.1.5->cleanlab==v2.3.0) (1.15.0)\n",
            "Looking in indexes: https://pypi.org/simple, https://us-python.pkg.dev/colab-wheels/public/simple/\n",
            "Requirement already satisfied: matplotlib in /usr/local/lib/python3.8/dist-packages (3.5.3)\n",
            "Requirement already satisfied: torch in /usr/local/lib/python3.8/dist-packages (1.13.1+cu116)\n",
            "Requirement already satisfied: torchvision in /usr/local/lib/python3.8/dist-packages (0.14.1+cu116)\n",
            "Requirement already satisfied: skorch in /usr/local/lib/python3.8/dist-packages (0.12.1)\n",
            "Requirement already satisfied: python-dateutil>=2.7 in /usr/local/lib/python3.8/dist-packages (from matplotlib) (2.8.2)\n",
            "Requirement already satisfied: fonttools>=4.22.0 in /usr/local/lib/python3.8/dist-packages (from matplotlib) (4.38.0)\n",
            "Requirement already satisfied: pillow>=6.2.0 in /usr/local/lib/python3.8/dist-packages (from matplotlib) (8.4.0)\n",
            "Requirement already satisfied: kiwisolver>=1.0.1 in /usr/local/lib/python3.8/dist-packages (from matplotlib) (1.4.4)\n",
            "Requirement already satisfied: packaging>=20.0 in /usr/local/lib/python3.8/dist-packages (from matplotlib) (23.0)\n",
            "Requirement already satisfied: cycler>=0.10 in /usr/local/lib/python3.8/dist-packages (from matplotlib) (0.11.0)\n",
            "Requirement already satisfied: pyparsing>=2.2.1 in /usr/local/lib/python3.8/dist-packages (from matplotlib) (3.0.9)\n",
            "Requirement already satisfied: numpy>=1.17 in /usr/local/lib/python3.8/dist-packages (from matplotlib) (1.22.4)\n",
            "Requirement already satisfied: typing-extensions in /usr/local/lib/python3.8/dist-packages (from torch) (4.5.0)\n",
            "Requirement already satisfied: requests in /usr/local/lib/python3.8/dist-packages (from torchvision) (2.25.1)\n",
            "Requirement already satisfied: scipy>=1.1.0 in /usr/local/lib/python3.8/dist-packages (from skorch) (1.10.1)\n",
            "Requirement already satisfied: scikit-learn>=0.22.0 in /usr/local/lib/python3.8/dist-packages (from skorch) (1.2.1)\n",
            "Requirement already satisfied: tabulate>=0.7.7 in /usr/local/lib/python3.8/dist-packages (from skorch) (0.8.10)\n",
            "Requirement already satisfied: tqdm>=4.14.0 in /usr/local/lib/python3.8/dist-packages (from skorch) (4.64.1)\n",
            "Requirement already satisfied: six>=1.5 in /usr/local/lib/python3.8/dist-packages (from python-dateutil>=2.7->matplotlib) (1.15.0)\n",
            "Requirement already satisfied: joblib>=1.1.1 in /usr/local/lib/python3.8/dist-packages (from scikit-learn>=0.22.0->skorch) (1.2.0)\n",
            "Requirement already satisfied: threadpoolctl>=2.0.0 in /usr/local/lib/python3.8/dist-packages (from scikit-learn>=0.22.0->skorch) (3.1.0)\n",
            "Requirement already satisfied: urllib3<1.27,>=1.21.1 in /usr/local/lib/python3.8/dist-packages (from requests->torchvision) (1.26.14)\n",
            "Requirement already satisfied: certifi>=2017.4.17 in /usr/local/lib/python3.8/dist-packages (from requests->torchvision) (2022.12.7)\n",
            "Requirement already satisfied: idna<3,>=2.5 in /usr/local/lib/python3.8/dist-packages (from requests->torchvision) (2.10)\n",
            "Requirement already satisfied: chardet<5,>=3.0.2 in /usr/local/lib/python3.8/dist-packages (from requests->torchvision) (4.0.0)\n"
          ]
        }
      ],
      "source": [
        "# Package installation (this cell is hidden from docs.cleanlab.ai).\n",
        "# If running on Colab, may want to use GPU (select: Runtime > Change runtime type > Hardware accelerator > GPU)\n",
        "# Package versions used: matplotlib==3.5.1 torch==1.11.0 skorch==0.11.0\n",
        "\n",
        "dependencies = [\"cleanlab\", \"matplotlib\", \"torch\", \"torchvision\", \"skorch\"]\n",
        "\n",
        "if \"google.colab\" in str(get_ipython()):  # Check if it's running in Google Colab\n",
        "    %pip install cleanlab==v2.3.0\n",
        "    cmd = ' '.join([dep for dep in dependencies if dep != \"cleanlab\"])\n",
        "    %pip install $cmd\n",
        "else:\n",
        "    missing_dependencies = []\n",
        "    for dependency in dependencies:\n",
        "        try:\n",
        "            __import__(dependency)\n",
        "        except ImportError:\n",
        "            missing_dependencies.append(dependency)\n",
        "\n",
        "    if len(missing_dependencies) > 0:\n",
        "        print(\"Missing required dependencies:\")\n",
        "        print(*missing_dependencies, sep=\", \")\n",
        "        print(\"\\nPlease install them before running the rest of this notebook.\")\n",
        "\n",
        "# Suppress benign warnings: \n",
        "import warnings \n",
        "warnings.filterwarnings(\"ignore\", \"Lazy modules are a new feature.*\")"
      ]
    },
    {
      "cell_type": "code",
      "execution_count": 3,
      "metadata": {
        "execution": {
          "iopub.execute_input": "2023-03-01T09:13:55.645379Z",
          "iopub.status.busy": "2023-03-01T09:13:55.643977Z",
          "iopub.status.idle": "2023-03-01T09:13:55.693444Z",
          "shell.execute_reply": "2023-03-01T09:13:55.692206Z"
        },
        "id": "a7_FO8P_NaRd"
      },
      "outputs": [],
      "source": [
        "import torch\n",
        "from torch import nn\n",
        "from sklearn.datasets import fetch_openml\n",
        "from sklearn.model_selection import cross_val_predict\n",
        "from sklearn.metrics import accuracy_score\n",
        "from skorch import NeuralNetClassifier"
      ]
    },
    {
      "cell_type": "code",
      "execution_count": 4,
      "metadata": {
        "execution": {
          "iopub.execute_input": "2023-03-01T09:13:55.696744Z",
          "iopub.status.busy": "2023-03-01T09:13:55.696392Z",
          "iopub.status.idle": "2023-03-01T09:13:55.701914Z",
          "shell.execute_reply": "2023-03-01T09:13:55.701343Z"
        },
        "nbsphinx": "hidden",
        "id": "G2GH6ZgrNaRd"
      },
      "outputs": [],
      "source": [
        "# This (optional) cell is hidden from docs.cleanlab.ai \n",
        "\n",
        "import numpy as np \n",
        "\n",
        "SEED = 123  # for reproducibility \n",
        "np.random.seed(SEED)\n",
        "torch.manual_seed(SEED)\n",
        "torch.backends.cudnn.deterministic = True\n",
        "torch.backends.cudnn.benchmark = False\n",
        "torch.cuda.manual_seed_all(SEED)"
      ]
    },
    {
      "cell_type": "markdown",
      "metadata": {
        "id": "kWGT98x-NaRe"
      },
      "source": [
        "## 2. Fetch and scale the MNIST dataset\n"
      ]
    },
    {
      "cell_type": "code",
      "execution_count": 6,
      "metadata": {
        "execution": {
          "iopub.execute_input": "2023-03-01T09:13:55.704889Z",
          "iopub.status.busy": "2023-03-01T09:13:55.704557Z",
          "iopub.status.idle": "2023-03-01T09:14:36.470135Z",
          "shell.execute_reply": "2023-03-01T09:14:36.469454Z"
        },
        "id": "ez-c90sdNaRe",
        "outputId": "c6a1e928-ed9f-4618-b5eb-7ec558b78e76",
        "colab": {
          "base_uri": "https://localhost:8080/"
        }
      },
      "outputs": [
        {
          "output_type": "stream",
          "name": "stderr",
          "text": [
            "/usr/local/lib/python3.8/dist-packages/sklearn/datasets/_openml.py:932: FutureWarning: The default value of `parser` will change from `'liac-arff'` to `'auto'` in 1.4. You can set `parser='auto'` to silence this warning. Therefore, an `ImportError` will be raised from 1.4 if the dataset is dense and pandas is not installed. Note that the pandas parser may return different data types. See the Notes Section in fetch_openml's API doc for details.\n",
            "  warn(\n"
          ]
        },
        {
          "output_type": "stream",
          "name": "stdout",
          "text": [
            "(70000, 784)\n"
          ]
        }
      ],
      "source": [
        "mnist = fetch_openml(\"mnist_784\")\n",
        "\n",
        "X = mnist.data.astype(\"float32\").to_numpy()\n",
        "print(X.shape)\n",
        "X /= 255.0\n",
        "X = X.reshape(len(X), 1, 28, 28)\n",
        "\n",
        "labels = mnist.target.astype(\"int64\").to_numpy()"
      ]
    },
    {
      "cell_type": "code",
      "source": [
        "X.shape, labels.shape"
      ],
      "metadata": {
        "colab": {
          "base_uri": "https://localhost:8080/"
        },
        "id": "x8WmTFRIOtRQ",
        "outputId": "d831b986-9884-48ff-f570-eb1a8aa90a9e"
      },
      "execution_count": 7,
      "outputs": [
        {
          "output_type": "execute_result",
          "data": {
            "text/plain": [
              "((70000, 1, 28, 28), (70000,))"
            ]
          },
          "metadata": {},
          "execution_count": 7
        }
      ]
    },
    {
      "cell_type": "markdown",
      "metadata": {
        "id": "lz9XYcY7NaRf"
      },
      "source": [
        "<div class=\"alert alert-info\">\n",
        "Bringing Your Own Data (BYOD)?\n",
        "\n",
        "Assign your data's features to variable `X` and its labels to variable `labels` instead.\n",
        "\n",
        "Your classes (and entries of `labels`) should be represented as integer indices 0, 1, ..., num_classes - 1.\n",
        "For example, if your dataset has 7 examples from 3 classes, `labels` might be: `np.array([2,0,0,1,2,0,1])`\n",
        "\n",
        "</div>\n"
      ]
    },
    {
      "cell_type": "markdown",
      "metadata": {
        "id": "Yq3n6PTzNaRf"
      },
      "source": [
        "## 3. Define a classification model\n"
      ]
    },
    {
      "cell_type": "markdown",
      "metadata": {
        "id": "GxjdfbzzNaRg"
      },
      "source": [
        "Here, we define a simple neural network with PyTorch.\n"
      ]
    },
    {
      "cell_type": "code",
      "source": [
        "class ClassifierModule(nn.Module):\n",
        "    def __init__(self):\n",
        "        super().__init__()\n",
        "\n",
        "        self.cnn = nn.Sequential(\n",
        "            nn.Conv2d(1, 6, 3),\n",
        "            nn.ReLU(),\n",
        "            nn.BatchNorm2d(6),\n",
        "            nn.MaxPool2d(kernel_size=2, stride=2),\n",
        "            nn.Conv2d(6, 16, 3),\n",
        "            nn.ReLU(),\n",
        "            nn.BatchNorm2d(16),\n",
        "            nn.MaxPool2d(kernel_size=2, stride=2),\n",
        "        )\n",
        "        self.out = nn.Sequential(\n",
        "            nn.Flatten(),\n",
        "            nn.LazyLinear(128),\n",
        "            nn.ReLU(),\n",
        "            nn.Linear(128, 10),\n",
        "            nn.Softmax(dim=-1)\n",
        "        )\n",
        "\n",
        "    def forward(self, X):\n",
        "        return self.out(self.cnn(X))"
      ],
      "metadata": {
        "id": "uDWUT0cVOwsR"
      },
      "execution_count": 8,
      "outputs": []
    },
    {
      "cell_type": "markdown",
      "metadata": {
        "id": "DP4P8flFNaRg"
      },
      "source": [
        "## 4. Ensure your classifier is scikit-learn compatible\n"
      ]
    },
    {
      "cell_type": "markdown",
      "metadata": {
        "id": "T6_S1ZMONaRg"
      },
      "source": [
        "As some cleanlab features require scikit-learn compatibility, we adapt the above PyTorch neural net accordingly. [skorch](https://skorch.readthedocs.io) is a convenient package that helps with this. Alternatively, you can also easily wrap an arbitrary model to be scikit-learn compatible as demonstrated [here](https://github.com/cleanlab/cleanlab#use-cleanlab-with-any-model-for-most-ml-tasks)."
      ]
    },
    {
      "cell_type": "code",
      "source": [
        "help(NeuralNetClassifier)"
      ],
      "metadata": {
        "id": "OYIrCRkrPjmk"
      },
      "execution_count": null,
      "outputs": []
    },
    {
      "cell_type": "code",
      "execution_count": 13,
      "metadata": {
        "execution": {
          "iopub.execute_input": "2023-03-01T09:14:36.482365Z",
          "iopub.status.busy": "2023-03-01T09:14:36.482155Z",
          "iopub.status.idle": "2023-03-01T09:14:36.485142Z",
          "shell.execute_reply": "2023-03-01T09:14:36.484505Z"
        },
        "id": "yvfE6iBuNaRh"
      },
      "outputs": [],
      "source": [
        "model_skorch = NeuralNetClassifier(ClassifierModule, device=\"cuda\")"
      ]
    },
    {
      "cell_type": "markdown",
      "metadata": {
        "id": "7zOulcOsNaRh"
      },
      "source": [
        "## 5. Compute out-of-sample predicted probabilities\n"
      ]
    },
    {
      "cell_type": "markdown",
      "metadata": {
        "id": "PQwZohCMNaRh"
      },
      "source": [
        "If we'd like cleanlab to identify potential label errors in the whole dataset and not just the training set, we can consider using the entire dataset when computing the out-of-sample predicted probabilities, `pred_probs`, via cross-validation.\n"
      ]
    },
    {
      "cell_type": "code",
      "source": [
        "help(cross_val_predict)"
      ],
      "metadata": {
        "id": "652OyLHvQFWc"
      },
      "execution_count": null,
      "outputs": []
    },
    {
      "cell_type": "code",
      "execution_count": 14,
      "metadata": {
        "execution": {
          "iopub.execute_input": "2023-03-01T09:14:36.487806Z",
          "iopub.status.busy": "2023-03-01T09:14:36.487601Z",
          "iopub.status.idle": "2023-03-01T09:16:10.811142Z",
          "shell.execute_reply": "2023-03-01T09:16:10.810532Z"
        },
        "id": "I6m6pEWeNaRh",
        "outputId": "a190901d-6eac-4309-bab1-ab8d1a5802f1",
        "colab": {
          "base_uri": "https://localhost:8080/"
        }
      },
      "outputs": [
        {
          "output_type": "stream",
          "name": "stdout",
          "text": [
            "  epoch    train_loss    valid_acc    valid_loss     dur\n",
            "-------  ------------  -----------  ------------  ------\n",
            "      1        \u001b[36m0.7301\u001b[0m       \u001b[32m0.9159\u001b[0m        \u001b[35m0.3186\u001b[0m  8.0624\n",
            "      2        \u001b[36m0.2108\u001b[0m       \u001b[32m0.9428\u001b[0m        \u001b[35m0.2024\u001b[0m  1.7514\n",
            "      3        \u001b[36m0.1491\u001b[0m       \u001b[32m0.9530\u001b[0m        \u001b[35m0.1599\u001b[0m  1.7522\n",
            "      4        \u001b[36m0.1207\u001b[0m       \u001b[32m0.9598\u001b[0m        \u001b[35m0.1361\u001b[0m  1.7916\n",
            "      5        \u001b[36m0.1034\u001b[0m       \u001b[32m0.9642\u001b[0m        \u001b[35m0.1207\u001b[0m  2.4340\n",
            "      6        \u001b[36m0.0915\u001b[0m       \u001b[32m0.9680\u001b[0m        \u001b[35m0.1096\u001b[0m  1.7900\n",
            "      7        \u001b[36m0.0826\u001b[0m       \u001b[32m0.9702\u001b[0m        \u001b[35m0.1012\u001b[0m  1.7445\n",
            "      8        \u001b[36m0.0757\u001b[0m       \u001b[32m0.9726\u001b[0m        \u001b[35m0.0944\u001b[0m  1.7535\n",
            "      9        \u001b[36m0.0699\u001b[0m       \u001b[32m0.9742\u001b[0m        \u001b[35m0.0892\u001b[0m  1.7424\n",
            "     10        \u001b[36m0.0651\u001b[0m       \u001b[32m0.9753\u001b[0m        \u001b[35m0.0850\u001b[0m  1.7690\n",
            "  epoch    train_loss    valid_acc    valid_loss     dur\n",
            "-------  ------------  -----------  ------------  ------\n",
            "      1        \u001b[36m0.7820\u001b[0m       \u001b[32m0.9154\u001b[0m        \u001b[35m0.3112\u001b[0m  2.4626\n",
            "      2        \u001b[36m0.2184\u001b[0m       \u001b[32m0.9435\u001b[0m        \u001b[35m0.1944\u001b[0m  1.8341\n",
            "      3        \u001b[36m0.1536\u001b[0m       \u001b[32m0.9532\u001b[0m        \u001b[35m0.1579\u001b[0m  1.7638\n",
            "      4        \u001b[36m0.1246\u001b[0m       \u001b[32m0.9591\u001b[0m        \u001b[35m0.1386\u001b[0m  1.7551\n",
            "      5        \u001b[36m0.1070\u001b[0m       \u001b[32m0.9621\u001b[0m        \u001b[35m0.1251\u001b[0m  1.7553\n",
            "      6        \u001b[36m0.0948\u001b[0m       \u001b[32m0.9644\u001b[0m        \u001b[35m0.1161\u001b[0m  1.7626\n",
            "      7        \u001b[36m0.0855\u001b[0m       \u001b[32m0.9660\u001b[0m        \u001b[35m0.1086\u001b[0m  2.0404\n",
            "      8        \u001b[36m0.0782\u001b[0m       \u001b[32m0.9675\u001b[0m        \u001b[35m0.1026\u001b[0m  3.8548\n",
            "      9        \u001b[36m0.0723\u001b[0m       \u001b[32m0.9693\u001b[0m        \u001b[35m0.0978\u001b[0m  3.1872\n",
            "     10        \u001b[36m0.0673\u001b[0m       \u001b[32m0.9708\u001b[0m        \u001b[35m0.0935\u001b[0m  2.5335\n",
            "  epoch    train_loss    valid_acc    valid_loss     dur\n",
            "-------  ------------  -----------  ------------  ------\n",
            "      1        \u001b[36m0.7656\u001b[0m       \u001b[32m0.9251\u001b[0m        \u001b[35m0.2946\u001b[0m  2.0113\n",
            "      2        \u001b[36m0.2091\u001b[0m       \u001b[32m0.9521\u001b[0m        \u001b[35m0.1822\u001b[0m  2.1984\n",
            "      4        \u001b[36m0.1189\u001b[0m       \u001b[32m0.9642\u001b[0m        \u001b[35m0.1228\u001b[0m  1.8212\n",
            "      5        \u001b[36m0.1013\u001b[0m       \u001b[32m0.9680\u001b[0m        \u001b[35m0.1106\u001b[0m  1.7676\n",
            "      6        \u001b[36m0.0892\u001b[0m       \u001b[32m0.9700\u001b[0m        \u001b[35m0.1022\u001b[0m  1.7452\n",
            "      7        \u001b[36m0.0802\u001b[0m       \u001b[32m0.9709\u001b[0m        \u001b[35m0.0966\u001b[0m  1.7634\n",
            "      8        \u001b[36m0.0732\u001b[0m       \u001b[32m0.9732\u001b[0m        \u001b[35m0.0917\u001b[0m  2.3918\n",
            "      9        \u001b[36m0.0676\u001b[0m       \u001b[32m0.9746\u001b[0m        \u001b[35m0.0879\u001b[0m  1.9123\n",
            "     10        \u001b[36m0.0628\u001b[0m       \u001b[32m0.9758\u001b[0m        \u001b[35m0.0847\u001b[0m  1.7699\n"
          ]
        }
      ],
      "source": [
        "num_crossval_folds = 3  # for efficiency; values like 5 or 10 will generally work better\n",
        "pred_probs = cross_val_predict(\n",
        "    model_skorch,\n",
        "    X,\n",
        "    labels,\n",
        "    cv=num_crossval_folds,\n",
        "    method=\"predict_proba\",\n",
        ")"
      ]
    },
    {
      "cell_type": "markdown",
      "metadata": {
        "id": "XCT8gZIENaRh"
      },
      "source": [
        "An additional benefit of cross-validation is that it facilitates more reliable evaluation of our model than a single training/validation split."
      ]
    },
    {
      "cell_type": "code",
      "source": [
        "type(pred_probs)"
      ],
      "metadata": {
        "colab": {
          "base_uri": "https://localhost:8080/"
        },
        "id": "f3ZvPtU4Q0kV",
        "outputId": "fb7ad9a4-e116-4aed-bd55-d660216141f1"
      },
      "execution_count": 15,
      "outputs": [
        {
          "output_type": "execute_result",
          "data": {
            "text/plain": [
              "numpy.ndarray"
            ]
          },
          "metadata": {},
          "execution_count": 15
        }
      ]
    },
    {
      "cell_type": "code",
      "source": [
        "pred_probs.shape"
      ],
      "metadata": {
        "colab": {
          "base_uri": "https://localhost:8080/"
        },
        "id": "SP5jfjXaQ_a2",
        "outputId": "c67184ce-d825-41b6-8564-05b6ea6c775c"
      },
      "execution_count": 16,
      "outputs": [
        {
          "output_type": "execute_result",
          "data": {
            "text/plain": [
              "(70000, 10)"
            ]
          },
          "metadata": {},
          "execution_count": 16
        }
      ]
    },
    {
      "cell_type": "code",
      "execution_count": 17,
      "metadata": {
        "execution": {
          "iopub.execute_input": "2023-03-01T09:16:10.814722Z",
          "iopub.status.busy": "2023-03-01T09:16:10.814252Z",
          "iopub.status.idle": "2023-03-01T09:16:10.825516Z",
          "shell.execute_reply": "2023-03-01T09:16:10.825021Z"
        },
        "id": "BZcZpLkVNaRi",
        "outputId": "31a752a1-8b9a-4f80-c9ce-6dae09bdbfd0",
        "colab": {
          "base_uri": "https://localhost:8080/"
        }
      },
      "outputs": [
        {
          "output_type": "stream",
          "name": "stdout",
          "text": [
            "Cross-validated estimate of accuracy on held-out data: 0.9766571428571429\n"
          ]
        }
      ],
      "source": [
        "predicted_labels = pred_probs.argmax(axis=1)\n",
        "acc = accuracy_score(labels, predicted_labels)\n",
        "print(f\"Cross-validated estimate of accuracy on held-out data: {acc}\")"
      ]
    },
    {
      "cell_type": "markdown",
      "metadata": {
        "id": "wrOTalhfNaRi"
      },
      "source": [
        "## 6. Use cleanlab to find label issues\n"
      ]
    },
    {
      "cell_type": "markdown",
      "metadata": {
        "id": "i5v-1ggoNaRi"
      },
      "source": [
        "Based on the given labels and out-of-sample predicted probabilities, cleanlab can quickly help us identify label issues in our dataset. For a dataset with N examples from K classes, the labels should be a 1D array of length N and predicted probabilities should be a 2D (N x K) array.  Here we request that the indices of the identified label issues be sorted by cleanlab's self-confidence score, which measures the quality of each given label via the probability assigned to it in our model's prediction."
      ]
    },
    {
      "cell_type": "code",
      "source": [
        "from cleanlab.filter import find_label_issues\n",
        "\n",
        "ranked_label_issues = find_label_issues(\n",
        "    labels,\n",
        "    pred_probs,\n",
        "    return_indices_ranked_by=\"self_confidence\",\n",
        ")\n",
        "\n",
        "print(f\"Cleanlab found {len(ranked_label_issues)} label issues.\")\n",
        "print(f\"Top 15 most likely label errors: \\n {ranked_label_issues[:15]}\")"
      ],
      "metadata": {
        "colab": {
          "base_uri": "https://localhost:8080/"
        },
        "id": "nXRB5Y5wRFm5",
        "outputId": "a72cb3e9-8ac2-4a9d-bda6-f36548b29b73"
      },
      "execution_count": 18,
      "outputs": [
        {
          "output_type": "stream",
          "name": "stdout",
          "text": [
            "Cleanlab found 139 label issues.\n",
            "Top 15 most likely label errors: \n",
            " [59915  8729 59701 31134 65955  2676 50239 46269 41464 62293 42140 30049\n",
            " 28556 53216 23911]\n"
          ]
        }
      ]
    },
    {
      "cell_type": "markdown",
      "metadata": {
        "id": "kz5A39pMNaRi"
      },
      "source": [
        "`ranked_label_issues` is a list of indices corresponding to examples that are worth inspecting more closely. To help visualize specific examples, we define a `plot_examples` function (can skip these details)."
      ]
    },
    {
      "cell_type": "markdown",
      "metadata": {
        "id": "yufMrWk5NaRj"
      },
      "source": [
        "<details><summary>See the implementation of `plot_examples` **(click to expand)**</summary>\n",
        "\n",
        "```python\n",
        "# Note: This pulldown content is for docs.cleanlab.ai, if running on local Jupyter or Colab, please ignore it.\n",
        "\n",
        "import matplotlib.pyplot as plt\n",
        "\n",
        "def plot_examples(id_iter, nrows=1, ncols=1):\n",
        "    for count, id in enumerate(id_iter):\n",
        "        plt.subplot(nrows, ncols, count + 1)\n",
        "        plt.imshow(X[id].reshape(28, 28), cmap=\"gray\")\n",
        "        plt.title(f\"id: {id} \\n label: {y[id]}\")\n",
        "        plt.axis(\"off\")\n",
        "\n",
        "    plt.tight_layout(h_pad=2.0)\n",
        "```\n",
        "</details>"
      ]
    },
    {
      "cell_type": "code",
      "execution_count": 19,
      "metadata": {
        "execution": {
          "iopub.execute_input": "2023-03-01T09:16:12.514449Z",
          "iopub.status.busy": "2023-03-01T09:16:12.513471Z",
          "iopub.status.idle": "2023-03-01T09:16:16.596303Z",
          "shell.execute_reply": "2023-03-01T09:16:16.595348Z"
        },
        "nbsphinx": "hidden",
        "id": "JkO_LGqlNaRj"
      },
      "outputs": [],
      "source": [
        "import matplotlib.pyplot as plt\n",
        "\n",
        "def plot_examples(id_iter, nrows=1, ncols=1):\n",
        "    for count, id in enumerate(id_iter):\n",
        "        plt.subplot(nrows, ncols, count + 1)\n",
        "        plt.imshow(X[id].reshape(28, 28), cmap=\"gray\")\n",
        "        plt.title(f\"id: {id} \\n label: {labels[id]}\")\n",
        "        plt.axis(\"off\")\n",
        "\n",
        "    plt.tight_layout(h_pad=2.0)"
      ]
    },
    {
      "cell_type": "markdown",
      "metadata": {
        "id": "OnIoRSvDNaRj"
      },
      "source": [
        "Let's look at the top 15 examples cleanlab thinks are most likely to be incorrectly labeled. We can see a few label errors and odd edge cases. Feel free to change the values below to display more/fewer examples."
      ]
    },
    {
      "cell_type": "code",
      "execution_count": 23,
      "metadata": {
        "execution": {
          "iopub.execute_input": "2023-03-01T09:16:16.600257Z",
          "iopub.status.busy": "2023-03-01T09:16:16.599717Z",
          "iopub.status.idle": "2023-03-01T09:16:17.502112Z",
          "shell.execute_reply": "2023-03-01T09:16:17.501494Z"
        },
        "id": "EKA9qq5pNaRj",
        "outputId": "96efdb8e-458d-455e-9e28-0b2a8a007853",
        "colab": {
          "base_uri": "https://localhost:8080/",
          "height": 297
        }
      },
      "outputs": [
        {
          "output_type": "display_data",
          "data": {
            "text/plain": [
              "<Figure size 432x288 with 20 Axes>"
            ],
            "image/png": "[encoded data removed]"
          },
          "metadata": {
            "needs_background": "light"
          }
        }
      ],
      "source": [
        "plot_examples(ranked_label_issues[range(20)], 4, 5)"
      ]
    },
    {
      "cell_type": "markdown",
      "metadata": {
        "id": "Oe1P7UVeNaRj"
      },
      "source": [
        "Let's zoom into some specific examples from the above set:"
      ]
    },
    {
      "cell_type": "markdown",
      "metadata": {
        "id": "7WzLBFZfNaRk"
      },
      "source": [
        "Given label is **4** but looks more like a **7**:\n"
      ]
    },
    {
      "cell_type": "code",
      "execution_count": 24,
      "metadata": {
        "execution": {
          "iopub.execute_input": "2023-03-01T09:16:17.505824Z",
          "iopub.status.busy": "2023-03-01T09:16:17.505126Z",
          "iopub.status.idle": "2023-03-01T09:16:17.599436Z",
          "shell.execute_reply": "2023-03-01T09:16:17.598912Z"
        },
        "id": "SDB_465aNaRk",
        "outputId": "c5c42ce8-4cbd-437a-ff04-965a53057f5b",
        "colab": {
          "base_uri": "https://localhost:8080/",
          "height": 297
        }
      },
      "outputs": [
        {
          "output_type": "display_data",
          "data": {
            "text/plain": [
              "<Figure size 432x288 with 1 Axes>"
            ],
            "image/png": "[encoded data removed]"
          },
          "metadata": {
            "needs_background": "light"
          }
        }
      ],
      "source": [
        "plot_examples([59915])"
      ]
    },
    {
      "cell_type": "markdown",
      "metadata": {
        "id": "Z-LgtQULNaRk"
      },
      "source": [
        "Given label is **4** but also looks like **9**:\n"
      ]
    },
    {
      "cell_type": "code",
      "execution_count": 25,
      "metadata": {
        "execution": {
          "iopub.execute_input": "2023-03-01T09:16:17.603944Z",
          "iopub.status.busy": "2023-03-01T09:16:17.602436Z",
          "iopub.status.idle": "2023-03-01T09:16:17.689924Z",
          "shell.execute_reply": "2023-03-01T09:16:17.689410Z"
        },
        "id": "ND1rOnKgNaRk",
        "outputId": "62159652-6c1f-4b5d-8d33-3f9c363af25d",
        "colab": {
          "base_uri": "https://localhost:8080/",
          "height": 297
        }
      },
      "outputs": [
        {
          "output_type": "display_data",
          "data": {
            "text/plain": [
              "<Figure size 432x288 with 1 Axes>"
            ],
            "image/png": "[encoded data removed]"
          },
          "metadata": {
            "needs_background": "light"
          }
        }
      ],
      "source": [
        "plot_examples([24798])"
      ]
    },
    {
      "cell_type": "markdown",
      "metadata": {
        "id": "QXrtYtSMNaRk"
      },
      "source": [
        "A very odd looking **5**:\n"
      ]
    },
    {
      "cell_type": "code",
      "execution_count": 26,
      "metadata": {
        "execution": {
          "iopub.execute_input": "2023-03-01T09:16:17.694020Z",
          "iopub.status.busy": "2023-03-01T09:16:17.692735Z",
          "iopub.status.idle": "2023-03-01T09:16:17.779932Z",
          "shell.execute_reply": "2023-03-01T09:16:17.779403Z"
        },
        "id": "YGw1f_6KNaRk",
        "outputId": "c9189db0-c807-4c4a-d512-86a548aa0244",
        "colab": {
          "base_uri": "https://localhost:8080/",
          "height": 297
        }
      },
      "outputs": [
        {
          "output_type": "display_data",
          "data": {
            "text/plain": [
              "<Figure size 432x288 with 1 Axes>"
            ],
            "image/png": "[encoded data removed]"
          },
          "metadata": {
            "needs_background": "light"
          }
        }
      ],
      "source": [
        "plot_examples([59701])"
      ]
    },
    {
      "cell_type": "markdown",
      "metadata": {
        "id": "_6T5ccs6NaRl"
      },
      "source": [
        "Given label is **3** but could be a **7**:"
      ]
    },
    {
      "cell_type": "code",
      "execution_count": 27,
      "metadata": {
        "execution": {
          "iopub.execute_input": "2023-03-01T09:16:17.783337Z",
          "iopub.status.busy": "2023-03-01T09:16:17.782933Z",
          "iopub.status.idle": "2023-03-01T09:16:17.872163Z",
          "shell.execute_reply": "2023-03-01T09:16:17.871617Z"
        },
        "id": "8sR0c2G-NaRl",
        "outputId": "c6307e7d-00a8-44df-9d2b-9f5e772fe862",
        "colab": {
          "base_uri": "https://localhost:8080/",
          "height": 297
        }
      },
      "outputs": [
        {
          "output_type": "display_data",
          "data": {
            "text/plain": [
              "<Figure size 432x288 with 1 Axes>"
            ],
            "image/png": "[encoded data removed]"
          },
          "metadata": {
            "needs_background": "light"
          }
        }
      ],
      "source": [
        "plot_examples([50340])"
      ]
    },
    {
      "cell_type": "markdown",
      "metadata": {
        "id": "g0pHAPcINaRm"
      },
      "source": [
        "cleanlab has shortlisted the most likely label errors to speed up your data cleaning process. With this list, you can decide whether to fix label issues or prune some of these examples from the dataset. \n",
        "\n",
        "You can see that even widely-used datasets like MNIST contain problematic labels. Never blindly trust your data! You should always check it for potential issues, many of which can be easily identified by cleanlab.\n"
      ]
    },
    {
      "cell_type": "code",
      "execution_count": null,
      "metadata": {
        "execution": {
          "iopub.execute_input": "2023-03-01T09:16:17.876530Z",
          "iopub.status.busy": "2023-03-01T09:16:17.875238Z",
          "iopub.status.idle": "2023-03-01T09:16:17.880216Z",
          "shell.execute_reply": "2023-03-01T09:16:17.879704Z"
        },
        "nbsphinx": "hidden",
        "id": "2RBn1i1gNaRm"
      },
      "outputs": [],
      "source": [
        "# Note: This cell is only for docs.cleanlab.ai, if running on local Jupyter or Colab, please ignore it.\n",
        "\n",
        "highlighted_indices = [59915, 24798, 59701, 50340]  # verify these examples were found by find_label_issues\n",
        "if not all(x in ranked_label_issues for x in highlighted_indices):\n",
        "    raise Exception(\"Some highlighted examples are missing from ranked_label_issues.\")"
      ]
    }
  ],
  "metadata": {
    "interpreter": {
      "hash": "ced20e3e49bb4fa4ce8ad38f8f2535b7fc4c39b2b89554502b5dbdad1ad67eda"
    },
    "kernelspec": {
      "display_name": "Python 3 (ipykernel)",
      "language": "python",
      "name": "python3"
    },
    "language_info": {
      "codemirror_mode": {
        "name": "ipython",
        "version": 3
      },
      "file_extension": ".py",
      "mimetype": "text/x-python",
      "name": "python",
      "nbconvert_exporter": "python",
      "pygments_lexer": "ipython3",
      "version": "3.10.10"
    },
    "colab": {
      "provenance": [],
      "include_colab_link": true
    },
    "accelerator": "GPU",
    "gpuClass": "standard"
  },
  "nbformat": 4,
  "nbformat_minor": 0
}