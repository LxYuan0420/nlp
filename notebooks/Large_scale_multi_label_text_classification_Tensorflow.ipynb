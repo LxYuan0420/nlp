{
  "nbformat": 4,
  "nbformat_minor": 0,
  "metadata": {
    "colab": {
      "name": "Large-scale multi-label text classification Tensorflow.ipynb",
      "provenance": [],
      "collapsed_sections": []
    },
    "kernelspec": {
      "name": "python3",
      "display_name": "Python 3"
    },
    "language_info": {
      "name": "python"
    }
  },
  "cells": [
    {
      "cell_type": "code",
      "metadata": {
        "id": "0r4oFTNQnhEb"
      },
      "source": [
        "from tensorflow.keras import layers\n",
        "from tensorflow import keras\n",
        "import tensorflow as tf\n",
        "\n",
        "from sklearn.model_selection import train_test_split\n",
        "from ast import literal_eval\n",
        "\n",
        "import matplotlib.pyplot as plt\n",
        "import pandas as pd\n",
        "import numpy as np"
      ],
      "execution_count": 1,
      "outputs": []
    },
    {
      "cell_type": "markdown",
      "metadata": {
        "id": "_-iHkO4_oJr6"
      },
      "source": [
        "Perform exploratory data analysis"
      ]
    },
    {
      "cell_type": "code",
      "metadata": {
        "colab": {
          "base_uri": "https://localhost:8080/",
          "height": 200
        },
        "id": "0lwqrWdOoHJN",
        "outputId": "ef132f9f-3d41-4b55-d0de-f172e38489d3"
      },
      "source": [
        "arxiv_data = pd.read_csv(\n",
        "    \"https://github.com/soumik12345/multi-label-text-classification/releases/download/v0.2/arxiv_data.csv\"\n",
        ")\n",
        "arxiv_data.head()"
      ],
      "execution_count": 6,
      "outputs": [
        {
          "output_type": "execute_result",
          "data": {
            "text/html": [
              "<div>\n",
              "<style scoped>\n",
              "    .dataframe tbody tr th:only-of-type {\n",
              "        vertical-align: middle;\n",
              "    }\n",
              "\n",
              "    .dataframe tbody tr th {\n",
              "        vertical-align: top;\n",
              "    }\n",
              "\n",
              "    .dataframe thead th {\n",
              "        text-align: right;\n",
              "    }\n",
              "</style>\n",
              "<table border=\"1\" class=\"dataframe\">\n",
              "  <thead>\n",
              "    <tr style=\"text-align: right;\">\n",
              "      <th></th>\n",
              "      <th>titles</th>\n",
              "      <th>summaries</th>\n",
              "      <th>terms</th>\n",
              "    </tr>\n",
              "  </thead>\n",
              "  <tbody>\n",
              "    <tr>\n",
              "      <th>0</th>\n",
              "      <td>Survey on Semantic Stereo Matching / Semantic ...</td>\n",
              "      <td>Stereo matching is one of the widely used tech...</td>\n",
              "      <td>['cs.CV', 'cs.LG']</td>\n",
              "    </tr>\n",
              "    <tr>\n",
              "      <th>1</th>\n",
              "      <td>FUTURE-AI: Guiding Principles and Consensus Re...</td>\n",
              "      <td>The recent advancements in artificial intellig...</td>\n",
              "      <td>['cs.CV', 'cs.AI', 'cs.LG']</td>\n",
              "    </tr>\n",
              "    <tr>\n",
              "      <th>2</th>\n",
              "      <td>Enforcing Mutual Consistency of Hard Regions f...</td>\n",
              "      <td>In this paper, we proposed a novel mutual cons...</td>\n",
              "      <td>['cs.CV', 'cs.AI']</td>\n",
              "    </tr>\n",
              "    <tr>\n",
              "      <th>3</th>\n",
              "      <td>Parameter Decoupling Strategy for Semi-supervi...</td>\n",
              "      <td>Consistency training has proven to be an advan...</td>\n",
              "      <td>['cs.CV']</td>\n",
              "    </tr>\n",
              "    <tr>\n",
              "      <th>4</th>\n",
              "      <td>Background-Foreground Segmentation for Interio...</td>\n",
              "      <td>To ensure safety in automated driving, the cor...</td>\n",
              "      <td>['cs.CV', 'cs.LG']</td>\n",
              "    </tr>\n",
              "  </tbody>\n",
              "</table>\n",
              "</div>"
            ],
            "text/plain": [
              "                                              titles  ...                        terms\n",
              "0  Survey on Semantic Stereo Matching / Semantic ...  ...           ['cs.CV', 'cs.LG']\n",
              "1  FUTURE-AI: Guiding Principles and Consensus Re...  ...  ['cs.CV', 'cs.AI', 'cs.LG']\n",
              "2  Enforcing Mutual Consistency of Hard Regions f...  ...           ['cs.CV', 'cs.AI']\n",
              "3  Parameter Decoupling Strategy for Semi-supervi...  ...                    ['cs.CV']\n",
              "4  Background-Foreground Segmentation for Interio...  ...           ['cs.CV', 'cs.LG']\n",
              "\n",
              "[5 rows x 3 columns]"
            ]
          },
          "metadata": {},
          "execution_count": 6
        }
      ]
    },
    {
      "cell_type": "code",
      "metadata": {
        "colab": {
          "base_uri": "https://localhost:8080/"
        },
        "id": "nMo31OR8oNLJ",
        "outputId": "e1e9d192-67d4-4791-e3e5-c4b52fa59d2e"
      },
      "source": [
        "print(f\"There are {len(arxiv_data)} rows in the dataset.\")\n",
        "\n",
        "total_duplicate_titles = sum(arxiv_data['titles'].duplicated())\n",
        "print(f\"There are {total_duplicate_titles} duplicate titles.\")\n",
        "\n",
        "# drop duplicatation\n",
        "arxiv_data = arxiv_data[~arxiv_data['titles'].duplicated()]\n",
        "\n",
        "print(f\"There are {sum(arxiv_data['terms'].value_counts() == 1)} labels with occurrence as low as 1\")\n",
        "\n",
        "print(f\"Number of unique terms: {arxiv_data['terms'].nunique()}\")"
      ],
      "execution_count": 7,
      "outputs": [
        {
          "output_type": "stream",
          "name": "stdout",
          "text": [
            "There are 51774 rows in the dataset.\n",
            "There are 12802 duplicate titles.\n",
            "There are 2321 labels with occurrence as low as 1\n",
            "Number of unique terms: 3157\n"
          ]
        }
      ]
    },
    {
      "cell_type": "code",
      "metadata": {
        "colab": {
          "base_uri": "https://localhost:8080/"
        },
        "id": "aDJTwd-epBIM",
        "outputId": "2b244dfa-154b-4bec-f771-9b1bbc7bf73a"
      },
      "source": [
        "arxiv_data_filtered  = arxiv_data.groupby(\"terms\").filter(lambda x: len(x) > 1)\n",
        "arxiv_data_filtered.shape"
      ],
      "execution_count": 8,
      "outputs": [
        {
          "output_type": "execute_result",
          "data": {
            "text/plain": [
              "(36651, 3)"
            ]
          },
          "metadata": {},
          "execution_count": 8
        }
      ]
    },
    {
      "cell_type": "markdown",
      "metadata": {
        "id": "hasCQpZqpdoS"
      },
      "source": [
        "Convert the string labels to lists of strings"
      ]
    },
    {
      "cell_type": "code",
      "metadata": {
        "colab": {
          "base_uri": "https://localhost:8080/"
        },
        "id": "p8ktkxnCpcQZ",
        "outputId": "8658911d-0f9a-4048-dbe4-2d2a74183037"
      },
      "source": [
        "arxiv_data_filtered['terms'] = arxiv_data_filtered['terms'].apply(lambda x: literal_eval(x))\n",
        "arxiv_data_filtered['terms'].values[:5]"
      ],
      "execution_count": 10,
      "outputs": [
        {
          "output_type": "execute_result",
          "data": {
            "text/plain": [
              "array([list(['cs.CV', 'cs.LG']), list(['cs.CV', 'cs.AI', 'cs.LG']),\n",
              "       list(['cs.CV', 'cs.AI']), list(['cs.CV']),\n",
              "       list(['cs.CV', 'cs.LG'])], dtype=object)"
            ]
          },
          "metadata": {},
          "execution_count": 10
        }
      ]
    },
    {
      "cell_type": "markdown",
      "metadata": {
        "id": "-hLXOJfDqUBV"
      },
      "source": [
        "Use stratified splits because of class imbalance"
      ]
    },
    {
      "cell_type": "code",
      "metadata": {
        "colab": {
          "base_uri": "https://localhost:8080/"
        },
        "id": "h9C1YXvsp8m3",
        "outputId": "fe0c3904-5dfb-4bdb-bd22-00a1940b54d1"
      },
      "source": [
        "test_split = 0.1\n",
        "\n",
        "train_df, test_df = train_test_split(\n",
        "    arxiv_data_filtered,\n",
        "    test_size=test_split,\n",
        "    stratify=arxiv_data_filtered['terms'].values,\n",
        ")\n",
        "\n",
        "val_df = test_df.sample(frac=0.5)\n",
        "test_df.drop(val_df.index, inplace=True)\n",
        "\n",
        "print(f\"Number of rows in training set: {len(train_df)}\")\n",
        "print(f\"Number of rows in validation set: {len(val_df)}\")\n",
        "print(f\"Number of rows in test set: {len(test_df)}\")"
      ],
      "execution_count": 11,
      "outputs": [
        {
          "output_type": "stream",
          "name": "stdout",
          "text": [
            "Number of rows in training set: 32985\n",
            "Number of rows in validation set: 1833\n",
            "Number of rows in test set: 1833\n"
          ]
        },
        {
          "output_type": "stream",
          "name": "stderr",
          "text": [
            "/usr/local/lib/python3.7/dist-packages/pandas/core/frame.py:4174: SettingWithCopyWarning: \n",
            "A value is trying to be set on a copy of a slice from a DataFrame\n",
            "\n",
            "See the caveats in the documentation: https://pandas.pydata.org/pandas-docs/stable/user_guide/indexing.html#returning-a-view-versus-a-copy\n",
            "  errors=errors,\n"
          ]
        }
      ]
    },
    {
      "cell_type": "markdown",
      "metadata": {
        "id": "MUcQGi1zrLxq"
      },
      "source": [
        "Multi-label binarization\n",
        "\n",
        "Now we preprocess our labels using the StringLookup layer."
      ]
    },
    {
      "cell_type": "code",
      "metadata": {
        "colab": {
          "base_uri": "https://localhost:8080/"
        },
        "id": "q_LEQ7narG-S",
        "outputId": "6b32ee4a-4e6a-4a26-8fe0-da6b57c62624"
      },
      "source": [
        "terms = tf.ragged.constant(train_df['terms'].values)\n",
        "lookup = tf.keras.layers.StringLookup(output_mode=\"multi_hot\")\n",
        "lookup.adapt(terms)\n",
        "vocab = lookup.get_vocabulary()\n",
        "\n",
        "def invert_multi_hot(encoded_labels):\n",
        "    \"\"\"Reverse a single multi-hot encoded label to a tuple of vocab terms.\"\"\"\n",
        "    hot_indices = np.argwhere(encoded_labels == 1.0)[..., 0]\n",
        "    return np.take(vocab, hot_indices)\n",
        "\n",
        "print(f\"Vocabulary: {vocab}\")"
      ],
      "execution_count": 14,
      "outputs": [
        {
          "output_type": "stream",
          "name": "stdout",
          "text": [
            "Vocabulary: ['[UNK]', 'cs.CV', 'cs.LG', 'stat.ML', 'cs.AI', 'eess.IV', 'cs.RO', 'cs.CL', 'cs.NE', 'cs.CR', 'math.OC', 'eess.SP', 'cs.GR', 'cs.SI', 'cs.MM', 'cs.SY', 'cs.IR', 'cs.MA', 'eess.SY', 'cs.HC', 'math.IT', 'cs.IT', 'cs.DC', 'cs.CY', 'stat.AP', 'stat.TH', 'math.ST', 'stat.ME', 'eess.AS', 'cs.SD', 'q-bio.QM', 'q-bio.NC', 'cs.DS', 'cs.GT', 'cs.CG', 'cs.NI', 'cs.SE', 'I.2.6', 'stat.CO', 'math.NA', 'cs.NA', 'physics.chem-ph', 'cs.DB', 'q-bio.BM', 'cs.LO', 'cond-mat.dis-nn', '68T45', 'math.PR', 'cs.PL', 'physics.comp-ph', 'I.2.10', 'cs.CE', 'cs.AR', 'q-fin.ST', 'cond-mat.stat-mech', '68T05', 'math.DS', 'cs.CC', 'quant-ph', 'physics.data-an', 'I.4.6', 'physics.soc-ph', 'physics.ao-ph', 'q-bio.GN', 'econ.EM', 'cs.DM', 'physics.med-ph', 'astro-ph.IM', 'I.4.8', 'math.AT', 'cs.PF', 'I.4', 'q-fin.TR', 'cs.FL', 'I.5.4', 'I.2', '68U10', 'hep-ex', '68T10', 'physics.optics', 'physics.geo-ph', 'cond-mat.mtrl-sci', 'physics.flu-dyn', 'math.CO', 'math.AP', 'I.4; I.5', 'I.4.9', 'I.2.6; I.2.8', 'I.2.10; I.4; I.5', '68T01', '65D19', 'q-fin.CP', 'nlin.CD', 'cs.MS', 'I.2.6; I.5.1', 'I.2.0; I.2.6', '68T07', 'cs.SC', 'cs.ET', 'K.3.2', 'I.2.8', 'I.2.10; I.4.8', '68U01', '68T30', '68', 'q-fin.GN', 'q-fin.EC', 'q-bio.MN', 'econ.GN', 'I.4.9; I.5.4', 'I.4.5', 'I.2; I.5', 'I.2; I.4; I.5', 'I.2.6; I.2.7', '68T99', '68Q32', '62H30', 'q-fin.RM', 'q-fin.PM', 'q-bio.TO', 'q-bio.OT', 'physics.bio-ph', 'nlin.AO', 'math.LO', 'math.FA', 'hep-ph', 'cond-mat.soft', 'I.4.6; I.4.8', 'I.4.4', 'I.4.3', 'I.4.0', 'I.2; J.2', 'I.2; I.2.6; I.2.7', 'I.2.7', 'I.2.6; I.5.4', 'I.2.6; I.2.9', 'I.2.6; I.2.7; H.3.1; H.3.3', 'I.2.6; I.2.10', 'I.2.6, I.5.4', 'I.2.1; J.3', 'I.2.10; I.5.1; I.4.8', 'I.2.10; I.4.8; I.5.4', 'I.2.10; I.2.6', 'I.2.1', 'H.3.1; I.2.6; I.2.7', 'H.3.1; H.3.3; I.2.6; I.2.7', 'G.3', 'F.2.2; I.2.7', 'E.5; E.4; E.2; H.1.1; F.1.1; F.1.3', '68Txx', '62H99', '62H35', '14J60 (Primary) 14F05, 14J26 (Secondary)']\n"
          ]
        }
      ]
    },
    {
      "cell_type": "code",
      "metadata": {
        "colab": {
          "base_uri": "https://localhost:8080/"
        },
        "id": "86I1slg6t48q",
        "outputId": "1cc5ef3d-d78e-48e5-fced-2c441e584609"
      },
      "source": [
        "sample_label = train_df['terms'].iloc[0]\n",
        "print(f\"Original label: {sample_label}\")\n",
        "\n",
        "label_binarized = lookup([sample_label])\n",
        "print(f\"Binarized label: {label_binarized}\")"
      ],
      "execution_count": 16,
      "outputs": [
        {
          "output_type": "stream",
          "name": "stdout",
          "text": [
            "Original label: ['cs.CV', 'cs.AI']\n",
            "Binarized label: [[0. 1. 0. 0. 1. 0. 0. 0. 0. 0. 0. 0. 0. 0. 0. 0. 0. 0. 0. 0. 0. 0. 0. 0.\n",
            "  0. 0. 0. 0. 0. 0. 0. 0. 0. 0. 0. 0. 0. 0. 0. 0. 0. 0. 0. 0. 0. 0. 0. 0.\n",
            "  0. 0. 0. 0. 0. 0. 0. 0. 0. 0. 0. 0. 0. 0. 0. 0. 0. 0. 0. 0. 0. 0. 0. 0.\n",
            "  0. 0. 0. 0. 0. 0. 0. 0. 0. 0. 0. 0. 0. 0. 0. 0. 0. 0. 0. 0. 0. 0. 0. 0.\n",
            "  0. 0. 0. 0. 0. 0. 0. 0. 0. 0. 0. 0. 0. 0. 0. 0. 0. 0. 0. 0. 0. 0. 0. 0.\n",
            "  0. 0. 0. 0. 0. 0. 0. 0. 0. 0. 0. 0. 0. 0. 0. 0. 0. 0. 0. 0. 0. 0. 0. 0.\n",
            "  0. 0. 0. 0. 0. 0. 0. 0. 0.]]\n"
          ]
        }
      ]
    },
    {
      "cell_type": "markdown",
      "metadata": {
        "id": "ZufGHxcivZxF"
      },
      "source": [
        "Data preprocessing and tf.data.Dataset objects"
      ]
    },
    {
      "cell_type": "code",
      "metadata": {
        "colab": {
          "base_uri": "https://localhost:8080/"
        },
        "id": "uAvrttW1vUdL",
        "outputId": "6ddeeae7-8f20-4476-8ff1-bb20e8a584e9"
      },
      "source": [
        "# get % esimates of the seq length\n",
        "train_df['summaries'].apply(lambda x: len(x.split(\" \"))).describe()"
      ],
      "execution_count": 17,
      "outputs": [
        {
          "output_type": "execute_result",
          "data": {
            "text/plain": [
              "count    32985.000000\n",
              "mean       156.529119\n",
              "std         41.550223\n",
              "min          5.000000\n",
              "25%        128.000000\n",
              "50%        154.000000\n",
              "75%        183.000000\n",
              "max        462.000000\n",
              "Name: summaries, dtype: float64"
            ]
          },
          "metadata": {},
          "execution_count": 17
        }
      ]
    },
    {
      "cell_type": "code",
      "metadata": {
        "id": "dTkRhnIuxsyQ"
      },
      "source": [
        "max_seqlen = 150\n",
        "batch_size = 128\n",
        "padding_token = \"<pad>\"\n",
        "auto = tf.data.AUTOTUNE\n",
        "\n",
        "\n",
        "def unify_text_length(text, label):\n",
        "    # Split the given abstract and calculate its length.\n",
        "    word_splits = tf.strings.split(text, sep=\" \")\n",
        "    sequence_length = tf.shape(word_splits)[0]\n",
        "\n",
        "    # Calculate the padding amount.\n",
        "    padding_amount = max_seqlen - sequence_length\n",
        "\n",
        "    # Check if we need to pad or truncate.\n",
        "    if padding_amount > 0:\n",
        "        unified_text = tf.pad([text], [[0, padding_amount]], constant_values=\"<pad>\")\n",
        "        unified_text = tf.strings.reduce_join(unified_text, separator=\"\")\n",
        "    else:\n",
        "        unified_text = tf.strings.reduce_join(word_splits[:max_seqlen], separator=\" \")\n",
        "\n",
        "    # The expansion is needed for subsequent vectorization.\n",
        "    return tf.expand_dims(unified_text, -1), label\n",
        "\n",
        "\n",
        "def make_dataset(dataframe, is_train=True):\n",
        "    labels = tf.ragged.constant(dataframe[\"terms\"].values)\n",
        "    label_binarized = lookup(labels).numpy()\n",
        "    dataset = tf.data.Dataset.from_tensor_slices(\n",
        "        (dataframe[\"summaries\"].values, label_binarized)\n",
        "    )\n",
        "    dataset = dataset.shuffle(batch_size * 10) if is_train else dataset\n",
        "    dataset = dataset.map(unify_text_length, num_parallel_calls=auto).cache()\n",
        "    return dataset.batch(batch_size)"
      ],
      "execution_count": 30,
      "outputs": []
    },
    {
      "cell_type": "code",
      "metadata": {
        "id": "4DOOLRsDzqWy"
      },
      "source": [
        "train_dataset = make_dataset(train_df, is_train=True)\n",
        "validation_dataset = make_dataset(val_df, is_train=False)\n",
        "test_dataset = make_dataset(test_df, is_train=False)"
      ],
      "execution_count": 31,
      "outputs": []
    },
    {
      "cell_type": "code",
      "metadata": {
        "colab": {
          "base_uri": "https://localhost:8080/"
        },
        "id": "tLSkOqq3z4vQ",
        "outputId": "7cb08158-97b3-4f12-cd44-9791e8a2b004"
      },
      "source": [
        "text_batch, label_batch = next(iter(train_dataset))\n",
        "\n",
        "for i, text in enumerate(text_batch[:5]):\n",
        "    label = label_batch[i].numpy()[None, ...]\n",
        "    print(f\"Abstract: {text[0]}\")\n",
        "    print(f\"Label(s): {invert_multi_hot(label[0])}\")\n",
        "    print(\" \")"
      ],
      "execution_count": 32,
      "outputs": [
        {
          "output_type": "stream",
          "name": "stdout",
          "text": [
            "Abstract: b'Domain adaptation aims to learn a transferable model to bridge the domain\\nshift between one labeled source domain and another sparsely labeled or\\nunlabeled target domain. Since the labeled data may be collected from multiple\\nsources, multi-source domain adaptation (MDA) has attracted increasing\\nattention. Recent MDA methods do not consider the pixel-level alignment between\\nsources and target or the misalignment across different sources. In this paper,\\nwe propose a novel MDA framework to address these challenges. Specifically, we\\ndesign an end-to-end Multi-source Adversarial Domain Aggregation Network\\n(MADAN). First, an adapted domain is generated for each source with dynamic\\nsemantic consistency while aligning towards the target at the pixel-level\\ncycle-consistently. Second, sub-domain aggregation discriminator and\\ncross-domain cycle discriminator are proposed to make different adapted domains\\nmore closely aggregated. Finally, feature-level alignment is performed between\\nthe aggregated domain and the target domain while training the task network.\\nFor the segmentation adaptation, we further enforce category-level alignment\\nand incorporate context-aware generation, which constitutes MADAN+. We conduct\\nextensive MDA experiments'\n",
            "Label(s): ['cs.CV']\n",
            " \n",
            "Abstract: b'Adversarial attacks against deep learning models have gained significant\\nattention and recent works have proposed explanations for the existence of\\nadversarial examples and techniques to defend the models against these attacks.\\nAttention in computer vision has been used to incorporate focused learning of\\nimportant features and has led to improved accuracy. Recently, models with\\nattention mechanisms have been proposed to enhance adversarial robustness.\\nFollowing this context, this work aims at a general understanding of the impact\\nof attention on adversarial robustness. This work presents a comparative study\\nof adversarial robustness of non-attention and attention based image\\nclassification models trained on CIFAR-10, CIFAR-100 and Fashion MNIST datasets\\nunder the popular white box and black box attacks. The experimental results\\nshow that the robustness of attention based models may be dependent on the\\ndatasets used i.e. the number of classes involved in the classification. In\\ncontrast to the datasets with less number of classes, attention based models\\nare observed to show better robustness towards classification.<pad>'\n",
            "Label(s): ['cs.CV']\n",
            " \n",
            "Abstract: b\"Deep reinforcement learning (RL) has recently led to many breakthroughs on a\\nrange of complex control tasks. However, the agent's decision-making process is\\ngenerally not transparent. The lack of interpretability hinders the\\napplicability of RL in safety-critical scenarios. While several methods have\\nattempted to interpret vision-based RL, most come without detailed explanation\\nfor the agent's behavior. In this paper, we propose a self-supervised\\ninterpretable framework, which can discover interpretable features to enable\\neasy understanding of RL agents even for non-experts. Specifically, a\\nself-supervised interpretable network (SSINet) is employed to produce\\nfine-grained attention masks for highlighting task-relevant information, which\\nconstitutes most evidence for the agent's decisions. We verify and evaluate our\\nmethod on several Atari 2600 games as well as Duckietown, which is a\\nchallenging self-driving car simulator environment. The results show that our\\nmethod renders empirical evidences about how the agent makes decisions and why\\nthe agent performs well or badly, especially when transferred to novel scenes.\\nOverall, our method provides valuable insight into the\"\n",
            "Label(s): ['cs.CV']\n",
            " \n",
            "Abstract: b'Supervised machine learning requires a large amount of labeled data to\\nachieve proper test results. However, generating accurately labeled\\nsegmentation maps on remote sensing imagery, including images from synthetic\\naperture radar (SAR), is tedious and highly subjective. In this work, we\\npropose to alleviate the issue of limited training data by generating synthetic\\nSAR images with the pix2pix algorithm. This algorithm uses conditional\\nGenerative Adversarial Networks (cGANs) to generate an artificial image while\\npreserving the structure of the input. In our case, the input is a segmentation\\nmask, from which a corresponding synthetic SAR image is generated. We present\\ndifferent models, perform a comparative study and demonstrate that this\\napproach synthesizes convincing glaciers in SAR images with promising\\nqualitative and quantitative results.<pad><pad><pad><pad><pad><pad><pad><pad><pad><pad><pad><pad><pad><pad><pad><pad><pad><pad><pad><pad><pad><pad><pad><pad><pad><pad><pad><pad><pad><pad><pad><pad><pad><pad><pad><pad><pad><pad><pad>'\n",
            "Label(s): ['cs.CV' 'cs.LG']\n",
            " \n",
            "Abstract: b'This paper presents a co-salient object detection method to find common\\nsalient regions in a set of images. We utilize deep saliency networks to\\ntransfer co-saliency prior knowledge and better capture high-level semantic\\ninformation, and the resulting initial co-saliency maps are enhanced by seed\\npropagation steps over an integrated graph. The deep saliency networks are\\ntrained in a supervised manner to avoid online weakly supervised learning and\\nexploit them not only to extract high-level features but also to produce both\\nintra- and inter-image saliency maps. Through a refinement step, the initial\\nco-saliency maps can uniformly highlight co-salient regions and locate accurate\\nobject boundaries. To handle input image groups inconsistent in size, we\\npropose to pool multi-regional descriptors including both within-segment and\\nwithin-group information. In addition, the integrated multilayer graph is\\nconstructed to find the regions that the previous steps may not detect by seed\\npropagation with low-level descriptors. In this work, we utilize the useful\\ncomplementary components of high-, low-level information, and several\\nlearning-based steps.'\n",
            "Label(s): ['cs.CV']\n",
            " \n"
          ]
        }
      ]
    },
    {
      "cell_type": "markdown",
      "metadata": {
        "id": "jpE-9lFE2stf"
      },
      "source": [
        "Vectorization"
      ]
    },
    {
      "cell_type": "code",
      "metadata": {
        "colab": {
          "base_uri": "https://localhost:8080/"
        },
        "id": "ThLWAxBl2qBj",
        "outputId": "9cb991c2-e8f7-4f6e-f514-d4d584d55c82"
      },
      "source": [
        "train_df[\"total_words\"] = train_df[\"summaries\"].str.split().str.len()\n",
        "vocabulary_size = train_df[\"total_words\"].max()\n",
        "print(f\"Vocabulary size: {vocabulary_size}\")"
      ],
      "execution_count": 34,
      "outputs": [
        {
          "output_type": "stream",
          "name": "stdout",
          "text": [
            "Vocabulary size: 498\n"
          ]
        },
        {
          "output_type": "stream",
          "name": "stderr",
          "text": [
            "/usr/local/lib/python3.7/dist-packages/ipykernel_launcher.py:1: SettingWithCopyWarning: \n",
            "A value is trying to be set on a copy of a slice from a DataFrame.\n",
            "Try using .loc[row_indexer,col_indexer] = value instead\n",
            "\n",
            "See the caveats in the documentation: https://pandas.pydata.org/pandas-docs/stable/user_guide/indexing.html#returning-a-view-versus-a-copy\n",
            "  \"\"\"Entry point for launching an IPython kernel.\n"
          ]
        }
      ]
    },
    {
      "cell_type": "code",
      "metadata": {
        "id": "VDCt_zuC2_Oh"
      },
      "source": [
        "text_vectorizer = layers.TextVectorization(\n",
        "    max_tokens=vocabulary_size, ngrams=2, output_mode=\"tf_idf\"\n",
        ")\n",
        "\n",
        "# `TextVectorization` layer needs to be adapted as per the vocabulary from our\n",
        "# training set.\n",
        "with tf.device(\"/CPU:0\"):\n",
        "    text_vectorizer.adapt(train_dataset.map(lambda text, label: text))\n",
        "\n",
        "train_dataset = train_dataset.map(\n",
        "    lambda text, label: (text_vectorizer(text), label), num_parallel_calls=auto\n",
        ").prefetch(auto)\n",
        "validation_dataset = validation_dataset.map(\n",
        "    lambda text, label: (text_vectorizer(text), label), num_parallel_calls=auto\n",
        ").prefetch(auto)\n",
        "test_dataset = test_dataset.map(\n",
        "    lambda text, label: (text_vectorizer(text), label), num_parallel_calls=auto\n",
        ").prefetch(auto)"
      ],
      "execution_count": 35,
      "outputs": []
    },
    {
      "cell_type": "markdown",
      "metadata": {
        "id": "z05lMy-l4S0S"
      },
      "source": [
        "Create a text classification model"
      ]
    },
    {
      "cell_type": "code",
      "metadata": {
        "id": "ZwQpdMeN4Rg6"
      },
      "source": [
        "def make_model():\n",
        "   shallow_mlp_model = keras.Sequential(\n",
        "       [\n",
        "        layers.Dense(512, activation=\"relu\"),\n",
        "        layers.Dense(256, activation=\"relu\"),\n",
        "        layers.Dense(lookup.vocabulary_size(), activation=\"sigmoid\"),\n",
        "       ]\n",
        "   )\n",
        "   return shallow_mlp_model"
      ],
      "execution_count": 36,
      "outputs": []
    },
    {
      "cell_type": "markdown",
      "metadata": {
        "id": "nkTg_S-f5Nh4"
      },
      "source": [
        "Train the model\n"
      ]
    },
    {
      "cell_type": "code",
      "metadata": {
        "colab": {
          "base_uri": "https://localhost:8080/",
          "height": 1000
        },
        "id": "gNGiBQKN5Qrx",
        "outputId": "2871c082-84df-4487-c5ad-c340bf83f118"
      },
      "source": [
        "epochs = 20\n",
        "\n",
        "shallow_mlp_model = make_model()\n",
        "shallow_mlp_model.compile(\n",
        "    loss=\"binary_crossentropy\", optimizer=\"adam\", metrics=[\"categorical_accuracy\"]\n",
        ")\n",
        "\n",
        "history = shallow_mlp_model.fit(\n",
        "    train_dataset, validation_data=validation_dataset, epochs=epochs\n",
        ")\n",
        "\n",
        "\n",
        "def plot_result(item):\n",
        "    plt.plot(history.history[item], label=item)\n",
        "    plt.plot(history.history[\"val_\" + item], label=\"val_\" + item)\n",
        "    plt.xlabel(\"Epochs\")\n",
        "    plt.ylabel(item)\n",
        "    plt.title(\"Train and Validation {} Over Epochs\".format(item), fontsize=14)\n",
        "    plt.legend()\n",
        "    plt.grid()\n",
        "    plt.show()\n",
        "\n",
        "\n",
        "plot_result(\"loss\")\n",
        "plot_result(\"categorical_accuracy\")"
      ],
      "execution_count": 43,
      "outputs": [
        {
          "output_type": "stream",
          "name": "stdout",
          "text": [
            "Epoch 1/20\n",
            "258/258 [==============================] - 6s 20ms/step - loss: 0.0660 - categorical_accuracy: 0.7715 - val_loss: 0.0219 - val_categorical_accuracy: 0.8576\n",
            "Epoch 2/20\n",
            "258/258 [==============================] - 5s 18ms/step - loss: 0.0222 - categorical_accuracy: 0.8677 - val_loss: 0.0205 - val_categorical_accuracy: 0.8696\n",
            "Epoch 3/20\n",
            "258/258 [==============================] - 5s 18ms/step - loss: 0.0213 - categorical_accuracy: 0.8711 - val_loss: 0.0199 - val_categorical_accuracy: 0.8778\n",
            "Epoch 4/20\n",
            "258/258 [==============================] - 5s 18ms/step - loss: 0.0206 - categorical_accuracy: 0.8761 - val_loss: 0.0195 - val_categorical_accuracy: 0.8783\n",
            "Epoch 5/20\n",
            "258/258 [==============================] - 5s 18ms/step - loss: 0.0201 - categorical_accuracy: 0.8807 - val_loss: 0.0193 - val_categorical_accuracy: 0.8811\n",
            "Epoch 6/20\n",
            "258/258 [==============================] - 5s 18ms/step - loss: 0.0197 - categorical_accuracy: 0.8846 - val_loss: 0.0190 - val_categorical_accuracy: 0.8893\n",
            "Epoch 7/20\n",
            "258/258 [==============================] - 5s 18ms/step - loss: 0.0193 - categorical_accuracy: 0.8858 - val_loss: 0.0191 - val_categorical_accuracy: 0.8871\n",
            "Epoch 8/20\n",
            "258/258 [==============================] - 5s 19ms/step - loss: 0.0189 - categorical_accuracy: 0.8874 - val_loss: 0.0190 - val_categorical_accuracy: 0.8871\n",
            "Epoch 9/20\n",
            "258/258 [==============================] - 5s 18ms/step - loss: 0.0186 - categorical_accuracy: 0.8893 - val_loss: 0.0188 - val_categorical_accuracy: 0.8893\n",
            "Epoch 10/20\n",
            "258/258 [==============================] - 5s 18ms/step - loss: 0.0182 - categorical_accuracy: 0.8919 - val_loss: 0.0188 - val_categorical_accuracy: 0.8898\n",
            "Epoch 11/20\n",
            "258/258 [==============================] - 5s 18ms/step - loss: 0.0179 - categorical_accuracy: 0.8936 - val_loss: 0.0191 - val_categorical_accuracy: 0.8914\n",
            "Epoch 12/20\n",
            "258/258 [==============================] - 5s 19ms/step - loss: 0.0176 - categorical_accuracy: 0.8950 - val_loss: 0.0194 - val_categorical_accuracy: 0.8843\n",
            "Epoch 13/20\n",
            "258/258 [==============================] - 5s 18ms/step - loss: 0.0173 - categorical_accuracy: 0.8964 - val_loss: 0.0194 - val_categorical_accuracy: 0.8811\n",
            "Epoch 14/20\n",
            "258/258 [==============================] - 5s 18ms/step - loss: 0.0169 - categorical_accuracy: 0.8982 - val_loss: 0.0193 - val_categorical_accuracy: 0.8789\n",
            "Epoch 15/20\n",
            "258/258 [==============================] - 5s 18ms/step - loss: 0.0166 - categorical_accuracy: 0.9007 - val_loss: 0.0192 - val_categorical_accuracy: 0.8827\n",
            "Epoch 16/20\n",
            "258/258 [==============================] - 5s 18ms/step - loss: 0.0163 - categorical_accuracy: 0.9023 - val_loss: 0.0190 - val_categorical_accuracy: 0.8860\n",
            "Epoch 17/20\n",
            "258/258 [==============================] - 5s 18ms/step - loss: 0.0160 - categorical_accuracy: 0.9047 - val_loss: 0.0191 - val_categorical_accuracy: 0.8827\n",
            "Epoch 18/20\n",
            "258/258 [==============================] - 5s 19ms/step - loss: 0.0157 - categorical_accuracy: 0.9073 - val_loss: 0.0191 - val_categorical_accuracy: 0.8838\n",
            "Epoch 19/20\n",
            "258/258 [==============================] - 5s 18ms/step - loss: 0.0154 - categorical_accuracy: 0.9087 - val_loss: 0.0192 - val_categorical_accuracy: 0.8811\n",
            "Epoch 20/20\n",
            "258/258 [==============================] - 5s 19ms/step - loss: 0.0150 - categorical_accuracy: 0.9100 - val_loss: 0.0195 - val_categorical_accuracy: 0.8696\n"
          ]
        },
        {
          "output_type": "display_data",
          "data": {
            "image/png": "[encoded data removed]",
            "text/plain": [
              "<Figure size 432x288 with 1 Axes>"
            ]
          },
          "metadata": {
            "needs_background": "light"
          }
        },
        {
          "output_type": "display_data",
          "data": {
            "image/png": "[encoded data removed]",
            "text/plain": [
              "<Figure size 432x288 with 1 Axes>"
            ]
          },
          "metadata": {
            "needs_background": "light"
          }
        }
      ]
    },
    {
      "cell_type": "markdown",
      "metadata": {
        "id": "cHW4Qszl7p_A"
      },
      "source": [
        "Evaluate the model"
      ]
    },
    {
      "cell_type": "code",
      "metadata": {
        "colab": {
          "base_uri": "https://localhost:8080/"
        },
        "id": "GkGJIMvy5L5i",
        "outputId": "b97fdeb2-6b5b-4f1a-b37f-c9dc9207432f"
      },
      "source": [
        "_, categorical_acc = shallow_mlp_model.evaluate(test_dataset)\n",
        "print(f\"Categorical accuracy on the test set: {round(categorical_acc*100, 2)}%.\")"
      ],
      "execution_count": 44,
      "outputs": [
        {
          "output_type": "stream",
          "name": "stdout",
          "text": [
            "15/15 [==============================] - 1s 28ms/step - loss: 0.0205 - categorical_accuracy: 0.8565\n",
            "Categorical accuracy on the test set: 85.65%.\n"
          ]
        }
      ]
    },
    {
      "cell_type": "code",
      "metadata": {
        "colab": {
          "base_uri": "https://localhost:8080/"
        },
        "id": "O8tz_PFw5hxo",
        "outputId": "4ce52bd5-5540-49ed-eb3d-34719d6ed55b"
      },
      "source": [
        "a.summary()"
      ],
      "execution_count": 40,
      "outputs": [
        {
          "output_type": "stream",
          "name": "stdout",
          "text": [
            "Model: \"sequential_1\"\n",
            "_________________________________________________________________\n",
            "Layer (type)                 Output Shape              Param #   \n",
            "=================================================================\n",
            "dense_3 (Dense)              (128, 512)                255488    \n",
            "_________________________________________________________________\n",
            "dense_4 (Dense)              (128, 256)                131328    \n",
            "_________________________________________________________________\n",
            "dense_5 (Dense)              (128, 153)                39321     \n",
            "=================================================================\n",
            "Total params: 426,137\n",
            "Trainable params: 426,137\n",
            "Non-trainable params: 0\n",
            "_________________________________________________________________\n"
          ]
        }
      ]
    },
    {
      "cell_type": "markdown",
      "metadata": {
        "id": "vwKF97Lr77Fp"
      },
      "source": [
        "Inference"
      ]
    },
    {
      "cell_type": "code",
      "metadata": {
        "colab": {
          "base_uri": "https://localhost:8080/"
        },
        "id": "PkA37Vat6b1X",
        "outputId": "009b6ea4-c9ca-44c2-d4a7-9fb435f81fba"
      },
      "source": [
        "model_for_inference = keras.Sequential([text_vectorizer, shallow_mlp_model])\n",
        "\n",
        "inference_dataset = make_dataset(test_df.sample(100), is_train=False)\n",
        "text_batch, label_batch = next(iter(inference_dataset))\n",
        "predicted_probabilities = model_for_inference.predict(text_batch)\n",
        "\n",
        "for i, text in enumerate(text_batch[:5]):\n",
        "    label = label_batch[i].numpy()[None, ...]\n",
        "    print(f\"Abstract: {text[0]}\")\n",
        "    print(f\"Label(s): {invert_multi_hot(label[0])}\")\n",
        "\n",
        "    predicted_proba = [proba for proba in predicted_probabilities[i]]\n",
        "    top_3_labels = [\n",
        "        x\n",
        "        for _, x in sorted(\n",
        "            zip(predicted_probabilities[i], lookup.get_vocabulary()),\n",
        "            key=lambda pair: pair[0],\n",
        "            reverse=True,\n",
        "        )\n",
        "    ][:3]\n",
        "    print(f\"Predicted Label(s): ({', '.join([label for label in top_3_labels])})\")\n",
        "    print(\" \")"
      ],
      "execution_count": 45,
      "outputs": [
        {
          "output_type": "stream",
          "name": "stdout",
          "text": [
            "Abstract: b'Forecasting multivariate time series is challenging as the variables are\\nintertwined in time and space, like in the case of traffic signals. Defining\\nsignals on graphs relaxes such complexities by representing the evolution of\\nsignals over a space using relevant graph kernels such as the heat diffusion\\nkernel. However, this kernel alone does not fully capture the actual dynamics\\nof the data as it only relies on the graph structure. The gap can be filled by\\ncombining the graph kernel representation with data-driven models that utilize\\nhistorical data. This paper proposes a traffic propagation model that merges\\nmultiple heat diffusion kernels into a data-driven prediction model to forecast\\ntraffic signals. We optimize the model parameters using Bayesian inference to\\nminimize the prediction errors and, consequently, determine the mixing ratio of\\nthe two approaches. Such mixing ratio strongly depends on training data size\\nand data anomalies, which typically correspond to the peak hours for traffic\\ndata. The proposed model demonstrates prediction accuracy comparable to'\n",
            "Label(s): ['cs.LG']\n",
            "Predicted Label(s): (cs.LG, stat.ML, cs.AI)\n",
            " \n",
            "Abstract: b'Many methods have been developed to help people find the video contents they\\nwant efficiently. However, there are still some unsolved problems in this area.\\nFor example, given a query video and a reference video, how to accurately\\nlocalize a segment in the reference video such that the segment semantically\\ncorresponds to the query video? We define a distinctively new task, namely\\n\\\\textbf{video re-localization}, to address this scenario. Video re-localization\\nis an important emerging technology implicating many applications, such as fast\\nseeking in videos, video copy detection, video surveillance, etc. Meanwhile, it\\nis also a challenging research task because the visual appearance of a semantic\\nconcept in videos can have large variations. The first hurdle to clear for the\\nvideo re-localization task is the lack of existing datasets. It is labor\\nexpensive to collect pairs of videos with semantic coherence or correspondence\\nand label the corresponding segments. We first exploit and reorganize the\\nvideos in ActivityNet to form a new dataset for video'\n",
            "Label(s): ['cs.CV']\n",
            "Predicted Label(s): (cs.CV, cs.MM, cs.AI)\n",
            " \n",
            "Abstract: b'Since the proposal of the graph neural network (GNN) by Gori et al. (2005)\\nand Scarselli et al. (2008), one of the major problems in training GNNs was\\ntheir struggle to propagate information between distant nodes in the graph. We\\npropose a new explanation for this problem: GNNs are susceptible to a\\nbottleneck when aggregating messages across a long path. This bottleneck causes\\nthe over-squashing of exponentially growing information into fixed-size\\nvectors. As a result, GNNs fail to propagate messages originating from distant\\nnodes and perform poorly when the prediction task depends on long-range\\ninteraction. In this paper, we highlight the inherent problem of over-squashing\\nin GNNs: we demonstrate that the bottleneck hinders popular GNNs from fitting\\nlong-range signals in the training data; we further show that GNNs that absorb\\nincoming edges equally, such as GCN and GIN, are more susceptible to\\nover-squashing than GAT and GGNN; finally, we show that prior work, which\\nextensively tuned GNN models of long-range problems, suffers from\\nover-squashing,'\n",
            "Label(s): ['cs.LG' 'stat.ML']\n",
            "Predicted Label(s): (cs.LG, stat.ML, cs.AI)\n",
            " \n",
            "Abstract: b'Recently, Neural Architecture Search (NAS) methods are introduced and show\\nimpressive performance on many benchmarks. Among those NAS studies, Neural\\nArchitecture Transformer (NAT) aims to improve the given neural architecture to\\nhave better performance while maintaining computational costs. However, NAT has\\nlimitations about a lack of reproducibility. In this paper, we propose\\ndifferentiable neural architecture transformation that is reproducible and\\nefficient. The proposed method shows stable performance on various\\narchitectures. Extensive reproducibility experiments on two datasets, i.e.,\\nCIFAR-10 and Tiny Imagenet, present that the proposed method definitely\\noutperforms NAT and be applicable to other models and datasets.<pad><pad><pad><pad><pad><pad><pad><pad><pad><pad><pad><pad><pad><pad><pad><pad><pad><pad><pad><pad><pad><pad><pad><pad><pad><pad><pad><pad><pad><pad><pad><pad><pad><pad><pad><pad><pad><pad><pad><pad><pad><pad><pad><pad><pad><pad><pad><pad><pad><pad><pad><pad><pad><pad><pad><pad><pad><pad><pad><pad><pad><pad>'\n",
            "Label(s): ['cs.CV' 'cs.LG' 'stat.ML']\n",
            "Predicted Label(s): (cs.LG, stat.ML, cs.NE)\n",
            " \n",
            "Abstract: b'This paper presents an effective color normalization method for thin blood\\nfilm images of peripheral blood specimens. Thin blood film images can easily be\\nseparated to foreground (cell) and background (plasma) parts. The color of the\\nplasma region is used to estimate and reduce the differences arising from\\ndifferent illumination conditions. A second stage normalization based on the\\ndatabase-gray world algorithm transforms the color of the foreground objects to\\nmatch a reference color character. The quantitative experiments demonstrate the\\neffectiveness of the method and its advantages against two other general\\npurpose color correction methods: simple gray world and Retinex.<pad><pad><pad><pad><pad><pad><pad><pad><pad><pad><pad><pad><pad><pad><pad><pad><pad><pad><pad><pad><pad><pad><pad><pad><pad><pad><pad><pad><pad><pad><pad><pad><pad><pad><pad><pad><pad><pad><pad><pad><pad><pad><pad><pad><pad><pad><pad><pad><pad><pad><pad><pad><pad><pad><pad><pad><pad><pad><pad>'\n",
            "Label(s): ['cs.CV' '68U10']\n",
            "Predicted Label(s): (cs.CV, cs.GR, cs.CR)\n",
            " \n"
          ]
        }
      ]
    },
    {
      "cell_type": "markdown",
      "metadata": {
        "id": "qzENaL7382-s"
      },
      "source": [
        "Reference: https://keras.io/examples/nlp/multi_label_classification/ "
      ]
    }
  ]
}