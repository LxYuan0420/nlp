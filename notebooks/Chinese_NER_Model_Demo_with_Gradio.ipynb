{
  "nbformat": 4,
  "nbformat_minor": 0,
  "metadata": {
    "colab": {
      "name": "Chinese NER Model Demo with Gradio.ipynb",
      "provenance": [],
      "collapsed_sections": []
    },
    "kernelspec": {
      "name": "python3",
      "display_name": "Python 3"
    },
    "language_info": {
      "name": "python"
    }
  },
  "cells": [
    {
      "cell_type": "markdown",
      "source": [
        "Goals:\n",
        "1. Demo any model with Gradio\n",
        "2. Make it accessible inside local network\n",
        "3. Display output nicely (highlight NER instead of raw dict) "
      ],
      "metadata": {
        "id": "-oN87QBGS6Zi"
      }
    },
    {
      "cell_type": "code",
      "execution_count": null,
      "metadata": {
        "id": "_f1CdQv99kHp"
      },
      "outputs": [],
      "source": [
        "#!pip install gradio\n",
        "#!pip install transformers"
      ]
    },
    {
      "cell_type": "code",
      "source": [
        "import gradio as gr\n",
        "from gradio.mix import Parallel"
      ],
      "metadata": {
        "id": "CW8CSSTX91_B"
      },
      "execution_count": 1,
      "outputs": []
    },
    {
      "cell_type": "code",
      "source": [
        "from transformers import pipeline"
      ],
      "metadata": {
        "id": "d8rOjnMxKc0x"
      },
      "execution_count": 3,
      "outputs": []
    },
    {
      "cell_type": "markdown",
      "source": [
        "#### Load Chinese NER gradio interface"
      ],
      "metadata": {
        "id": "UaDGaL4dGSMv"
      }
    },
    {
      "cell_type": "code",
      "source": [
        "# prepend huggingface to model name\n",
        "# e.g., bert-base-uncased -> huggingface/bert-base-uncased\n",
        "chinese_ner = gr.Interface.load(\"huggingface/ckiplab/bert-base-chinese-ner\", title=\"Chinese NER\")"
      ],
      "metadata": {
        "colab": {
          "base_uri": "https://localhost:8080/"
        },
        "id": "hFTZi2Pp-A1g",
        "outputId": "0762e9f7-3930-4955-fddc-5f42b691d71c"
      },
      "execution_count": 29,
      "outputs": [
        {
          "output_type": "stream",
          "name": "stdout",
          "text": [
            "Fetching model from: https://huggingface.co/ckiplab/bert-base-chinese-ner\n"
          ]
        }
      ]
    },
    {
      "cell_type": "markdown",
      "source": [
        "#### Load Chinese Environment Topic Classification with gradio interface"
      ],
      "metadata": {
        "id": "75WgrKywNr93"
      }
    },
    {
      "cell_type": "code",
      "source": [
        "chinese_cat = gr.Interface.load(\"huggingface/celtics1863/env-bert-topic\",inputs=\"textbox\", title=\"Chinese Environment Topic Classification\")"
      ],
      "metadata": {
        "colab": {
          "base_uri": "https://localhost:8080/"
        },
        "id": "EZmStNaDN8w2",
        "outputId": "ef966381-b80b-421e-9558-97dac4c98e91"
      },
      "execution_count": 46,
      "outputs": [
        {
          "output_type": "stream",
          "name": "stdout",
          "text": [
            "Fetching model from: https://huggingface.co/celtics1863/env-bert-topic\n"
          ]
        }
      ]
    },
    {
      "cell_type": "markdown",
      "source": [
        "#### Putting it together"
      ],
      "metadata": {
        "id": "fbVAg9muRLpM"
      }
    },
    {
      "cell_type": "code",
      "source": [
        "Parallel(chinese_ner, chinese_cat)"
      ],
      "metadata": {
        "colab": {
          "base_uri": "https://localhost:8080/"
        },
        "id": "i7Ua1dD5LMnM",
        "outputId": "97350ca3-2659-4af9-a929-170e37b28886"
      },
      "execution_count": 47,
      "outputs": [
        {
          "output_type": "execute_result",
          "data": {
            "text/plain": [
              "Gradio Interface for: ckiplab/bert-base-chinese-ner, celtics1863/env-bert-topic\n",
              "-------------------------------------------------------------------------------\n",
              "inputs:\n",
              "|-Textbox(label=\"Input\")\n",
              "outputs:\n",
              "|-HighlightedText(label=\"Output\")\n",
              "|-Label(label=\"Classification\")"
            ]
          },
          "metadata": {},
          "execution_count": 47
        }
      ]
    },
    {
      "cell_type": "code",
      "source": [
        "Parallel(chinese_ner, chinese_cat).launch(debug=True)"
      ],
      "metadata": {
        "colab": {
          "base_uri": "https://localhost:8080/",
          "height": 661
        },
        "id": "Ga7ET7RISEwK",
        "outputId": "3f9e532f-07e5-4bb5-f4a7-e993dcf86e11"
      },
      "execution_count": 48,
      "outputs": [
        {
          "output_type": "stream",
          "name": "stdout",
          "text": [
            "Colab notebook detected. This cell will run indefinitely so that you can see errors and logs. To turn off, set debug=False in launch().\n",
            "Running on public URL: https://15432.gradio.app\n",
            "\n",
            "This share link expires in 72 hours. For free permanent hosting, check out Spaces (https://huggingface.co/spaces)\n"
          ]
        },
        {
          "output_type": "display_data",
          "data": {
            "text/plain": [
              "<IPython.lib.display.IFrame at 0x7fc8fe9b3250>"
            ],
            "text/html": [
              "\n",
              "        <iframe\n",
              "            width=\"900\"\n",
              "            height=\"500\"\n",
              "            src=\"https://15432.gradio.app\"\n",
              "            frameborder=\"0\"\n",
              "            allowfullscreen\n",
              "        ></iframe>\n",
              "        "
            ]
          },
          "metadata": {}
        },
        {
          "output_type": "stream",
          "name": "stdout",
          "text": [
            "Keyboard interruption in main thread... closing server.\n"
          ]
        },
        {
          "output_type": "execute_result",
          "data": {
            "text/plain": [
              "(<fastapi.applications.FastAPI at 0x7fca3f7cdf50>,\n",
              " 'http://127.0.0.1:7871/',\n",
              " 'https://15432.gradio.app')"
            ]
          },
          "metadata": {},
          "execution_count": 48
        }
      ]
    },
    {
      "cell_type": "code",
      "source": [
        "# set visible to local network\n",
        "# Parallel(chinese_ner, chinese_cat).launch(server_name=\"0.0.0.0\", server_port=7594, debug=True)"
      ],
      "metadata": {
        "id": "uqRc-12jfHdQ"
      },
      "execution_count": null,
      "outputs": []
    },
    {
      "cell_type": "markdown",
      "source": [
        "--- \n",
        "\n",
        "##### Noticed that this chinese NER model uses BIES tag and setting `aggregation_strategy=\"simple\"` coundn't fix/output what we want. So we write a simple aggregate function to group them together."
      ],
      "metadata": {
        "id": "l6d_uj5avCxC"
      }
    },
    {
      "cell_type": "code",
      "source": [
        "test_chinese_pipeline = pipeline(\"ner\", \"ckiplab/bert-base-chinese-ner\", aggregation_strategy=\"simple\")"
      ],
      "metadata": {
        "id": "wekEEkasWea0"
      },
      "execution_count": 198,
      "outputs": []
    },
    {
      "cell_type": "code",
      "source": [
        "chinese_article = \"（早报讯）促进人口健康，有赖于社区伙伴与各机构紧密合作，也须要调整现有的心态、改变照料病患的方式。新推出的“健康SG”计划把重心从疾病护理转向医疗保健，卫生部长王乙康说，若做对了，可在10年内提升人们的生活质量。  王乙康今天中午（5月7日）在加冷综合诊疗所开幕仪式上致辞时说，对比在医院里进行的严重疾病治疗，在促进人口健康方面，所有行动应集中在社区内不同场所，并融入到人们的生活和习惯当中。  因此，关键在于让社区伙伴和各机构无缝连接起来，为居民和病患提供所需支援，而这主要能从几个方面着手。  王乙康说，首先是要确保数据和信息流通，从医院到综合诊疗所、诊所乃至社区保健站，做到信息共享才能达成无缝护理。因此全国电子健康记录至关重要。  其次是确保业者提供的服务不会出现太大差距，居民无论选择哪个业者，都能获得几乎一致的援助。这可从针对常见和慢性疾病拟定详细的护理流程做起\""
      ],
      "metadata": {
        "id": "IbC_EKqQrjEj"
      },
      "execution_count": 181,
      "outputs": []
    },
    {
      "cell_type": "code",
      "source": [
        "def custom_agg(output):\n",
        "    \"\"\"Custom agg func to group E tag into previous entities. Note that the input\n",
        "    is the output of aggregation_strategy=\"simple\", which group only B-tag, I-tag\n",
        "    but missed out E-tag.\n",
        "    \n",
        "    Output of aggregation_strategy=\"none\":\n",
        "    {'end': 77, 'entity': 'B-ORG', 'index': 76, 'score': 0.99999905, 'start': 76, 'word': '卫'},\n",
        "    {'end': 78, 'entity': 'I-ORG', 'index': 77, 'score': 0.9999982, 'start': 77, 'word': '生'},\n",
        "    {'end': 79, 'entity': 'I-ORG', 'index': 78, 'score': 0.99999845, 'start': 78,'word': '部'},\n",
        "    {'end': 80, 'entity': 'E-ORG', 'index': 79, 'score': 0.9999988,  'start': 79, 'word': '长'},\n",
        "\n",
        "    Output of aggregation_strategy=\"simple\":\n",
        "    {'end': 79, 'entity_group': 'ORG', 'score': 0.99999857, 'start': 76, 'word': '卫 生 部'},\n",
        "    {'end': 80, 'entity_group': 'ORG', 'score': 0.9999988, 'start': 79, 'word': '长'},\n",
        "\n",
        "    Output of custom_agg:\n",
        "    {'end': 80, 'entity_group': 'ORG', 'score': 0.99999857, 'start': 76, 'word': '卫 生 部长'},\n",
        "\n",
        "    returns:\n",
        "      list of tuple(substring, entity) for gradio.HighlightedText component\n",
        "    \"\"\"\n",
        "    res = []\n",
        "    for current, next in zip(output, output[1:]):\n",
        "        same_entity_group = (current[\"entity_group\"] == next[\"entity_group\"])\n",
        "        neighbour_index = (current[\"end\"] == next[\"start\"])\n",
        "        if same_entity_group and neighbour_index:\n",
        "            current[\"word\"] += next[\"word\"]\n",
        "            current[\"end\"] = next[\"end\"]\n",
        "            res.append(current)\n",
        "\n",
        "    return [(item[\"word\"], item[\"entity_group\"]) for item in res]"
      ],
      "metadata": {
        "id": "NAZVDz1oYZJ6"
      },
      "execution_count": 186,
      "outputs": []
    },
    {
      "cell_type": "code",
      "source": [
        "def _predict_ner(text):\n",
        "    output = test_chinese_pipeline(text)\n",
        "    output = custom_agg(output)\n",
        "    return output"
      ],
      "metadata": {
        "id": "tP_MCmGObxWp"
      },
      "execution_count": 187,
      "outputs": []
    },
    {
      "cell_type": "code",
      "source": [
        "demo = gr.Interface(fn=_predict_ner, inputs=\"text\", outputs=gr.outputs.HighlightedText(label=\"Output\"))"
      ],
      "metadata": {
        "id": "EvLh5SzUb60z"
      },
      "execution_count": 188,
      "outputs": []
    },
    {
      "cell_type": "code",
      "source": [
        "_predict_ner(chinese_article)"
      ],
      "metadata": {
        "colab": {
          "base_uri": "https://localhost:8080/"
        },
        "id": "d3emYDPScl90",
        "outputId": "500bc934-d260-496b-cc70-2edb4164497e"
      },
      "execution_count": 189,
      "outputs": [
        {
          "output_type": "execute_result",
          "data": {
            "text/plain": [
              "[('卫 生 部长', 'ORG'),\n",
              " ('王 乙康', 'PERSON'),\n",
              " ('10年', 'DATE'),\n",
              " ('王 乙康', 'PERSON'),\n",
              " ('今天', 'DATE'),\n",
              " ('中午', 'TIME'),\n",
              " ('5 月 7日', 'DATE'),\n",
              " ('加冷', 'GPE'),\n",
              " ('王 乙康', 'PERSON')]"
            ]
          },
          "metadata": {},
          "execution_count": 189
        }
      ]
    },
    {
      "cell_type": "code",
      "source": [
        "demo.launch(debug=True)"
      ],
      "metadata": {
        "colab": {
          "base_uri": "https://localhost:8080/",
          "height": 661
        },
        "id": "1BZO6GhOcJB0",
        "outputId": "45855d48-f5c9-437f-e7d1-06e942f92967"
      },
      "execution_count": 191,
      "outputs": [
        {
          "output_type": "stream",
          "name": "stdout",
          "text": [
            "Colab notebook detected. This cell will run indefinitely so that you can see errors and logs. To turn off, set debug=False in launch().\n",
            "Running on public URL: https://12162.gradio.app\n",
            "\n",
            "This share link expires in 72 hours. For free permanent hosting, check out Spaces (https://huggingface.co/spaces)\n"
          ]
        },
        {
          "output_type": "display_data",
          "data": {
            "text/plain": [
              "<IPython.lib.display.IFrame at 0x7fc8de2f5890>"
            ],
            "text/html": [
              "\n",
              "        <iframe\n",
              "            width=\"900\"\n",
              "            height=\"500\"\n",
              "            src=\"https://12162.gradio.app\"\n",
              "            frameborder=\"0\"\n",
              "            allowfullscreen\n",
              "        ></iframe>\n",
              "        "
            ]
          },
          "metadata": {}
        },
        {
          "output_type": "stream",
          "name": "stdout",
          "text": [
            "Keyboard interruption in main thread... closing server.\n"
          ]
        },
        {
          "output_type": "execute_result",
          "data": {
            "text/plain": [
              "(<fastapi.applications.FastAPI at 0x7fca3f7cdf50>,\n",
              " 'http://127.0.0.1:7872/',\n",
              " 'https://12162.gradio.app')"
            ]
          },
          "metadata": {},
          "execution_count": 191
        }
      ]
    },
    {
      "cell_type": "markdown",
      "source": [
        "Reference:\n",
        "1. [Gradio docs](https://gradio.app/docs/)\n",
        "2. [Gradio publish network](https://github.com/gradio-app/gradio/issues/69)\n",
        "3. [Gradio x Huggingface Blog](https://huggingface.co/blog/gradio)"
      ],
      "metadata": {
        "id": "q70FDsfFxWlS"
      }
    }
  ]
}