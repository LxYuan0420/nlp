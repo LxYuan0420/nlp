{
  "nbformat": 4,
  "nbformat_minor": 0,
  "metadata": {
    "colab": {
      "provenance": [],
      "authorship_tag": "ABX9TyNS7Kozb1bJM/jdbFZo8ZCr",
      "include_colab_link": true
    },
    "kernelspec": {
      "name": "python3",
      "display_name": "Python 3"
    },
    "language_info": {
      "name": "python"
    }
  },
  "cells": [
    {
      "cell_type": "markdown",
      "metadata": {
        "id": "view-in-github",
        "colab_type": "text"
      },
      "source": [
        "<a href=\"https://colab.research.google.com/github/LxYuan0420/nlp/blob/main/notebooks/Spacy_Entity_Linker_Demo.ipynb\" target=\"_parent\"><img src=\"https://colab.research.google.com/assets/colab-badge.svg\" alt=\"Open In Colab\"/></a>"
      ]
    },
    {
      "cell_type": "markdown",
      "source": [
        "This notebook is to demo how to use `spacy entity linker`.\n",
        "\n",
        "Comments:\n",
        "1. Pretty easy to use but it captures a lot of unwanted entities?\n",
        "2. Entity disambiguation part might be noisier than i expected. For instance, the word `friday` will be disambiguated as a film.\n",
        "3. AFAIK i cant select/disambiguate a certain type of ner. For instance, i want to perform entity disambiguation on PER only?\n"
      ],
      "metadata": {
        "id": "YYgnMAI9hDwe"
      }
    },
    {
      "cell_type": "code",
      "execution_count": 1,
      "metadata": {
        "colab": {
          "base_uri": "https://localhost:8080/"
        },
        "id": "8V3-LNMYRb5p",
        "outputId": "4fe473b0-f16a-4613-80c4-a27b2ed6a9b7"
      },
      "outputs": [
        {
          "output_type": "stream",
          "name": "stdout",
          "text": [
            "en-core-web-sm @ https://github.com/explosion/spacy-models/releases/download/en_core_web_sm-3.4.1/en_core_web_sm-3.4.1-py3-none-any.whl\n",
            "spacy==3.4.4\n",
            "spacy-legacy==3.0.12\n",
            "spacy-loggers==1.0.4\n"
          ]
        }
      ],
      "source": [
        "# spacy==3.4.4M\n",
        "!pip freeze | grep spacy"
      ]
    },
    {
      "cell_type": "code",
      "source": [
        "!pip install spacy-entity-linker"
      ],
      "metadata": {
        "id": "cOvPlz_qRh6v"
      },
      "execution_count": null,
      "outputs": []
    },
    {
      "cell_type": "code",
      "source": [
        "!python -m spacy_entity_linker \"download_knowledge_base\""
      ],
      "metadata": {
        "id": "WhYA84SSRvOV"
      },
      "execution_count": null,
      "outputs": []
    },
    {
      "cell_type": "code",
      "source": [
        "!python -m spacy download en_core_web_md"
      ],
      "metadata": {
        "id": "-SruYMC8SKL6"
      },
      "execution_count": null,
      "outputs": []
    },
    {
      "cell_type": "code",
      "source": [
        "import spacy  # version 3.5\n",
        "\n",
        "# initialize language model\n",
        "nlp = spacy.load(\"en_core_web_md\")\n",
        "\n",
        "# add pipeline (declared through entry_points in setup.py)\n",
        "nlp.add_pipe(\"entityLinker\", last=True)\n",
        "\n",
        "doc = nlp(\"I watched the Pirates of the Caribbean last silvester\")\n",
        "\n",
        "# iterates over sentences and prints linked entities\n",
        "for sent in doc.sents:\n",
        "    sent._.linkedEntities.pretty_print()\n",
        "\n",
        "# OUTPUT:\n",
        "# https://www.wikidata.org/wiki/Q194318     Pirates of the Caribbean        Series of fantasy adventure films                                                                   \n",
        "# https://www.wikidata.org/wiki/Q12525597   Silvester                       the day celebrated on 31 December (Roman Catholic Church) or 2 January (Eastern Orthodox Churches)  \n",
        "\n",
        "# entities are also directly accessible through spans\n",
        "#doc[3:7]._.linkedEntities.pretty_print()\n",
        "# OUTPUT:\n",
        "# https://www.wikidata.org/wiki/Q194318     Pirates of the Caribbean        Series of fantasy adventure films"
      ],
      "metadata": {
        "colab": {
          "base_uri": "https://localhost:8080/"
        },
        "id": "DKKFpiFNSBCM",
        "outputId": "15fb9863-40b0-454a-e792-3004b54858be"
      },
      "execution_count": 11,
      "outputs": [
        {
          "output_type": "stream",
          "name": "stdout",
          "text": [
            "<EntityElement: https://www.wikidata.org/wiki/Q194318 Pirates of the Caribbean  Series of fantasy adventure films                 >\n",
            "<EntityElement: https://www.wikidata.org/wiki/Q12525597 Silvester                 the day celebrated on 31 December (Roman Catholic Church) or 2 January (Eastern Orthodox Churches)>\n"
          ]
        }
      ]
    },
    {
      "cell_type": "code",
      "source": [
        "news_content = \"\"\"SINGAPORE: Mr Lee Hsien Yang declared on Friday (Mar 3) that he is considering running for the Elected Presidency, but lawyers said that earlier court findings that he and his wife had lied under oath in judicial proceedings could see him fail to meet the criteria of being a candidate.\n",
        "\n",
        "This is regardless of the outcome of ongoing police investigations into the couple for potential offences of giving false evidence in the proceedings over Singapore’s founding Prime Minister Lee Kuan Yew’s will, the lawyers added.\n",
        "\n",
        "In an interview with news outlet Bloomberg on Friday, Mr Lee Hsien Yang said that he is considering running in the Presidential Election in Singapore, which will be held later this year. President Halimah Yacob’s six-year term is due to expire in September.\n",
        "\n",
        "Mr Lee said to Bloomberg, in reference to the ruling People’s Action Party (PAP), that there is a view that if he were to run, PAP \"would be in serious trouble and could lose”, depending on who the party chooses as a candidate.\n",
        "\n",
        "“A lot of people have come to me. They really want me to run. It’s something I would consider,” he added.\n",
        "\n",
        "Mr Lee Hsien Yang is Prime Minister Lee Hsien Loong’s brother, and Mr Lee Kuan Yew was their father.\n",
        "\"\"\"\n",
        "\n",
        "news_content = news_content.replace(\"\\n\\n\", \" \")"
      ],
      "metadata": {
        "id": "5R824B6XTEAT"
      },
      "execution_count": 21,
      "outputs": []
    },
    {
      "cell_type": "code",
      "source": [
        "doc = nlp(news_content)\n",
        "\n",
        "for sent in doc.sents:\n",
        "    print(f\"{sent = }\")\n",
        "    sent._.linkedEntities.pretty_print()\n",
        "    print(\"*\"*100)"
      ],
      "metadata": {
        "colab": {
          "base_uri": "https://localhost:8080/"
        },
        "id": "Ipg5SzMETqPb",
        "outputId": "458758a9-b9be-47f4-ce0a-30bed9bc7416"
      },
      "execution_count": 32,
      "outputs": [
        {
          "output_type": "stream",
          "name": "stdout",
          "text": [
            "sent = SINGAPORE:\n",
            "<EntityElement: https://www.wikidata.org/wiki/Q334 Singapore                 Southeast asia city state                         >\n",
            "****************************************************************************************************\n",
            "sent = Mr Lee Hsien Yang declared on Friday (Mar 3) that he is considering running for the Elected Presidency, but lawyers said that earlier court findings that he and his wife had lied under oath in judicial proceedings could see him fail to meet the criteria of being a candidate.\n",
            "<EntityElement: https://www.wikidata.org/wiki/Q2904984 Lee Hsien Yang            Singaporean business executive                    >\n",
            "<EntityElement: https://www.wikidata.org/wiki/Q673486 Friday                    1995 film directed by F. Gary Gray                >\n",
            "<EntityElement: https://www.wikidata.org/wiki/Q110 March                     third month in the Julian and Gregorian calendars >\n",
            "<EntityElement: https://www.wikidata.org/wiki/Q3558349 presidency                collective administrative and governmental entity that exists around an office of president>\n",
            "<EntityElement: https://www.wikidata.org/wiki/Q40348 lawyer                    legal professional who helps clients and represents them in a court of law>\n",
            "<EntityElement: https://www.wikidata.org/wiki/Q41487 court                     judicial institution with the authority to resolve legal disputes>\n",
            "<EntityElement: https://www.wikidata.org/wiki/Q188830 wife                      female spouse; woman who is married               >\n",
            "<EntityElement: https://www.wikidata.org/wiki/Q381045 oath                      personal affirmation of a statement               >\n",
            "<EntityElement: https://www.wikidata.org/wiki/Q2334719 legal case                dispute between opposing parties resolved by a court>\n",
            "<EntityElement: https://www.wikidata.org/wiki/Q5186556 Criteria                  band                                              >\n",
            "<EntityElement: https://www.wikidata.org/wiki/Q618536 candidate                 prospective recipient of an award or honor, or a person seeking or being considered for some kind of>\n",
            "****************************************************************************************************\n",
            "sent = This is regardless of the outcome of ongoing police investigations into the couple for potential offences of giving false evidence in the proceedings over Singapore’s founding Prime Minister Lee Kuan Yew’s will, the lawyers added.\n",
            "<EntityElement: https://www.wikidata.org/wiki/Q17104930 outcome                   possible result of an experiment                  >\n",
            "<EntityElement: https://www.wikidata.org/wiki/Q35535 police                    constituted body of persons empowered by the state to enforce the law>\n",
            "<EntityElement: https://www.wikidata.org/wiki/Q191290 ordered pair              pair of mathematical objects; tuple of specific length (tuple length n=2)>\n",
            "<EntityElement: https://www.wikidata.org/wiki/Q83267 crime                     unlawful act forbidden and punishable by criminal law>\n",
            "<EntityElement: https://www.wikidata.org/wiki/Q5432702 false evidence                                                              >\n",
            "<EntityElement: https://www.wikidata.org/wiki/Q1143604 proceedings               collection of scholarly papers published in the context of an academic conference>\n",
            "<EntityElement: https://www.wikidata.org/wiki/Q155656 will                      legal declaration by which a person names one or more persons to manage his or her estate and provid>\n",
            "<EntityElement: https://www.wikidata.org/wiki/Q131248 Lee Kuan Yew              1st Prime Minister of Singapore                   >\n",
            "<EntityElement: https://www.wikidata.org/wiki/Q334 Singapore                 Southeast asia city state                         >\n",
            "<EntityElement: https://www.wikidata.org/wiki/Q40348 lawyer                    legal professional who helps clients and represents them in a court of law>\n",
            "****************************************************************************************************\n",
            "sent = In an interview with news outlet Bloomberg on Friday, Mr Lee Hsien Yang said that he is considering running in the Presidential Election in Singapore, which will be held later this year.\n",
            "<EntityElement: https://www.wikidata.org/wiki/Q178651 interview                 structured series of questions and answers        >\n",
            "<EntityElement: https://www.wikidata.org/wiki/Q38926 news                      communication of selected information on current events>\n",
            "<EntityElement: https://www.wikidata.org/wiki/Q13977 Bloomberg L.P.            American multinational mass media corporation     >\n",
            "<EntityElement: https://www.wikidata.org/wiki/Q673486 Friday                    1995 film directed by F. Gary Gray                >\n",
            "<EntityElement: https://www.wikidata.org/wiki/Q2904984 Lee Hsien Yang            Singaporean business executive                    >\n",
            "<EntityElement: https://www.wikidata.org/wiki/Q577 year                      orbital period of the Earth around the Sun        >\n",
            "<EntityElement: https://www.wikidata.org/wiki/Q858439 presidential election     election of any head of state whose official title is President>\n",
            "<EntityElement: https://www.wikidata.org/wiki/Q334 Singapore                 Southeast asia city state                         >\n",
            "****************************************************************************************************\n",
            "sent = President Halimah Yacob’s six-year term is due to expire in September.\n",
            "<EntityElement: https://www.wikidata.org/wiki/Q577 year                      orbital period of the Earth around the Sun        >\n",
            "<EntityElement: https://www.wikidata.org/wiki/Q5642345 Halimah Yacob             8th President of the Republic of Singapore        >\n",
            "<EntityElement: https://www.wikidata.org/wiki/Q123 September                 ninth month in the Julian and Gregorian calendars >\n",
            "****************************************************************************************************\n",
            "sent = Mr Lee said to Bloomberg, in reference to the ruling People’s Action Party (PAP), that there is a view that if he were to run, PAP \"would be in serious trouble and could lose”, depending on who the party chooses as a candidate.\n",
            "<EntityElement: https://www.wikidata.org/wiki/Q487391 Ailee                     Korean-American singer                            >\n",
            "<EntityElement: https://www.wikidata.org/wiki/Q13977 Bloomberg L.P.            American multinational mass media corporation     >\n",
            "<EntityElement: https://www.wikidata.org/wiki/Q121769 reference                 relation between objects in which one object designates, or acts as a means by which to connect to o>\n",
            "<EntityElement: https://www.wikidata.org/wiki/Q764125 Action Party              Italian political party                           >\n",
            "<EntityElement: https://www.wikidata.org/wiki/Q33659 People                    weekly American magazine                          >\n",
            "<EntityElement: https://www.wikidata.org/wiki/Q371395 People's Action Party     ruling political party in Singapore               >\n",
            "<EntityElement: https://www.wikidata.org/wiki/Q1329910 view                      result set of a stored query on a database        >\n",
            "<EntityElement: https://www.wikidata.org/wiki/Q371395 People's Action Party     ruling political party in Singapore               >\n",
            "<EntityElement: https://www.wikidata.org/wiki/Q2068118 Trouble                   album by Whitesnake                               >\n",
            "<EntityElement: https://www.wikidata.org/wiki/Q7278 political party           organization that seeks to influence government policy and actions>\n",
            "<EntityElement: https://www.wikidata.org/wiki/Q618536 candidate                 prospective recipient of an award or honor, or a person seeking or being considered for some kind of>\n",
            "****************************************************************************************************\n",
            "sent = “A lot of people have come to me.\n",
            "<EntityElement: https://www.wikidata.org/wiki/Q6501349 parking lot               cleared area that is intended for parking vehicles>\n",
            "<EntityElement: https://www.wikidata.org/wiki/Q5 human                     common name of Homo sapiens, unique extant species of the genus Homo>\n",
            "****************************************************************************************************\n",
            "sent = They really want me to run.\n",
            "****************************************************************************************************\n",
            "sent = It’s something I would consider,” he added.\n",
            "****************************************************************************************************\n",
            "sent = Mr Lee Hsien Yang is Prime Minister Lee Hsien Loong’s brother, and Mr Lee Kuan Yew was their father.\n",
            "\n",
            "<EntityElement: https://www.wikidata.org/wiki/Q2904984 Lee Hsien Yang            Singaporean business executive                    >\n",
            "<EntityElement: https://www.wikidata.org/wiki/Q548320 brother                   member of a mendicant religious order in Catholic Christianity>\n",
            "<EntityElement: https://www.wikidata.org/wiki/Q57643 Lee Hsien Loong           3rd and current Prime Minister of Singapore       >\n",
            "<EntityElement: https://www.wikidata.org/wiki/Q131248 Lee Kuan Yew              1st Prime Minister of Singapore                   >\n",
            "<EntityElement: https://www.wikidata.org/wiki/Q7565 father                    male parent or individual progenitor of human offspring>\n",
            "****************************************************************************************************\n"
          ]
        }
      ]
    },
    {
      "cell_type": "code",
      "source": [
        "# summary info of linked entities\n",
        "# noticed there are duplicates of Lee Kuan Yew\n",
        "doc._.linkedEntities.print_super_entities()"
      ],
      "metadata": {
        "colab": {
          "base_uri": "https://localhost:8080/"
        },
        "id": "zZdIdoRGT7CV",
        "outputId": "7064501d-5452-4ea6-e5d9-b7f952593383"
      },
      "execution_count": 33,
      "outputs": [
        {
          "output_type": "stream",
          "name": "stdout",
          "text": [
            "human (10) : Lee Hsien Yang,candidate,Lee Kuan Yew,Lee Hsien Yang,Halimah Yacob,Ailee,candidate,Lee Hsien Yang,Lee Hsien Loong,Lee Kuan Yew\n",
            "city (3) : Singapore,Singapore,Singapore\n",
            "country (3) : Singapore,Singapore,Singapore\n",
            "island nation (3) : Singapore,Singapore,Singapore\n",
            "city-state (3) : Singapore,Singapore,Singapore\n",
            "port city (3) : Singapore,Singapore,Singapore\n",
            "sovereign state (3) : Singapore,Singapore,Singapore\n",
            "position (3) : candidate,candidate,brother\n",
            "political party (3) : Action Party,People's Action Party,People's Action Party\n",
            "film (2) : Friday,Friday\n"
          ]
        }
      ]
    },
    {
      "cell_type": "code",
      "source": [
        "for linked_entities in doc._.linkedEntities:\n",
        "    print(f\"orignal label: {linked_entities.label}\")\n",
        "    category_labels = [category.label for category in linked_entities.get_super_entities()]\n",
        "    print(f\"category labels: {category_labels}\")\n",
        "    print(\"*\"*100)"
      ],
      "metadata": {
        "colab": {
          "base_uri": "https://localhost:8080/"
        },
        "id": "qK1zU01wXE3t",
        "outputId": "c017b771-c27e-4e14-9bce-90b6d981ce54"
      },
      "execution_count": 44,
      "outputs": [
        {
          "output_type": "stream",
          "name": "stdout",
          "text": [
            "orignal label: Singapore\n",
            "category labels: ['city', 'country', 'island nation', 'city-state', 'port city', 'sovereign state']\n",
            "****************************************************************************************************\n",
            "orignal label: Lee Hsien Yang\n",
            "category labels: ['human']\n",
            "****************************************************************************************************\n",
            "orignal label: Friday\n",
            "category labels: ['film']\n",
            "****************************************************************************************************\n",
            "orignal label: March\n",
            "category labels: ['calendar month', 'month of the Gregorian calendar']\n",
            "****************************************************************************************************\n",
            "orignal label: presidency\n",
            "category labels: ['executive branch']\n",
            "****************************************************************************************************\n",
            "orignal label: lawyer\n",
            "category labels: ['legal professional', 'jurist']\n",
            "****************************************************************************************************\n",
            "orignal label: court\n",
            "category labels: ['organ', 'tribunal']\n",
            "****************************************************************************************************\n",
            "orignal label: wife\n",
            "category labels: ['affinity', 'woman', 'spouse']\n",
            "****************************************************************************************************\n",
            "orignal label: oath\n",
            "category labels: ['sentence', 'proposition']\n",
            "****************************************************************************************************\n",
            "orignal label: legal case\n",
            "category labels: ['conflict', 'legal transaction', 'work', 'occurrence']\n",
            "****************************************************************************************************\n",
            "orignal label: Criteria\n",
            "category labels: ['musical group']\n",
            "****************************************************************************************************\n",
            "orignal label: candidate\n",
            "category labels: ['position', 'human']\n",
            "****************************************************************************************************\n",
            "orignal label: outcome\n",
            "category labels: ['possible result']\n",
            "****************************************************************************************************\n",
            "orignal label: police\n",
            "category labels: ['civil servant', 'law enforcement agency']\n",
            "****************************************************************************************************\n",
            "orignal label: ordered pair\n",
            "category labels: ['mathematical object', 'n-tuple', 'unordered pair']\n",
            "****************************************************************************************************\n",
            "orignal label: crime\n",
            "category labels: ['offense', 'social issue', 'violation of law']\n",
            "****************************************************************************************************\n",
            "orignal label: false evidence\n",
            "category labels: ['criminal defence']\n",
            "****************************************************************************************************\n",
            "orignal label: proceedings\n",
            "category labels: ['publication', 'serial', 'conference proceedings series']\n",
            "****************************************************************************************************\n",
            "orignal label: will\n",
            "category labels: ['legal transaction', 'egodocument']\n",
            "****************************************************************************************************\n",
            "orignal label: Lee Kuan Yew\n",
            "category labels: ['human']\n",
            "****************************************************************************************************\n",
            "orignal label: Singapore\n",
            "category labels: ['city', 'country', 'island nation', 'city-state', 'port city', 'sovereign state']\n",
            "****************************************************************************************************\n",
            "orignal label: lawyer\n",
            "category labels: ['legal professional', 'jurist']\n",
            "****************************************************************************************************\n",
            "orignal label: interview\n",
            "category labels: ['oral communication', 'intellectual work']\n",
            "****************************************************************************************************\n",
            "orignal label: news\n",
            "category labels: ['communication']\n",
            "****************************************************************************************************\n",
            "orignal label: Bloomberg L.P.\n",
            "category labels: ['business', 'enterprise']\n",
            "****************************************************************************************************\n",
            "orignal label: Friday\n",
            "category labels: ['film']\n",
            "****************************************************************************************************\n",
            "orignal label: Lee Hsien Yang\n",
            "category labels: ['human']\n",
            "****************************************************************************************************\n",
            "orignal label: year\n",
            "category labels: ['unit of time', 'unit without standard conversion to SI', 'orbital period']\n",
            "****************************************************************************************************\n",
            "orignal label: presidential election\n",
            "category labels: ['election']\n",
            "****************************************************************************************************\n",
            "orignal label: Singapore\n",
            "category labels: ['city', 'country', 'island nation', 'city-state', 'port city', 'sovereign state']\n",
            "****************************************************************************************************\n",
            "orignal label: year\n",
            "category labels: ['unit of time', 'unit without standard conversion to SI', 'orbital period']\n",
            "****************************************************************************************************\n",
            "orignal label: Halimah Yacob\n",
            "category labels: ['human']\n",
            "****************************************************************************************************\n",
            "orignal label: September\n",
            "category labels: ['calendar month', 'month of the Gregorian calendar']\n",
            "****************************************************************************************************\n",
            "orignal label: Ailee\n",
            "category labels: ['human']\n",
            "****************************************************************************************************\n",
            "orignal label: Bloomberg L.P.\n",
            "category labels: ['business', 'enterprise']\n",
            "****************************************************************************************************\n",
            "orignal label: reference\n",
            "category labels: ['relation']\n",
            "****************************************************************************************************\n",
            "orignal label: Action Party\n",
            "category labels: ['political party']\n",
            "****************************************************************************************************\n",
            "orignal label: People\n",
            "category labels: ['periodical literature']\n",
            "****************************************************************************************************\n",
            "orignal label: People's Action Party\n",
            "category labels: ['political party']\n",
            "****************************************************************************************************\n",
            "orignal label: view\n",
            "category labels: []\n",
            "****************************************************************************************************\n",
            "orignal label: People's Action Party\n",
            "category labels: ['political party']\n",
            "****************************************************************************************************\n",
            "orignal label: Trouble\n",
            "category labels: ['album']\n",
            "****************************************************************************************************\n",
            "orignal label: political party\n",
            "category labels: ['non-governmental organization', 'juridical person', 'political organisation']\n",
            "****************************************************************************************************\n",
            "orignal label: candidate\n",
            "category labels: ['position', 'human']\n",
            "****************************************************************************************************\n",
            "orignal label: parking lot\n",
            "category labels: ['transport infrastructure', 'parking facility']\n",
            "****************************************************************************************************\n",
            "orignal label: human\n",
            "category labels: ['polyphyletic group of organisms known by one particular common name', 'natural person', 'omnivore', 'person']\n",
            "****************************************************************************************************\n",
            "orignal label: Lee Hsien Yang\n",
            "category labels: ['human']\n",
            "****************************************************************************************************\n",
            "orignal label: brother\n",
            "category labels: ['profession', 'position', 'monk', 'Christians Jehovah’s Witnesses']\n",
            "****************************************************************************************************\n",
            "orignal label: Lee Hsien Loong\n",
            "category labels: ['human']\n",
            "****************************************************************************************************\n",
            "orignal label: Lee Kuan Yew\n",
            "category labels: ['human']\n",
            "****************************************************************************************************\n",
            "orignal label: father\n",
            "category labels: ['kinship', 'parent', 'man']\n",
            "****************************************************************************************************\n"
          ]
        }
      ]
    },
    {
      "cell_type": "code",
      "source": [
        "doc._.linkedEntities[1].label"
      ],
      "metadata": {
        "colab": {
          "base_uri": "https://localhost:8080/",
          "height": 36
        },
        "id": "-AxUNmlZXoYX",
        "outputId": "c02efd42-f920-47ab-bf99-1ef9b3705a5a"
      },
      "execution_count": 42,
      "outputs": [
        {
          "output_type": "execute_result",
          "data": {
            "text/plain": [
              "'Lee Hsien Yang'"
            ],
            "application/vnd.google.colaboratory.intrinsic+json": {
              "type": "string"
            }
          },
          "metadata": {},
          "execution_count": 42
        }
      ]
    },
    {
      "cell_type": "code",
      "source": [],
      "metadata": {
        "id": "luwmVzAMX6vy"
      },
      "execution_count": null,
      "outputs": []
    }
  ]
}