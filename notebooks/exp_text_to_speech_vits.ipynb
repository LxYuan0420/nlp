{
 "cells": [
  {
   "cell_type": "markdown",
   "id": "0d871e4e-a7a9-4e06-a1a9-3ef63cd120ab",
   "metadata": {},
   "source": [
    "### Text-to-Speech Inferencing Notebook (CPU)\n",
    "\n",
    "List of ideas for utiltising TTS model:\n",
    "- E-Book Narration: Convert written content into audiobooks, making literature more accessible for those who prefer or need auditory learning.\n",
    "- Accessibility in Websites and Apps:Implement TTS for reading out web content, aiding users with visual impairments or reading difficulties.\n",
    "- Language Learning Tools: Incorporate TTS in language learning apps for pronunciation guides and conversational practice."
   ]
  },
  {
   "cell_type": "code",
   "execution_count": null,
   "id": "ee17a927-2c43-418a-9e2a-f27ad61579b9",
   "metadata": {
    "tags": []
   },
   "outputs": [],
   "source": [
    "#!pip install phonemizer\n",
    "\n",
    "# sudo apt-get install espeak -y\n",
    "# espeak --version"
   ]
  },
  {
   "cell_type": "code",
   "execution_count": null,
   "id": "ab9abce5-a814-438b-8fd3-50410d520799",
   "metadata": {
    "tags": []
   },
   "outputs": [],
   "source": [
    "import torch\n",
    "from transformers import VitsModel, AutoTokenizer\n",
    "from IPython.display import Audio"
   ]
  },
  {
   "cell_type": "code",
   "execution_count": null,
   "id": "c74c2925-7fcf-4d01-8e58-ff5363833a04",
   "metadata": {
    "tags": []
   },
   "outputs": [],
   "source": [
    "model = VitsModel.from_pretrained(\"kakao-enterprise/vits-vctk\")\n",
    "tokenizer = AutoTokenizer.from_pretrained(\"kakao-enterprise/vits-vctk\")"
   ]
  },
  {
   "cell_type": "code",
   "execution_count": null,
   "id": "56390956-08d7-4b0d-8c80-ca987d1f939a",
   "metadata": {
    "tags": []
   },
   "outputs": [],
   "source": [
    "english_paragraph = (\n",
    "    \"Text-to-Speech (TTS) technology can revolutionize various sectors by enhancing \"\n",
    "    \"accessibility and engagement. It can transform written content into audiobooks \"\n",
    "    \"for auditory learners and aid visually impaired users by reading out website and \"\n",
    "    \"app content. TTS can be integrated into virtual assistants, customer service bots, \"\n",
    "    \"public announcement systems, and language learning tools, offering a more interactive \"\n",
    "    \"experience. It's also valuable in navigation systems, Interactive Voice Response (IVR) \"\n",
    "    \"systems, personalized learning platforms, and automated news reading. In gaming, TTS can \"\n",
    "    \"bring dynamic narration, while in workplaces, it can assist employees with disabilities. \"\n",
    "    \"Healthcare apps can use TTS for reminders, and museums can offer audio guides for exhibitions. \"\n",
    "    \"Additionally, TTS is useful in podcasting, educational toys, real-time translation, marketing, \"\n",
    "    \"legal training, and providing audio descriptions in theaters, making it a versatile tool across \"\n",
    "    \"numerous industries.\"\n",
    ")"
   ]
  },
  {
   "cell_type": "code",
   "execution_count": null,
   "id": "4c09a02e-f966-46f6-a309-524c86016219",
   "metadata": {
    "tags": []
   },
   "outputs": [],
   "source": [
    "english_paragraph"
   ]
  },
  {
   "cell_type": "code",
   "execution_count": null,
   "id": "c22d888a-bfe7-44cd-b489-ba7a8364b861",
   "metadata": {
    "tags": []
   },
   "outputs": [],
   "source": [
    "inputs = tokenizer(english_paragraph, return_tensors=\"pt\")\n",
    "\n",
    "with torch.no_grad():\n",
    "    output = model(**inputs).waveform"
   ]
  },
  {
   "cell_type": "code",
   "execution_count": null,
   "id": "eaae100d-6e05-4f06-8702-40c174292cb5",
   "metadata": {
    "tags": []
   },
   "outputs": [],
   "source": [
    "Audio(output, rate=model.config.sampling_rate)"
   ]
  },
  {
   "cell_type": "code",
   "execution_count": null,
   "id": "f30859e1-40aa-4a99-a788-496188720e20",
   "metadata": {
    "tags": []
   },
   "outputs": [],
   "source": [
    "model.config.sampling_rate"
   ]
  },
  {
   "cell_type": "code",
   "execution_count": null,
   "id": "16de56e7-1443-48ce-af0e-0a51a0115b39",
   "metadata": {
    "tags": []
   },
   "outputs": [],
   "source": [
    "# save wav file\n",
    "import scipy\n",
    "\n",
    "scipy.io.wavfile.write(\"kakao-enterprise_vits-vctk_output.wav\", rate=model.config.sampling_rate, data=output.cpu().numpy().squeeze())"
   ]
  }
 ],
 "metadata": {
  "kernelspec": {
   "display_name": "Python 3 (ipykernel)",
   "language": "python",
   "name": "python3"
  },
  "language_info": {
   "codemirror_mode": {
    "name": "ipython",
    "version": 3
   },
   "file_extension": ".py",
   "mimetype": "text/x-python",
   "name": "python",
   "nbconvert_exporter": "python",
   "pygments_lexer": "ipython3",
   "version": "3.10.12"
  }
 },
 "nbformat": 4,
 "nbformat_minor": 5
}
