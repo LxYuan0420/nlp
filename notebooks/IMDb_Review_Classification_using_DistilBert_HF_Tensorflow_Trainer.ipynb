{
  "nbformat": 4,
  "nbformat_minor": 0,
  "metadata": {
    "colab": {
      "name": "IMDb Review Classification using DistilBert HF Tensorflow Trainer.ipynb",
      "provenance": [],
      "collapsed_sections": []
    },
    "kernelspec": {
      "name": "python3",
      "display_name": "Python 3"
    },
    "language_info": {
      "name": "python"
    },
    "accelerator": "GPU",
    "widgets": {
      "application/vnd.jupyter.widget-state+json": {
        "52e55bc3f3a744719a641fa26ffda22f": {
          "model_module": "@jupyter-widgets/controls",
          "model_name": "HBoxModel",
          "state": {
            "_view_name": "HBoxView",
            "_dom_classes": [],
            "_model_name": "HBoxModel",
            "_view_module": "@jupyter-widgets/controls",
            "_model_module_version": "1.5.0",
            "_view_count": null,
            "_view_module_version": "1.5.0",
            "box_style": "",
            "layout": "IPY_MODEL_319f141e83e9432bb0390f445d506cf0",
            "_model_module": "@jupyter-widgets/controls",
            "children": [
              "IPY_MODEL_ae12bc53b04a453397aa4ef3025942f4",
              "IPY_MODEL_0cedd754d2a340ce9178a213edb338d2"
            ]
          }
        },
        "319f141e83e9432bb0390f445d506cf0": {
          "model_module": "@jupyter-widgets/base",
          "model_name": "LayoutModel",
          "state": {
            "_view_name": "LayoutView",
            "grid_template_rows": null,
            "right": null,
            "justify_content": null,
            "_view_module": "@jupyter-widgets/base",
            "overflow": null,
            "_model_module_version": "1.2.0",
            "_view_count": null,
            "flex_flow": null,
            "width": null,
            "min_width": null,
            "border": null,
            "align_items": null,
            "bottom": null,
            "_model_module": "@jupyter-widgets/base",
            "top": null,
            "grid_column": null,
            "overflow_y": null,
            "overflow_x": null,
            "grid_auto_flow": null,
            "grid_area": null,
            "grid_template_columns": null,
            "flex": null,
            "_model_name": "LayoutModel",
            "justify_items": null,
            "grid_row": null,
            "max_height": null,
            "align_content": null,
            "visibility": null,
            "align_self": null,
            "height": null,
            "min_height": null,
            "padding": null,
            "grid_auto_rows": null,
            "grid_gap": null,
            "max_width": null,
            "order": null,
            "_view_module_version": "1.2.0",
            "grid_template_areas": null,
            "object_position": null,
            "object_fit": null,
            "grid_auto_columns": null,
            "margin": null,
            "display": null,
            "left": null
          }
        },
        "ae12bc53b04a453397aa4ef3025942f4": {
          "model_module": "@jupyter-widgets/controls",
          "model_name": "FloatProgressModel",
          "state": {
            "_view_name": "ProgressView",
            "style": "IPY_MODEL_44d583e0fa594824bd9f238b6d4f0610",
            "_dom_classes": [],
            "description": "Downloading: 100%",
            "_model_name": "FloatProgressModel",
            "bar_style": "success",
            "max": 231508,
            "_view_module": "@jupyter-widgets/controls",
            "_model_module_version": "1.5.0",
            "value": 231508,
            "_view_count": null,
            "_view_module_version": "1.5.0",
            "orientation": "horizontal",
            "min": 0,
            "description_tooltip": null,
            "_model_module": "@jupyter-widgets/controls",
            "layout": "IPY_MODEL_9e590e8031ac4e92a0b9c79d10aa92a7"
          }
        },
        "0cedd754d2a340ce9178a213edb338d2": {
          "model_module": "@jupyter-widgets/controls",
          "model_name": "HTMLModel",
          "state": {
            "_view_name": "HTMLView",
            "style": "IPY_MODEL_d325e7cf35cf4db1a9e279c63d23ded6",
            "_dom_classes": [],
            "description": "",
            "_model_name": "HTMLModel",
            "placeholder": "​",
            "_view_module": "@jupyter-widgets/controls",
            "_model_module_version": "1.5.0",
            "value": " 232k/232k [00:12&lt;00:00, 18.7kB/s]",
            "_view_count": null,
            "_view_module_version": "1.5.0",
            "description_tooltip": null,
            "_model_module": "@jupyter-widgets/controls",
            "layout": "IPY_MODEL_101f05e7c96e4c0da22320e984966e36"
          }
        },
        "44d583e0fa594824bd9f238b6d4f0610": {
          "model_module": "@jupyter-widgets/controls",
          "model_name": "ProgressStyleModel",
          "state": {
            "_view_name": "StyleView",
            "_model_name": "ProgressStyleModel",
            "description_width": "initial",
            "_view_module": "@jupyter-widgets/base",
            "_model_module_version": "1.5.0",
            "_view_count": null,
            "_view_module_version": "1.2.0",
            "bar_color": null,
            "_model_module": "@jupyter-widgets/controls"
          }
        },
        "9e590e8031ac4e92a0b9c79d10aa92a7": {
          "model_module": "@jupyter-widgets/base",
          "model_name": "LayoutModel",
          "state": {
            "_view_name": "LayoutView",
            "grid_template_rows": null,
            "right": null,
            "justify_content": null,
            "_view_module": "@jupyter-widgets/base",
            "overflow": null,
            "_model_module_version": "1.2.0",
            "_view_count": null,
            "flex_flow": null,
            "width": null,
            "min_width": null,
            "border": null,
            "align_items": null,
            "bottom": null,
            "_model_module": "@jupyter-widgets/base",
            "top": null,
            "grid_column": null,
            "overflow_y": null,
            "overflow_x": null,
            "grid_auto_flow": null,
            "grid_area": null,
            "grid_template_columns": null,
            "flex": null,
            "_model_name": "LayoutModel",
            "justify_items": null,
            "grid_row": null,
            "max_height": null,
            "align_content": null,
            "visibility": null,
            "align_self": null,
            "height": null,
            "min_height": null,
            "padding": null,
            "grid_auto_rows": null,
            "grid_gap": null,
            "max_width": null,
            "order": null,
            "_view_module_version": "1.2.0",
            "grid_template_areas": null,
            "object_position": null,
            "object_fit": null,
            "grid_auto_columns": null,
            "margin": null,
            "display": null,
            "left": null
          }
        },
        "d325e7cf35cf4db1a9e279c63d23ded6": {
          "model_module": "@jupyter-widgets/controls",
          "model_name": "DescriptionStyleModel",
          "state": {
            "_view_name": "StyleView",
            "_model_name": "DescriptionStyleModel",
            "description_width": "",
            "_view_module": "@jupyter-widgets/base",
            "_model_module_version": "1.5.0",
            "_view_count": null,
            "_view_module_version": "1.2.0",
            "_model_module": "@jupyter-widgets/controls"
          }
        },
        "101f05e7c96e4c0da22320e984966e36": {
          "model_module": "@jupyter-widgets/base",
          "model_name": "LayoutModel",
          "state": {
            "_view_name": "LayoutView",
            "grid_template_rows": null,
            "right": null,
            "justify_content": null,
            "_view_module": "@jupyter-widgets/base",
            "overflow": null,
            "_model_module_version": "1.2.0",
            "_view_count": null,
            "flex_flow": null,
            "width": null,
            "min_width": null,
            "border": null,
            "align_items": null,
            "bottom": null,
            "_model_module": "@jupyter-widgets/base",
            "top": null,
            "grid_column": null,
            "overflow_y": null,
            "overflow_x": null,
            "grid_auto_flow": null,
            "grid_area": null,
            "grid_template_columns": null,
            "flex": null,
            "_model_name": "LayoutModel",
            "justify_items": null,
            "grid_row": null,
            "max_height": null,
            "align_content": null,
            "visibility": null,
            "align_self": null,
            "height": null,
            "min_height": null,
            "padding": null,
            "grid_auto_rows": null,
            "grid_gap": null,
            "max_width": null,
            "order": null,
            "_view_module_version": "1.2.0",
            "grid_template_areas": null,
            "object_position": null,
            "object_fit": null,
            "grid_auto_columns": null,
            "margin": null,
            "display": null,
            "left": null
          }
        },
        "9b8757771fc847c1ac372b8cf3dea547": {
          "model_module": "@jupyter-widgets/controls",
          "model_name": "HBoxModel",
          "state": {
            "_view_name": "HBoxView",
            "_dom_classes": [],
            "_model_name": "HBoxModel",
            "_view_module": "@jupyter-widgets/controls",
            "_model_module_version": "1.5.0",
            "_view_count": null,
            "_view_module_version": "1.5.0",
            "box_style": "",
            "layout": "IPY_MODEL_b7682321c49a4ba9aaa09252cdddc66b",
            "_model_module": "@jupyter-widgets/controls",
            "children": [
              "IPY_MODEL_8206249b6cfa4018ae429f996004648e",
              "IPY_MODEL_19e948c2065d4f83aef59fc67b4279d8"
            ]
          }
        },
        "b7682321c49a4ba9aaa09252cdddc66b": {
          "model_module": "@jupyter-widgets/base",
          "model_name": "LayoutModel",
          "state": {
            "_view_name": "LayoutView",
            "grid_template_rows": null,
            "right": null,
            "justify_content": null,
            "_view_module": "@jupyter-widgets/base",
            "overflow": null,
            "_model_module_version": "1.2.0",
            "_view_count": null,
            "flex_flow": null,
            "width": null,
            "min_width": null,
            "border": null,
            "align_items": null,
            "bottom": null,
            "_model_module": "@jupyter-widgets/base",
            "top": null,
            "grid_column": null,
            "overflow_y": null,
            "overflow_x": null,
            "grid_auto_flow": null,
            "grid_area": null,
            "grid_template_columns": null,
            "flex": null,
            "_model_name": "LayoutModel",
            "justify_items": null,
            "grid_row": null,
            "max_height": null,
            "align_content": null,
            "visibility": null,
            "align_self": null,
            "height": null,
            "min_height": null,
            "padding": null,
            "grid_auto_rows": null,
            "grid_gap": null,
            "max_width": null,
            "order": null,
            "_view_module_version": "1.2.0",
            "grid_template_areas": null,
            "object_position": null,
            "object_fit": null,
            "grid_auto_columns": null,
            "margin": null,
            "display": null,
            "left": null
          }
        },
        "8206249b6cfa4018ae429f996004648e": {
          "model_module": "@jupyter-widgets/controls",
          "model_name": "FloatProgressModel",
          "state": {
            "_view_name": "ProgressView",
            "style": "IPY_MODEL_677c0fd2786c403c9f57b0930fc2f606",
            "_dom_classes": [],
            "description": "Downloading: 100%",
            "_model_name": "FloatProgressModel",
            "bar_style": "success",
            "max": 466062,
            "_view_module": "@jupyter-widgets/controls",
            "_model_module_version": "1.5.0",
            "value": 466062,
            "_view_count": null,
            "_view_module_version": "1.5.0",
            "orientation": "horizontal",
            "min": 0,
            "description_tooltip": null,
            "_model_module": "@jupyter-widgets/controls",
            "layout": "IPY_MODEL_bdf9b58e43b9469baa6f4a0134745a8b"
          }
        },
        "19e948c2065d4f83aef59fc67b4279d8": {
          "model_module": "@jupyter-widgets/controls",
          "model_name": "HTMLModel",
          "state": {
            "_view_name": "HTMLView",
            "style": "IPY_MODEL_8208fd3111dc4dc8af8d1283baa53158",
            "_dom_classes": [],
            "description": "",
            "_model_name": "HTMLModel",
            "placeholder": "​",
            "_view_module": "@jupyter-widgets/controls",
            "_model_module_version": "1.5.0",
            "value": " 466k/466k [00:12&lt;00:00, 38.1kB/s]",
            "_view_count": null,
            "_view_module_version": "1.5.0",
            "description_tooltip": null,
            "_model_module": "@jupyter-widgets/controls",
            "layout": "IPY_MODEL_a83b7f9f02c240f6aa9e902a3e9c34bb"
          }
        },
        "677c0fd2786c403c9f57b0930fc2f606": {
          "model_module": "@jupyter-widgets/controls",
          "model_name": "ProgressStyleModel",
          "state": {
            "_view_name": "StyleView",
            "_model_name": "ProgressStyleModel",
            "description_width": "initial",
            "_view_module": "@jupyter-widgets/base",
            "_model_module_version": "1.5.0",
            "_view_count": null,
            "_view_module_version": "1.2.0",
            "bar_color": null,
            "_model_module": "@jupyter-widgets/controls"
          }
        },
        "bdf9b58e43b9469baa6f4a0134745a8b": {
          "model_module": "@jupyter-widgets/base",
          "model_name": "LayoutModel",
          "state": {
            "_view_name": "LayoutView",
            "grid_template_rows": null,
            "right": null,
            "justify_content": null,
            "_view_module": "@jupyter-widgets/base",
            "overflow": null,
            "_model_module_version": "1.2.0",
            "_view_count": null,
            "flex_flow": null,
            "width": null,
            "min_width": null,
            "border": null,
            "align_items": null,
            "bottom": null,
            "_model_module": "@jupyter-widgets/base",
            "top": null,
            "grid_column": null,
            "overflow_y": null,
            "overflow_x": null,
            "grid_auto_flow": null,
            "grid_area": null,
            "grid_template_columns": null,
            "flex": null,
            "_model_name": "LayoutModel",
            "justify_items": null,
            "grid_row": null,
            "max_height": null,
            "align_content": null,
            "visibility": null,
            "align_self": null,
            "height": null,
            "min_height": null,
            "padding": null,
            "grid_auto_rows": null,
            "grid_gap": null,
            "max_width": null,
            "order": null,
            "_view_module_version": "1.2.0",
            "grid_template_areas": null,
            "object_position": null,
            "object_fit": null,
            "grid_auto_columns": null,
            "margin": null,
            "display": null,
            "left": null
          }
        },
        "8208fd3111dc4dc8af8d1283baa53158": {
          "model_module": "@jupyter-widgets/controls",
          "model_name": "DescriptionStyleModel",
          "state": {
            "_view_name": "StyleView",
            "_model_name": "DescriptionStyleModel",
            "description_width": "",
            "_view_module": "@jupyter-widgets/base",
            "_model_module_version": "1.5.0",
            "_view_count": null,
            "_view_module_version": "1.2.0",
            "_model_module": "@jupyter-widgets/controls"
          }
        },
        "a83b7f9f02c240f6aa9e902a3e9c34bb": {
          "model_module": "@jupyter-widgets/base",
          "model_name": "LayoutModel",
          "state": {
            "_view_name": "LayoutView",
            "grid_template_rows": null,
            "right": null,
            "justify_content": null,
            "_view_module": "@jupyter-widgets/base",
            "overflow": null,
            "_model_module_version": "1.2.0",
            "_view_count": null,
            "flex_flow": null,
            "width": null,
            "min_width": null,
            "border": null,
            "align_items": null,
            "bottom": null,
            "_model_module": "@jupyter-widgets/base",
            "top": null,
            "grid_column": null,
            "overflow_y": null,
            "overflow_x": null,
            "grid_auto_flow": null,
            "grid_area": null,
            "grid_template_columns": null,
            "flex": null,
            "_model_name": "LayoutModel",
            "justify_items": null,
            "grid_row": null,
            "max_height": null,
            "align_content": null,
            "visibility": null,
            "align_self": null,
            "height": null,
            "min_height": null,
            "padding": null,
            "grid_auto_rows": null,
            "grid_gap": null,
            "max_width": null,
            "order": null,
            "_view_module_version": "1.2.0",
            "grid_template_areas": null,
            "object_position": null,
            "object_fit": null,
            "grid_auto_columns": null,
            "margin": null,
            "display": null,
            "left": null
          }
        },
        "367f0e9d58234d5f95e98f7d6828db9f": {
          "model_module": "@jupyter-widgets/controls",
          "model_name": "HBoxModel",
          "state": {
            "_view_name": "HBoxView",
            "_dom_classes": [],
            "_model_name": "HBoxModel",
            "_view_module": "@jupyter-widgets/controls",
            "_model_module_version": "1.5.0",
            "_view_count": null,
            "_view_module_version": "1.5.0",
            "box_style": "",
            "layout": "IPY_MODEL_f9278c6a3d8a43ad9b3c903d694d2033",
            "_model_module": "@jupyter-widgets/controls",
            "children": [
              "IPY_MODEL_87cd5adc040f400c8dd28de2236c86b1",
              "IPY_MODEL_288ccb420fa145a9a5f0ec614fe406ae"
            ]
          }
        },
        "f9278c6a3d8a43ad9b3c903d694d2033": {
          "model_module": "@jupyter-widgets/base",
          "model_name": "LayoutModel",
          "state": {
            "_view_name": "LayoutView",
            "grid_template_rows": null,
            "right": null,
            "justify_content": null,
            "_view_module": "@jupyter-widgets/base",
            "overflow": null,
            "_model_module_version": "1.2.0",
            "_view_count": null,
            "flex_flow": null,
            "width": null,
            "min_width": null,
            "border": null,
            "align_items": null,
            "bottom": null,
            "_model_module": "@jupyter-widgets/base",
            "top": null,
            "grid_column": null,
            "overflow_y": null,
            "overflow_x": null,
            "grid_auto_flow": null,
            "grid_area": null,
            "grid_template_columns": null,
            "flex": null,
            "_model_name": "LayoutModel",
            "justify_items": null,
            "grid_row": null,
            "max_height": null,
            "align_content": null,
            "visibility": null,
            "align_self": null,
            "height": null,
            "min_height": null,
            "padding": null,
            "grid_auto_rows": null,
            "grid_gap": null,
            "max_width": null,
            "order": null,
            "_view_module_version": "1.2.0",
            "grid_template_areas": null,
            "object_position": null,
            "object_fit": null,
            "grid_auto_columns": null,
            "margin": null,
            "display": null,
            "left": null
          }
        },
        "87cd5adc040f400c8dd28de2236c86b1": {
          "model_module": "@jupyter-widgets/controls",
          "model_name": "FloatProgressModel",
          "state": {
            "_view_name": "ProgressView",
            "style": "IPY_MODEL_470cd21c306544e2943b108c8e4c4123",
            "_dom_classes": [],
            "description": "Downloading: 100%",
            "_model_name": "FloatProgressModel",
            "bar_style": "success",
            "max": 28,
            "_view_module": "@jupyter-widgets/controls",
            "_model_module_version": "1.5.0",
            "value": 28,
            "_view_count": null,
            "_view_module_version": "1.5.0",
            "orientation": "horizontal",
            "min": 0,
            "description_tooltip": null,
            "_model_module": "@jupyter-widgets/controls",
            "layout": "IPY_MODEL_5953be706b5d4083bf99da93f268c3ba"
          }
        },
        "288ccb420fa145a9a5f0ec614fe406ae": {
          "model_module": "@jupyter-widgets/controls",
          "model_name": "HTMLModel",
          "state": {
            "_view_name": "HTMLView",
            "style": "IPY_MODEL_8f1f89a88b62444e8e0efdbc353d2d21",
            "_dom_classes": [],
            "description": "",
            "_model_name": "HTMLModel",
            "placeholder": "​",
            "_view_module": "@jupyter-widgets/controls",
            "_model_module_version": "1.5.0",
            "value": " 28.0/28.0 [00:12&lt;00:00, 2.32B/s]",
            "_view_count": null,
            "_view_module_version": "1.5.0",
            "description_tooltip": null,
            "_model_module": "@jupyter-widgets/controls",
            "layout": "IPY_MODEL_fc50877d66ea467db9441ff09a7e67eb"
          }
        },
        "470cd21c306544e2943b108c8e4c4123": {
          "model_module": "@jupyter-widgets/controls",
          "model_name": "ProgressStyleModel",
          "state": {
            "_view_name": "StyleView",
            "_model_name": "ProgressStyleModel",
            "description_width": "initial",
            "_view_module": "@jupyter-widgets/base",
            "_model_module_version": "1.5.0",
            "_view_count": null,
            "_view_module_version": "1.2.0",
            "bar_color": null,
            "_model_module": "@jupyter-widgets/controls"
          }
        },
        "5953be706b5d4083bf99da93f268c3ba": {
          "model_module": "@jupyter-widgets/base",
          "model_name": "LayoutModel",
          "state": {
            "_view_name": "LayoutView",
            "grid_template_rows": null,
            "right": null,
            "justify_content": null,
            "_view_module": "@jupyter-widgets/base",
            "overflow": null,
            "_model_module_version": "1.2.0",
            "_view_count": null,
            "flex_flow": null,
            "width": null,
            "min_width": null,
            "border": null,
            "align_items": null,
            "bottom": null,
            "_model_module": "@jupyter-widgets/base",
            "top": null,
            "grid_column": null,
            "overflow_y": null,
            "overflow_x": null,
            "grid_auto_flow": null,
            "grid_area": null,
            "grid_template_columns": null,
            "flex": null,
            "_model_name": "LayoutModel",
            "justify_items": null,
            "grid_row": null,
            "max_height": null,
            "align_content": null,
            "visibility": null,
            "align_self": null,
            "height": null,
            "min_height": null,
            "padding": null,
            "grid_auto_rows": null,
            "grid_gap": null,
            "max_width": null,
            "order": null,
            "_view_module_version": "1.2.0",
            "grid_template_areas": null,
            "object_position": null,
            "object_fit": null,
            "grid_auto_columns": null,
            "margin": null,
            "display": null,
            "left": null
          }
        },
        "8f1f89a88b62444e8e0efdbc353d2d21": {
          "model_module": "@jupyter-widgets/controls",
          "model_name": "DescriptionStyleModel",
          "state": {
            "_view_name": "StyleView",
            "_model_name": "DescriptionStyleModel",
            "description_width": "",
            "_view_module": "@jupyter-widgets/base",
            "_model_module_version": "1.5.0",
            "_view_count": null,
            "_view_module_version": "1.2.0",
            "_model_module": "@jupyter-widgets/controls"
          }
        },
        "fc50877d66ea467db9441ff09a7e67eb": {
          "model_module": "@jupyter-widgets/base",
          "model_name": "LayoutModel",
          "state": {
            "_view_name": "LayoutView",
            "grid_template_rows": null,
            "right": null,
            "justify_content": null,
            "_view_module": "@jupyter-widgets/base",
            "overflow": null,
            "_model_module_version": "1.2.0",
            "_view_count": null,
            "flex_flow": null,
            "width": null,
            "min_width": null,
            "border": null,
            "align_items": null,
            "bottom": null,
            "_model_module": "@jupyter-widgets/base",
            "top": null,
            "grid_column": null,
            "overflow_y": null,
            "overflow_x": null,
            "grid_auto_flow": null,
            "grid_area": null,
            "grid_template_columns": null,
            "flex": null,
            "_model_name": "LayoutModel",
            "justify_items": null,
            "grid_row": null,
            "max_height": null,
            "align_content": null,
            "visibility": null,
            "align_self": null,
            "height": null,
            "min_height": null,
            "padding": null,
            "grid_auto_rows": null,
            "grid_gap": null,
            "max_width": null,
            "order": null,
            "_view_module_version": "1.2.0",
            "grid_template_areas": null,
            "object_position": null,
            "object_fit": null,
            "grid_auto_columns": null,
            "margin": null,
            "display": null,
            "left": null
          }
        }
      }
    }
  },
  "cells": [
    {
      "cell_type": "markdown",
      "metadata": {
        "id": "RFRtxxBeJN62"
      },
      "source": [
        "### 0. Install Libraries"
      ]
    },
    {
      "cell_type": "code",
      "metadata": {
        "colab": {
          "base_uri": "https://localhost:8080/"
        },
        "id": "ReTmVXeMtihW",
        "outputId": "092c01a6-142d-4a1c-e376-e1d6aa679d89"
      },
      "source": [
        "!pip install -U transformers\n",
        "!pip install sentencepiece\n",
        "\n",
        "# Restart kernel after installation: Runtime -> Restart runtime"
      ],
      "execution_count": 1,
      "outputs": [
        {
          "output_type": "stream",
          "text": [
            "Collecting transformers\n",
            "\u001b[?25l  Downloading https://files.pythonhosted.org/packages/b5/d5/c6c23ad75491467a9a84e526ef2364e523d45e2b0fae28a7cbe8689e7e84/transformers-4.8.1-py3-none-any.whl (2.5MB)\n",
            "\r\u001b[K     |▏                               | 10kB 23.4MB/s eta 0:00:01\r\u001b[K     |▎                               | 20kB 29.3MB/s eta 0:00:01\r\u001b[K     |▍                               | 30kB 34.9MB/s eta 0:00:01\r\u001b[K     |▌                               | 40kB 27.0MB/s eta 0:00:01\r\u001b[K     |▋                               | 51kB 28.7MB/s eta 0:00:01\r\u001b[K     |▉                               | 61kB 30.7MB/s eta 0:00:01\r\u001b[K     |█                               | 71kB 32.0MB/s eta 0:00:01\r\u001b[K     |█                               | 81kB 29.0MB/s eta 0:00:01\r\u001b[K     |█▏                              | 92kB 30.6MB/s eta 0:00:01\r\u001b[K     |█▎                              | 102kB 31.5MB/s eta 0:00:01\r\u001b[K     |█▌                              | 112kB 31.5MB/s eta 0:00:01\r\u001b[K     |█▋                              | 122kB 31.5MB/s eta 0:00:01\r\u001b[K     |█▊                              | 133kB 31.5MB/s eta 0:00:01\r\u001b[K     |█▉                              | 143kB 31.5MB/s eta 0:00:01\r\u001b[K     |██                              | 153kB 31.5MB/s eta 0:00:01\r\u001b[K     |██                              | 163kB 31.5MB/s eta 0:00:01\r\u001b[K     |██▎                             | 174kB 31.5MB/s eta 0:00:01\r\u001b[K     |██▍                             | 184kB 31.5MB/s eta 0:00:01\r\u001b[K     |██▌                             | 194kB 31.5MB/s eta 0:00:01\r\u001b[K     |██▋                             | 204kB 31.5MB/s eta 0:00:01\r\u001b[K     |██▊                             | 215kB 31.5MB/s eta 0:00:01\r\u001b[K     |███                             | 225kB 31.5MB/s eta 0:00:01\r\u001b[K     |███                             | 235kB 31.5MB/s eta 0:00:01\r\u001b[K     |███▏                            | 245kB 31.5MB/s eta 0:00:01\r\u001b[K     |███▎                            | 256kB 31.5MB/s eta 0:00:01\r\u001b[K     |███▍                            | 266kB 31.5MB/s eta 0:00:01\r\u001b[K     |███▌                            | 276kB 31.5MB/s eta 0:00:01\r\u001b[K     |███▊                            | 286kB 31.5MB/s eta 0:00:01\r\u001b[K     |███▉                            | 296kB 31.5MB/s eta 0:00:01\r\u001b[K     |████                            | 307kB 31.5MB/s eta 0:00:01\r\u001b[K     |████                            | 317kB 31.5MB/s eta 0:00:01\r\u001b[K     |████▏                           | 327kB 31.5MB/s eta 0:00:01\r\u001b[K     |████▍                           | 337kB 31.5MB/s eta 0:00:01\r\u001b[K     |████▌                           | 348kB 31.5MB/s eta 0:00:01\r\u001b[K     |████▋                           | 358kB 31.5MB/s eta 0:00:01\r\u001b[K     |████▊                           | 368kB 31.5MB/s eta 0:00:01\r\u001b[K     |████▉                           | 378kB 31.5MB/s eta 0:00:01\r\u001b[K     |█████                           | 389kB 31.5MB/s eta 0:00:01\r\u001b[K     |█████▏                          | 399kB 31.5MB/s eta 0:00:01\r\u001b[K     |█████▎                          | 409kB 31.5MB/s eta 0:00:01\r\u001b[K     |█████▍                          | 419kB 31.5MB/s eta 0:00:01\r\u001b[K     |█████▌                          | 430kB 31.5MB/s eta 0:00:01\r\u001b[K     |█████▋                          | 440kB 31.5MB/s eta 0:00:01\r\u001b[K     |█████▉                          | 450kB 31.5MB/s eta 0:00:01\r\u001b[K     |██████                          | 460kB 31.5MB/s eta 0:00:01\r\u001b[K     |██████                          | 471kB 31.5MB/s eta 0:00:01\r\u001b[K     |██████▏                         | 481kB 31.5MB/s eta 0:00:01\r\u001b[K     |██████▎                         | 491kB 31.5MB/s eta 0:00:01\r\u001b[K     |██████▍                         | 501kB 31.5MB/s eta 0:00:01\r\u001b[K     |██████▋                         | 512kB 31.5MB/s eta 0:00:01\r\u001b[K     |██████▊                         | 522kB 31.5MB/s eta 0:00:01\r\u001b[K     |██████▉                         | 532kB 31.5MB/s eta 0:00:01\r\u001b[K     |███████                         | 542kB 31.5MB/s eta 0:00:01\r\u001b[K     |███████                         | 552kB 31.5MB/s eta 0:00:01\r\u001b[K     |███████▎                        | 563kB 31.5MB/s eta 0:00:01\r\u001b[K     |███████▍                        | 573kB 31.5MB/s eta 0:00:01\r\u001b[K     |███████▌                        | 583kB 31.5MB/s eta 0:00:01\r\u001b[K     |███████▋                        | 593kB 31.5MB/s eta 0:00:01\r\u001b[K     |███████▊                        | 604kB 31.5MB/s eta 0:00:01\r\u001b[K     |███████▉                        | 614kB 31.5MB/s eta 0:00:01\r\u001b[K     |████████                        | 624kB 31.5MB/s eta 0:00:01\r\u001b[K     |████████▏                       | 634kB 31.5MB/s eta 0:00:01\r\u001b[K     |████████▎                       | 645kB 31.5MB/s eta 0:00:01\r\u001b[K     |████████▍                       | 655kB 31.5MB/s eta 0:00:01\r\u001b[K     |████████▌                       | 665kB 31.5MB/s eta 0:00:01\r\u001b[K     |████████▊                       | 675kB 31.5MB/s eta 0:00:01\r\u001b[K     |████████▉                       | 686kB 31.5MB/s eta 0:00:01\r\u001b[K     |█████████                       | 696kB 31.5MB/s eta 0:00:01\r\u001b[K     |█████████                       | 706kB 31.5MB/s eta 0:00:01\r\u001b[K     |█████████▏                      | 716kB 31.5MB/s eta 0:00:01\r\u001b[K     |█████████▎                      | 727kB 31.5MB/s eta 0:00:01\r\u001b[K     |█████████▌                      | 737kB 31.5MB/s eta 0:00:01\r\u001b[K     |█████████▋                      | 747kB 31.5MB/s eta 0:00:01\r\u001b[K     |█████████▊                      | 757kB 31.5MB/s eta 0:00:01\r\u001b[K     |█████████▉                      | 768kB 31.5MB/s eta 0:00:01\r\u001b[K     |██████████                      | 778kB 31.5MB/s eta 0:00:01\r\u001b[K     |██████████▏                     | 788kB 31.5MB/s eta 0:00:01\r\u001b[K     |██████████▎                     | 798kB 31.5MB/s eta 0:00:01\r\u001b[K     |██████████▍                     | 808kB 31.5MB/s eta 0:00:01\r\u001b[K     |██████████▌                     | 819kB 31.5MB/s eta 0:00:01\r\u001b[K     |██████████▋                     | 829kB 31.5MB/s eta 0:00:01\r\u001b[K     |██████████▊                     | 839kB 31.5MB/s eta 0:00:01\r\u001b[K     |███████████                     | 849kB 31.5MB/s eta 0:00:01\r\u001b[K     |███████████                     | 860kB 31.5MB/s eta 0:00:01\r\u001b[K     |███████████▏                    | 870kB 31.5MB/s eta 0:00:01\r\u001b[K     |███████████▎                    | 880kB 31.5MB/s eta 0:00:01\r\u001b[K     |███████████▍                    | 890kB 31.5MB/s eta 0:00:01\r\u001b[K     |███████████▋                    | 901kB 31.5MB/s eta 0:00:01\r\u001b[K     |███████████▊                    | 911kB 31.5MB/s eta 0:00:01\r\u001b[K     |███████████▉                    | 921kB 31.5MB/s eta 0:00:01\r\u001b[K     |████████████                    | 931kB 31.5MB/s eta 0:00:01\r\u001b[K     |████████████                    | 942kB 31.5MB/s eta 0:00:01\r\u001b[K     |████████████▏                   | 952kB 31.5MB/s eta 0:00:01\r\u001b[K     |████████████▍                   | 962kB 31.5MB/s eta 0:00:01\r\u001b[K     |████████████▌                   | 972kB 31.5MB/s eta 0:00:01\r\u001b[K     |████████████▋                   | 983kB 31.5MB/s eta 0:00:01\r\u001b[K     |████████████▊                   | 993kB 31.5MB/s eta 0:00:01\r\u001b[K     |████████████▉                   | 1.0MB 31.5MB/s eta 0:00:01\r\u001b[K     |█████████████                   | 1.0MB 31.5MB/s eta 0:00:01\r\u001b[K     |█████████████▏                  | 1.0MB 31.5MB/s eta 0:00:01\r\u001b[K     |█████████████▎                  | 1.0MB 31.5MB/s eta 0:00:01\r\u001b[K     |█████████████▍                  | 1.0MB 31.5MB/s eta 0:00:01\r\u001b[K     |█████████████▌                  | 1.1MB 31.5MB/s eta 0:00:01\r\u001b[K     |█████████████▋                  | 1.1MB 31.5MB/s eta 0:00:01\r\u001b[K     |█████████████▉                  | 1.1MB 31.5MB/s eta 0:00:01\r\u001b[K     |██████████████                  | 1.1MB 31.5MB/s eta 0:00:01\r\u001b[K     |██████████████                  | 1.1MB 31.5MB/s eta 0:00:01\r\u001b[K     |██████████████▏                 | 1.1MB 31.5MB/s eta 0:00:01\r\u001b[K     |██████████████▎                 | 1.1MB 31.5MB/s eta 0:00:01\r\u001b[K     |██████████████▌                 | 1.1MB 31.5MB/s eta 0:00:01\r\u001b[K     |██████████████▋                 | 1.1MB 31.5MB/s eta 0:00:01\r\u001b[K     |██████████████▊                 | 1.1MB 31.5MB/s eta 0:00:01\r\u001b[K     |██████████████▉                 | 1.2MB 31.5MB/s eta 0:00:01\r\u001b[K     |███████████████                 | 1.2MB 31.5MB/s eta 0:00:01\r\u001b[K     |███████████████                 | 1.2MB 31.5MB/s eta 0:00:01\r\u001b[K     |███████████████▎                | 1.2MB 31.5MB/s eta 0:00:01\r\u001b[K     |███████████████▍                | 1.2MB 31.5MB/s eta 0:00:01\r\u001b[K     |███████████████▌                | 1.2MB 31.5MB/s eta 0:00:01\r\u001b[K     |███████████████▋                | 1.2MB 31.5MB/s eta 0:00:01\r\u001b[K     |███████████████▊                | 1.2MB 31.5MB/s eta 0:00:01\r\u001b[K     |████████████████                | 1.2MB 31.5MB/s eta 0:00:01\r\u001b[K     |████████████████                | 1.2MB 31.5MB/s eta 0:00:01\r\u001b[K     |████████████████▏               | 1.3MB 31.5MB/s eta 0:00:01\r\u001b[K     |████████████████▎               | 1.3MB 31.5MB/s eta 0:00:01\r\u001b[K     |████████████████▍               | 1.3MB 31.5MB/s eta 0:00:01\r\u001b[K     |████████████████▌               | 1.3MB 31.5MB/s eta 0:00:01\r\u001b[K     |████████████████▊               | 1.3MB 31.5MB/s eta 0:00:01\r\u001b[K     |████████████████▉               | 1.3MB 31.5MB/s eta 0:00:01\r\u001b[K     |█████████████████               | 1.3MB 31.5MB/s eta 0:00:01\r\u001b[K     |█████████████████               | 1.3MB 31.5MB/s eta 0:00:01\r\u001b[K     |█████████████████▏              | 1.3MB 31.5MB/s eta 0:00:01\r\u001b[K     |█████████████████▍              | 1.4MB 31.5MB/s eta 0:00:01\r\u001b[K     |█████████████████▌              | 1.4MB 31.5MB/s eta 0:00:01\r\u001b[K     |█████████████████▋              | 1.4MB 31.5MB/s eta 0:00:01\r\u001b[K     |█████████████████▊              | 1.4MB 31.5MB/s eta 0:00:01\r\u001b[K     |█████████████████▉              | 1.4MB 31.5MB/s eta 0:00:01\r\u001b[K     |██████████████████              | 1.4MB 31.5MB/s eta 0:00:01\r\u001b[K     |██████████████████▏             | 1.4MB 31.5MB/s eta 0:00:01\r\u001b[K     |██████████████████▎             | 1.4MB 31.5MB/s eta 0:00:01\r\u001b[K     |██████████████████▍             | 1.4MB 31.5MB/s eta 0:00:01\r\u001b[K     |██████████████████▌             | 1.4MB 31.5MB/s eta 0:00:01\r\u001b[K     |██████████████████▋             | 1.5MB 31.5MB/s eta 0:00:01\r\u001b[K     |██████████████████▉             | 1.5MB 31.5MB/s eta 0:00:01\r\u001b[K     |███████████████████             | 1.5MB 31.5MB/s eta 0:00:01\r\u001b[K     |███████████████████             | 1.5MB 31.5MB/s eta 0:00:01\r\u001b[K     |███████████████████▏            | 1.5MB 31.5MB/s eta 0:00:01\r\u001b[K     |███████████████████▎            | 1.5MB 31.5MB/s eta 0:00:01\r\u001b[K     |███████████████████▍            | 1.5MB 31.5MB/s eta 0:00:01\r\u001b[K     |███████████████████▋            | 1.5MB 31.5MB/s eta 0:00:01\r\u001b[K     |███████████████████▊            | 1.5MB 31.5MB/s eta 0:00:01\r\u001b[K     |███████████████████▉            | 1.5MB 31.5MB/s eta 0:00:01\r\u001b[K     |████████████████████            | 1.6MB 31.5MB/s eta 0:00:01\r\u001b[K     |████████████████████            | 1.6MB 31.5MB/s eta 0:00:01\r\u001b[K     |████████████████████▎           | 1.6MB 31.5MB/s eta 0:00:01\r\u001b[K     |████████████████████▍           | 1.6MB 31.5MB/s eta 0:00:01\r\u001b[K     |████████████████████▌           | 1.6MB 31.5MB/s eta 0:00:01\r\u001b[K     |████████████████████▋           | 1.6MB 31.5MB/s eta 0:00:01\r\u001b[K     |████████████████████▊           | 1.6MB 31.5MB/s eta 0:00:01\r\u001b[K     |████████████████████▉           | 1.6MB 31.5MB/s eta 0:00:01\r\u001b[K     |█████████████████████           | 1.6MB 31.5MB/s eta 0:00:01\r\u001b[K     |█████████████████████▏          | 1.6MB 31.5MB/s eta 0:00:01\r\u001b[K     |█████████████████████▎          | 1.7MB 31.5MB/s eta 0:00:01\r\u001b[K     |█████████████████████▍          | 1.7MB 31.5MB/s eta 0:00:01\r\u001b[K     |█████████████████████▌          | 1.7MB 31.5MB/s eta 0:00:01\r\u001b[K     |█████████████████████▊          | 1.7MB 31.5MB/s eta 0:00:01\r\u001b[K     |█████████████████████▉          | 1.7MB 31.5MB/s eta 0:00:01\r\u001b[K     |██████████████████████          | 1.7MB 31.5MB/s eta 0:00:01\r\u001b[K     |██████████████████████          | 1.7MB 31.5MB/s eta 0:00:01\r\u001b[K     |██████████████████████▏         | 1.7MB 31.5MB/s eta 0:00:01\r\u001b[K     |██████████████████████▎         | 1.7MB 31.5MB/s eta 0:00:01\r\u001b[K     |██████████████████████▌         | 1.8MB 31.5MB/s eta 0:00:01\r\u001b[K     |██████████████████████▋         | 1.8MB 31.5MB/s eta 0:00:01\r\u001b[K     |██████████████████████▊         | 1.8MB 31.5MB/s eta 0:00:01\r\u001b[K     |██████████████████████▉         | 1.8MB 31.5MB/s eta 0:00:01\r\u001b[K     |███████████████████████         | 1.8MB 31.5MB/s eta 0:00:01\r\u001b[K     |███████████████████████▏        | 1.8MB 31.5MB/s eta 0:00:01\r\u001b[K     |███████████████████████▎        | 1.8MB 31.5MB/s eta 0:00:01\r\u001b[K     |███████████████████████▍        | 1.8MB 31.5MB/s eta 0:00:01\r\u001b[K     |███████████████████████▌        | 1.8MB 31.5MB/s eta 0:00:01\r\u001b[K     |███████████████████████▋        | 1.8MB 31.5MB/s eta 0:00:01\r\u001b[K     |███████████████████████▊        | 1.9MB 31.5MB/s eta 0:00:01\r\u001b[K     |████████████████████████        | 1.9MB 31.5MB/s eta 0:00:01\r\u001b[K     |████████████████████████        | 1.9MB 31.5MB/s eta 0:00:01\r\u001b[K     |████████████████████████▏       | 1.9MB 31.5MB/s eta 0:00:01\r\u001b[K     |████████████████████████▎       | 1.9MB 31.5MB/s eta 0:00:01\r\u001b[K     |████████████████████████▍       | 1.9MB 31.5MB/s eta 0:00:01\r\u001b[K     |████████████████████████▋       | 1.9MB 31.5MB/s eta 0:00:01\r\u001b[K     |████████████████████████▊       | 1.9MB 31.5MB/s eta 0:00:01\r\u001b[K     |████████████████████████▉       | 1.9MB 31.5MB/s eta 0:00:01\r\u001b[K     |█████████████████████████       | 1.9MB 31.5MB/s eta 0:00:01\r\u001b[K     |█████████████████████████       | 2.0MB 31.5MB/s eta 0:00:01\r\u001b[K     |█████████████████████████▏      | 2.0MB 31.5MB/s eta 0:00:01\r\u001b[K     |█████████████████████████▍      | 2.0MB 31.5MB/s eta 0:00:01\r\u001b[K     |█████████████████████████▌      | 2.0MB 31.5MB/s eta 0:00:01\r\u001b[K     |█████████████████████████▋      | 2.0MB 31.5MB/s eta 0:00:01\r\u001b[K     |█████████████████████████▊      | 2.0MB 31.5MB/s eta 0:00:01\r\u001b[K     |█████████████████████████▉      | 2.0MB 31.5MB/s eta 0:00:01\r\u001b[K     |██████████████████████████      | 2.0MB 31.5MB/s eta 0:00:01\r\u001b[K     |██████████████████████████▏     | 2.0MB 31.5MB/s eta 0:00:01\r\u001b[K     |██████████████████████████▎     | 2.0MB 31.5MB/s eta 0:00:01\r\u001b[K     |██████████████████████████▍     | 2.1MB 31.5MB/s eta 0:00:01\r\u001b[K     |██████████████████████████▌     | 2.1MB 31.5MB/s eta 0:00:01\r\u001b[K     |██████████████████████████▋     | 2.1MB 31.5MB/s eta 0:00:01\r\u001b[K     |██████████████████████████▉     | 2.1MB 31.5MB/s eta 0:00:01\r\u001b[K     |███████████████████████████     | 2.1MB 31.5MB/s eta 0:00:01\r\u001b[K     |███████████████████████████     | 2.1MB 31.5MB/s eta 0:00:01\r\u001b[K     |███████████████████████████▏    | 2.1MB 31.5MB/s eta 0:00:01\r\u001b[K     |███████████████████████████▎    | 2.1MB 31.5MB/s eta 0:00:01\r\u001b[K     |███████████████████████████▌    | 2.1MB 31.5MB/s eta 0:00:01\r\u001b[K     |███████████████████████████▋    | 2.2MB 31.5MB/s eta 0:00:01\r\u001b[K     |███████████████████████████▊    | 2.2MB 31.5MB/s eta 0:00:01\r\u001b[K     |███████████████████████████▉    | 2.2MB 31.5MB/s eta 0:00:01\r\u001b[K     |████████████████████████████    | 2.2MB 31.5MB/s eta 0:00:01\r\u001b[K     |████████████████████████████    | 2.2MB 31.5MB/s eta 0:00:01\r\u001b[K     |████████████████████████████▎   | 2.2MB 31.5MB/s eta 0:00:01\r\u001b[K     |████████████████████████████▍   | 2.2MB 31.5MB/s eta 0:00:01\r\u001b[K     |████████████████████████████▌   | 2.2MB 31.5MB/s eta 0:00:01\r\u001b[K     |████████████████████████████▋   | 2.2MB 31.5MB/s eta 0:00:01\r\u001b[K     |████████████████████████████▊   | 2.2MB 31.5MB/s eta 0:00:01\r\u001b[K     |█████████████████████████████   | 2.3MB 31.5MB/s eta 0:00:01\r\u001b[K     |█████████████████████████████   | 2.3MB 31.5MB/s eta 0:00:01\r\u001b[K     |█████████████████████████████▏  | 2.3MB 31.5MB/s eta 0:00:01\r\u001b[K     |█████████████████████████████▎  | 2.3MB 31.5MB/s eta 0:00:01\r\u001b[K     |█████████████████████████████▍  | 2.3MB 31.5MB/s eta 0:00:01\r\u001b[K     |█████████████████████████████▌  | 2.3MB 31.5MB/s eta 0:00:01\r\u001b[K     |█████████████████████████████▊  | 2.3MB 31.5MB/s eta 0:00:01\r\u001b[K     |█████████████████████████████▉  | 2.3MB 31.5MB/s eta 0:00:01\r\u001b[K     |██████████████████████████████  | 2.3MB 31.5MB/s eta 0:00:01\r\u001b[K     |██████████████████████████████  | 2.3MB 31.5MB/s eta 0:00:01\r\u001b[K     |██████████████████████████████▏ | 2.4MB 31.5MB/s eta 0:00:01\r\u001b[K     |██████████████████████████████▍ | 2.4MB 31.5MB/s eta 0:00:01\r\u001b[K     |██████████████████████████████▌ | 2.4MB 31.5MB/s eta 0:00:01\r\u001b[K     |██████████████████████████████▋ | 2.4MB 31.5MB/s eta 0:00:01\r\u001b[K     |██████████████████████████████▊ | 2.4MB 31.5MB/s eta 0:00:01\r\u001b[K     |██████████████████████████████▉ | 2.4MB 31.5MB/s eta 0:00:01\r\u001b[K     |███████████████████████████████ | 2.4MB 31.5MB/s eta 0:00:01\r\u001b[K     |███████████████████████████████▏| 2.4MB 31.5MB/s eta 0:00:01\r\u001b[K     |███████████████████████████████▎| 2.4MB 31.5MB/s eta 0:00:01\r\u001b[K     |███████████████████████████████▍| 2.4MB 31.5MB/s eta 0:00:01\r\u001b[K     |███████████████████████████████▌| 2.5MB 31.5MB/s eta 0:00:01\r\u001b[K     |███████████████████████████████▋| 2.5MB 31.5MB/s eta 0:00:01\r\u001b[K     |███████████████████████████████▉| 2.5MB 31.5MB/s eta 0:00:01\r\u001b[K     |████████████████████████████████| 2.5MB 31.5MB/s eta 0:00:01\r\u001b[K     |████████████████████████████████| 2.5MB 31.5MB/s \n",
            "\u001b[?25hCollecting huggingface-hub==0.0.12\n",
            "  Downloading https://files.pythonhosted.org/packages/2f/ee/97e253668fda9b17e968b3f97b2f8e53aa0127e8807d24a547687423fe0b/huggingface_hub-0.0.12-py3-none-any.whl\n",
            "Requirement already satisfied, skipping upgrade: importlib-metadata; python_version < \"3.8\" in /usr/local/lib/python3.7/dist-packages (from transformers) (4.5.0)\n",
            "Requirement already satisfied, skipping upgrade: filelock in /usr/local/lib/python3.7/dist-packages (from transformers) (3.0.12)\n",
            "Requirement already satisfied, skipping upgrade: regex!=2019.12.17 in /usr/local/lib/python3.7/dist-packages (from transformers) (2019.12.20)\n",
            "Collecting sacremoses\n",
            "\u001b[?25l  Downloading https://files.pythonhosted.org/packages/75/ee/67241dc87f266093c533a2d4d3d69438e57d7a90abb216fa076e7d475d4a/sacremoses-0.0.45-py3-none-any.whl (895kB)\n",
            "\u001b[K     |████████████████████████████████| 901kB 52.9MB/s \n",
            "\u001b[?25hRequirement already satisfied, skipping upgrade: numpy>=1.17 in /usr/local/lib/python3.7/dist-packages (from transformers) (1.19.5)\n",
            "Collecting tokenizers<0.11,>=0.10.1\n",
            "\u001b[?25l  Downloading https://files.pythonhosted.org/packages/d4/e2/df3543e8ffdab68f5acc73f613de9c2b155ac47f162e725dcac87c521c11/tokenizers-0.10.3-cp37-cp37m-manylinux_2_5_x86_64.manylinux1_x86_64.manylinux_2_12_x86_64.manylinux2010_x86_64.whl (3.3MB)\n",
            "\u001b[K     |████████████████████████████████| 3.3MB 47.4MB/s \n",
            "\u001b[?25hRequirement already satisfied, skipping upgrade: pyyaml in /usr/local/lib/python3.7/dist-packages (from transformers) (3.13)\n",
            "Requirement already satisfied, skipping upgrade: packaging in /usr/local/lib/python3.7/dist-packages (from transformers) (20.9)\n",
            "Requirement already satisfied, skipping upgrade: tqdm>=4.27 in /usr/local/lib/python3.7/dist-packages (from transformers) (4.41.1)\n",
            "Requirement already satisfied, skipping upgrade: requests in /usr/local/lib/python3.7/dist-packages (from transformers) (2.23.0)\n",
            "Requirement already satisfied, skipping upgrade: typing-extensions in /usr/local/lib/python3.7/dist-packages (from huggingface-hub==0.0.12->transformers) (3.7.4.3)\n",
            "Requirement already satisfied, skipping upgrade: zipp>=0.5 in /usr/local/lib/python3.7/dist-packages (from importlib-metadata; python_version < \"3.8\"->transformers) (3.4.1)\n",
            "Requirement already satisfied, skipping upgrade: joblib in /usr/local/lib/python3.7/dist-packages (from sacremoses->transformers) (1.0.1)\n",
            "Requirement already satisfied, skipping upgrade: six in /usr/local/lib/python3.7/dist-packages (from sacremoses->transformers) (1.15.0)\n",
            "Requirement already satisfied, skipping upgrade: click in /usr/local/lib/python3.7/dist-packages (from sacremoses->transformers) (7.1.2)\n",
            "Requirement already satisfied, skipping upgrade: pyparsing>=2.0.2 in /usr/local/lib/python3.7/dist-packages (from packaging->transformers) (2.4.7)\n",
            "Requirement already satisfied, skipping upgrade: certifi>=2017.4.17 in /usr/local/lib/python3.7/dist-packages (from requests->transformers) (2021.5.30)\n",
            "Requirement already satisfied, skipping upgrade: chardet<4,>=3.0.2 in /usr/local/lib/python3.7/dist-packages (from requests->transformers) (3.0.4)\n",
            "Requirement already satisfied, skipping upgrade: idna<3,>=2.5 in /usr/local/lib/python3.7/dist-packages (from requests->transformers) (2.10)\n",
            "Requirement already satisfied, skipping upgrade: urllib3!=1.25.0,!=1.25.1,<1.26,>=1.21.1 in /usr/local/lib/python3.7/dist-packages (from requests->transformers) (1.24.3)\n",
            "Installing collected packages: huggingface-hub, sacremoses, tokenizers, transformers\n",
            "Successfully installed huggingface-hub-0.0.12 sacremoses-0.0.45 tokenizers-0.10.3 transformers-4.8.1\n",
            "Collecting sentencepiece\n",
            "\u001b[?25l  Downloading https://files.pythonhosted.org/packages/ac/aa/1437691b0c7c83086ebb79ce2da16e00bef024f24fec2a5161c35476f499/sentencepiece-0.1.96-cp37-cp37m-manylinux_2_17_x86_64.manylinux2014_x86_64.whl (1.2MB)\n",
            "\u001b[K     |████████████████████████████████| 1.2MB 27.6MB/s \n",
            "\u001b[?25hInstalling collected packages: sentencepiece\n",
            "Successfully installed sentencepiece-0.1.96\n"
          ],
          "name": "stdout"
        }
      ]
    },
    {
      "cell_type": "code",
      "metadata": {
        "id": "6P3Cf5u2-j1-"
      },
      "source": [
        "from pathlib import Path\n",
        "from sklearn.model_selection import train_test_split\n",
        "import tensorflow as tf\n",
        "from transformers import DistilBertTokenizerFast\n",
        "from transformers import TFDistilBertForSequenceClassification, TFTrainer, TFTrainingArguments"
      ],
      "execution_count": 5,
      "outputs": []
    },
    {
      "cell_type": "markdown",
      "metadata": {
        "id": "U90P9CENJTcT"
      },
      "source": [
        "### 1. Download and load dataset"
      ]
    },
    {
      "cell_type": "code",
      "metadata": {
        "colab": {
          "base_uri": "https://localhost:8080/"
        },
        "id": "N5zbyBGUvlEy",
        "outputId": "825191e8-7f45-4864-ea4a-5df4d0cc5737"
      },
      "source": [
        "# Download dataset\n",
        "!wget http://ai.stanford.edu/~amaas/data/sentiment/aclImdb_v1.tar.gz\n",
        "!tar -xf aclImdb_v1.tar.gz"
      ],
      "execution_count": 1,
      "outputs": [
        {
          "output_type": "stream",
          "text": [
            "--2021-06-27 10:17:36--  http://ai.stanford.edu/~amaas/data/sentiment/aclImdb_v1.tar.gz\n",
            "Resolving ai.stanford.edu (ai.stanford.edu)... 171.64.68.10\n",
            "Connecting to ai.stanford.edu (ai.stanford.edu)|171.64.68.10|:80... connected.\n",
            "HTTP request sent, awaiting response... 200 OK\n",
            "Length: 84125825 (80M) [application/x-gzip]\n",
            "Saving to: ‘aclImdb_v1.tar.gz’\n",
            "\n",
            "aclImdb_v1.tar.gz   100%[===================>]  80.23M  28.5MB/s    in 2.8s    \n",
            "\n",
            "2021-06-27 10:17:39 (28.5 MB/s) - ‘aclImdb_v1.tar.gz’ saved [84125825/84125825]\n",
            "\n"
          ],
          "name": "stdout"
        }
      ]
    },
    {
      "cell_type": "code",
      "metadata": {
        "colab": {
          "base_uri": "https://localhost:8080/"
        },
        "id": "jqd44iaVwyTx",
        "outputId": "b2b0b8f2-821b-4480-a67e-cad2539ecea9"
      },
      "source": [
        "!ls ac*/"
      ],
      "execution_count": 2,
      "outputs": [
        {
          "output_type": "stream",
          "text": [
            "imdbEr.txt  imdb.vocab\tREADME\ttest  train\n"
          ],
          "name": "stdout"
        }
      ]
    },
    {
      "cell_type": "code",
      "metadata": {
        "colab": {
          "base_uri": "https://localhost:8080/"
        },
        "id": "2VrwPptzw1Ku",
        "outputId": "91559673-f165-468d-8d8d-d62484c5982e"
      },
      "source": [
        "!ls ac*/train/"
      ],
      "execution_count": 3,
      "outputs": [
        {
          "output_type": "stream",
          "text": [
            "labeledBow.feat  pos\tunsupBow.feat  urls_pos.txt\n",
            "neg\t\t unsup\turls_neg.txt   urls_unsup.txt\n"
          ],
          "name": "stdout"
        }
      ]
    },
    {
      "cell_type": "code",
      "metadata": {
        "colab": {
          "base_uri": "https://localhost:8080/"
        },
        "id": "tMxCOOKaw7eW",
        "outputId": "9c67a8df-d988-4fcf-8e85-8ee44f235d81"
      },
      "source": [
        "!cat ac*/train/pos/0_9.txt "
      ],
      "execution_count": 4,
      "outputs": [
        {
          "output_type": "stream",
          "text": [
            "Bromwell High is a cartoon comedy. It ran at the same time as some other programs about school life, such as \"Teachers\". My 35 years in the teaching profession lead me to believe that Bromwell High's satire is much closer to reality than is \"Teachers\". The scramble to survive financially, the insightful students who can see right through their pathetic teachers' pomp, the pettiness of the whole situation, all remind me of the schools I knew and their students. When I saw the episode in which a student repeatedly tried to burn down the school, I immediately recalled ......... at .......... High. A classic line: INSPECTOR: I'm here to sack one of your teachers. STUDENT: Welcome to Bromwell High. I expect that many adults of my age think that Bromwell High is far fetched. What a pity that it isn't!"
          ],
          "name": "stdout"
        }
      ]
    },
    {
      "cell_type": "code",
      "metadata": {
        "id": "P6tJm8PxxGwX"
      },
      "source": [
        "def read_imdb_split(split_dir):\n",
        "    \"\"\"Helper function to read text from txt files located in \n",
        "    `split_dir/pos/*.txt` or `split_dir/neg/*.txt`\n",
        "\n",
        "    @param split_dir: path to train or test directory that contains both pos and neg subdirectory. \n",
        "\n",
        "    @returns texts: List of str where each element is a feature (text)\n",
        "    @returns labels: List of int where each element is a label (positive:1, negative: 0)\n",
        "    \"\"\"\n",
        "\n",
        "    split_dir = Path(split_dir)\n",
        "    texts = []\n",
        "    labels = []\n",
        "    for label_dir in ['pos', 'neg']:\n",
        "        for text_file in (split_dir/label_dir).iterdir():\n",
        "            texts.append(text_file.read_text())\n",
        "            labels.append(1 if label_dir == 'pos' else 0)\n",
        "\n",
        "    return texts, labels\n",
        "\n",
        "train_texts, train_labels = read_imdb_split(\"aclImdb/train\")\n",
        "test_texts, test_labels = read_imdb_split(\"aclImdb/test\")"
      ],
      "execution_count": 6,
      "outputs": []
    },
    {
      "cell_type": "code",
      "metadata": {
        "colab": {
          "base_uri": "https://localhost:8080/"
        },
        "id": "Ox4O9U4b1INw",
        "outputId": "aaf7cd51-72d5-4e7f-f876-c88aaaacf83d"
      },
      "source": [
        "print(f\"Train size: {len(train_texts)} | Test size: {len(test_texts)}\")\n",
        "print(f\"Train size: {len(train_labels)} | Test size: {len(test_labels)}\")"
      ],
      "execution_count": 7,
      "outputs": [
        {
          "output_type": "stream",
          "text": [
            "Train size: 25000 | Test size: 25000\n",
            "Train size: 25000 | Test size: 25000\n"
          ],
          "name": "stdout"
        }
      ]
    },
    {
      "cell_type": "markdown",
      "metadata": {
        "id": "T5hC9AymJY1i"
      },
      "source": [
        "### 2. Split and tokenize dataset"
      ]
    },
    {
      "cell_type": "code",
      "metadata": {
        "id": "wtA8fl_21VMF"
      },
      "source": [
        "train_texts, val_texts, train_labels, val_labels = train_test_split(train_texts, train_labels, test_size=.2)"
      ],
      "execution_count": 8,
      "outputs": []
    },
    {
      "cell_type": "code",
      "metadata": {
        "colab": {
          "base_uri": "https://localhost:8080/",
          "height": 166,
          "referenced_widgets": [
            "52e55bc3f3a744719a641fa26ffda22f",
            "319f141e83e9432bb0390f445d506cf0",
            "ae12bc53b04a453397aa4ef3025942f4",
            "0cedd754d2a340ce9178a213edb338d2",
            "44d583e0fa594824bd9f238b6d4f0610",
            "9e590e8031ac4e92a0b9c79d10aa92a7",
            "d325e7cf35cf4db1a9e279c63d23ded6",
            "101f05e7c96e4c0da22320e984966e36",
            "9b8757771fc847c1ac372b8cf3dea547",
            "b7682321c49a4ba9aaa09252cdddc66b",
            "8206249b6cfa4018ae429f996004648e",
            "19e948c2065d4f83aef59fc67b4279d8",
            "677c0fd2786c403c9f57b0930fc2f606",
            "bdf9b58e43b9469baa6f4a0134745a8b",
            "8208fd3111dc4dc8af8d1283baa53158",
            "a83b7f9f02c240f6aa9e902a3e9c34bb",
            "367f0e9d58234d5f95e98f7d6828db9f",
            "f9278c6a3d8a43ad9b3c903d694d2033",
            "87cd5adc040f400c8dd28de2236c86b1",
            "288ccb420fa145a9a5f0ec614fe406ae",
            "470cd21c306544e2943b108c8e4c4123",
            "5953be706b5d4083bf99da93f268c3ba",
            "8f1f89a88b62444e8e0efdbc353d2d21",
            "fc50877d66ea467db9441ff09a7e67eb"
          ]
        },
        "id": "nKXOtE461vGx",
        "outputId": "526d80a9-5059-42c8-d962-22020403e244"
      },
      "source": [
        "tokenizer = DistilBertTokenizerFast.from_pretrained('distilbert-base-uncased')"
      ],
      "execution_count": 9,
      "outputs": [
        {
          "output_type": "display_data",
          "data": {
            "application/vnd.jupyter.widget-view+json": {
              "model_id": "52e55bc3f3a744719a641fa26ffda22f",
              "version_minor": 0,
              "version_major": 2
            },
            "text/plain": [
              "HBox(children=(FloatProgress(value=0.0, description='Downloading', max=231508.0, style=ProgressStyle(descripti…"
            ]
          },
          "metadata": {
            "tags": []
          }
        },
        {
          "output_type": "stream",
          "text": [
            "\n"
          ],
          "name": "stdout"
        },
        {
          "output_type": "display_data",
          "data": {
            "application/vnd.jupyter.widget-view+json": {
              "model_id": "9b8757771fc847c1ac372b8cf3dea547",
              "version_minor": 0,
              "version_major": 2
            },
            "text/plain": [
              "HBox(children=(FloatProgress(value=0.0, description='Downloading', max=466062.0, style=ProgressStyle(descripti…"
            ]
          },
          "metadata": {
            "tags": []
          }
        },
        {
          "output_type": "stream",
          "text": [
            "\n"
          ],
          "name": "stdout"
        },
        {
          "output_type": "display_data",
          "data": {
            "application/vnd.jupyter.widget-view+json": {
              "model_id": "367f0e9d58234d5f95e98f7d6828db9f",
              "version_minor": 0,
              "version_major": 2
            },
            "text/plain": [
              "HBox(children=(FloatProgress(value=0.0, description='Downloading', max=28.0, style=ProgressStyle(description_w…"
            ]
          },
          "metadata": {
            "tags": []
          }
        },
        {
          "output_type": "stream",
          "text": [
            "\n"
          ],
          "name": "stdout"
        }
      ]
    },
    {
      "cell_type": "code",
      "metadata": {
        "id": "gF2TT1V414tN"
      },
      "source": [
        "train_encodings = tokenizer(train_texts, truncation=True, padding=True)\n",
        "val_encodings = tokenizer(val_texts, truncation=True, padding=True)\n",
        "test_encodings = tokenizer(test_texts, truncation=True, padding=True)"
      ],
      "execution_count": 10,
      "outputs": []
    },
    {
      "cell_type": "code",
      "metadata": {
        "colab": {
          "base_uri": "https://localhost:8080/"
        },
        "id": "6SHne4H827Gu",
        "outputId": "b6b089bb-2bb9-4f51-e407-14fc1e5db588"
      },
      "source": [
        "print(train_encodings.keys())\n",
        "\n",
        "# Each key's value is a list of list. Something like:\n",
        "# 'input_ids': [[1,2,3], [4,5,6]]\n",
        "# Refer to the __getitem__ method in the IMDbDataset subclass to see how to access to each element individually."
      ],
      "execution_count": 11,
      "outputs": [
        {
          "output_type": "stream",
          "text": [
            "dict_keys(['input_ids', 'attention_mask'])\n"
          ],
          "name": "stdout"
        }
      ]
    },
    {
      "cell_type": "markdown",
      "metadata": {
        "id": "MwcN-qdbJiLS"
      },
      "source": [
        "### 3. Create tf Dataset"
      ]
    },
    {
      "cell_type": "code",
      "metadata": {
        "id": "txssAzQx2VG1"
      },
      "source": [
        "train_dataset = tf.data.Dataset.from_tensor_slices((dict(train_encodings), train_labels)) \n",
        "val_dataset = tf.data.Dataset.from_tensor_slices((dict(val_encodings), val_labels))        \n",
        "test_dataset = tf.data.Dataset.from_tensor_slices((dict(test_encodings), test_labels))    "
      ],
      "execution_count": 12,
      "outputs": []
    },
    {
      "cell_type": "markdown",
      "metadata": {
        "id": "tq_EW-WaJobr"
      },
      "source": [
        "### 4. Prepare training arguments and start training"
      ]
    },
    {
      "cell_type": "code",
      "metadata": {
        "colab": {
          "base_uri": "https://localhost:8080/"
        },
        "id": "kbMRm4RL6Dp4",
        "outputId": "049bab53-de6d-45ce-cdab-f082dd89fea7"
      },
      "source": [
        "training_args = TFTrainingArguments(\n",
        "    output_dir=\"./results\",\n",
        "    per_device_train_batch_size=8,\n",
        "    per_device_eval_batch_size=8,\n",
        "    learning_rate=5e-5,\n",
        "    num_train_epochs=3,\n",
        "    warmup_steps=500,\n",
        "    weight_decay=0.01,\n",
        "    logging_dir=\"./logs\",\n",
        "    #logging_steps=10,\n",
        "    save_strategy=\"epoch\",\n",
        "    logging_strategy=\"epoch\",\n",
        ")\n",
        "\n",
        "with training_args.strategy.scope():\n",
        "    model = TFDistilBertForSequenceClassification.from_pretrained(\"distilbert-base-uncased\")\n",
        "\n",
        "\n",
        "trainer = TFTrainer(\n",
        "    model=model,\n",
        "    args=training_args,\n",
        "    train_dataset=train_dataset,\n",
        "    eval_dataset=val_dataset,\n",
        ")\n",
        "\n",
        "trainer.train()"
      ],
      "execution_count": 14,
      "outputs": [
        {
          "output_type": "stream",
          "text": [
            "Some layers from the model checkpoint at distilbert-base-uncased were not used when initializing TFDistilBertForSequenceClassification: ['activation_13', 'vocab_projector', 'vocab_transform', 'vocab_layer_norm']\n",
            "- This IS expected if you are initializing TFDistilBertForSequenceClassification from the checkpoint of a model trained on another task or with another architecture (e.g. initializing a BertForSequenceClassification model from a BertForPreTraining model).\n",
            "- This IS NOT expected if you are initializing TFDistilBertForSequenceClassification from the checkpoint of a model that you expect to be exactly identical (initializing a BertForSequenceClassification model from a BertForSequenceClassification model).\n",
            "Some layers of TFDistilBertForSequenceClassification were not initialized from the model checkpoint at distilbert-base-uncased and are newly initialized: ['classifier', 'pre_classifier', 'dropout_39']\n",
            "You should probably TRAIN this model on a down-stream task to be able to use it for predictions and inference.\n"
          ],
          "name": "stderr"
        },
        {
          "output_type": "stream",
          "text": [
            "WARNING:tensorflow:The parameters `output_attentions`, `output_hidden_states` and `use_cache` cannot be updated when calling a model.They have to be set to True/False in the config object (i.e.: `config=XConfig.from_pretrained('name', output_attentions=True)`).\n",
            "WARNING:tensorflow:The parameter `return_dict` cannot be set in graph mode and will always be set to `True`.\n",
            "WARNING:tensorflow:The parameters `output_attentions`, `output_hidden_states` and `use_cache` cannot be updated when calling a model.They have to be set to True/False in the config object (i.e.: `config=XConfig.from_pretrained('name', output_attentions=True)`).\n",
            "WARNING:tensorflow:The parameter `return_dict` cannot be set in graph mode and will always be set to `True`.\n"
          ],
          "name": "stdout"
        }
      ]
    },
    {
      "cell_type": "markdown",
      "metadata": {
        "id": "M0mYykAtIUU9"
      },
      "source": [
        "**Training completed. Do not forget to share your model on huggingface.co/models =)**\n",
        "\n",
        "```\n",
        "TrainOutput(global_step=7500, training_loss=0.20122720197954524, metrics={'train_runtime': 3150.3136, 'train_samples_per_second': 19.046, 'train_steps_per_second': 2.381, 'total_flos': 1.23411474432e+16, 'train_loss': 0.20122720197954524, 'epoch': 3.0})```"
      ]
    },
    {
      "cell_type": "markdown",
      "metadata": {
        "id": "o_awm1bhJ2Aj"
      },
      "source": [
        "### 5. Predicts on Test set"
      ]
    },
    {
      "cell_type": "code",
      "metadata": {
        "colab": {
          "base_uri": "https://localhost:8080/"
        },
        "id": "lWY4Zpys7snw",
        "outputId": "38f7a223-30be-4d4a-f4d0-0fede2dd3b59"
      },
      "source": [
        "preds = trainer.predict(test_dataset)"
      ],
      "execution_count": 15,
      "outputs": [
        {
          "output_type": "stream",
          "text": [
            "WARNING:tensorflow:The parameters `output_attentions`, `output_hidden_states` and `use_cache` cannot be updated when calling a model.They have to be set to True/False in the config object (i.e.: `config=XConfig.from_pretrained('name', output_attentions=True)`).\n",
            "WARNING:tensorflow:The parameter `return_dict` cannot be set in graph mode and will always be set to `True`.\n"
          ],
          "name": "stdout"
        }
      ]
    },
    {
      "cell_type": "code",
      "metadata": {
        "colab": {
          "base_uri": "https://localhost:8080/"
        },
        "id": "deH_SgeIIMRk",
        "outputId": "42d98625-87cb-4a11-8448-454f18b1879a"
      },
      "source": [
        "predictions = preds[0].argmax(-1)\n",
        "\n",
        "from sklearn.metrics import classification_report\n",
        "\n",
        "print(classification_report(preds[1], # labels from test_dataset\n",
        "                            predictions, \n",
        "                            ))"
      ],
      "execution_count": 16,
      "outputs": [
        {
          "output_type": "stream",
          "text": [
            "              precision    recall  f1-score   support\n",
            "\n",
            "           0       0.93      0.93      0.93     12500\n",
            "           1       0.93      0.93      0.93     12500\n",
            "\n",
            "    accuracy                           0.93     25000\n",
            "   macro avg       0.93      0.93      0.93     25000\n",
            "weighted avg       0.93      0.93      0.93     25000\n",
            "\n"
          ],
          "name": "stdout"
        }
      ]
    },
    {
      "cell_type": "markdown",
      "metadata": {
        "id": "x8wIwSAmMgBL"
      },
      "source": [
        "### 6. Save model"
      ]
    },
    {
      "cell_type": "code",
      "metadata": {
        "id": "6IXCfNhhKO5J"
      },
      "source": [
        "trainer.save_model(\"./models\")"
      ],
      "execution_count": 17,
      "outputs": []
    },
    {
      "cell_type": "code",
      "metadata": {
        "colab": {
          "base_uri": "https://localhost:8080/"
        },
        "id": "Zy6v96GlR4Qi",
        "outputId": "04f7c283-0070-46c7-adca-b3cdcfa16dcd"
      },
      "source": [
        "!ls models/\n",
        "\n",
        "#config.json tf_model.h5"
      ],
      "execution_count": 18,
      "outputs": [
        {
          "output_type": "stream",
          "text": [
            "config.json  tf_model.h5\n"
          ],
          "name": "stdout"
        }
      ]
    },
    {
      "cell_type": "markdown",
      "metadata": {
        "id": "3JbYSmGxRSGI"
      },
      "source": [
        "### 7. Inference using pipeline"
      ]
    },
    {
      "cell_type": "code",
      "metadata": {
        "colab": {
          "base_uri": "https://localhost:8080/"
        },
        "id": "fPXR6bnuOrJx",
        "outputId": "a9e91406-a3f8-4aa7-e501-2ee79de7bc74"
      },
      "source": [
        "from transformers import pipeline\n",
        "\n",
        "review_pipeline = pipeline(\"text-classification\", model=\"./models\", tokenizer=tokenizer, return_all_scores=True)"
      ],
      "execution_count": 19,
      "outputs": [
        {
          "output_type": "stream",
          "text": [
            "Some layers from the model checkpoint at ./models were not used when initializing TFDistilBertForSequenceClassification: ['dropout_39']\n",
            "- This IS expected if you are initializing TFDistilBertForSequenceClassification from the checkpoint of a model trained on another task or with another architecture (e.g. initializing a BertForSequenceClassification model from a BertForPreTraining model).\n",
            "- This IS NOT expected if you are initializing TFDistilBertForSequenceClassification from the checkpoint of a model that you expect to be exactly identical (initializing a BertForSequenceClassification model from a BertForSequenceClassification model).\n",
            "Some layers of TFDistilBertForSequenceClassification were not initialized from the model checkpoint at ./models and are newly initialized: ['dropout_59']\n",
            "You should probably TRAIN this model on a down-stream task to be able to use it for predictions and inference.\n"
          ],
          "name": "stderr"
        }
      ]
    },
    {
      "cell_type": "code",
      "metadata": {
        "colab": {
          "base_uri": "https://localhost:8080/"
        },
        "id": "RyyUmVFXPqCZ",
        "outputId": "89ebc2e5-afe0-4356-f588-ea1dcace25fd"
      },
      "source": [
        "positive_test_case = \"Awesome movie. Love it so much!\"\n",
        "\n",
        "predictions = review_pipeline(positive_test_case)\n",
        "\n",
        "predictions\n",
        "\n",
        "#[[{'label': 'LABEL_0', 'score': 0.0015208885306492448},\n",
        "#  {'label': 'LABEL_1', 'score': 0.9984791278839111}]]"
      ],
      "execution_count": 20,
      "outputs": [
        {
          "output_type": "execute_result",
          "data": {
            "text/plain": [
              "[[{'label': 'LABEL_0', 'score': 0.0015208885306492448},\n",
              "  {'label': 'LABEL_1', 'score': 0.9984791278839111}]]"
            ]
          },
          "metadata": {
            "tags": []
          },
          "execution_count": 20
        }
      ]
    },
    {
      "cell_type": "code",
      "metadata": {
        "colab": {
          "base_uri": "https://localhost:8080/"
        },
        "id": "UQfV6ivNP-xB",
        "outputId": "c9caf69d-1f9f-4a88-ca2f-3495150a9096"
      },
      "source": [
        "negative_test_case = \"Bad movie and storyline. I hate it so much!\"\n",
        "\n",
        "predictions = review_pipeline(negative_test_case)\n",
        "\n",
        "predictions\n",
        "#[[{'label': 'LABEL_0', 'score': 0.9911043643951416},\n",
        "# {'label': 'LABEL_1', 'score': 0.008895594626665115}]]"
      ],
      "execution_count": 21,
      "outputs": [
        {
          "output_type": "execute_result",
          "data": {
            "text/plain": [
              "[[{'label': 'LABEL_0', 'score': 0.9911043643951416},\n",
              "  {'label': 'LABEL_1', 'score': 0.008895594626665115}]]"
            ]
          },
          "metadata": {
            "tags": []
          },
          "execution_count": 21
        }
      ]
    },
    {
      "cell_type": "markdown",
      "metadata": {
        "id": "Inwmn-EBRbyn"
      },
      "source": [
        "### Inference using model.from_pretrained()"
      ]
    },
    {
      "cell_type": "code",
      "metadata": {
        "colab": {
          "base_uri": "https://localhost:8080/"
        },
        "id": "G_j4v3ZtRPWz",
        "outputId": "5dd3bf23-6462-4606-e6e2-41f03d49e21c"
      },
      "source": [
        "reload_model = TFDistilBertForSequenceClassification.from_pretrained(\"./models\")"
      ],
      "execution_count": 23,
      "outputs": [
        {
          "output_type": "stream",
          "text": [
            "Some layers from the model checkpoint at ./models were not used when initializing TFDistilBertForSequenceClassification: ['dropout_39']\n",
            "- This IS expected if you are initializing TFDistilBertForSequenceClassification from the checkpoint of a model trained on another task or with another architecture (e.g. initializing a BertForSequenceClassification model from a BertForPreTraining model).\n",
            "- This IS NOT expected if you are initializing TFDistilBertForSequenceClassification from the checkpoint of a model that you expect to be exactly identical (initializing a BertForSequenceClassification model from a BertForSequenceClassification model).\n",
            "Some layers of TFDistilBertForSequenceClassification were not initialized from the model checkpoint at ./models and are newly initialized: ['dropout_79']\n",
            "You should probably TRAIN this model on a down-stream task to be able to use it for predictions and inference.\n"
          ],
          "name": "stderr"
        }
      ]
    },
    {
      "cell_type": "code",
      "metadata": {
        "id": "6NCNh1cmRqtJ"
      },
      "source": [
        "test_cases = [positive_test_case, negative_test_case]\n",
        "encoded_test_cases = tokenizer(test_cases, truncation=True, padding=True, return_tensors='tf')\n",
        "\n",
        "outputs = reload_model(encoded_test_cases)"
      ],
      "execution_count": 26,
      "outputs": []
    },
    {
      "cell_type": "code",
      "metadata": {
        "id": "geS3e3P2TJFy"
      },
      "source": [
        "predictions = tf.argmax(outputs.logits, axis=-1)"
      ],
      "execution_count": 31,
      "outputs": []
    },
    {
      "cell_type": "code",
      "metadata": {
        "colab": {
          "base_uri": "https://localhost:8080/"
        },
        "id": "JfhVgfS9Stvt",
        "outputId": "f9deca75-8143-4a7a-9955-f25a5151daf1"
      },
      "source": [
        "for sent, pred in zip(test_cases, predictions):\n",
        "    print(f\"Sentence: {sent} | Predicted: {'Positive' if pred == 1 else 'Negative'}\")"
      ],
      "execution_count": 32,
      "outputs": [
        {
          "output_type": "stream",
          "text": [
            "Sentence: Awesome movie. Love it so much! | Predicted: Positive\n",
            "Sentence: Bad movie and storyline. I hate it so much! | Predicted: Negative\n"
          ],
          "name": "stdout"
        }
      ]
    },
    {
      "cell_type": "markdown",
      "metadata": {
        "id": "Vk_d2e0dVxzw"
      },
      "source": [
        "### Reference\n",
        "\n",
        "\n",
        "1.   Tokenizer: https://huggingface.co/transformers/main_classes/tokenizer.html\n",
        "2.   Pipeline: https://huggingface.co/transformers/main_classes/pipelines.html#the-pipeline-abstraction\n",
        "3.   Load model after trainer.train(): https://discuss.huggingface.co/t/how-to-test-my-text-classification-model-after-training-it/6689/2\n",
        "4.   Fine-tuning with custom datasets: https://huggingface.co/transformers/master/custom_datasets.html\n",
        "5.   trainer.predict(): https://huggingface.co/transformers/main_classes/trainer.html#transformers.Trainer.predict\n"
      ]
    }
  ]
}