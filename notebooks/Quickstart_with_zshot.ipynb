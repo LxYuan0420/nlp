{
  "nbformat": 4,
  "nbformat_minor": 0,
  "metadata": {
    "colab": {
      "provenance": [],
      "collapsed_sections": [],
      "include_colab_link": true
    },
    "kernelspec": {
      "name": "python3",
      "display_name": "Python 3"
    },
    "language_info": {
      "name": "python"
    }
  },
  "cells": [
    {
      "cell_type": "markdown",
      "metadata": {
        "id": "view-in-github",
        "colab_type": "text"
      },
      "source": [
        "<a href=\"https://colab.research.google.com/github/LxYuan0420/nlp/blob/main/notebooks/Quickstart_with_zshot.ipynb\" target=\"_parent\"><img src=\"https://colab.research.google.com/assets/colab-badge.svg\" alt=\"Open In Colab\"/></a>"
      ]
    },
    {
      "cell_type": "code",
      "execution_count": null,
      "metadata": {
        "id": "Ovj4f_eL8TSR"
      },
      "outputs": [],
      "source": [
        "!pip install zshot"
      ]
    },
    {
      "cell_type": "code",
      "source": [
        "!spacy download en_core_web_lg"
      ],
      "metadata": {
        "id": "bOf2h7hG8Vn1"
      },
      "execution_count": null,
      "outputs": []
    },
    {
      "cell_type": "code",
      "source": [
        "import spacy\n",
        "from zshot import PipelineConfig, displacy\n",
        "from zshot.linker import LinkerRegen, LinkerSMXM\n",
        "from zshot.mentions_extractor import MentionsExtractorSpacy\n",
        "from zshot.utils.data_models import Entity\n",
        "\n",
        "nlp = spacy.load('en_core_web_lg')"
      ],
      "metadata": {
        "id": "0CiDufWFkL0l"
      },
      "execution_count": 1,
      "outputs": []
    },
    {
      "cell_type": "code",
      "source": [
        "nlp.pipe_names"
      ],
      "metadata": {
        "colab": {
          "base_uri": "https://localhost:8080/"
        },
        "id": "C35iud26pGuV",
        "outputId": "afc4eb56-f741-4f6f-91bf-7fefbac89d93"
      },
      "execution_count": 2,
      "outputs": [
        {
          "output_type": "execute_result",
          "data": {
            "text/plain": [
              "['tok2vec', 'tagger', 'parser', 'attribute_ruler', 'lemmatizer', 'ner']"
            ]
          },
          "metadata": {},
          "execution_count": 2
        }
      ]
    },
    {
      "cell_type": "code",
      "source": [
        "nlp.remove_pipe(\"zshot\")"
      ],
      "metadata": {
        "colab": {
          "base_uri": "https://localhost:8080/"
        },
        "id": "lBjB4UL2qMBn",
        "outputId": "ef723ff8-7954-4bae-c5fe-e826b0a7d459"
      },
      "execution_count": 13,
      "outputs": [
        {
          "output_type": "execute_result",
          "data": {
            "text/plain": [
              "('zshot', <zshot.zshot.Zshot at 0x7f988b2c4f90>)"
            ]
          },
          "metadata": {},
          "execution_count": 13
        }
      ]
    },
    {
      "cell_type": "code",
      "source": [
        "# zero shot definition of entities\n",
        "nlp_config = PipelineConfig(\n",
        "    entities=[\n",
        "        Entity(name=\"person\", description=\"A given name is the part of a personal name that identifies a person, potentially with a middle name as well, and differentiates that person from the other members of a group who have a common surname\"),\n",
        "        Entity(name=\"company\", description=\"The name of a company\"),\n",
        "        Entity(name=\"location\", description=\"A physical location\"),\n",
        "        Entity(name=\"chemical compound\", description=\"Any of a large class of chemical compounds in which one or more atoms of carbon are covalently linked to atoms of other elements, most commonly hydrogen, oxygen, or nitrogen\"),\n",
        "        Entity(name=\"country\", description=\"A country is a distinct part of the world, such as a state, nation, or other political entity\"),\n",
        "        Entity(name=\"city\", description=\"A capital or capital city is the municipality holding primary status in a country, state, province, department, or other subnational entity, usually as its seat of the government\"),\n",
        "        Entity(name=\"election\", description=\"An election is a formal group decision-making process by which a population chooses an individual or multiple individuals to hold public office\")\n",
        "    ], \n",
        "    linker=LinkerSMXM()\n",
        ")\n",
        "# add zshot spaCy component to spaCy pipeline\n",
        "nlp.add_pipe('zshot', config=nlp_config, last=True)\n",
        "\n",
        "text = 'Madrid is the capital of Spain'\n",
        "\n",
        "doc = nlp(text)\n"
      ],
      "metadata": {
        "id": "YjIhKYeJ8tw_"
      },
      "execution_count": 14,
      "outputs": []
    },
    {
      "cell_type": "code",
      "source": [
        "displacy.render(doc, style='ent', jupyter=True)"
      ],
      "metadata": {
        "colab": {
          "base_uri": "https://localhost:8080/",
          "height": 52
        },
        "id": "SvMT36sc8zbx",
        "outputId": "f7e3f2b2-d5b7-47b8-8436-d31692ea14f8"
      },
      "execution_count": 15,
      "outputs": [
        {
          "output_type": "display_data",
          "data": {
            "text/plain": [
              "<IPython.core.display.HTML object>"
            ],
            "text/html": [
              "<span class=\"tex2jax_ignore\"><div class=\"entities\" style=\"line-height: 2.5; direction: ltr\">\n",
              "<mark class=\"entity\" style=\"background: #fea7c1; padding: 0.45em 0.6em; margin: 0 0.25em; line-height: 1; border-radius: 0.35em;\">\n",
              "    Madrid\n",
              "    <span style=\"font-size: 0.8em; font-weight: bold; line-height: 1; border-radius: 0.35em; vertical-align: middle; margin-left: 0.5rem\">city</span>\n",
              "</mark>\n",
              " is the capital of \n",
              "<mark class=\"entity\" style=\"background: #16c2aa; padding: 0.45em 0.6em; margin: 0 0.25em; line-height: 1; border-radius: 0.35em;\">\n",
              "    Spain\n",
              "    <span style=\"font-size: 0.8em; font-weight: bold; line-height: 1; border-radius: 0.35em; vertical-align: middle; margin-left: 0.5rem\">country</span>\n",
              "</mark>\n",
              "</div></span>"
            ]
          },
          "metadata": {}
        }
      ]
    },
    {
      "cell_type": "code",
      "source": [
        "text2 = \"\"\"KUALA LUMPUR: Former youth and sports minister Syed Saddiq Syed Abdul Rahman was ordered by the High Court to enter his defence on four charges of misappropriation of assets, money laundering and abetting in criminal breach of trust (CBT). The Malaysian Insight reported on Friday that MUDA’s supreme council is expected to meet soon to decide whether Syed Saddiq should stand in GE15.\"\"\"\n",
        "doc = nlp(text2)\n",
        "\n",
        "displacy.render(doc, style='ent', jupyter=True)"
      ],
      "metadata": {
        "colab": {
          "base_uri": "https://localhost:8080/",
          "height": 122
        },
        "id": "wzdKNF2ngLkr",
        "outputId": "9c251051-e421-426b-9308-1659ec65cb8e"
      },
      "execution_count": 16,
      "outputs": [
        {
          "output_type": "display_data",
          "data": {
            "text/plain": [
              "<IPython.core.display.HTML object>"
            ],
            "text/html": [
              "<span class=\"tex2jax_ignore\"><div class=\"entities\" style=\"line-height: 2.5; direction: ltr\">\n",
              "<mark class=\"entity\" style=\"background: #2a1801; padding: 0.45em 0.6em; margin: 0 0.25em; line-height: 1; border-radius: 0.35em;\">\n",
              "    KUALA LUMPUR\n",
              "    <span style=\"font-size: 0.8em; font-weight: bold; line-height: 1; border-radius: 0.35em; vertical-align: middle; margin-left: 0.5rem\">person</span>\n",
              "</mark>\n",
              ": Former youth and sports minister \n",
              "<mark class=\"entity\" style=\"background: #2a1801; padding: 0.45em 0.6em; margin: 0 0.25em; line-height: 1; border-radius: 0.35em;\">\n",
              "    Syed Saddiq Syed Abdul Rahman\n",
              "    <span style=\"font-size: 0.8em; font-weight: bold; line-height: 1; border-radius: 0.35em; vertical-align: middle; margin-left: 0.5rem\">person</span>\n",
              "</mark>\n",
              " was ordered by \n",
              "<mark class=\"entity\" style=\"background: #ff2d34; padding: 0.45em 0.6em; margin: 0 0.25em; line-height: 1; border-radius: 0.35em;\">\n",
              "    the\n",
              "    <span style=\"font-size: 0.8em; font-weight: bold; line-height: 1; border-radius: 0.35em; vertical-align: middle; margin-left: 0.5rem\">company</span>\n",
              "</mark>\n",
              " \n",
              "<mark class=\"entity\" style=\"background: #44d163; padding: 0.45em 0.6em; margin: 0 0.25em; line-height: 1; border-radius: 0.35em;\">\n",
              "    High\n",
              "    <span style=\"font-size: 0.8em; font-weight: bold; line-height: 1; border-radius: 0.35em; vertical-align: middle; margin-left: 0.5rem\">location</span>\n",
              "</mark>\n",
              " Court to enter his defence on four charges of misappropriation of assets, money laundering and abetting in criminal breach of trust (CBT). The \n",
              "<mark class=\"entity\" style=\"background: #ff2d34; padding: 0.45em 0.6em; margin: 0 0.25em; line-height: 1; border-radius: 0.35em;\">\n",
              "    Malaysian Insight\n",
              "    <span style=\"font-size: 0.8em; font-weight: bold; line-height: 1; border-radius: 0.35em; vertical-align: middle; margin-left: 0.5rem\">company</span>\n",
              "</mark>\n",
              " reported on Friday that \n",
              "<mark class=\"entity\" style=\"background: #ff2d34; padding: 0.45em 0.6em; margin: 0 0.25em; line-height: 1; border-radius: 0.35em;\">\n",
              "    MUDA\n",
              "    <span style=\"font-size: 0.8em; font-weight: bold; line-height: 1; border-radius: 0.35em; vertical-align: middle; margin-left: 0.5rem\">company</span>\n",
              "</mark>\n",
              "’s supreme council is expected to meet soon to decide whether \n",
              "<mark class=\"entity\" style=\"background: #2a1801; padding: 0.45em 0.6em; margin: 0 0.25em; line-height: 1; border-radius: 0.35em;\">\n",
              "    Syed Saddiq\n",
              "    <span style=\"font-size: 0.8em; font-weight: bold; line-height: 1; border-radius: 0.35em; vertical-align: middle; margin-left: 0.5rem\">person</span>\n",
              "</mark>\n",
              " should stand in \n",
              "<mark class=\"entity\" style=\"background: #73fa28; padding: 0.45em 0.6em; margin: 0 0.25em; line-height: 1; border-radius: 0.35em;\">\n",
              "    GE15\n",
              "    <span style=\"font-size: 0.8em; font-weight: bold; line-height: 1; border-radius: 0.35em; vertical-align: middle; margin-left: 0.5rem\">election</span>\n",
              "</mark>\n",
              ".</div></span>"
            ]
          },
          "metadata": {}
        }
      ]
    },
    {
      "cell_type": "code",
      "source": [
        "text3 = (\"\"\"\\\n",
        "TAIPEI: Chinese veterinary experts have been invited to Taiwan, zoo officials said on Friday (Oct 28), for a rare visit between the two sides after a male panda that symbolised an era of warmer ties was moved into end-of-life care. \\\n",
        "Relations between China and Taiwan have been on ice since 2016 with Beijing severing official communications and government visits between the two sides scrapped. \\\n",
        "But Taiwan has made an exception after Tuan Tuan, a male panda that was gifted to the island by Beijing in 2008, fell ill in recent weeks and looks to be entering his twilight days.\\\n",
        "\"\"\")"
      ],
      "metadata": {
        "id": "dCHcdbCvhGMP"
      },
      "execution_count": 21,
      "outputs": []
    },
    {
      "cell_type": "code",
      "source": [
        "doc = nlp(text3)\n",
        "displacy.render(doc, style=\"ent\", jupyter=True)"
      ],
      "metadata": {
        "colab": {
          "base_uri": "https://localhost:8080/",
          "height": 122
        },
        "id": "Squv5DpBq9KX",
        "outputId": "a0bbe73b-a811-4965-ba3e-1ecb721c3b89"
      },
      "execution_count": 23,
      "outputs": [
        {
          "output_type": "display_data",
          "data": {
            "text/plain": [
              "<IPython.core.display.HTML object>"
            ],
            "text/html": [
              "<span class=\"tex2jax_ignore\"><div class=\"entities\" style=\"line-height: 2.5; direction: ltr\">\n",
              "<mark class=\"entity\" style=\"background: #ff2d34; padding: 0.45em 0.6em; margin: 0 0.25em; line-height: 1; border-radius: 0.35em;\">\n",
              "    TAIPEI\n",
              "    <span style=\"font-size: 0.8em; font-weight: bold; line-height: 1; border-radius: 0.35em; vertical-align: middle; margin-left: 0.5rem\">company</span>\n",
              "</mark>\n",
              ": Chinese veterinary experts have been invited to \n",
              "<mark class=\"entity\" style=\"background: #16c2aa; padding: 0.45em 0.6em; margin: 0 0.25em; line-height: 1; border-radius: 0.35em;\">\n",
              "    Taiwan\n",
              "    <span style=\"font-size: 0.8em; font-weight: bold; line-height: 1; border-radius: 0.35em; vertical-align: middle; margin-left: 0.5rem\">country</span>\n",
              "</mark>\n",
              ", zoo officials said on Friday (\n",
              "<mark class=\"entity\" style=\"background: #44d163; padding: 0.45em 0.6em; margin: 0 0.25em; line-height: 1; border-radius: 0.35em;\">\n",
              "    Oct\n",
              "    <span style=\"font-size: 0.8em; font-weight: bold; line-height: 1; border-radius: 0.35em; vertical-align: middle; margin-left: 0.5rem\">location</span>\n",
              "</mark>\n",
              " 28), for a rare visit between the two sides after a male panda that symbolised an era of warmer ties was moved into end-of-life care. Relations between \n",
              "<mark class=\"entity\" style=\"background: #16c2aa; padding: 0.45em 0.6em; margin: 0 0.25em; line-height: 1; border-radius: 0.35em;\">\n",
              "    China\n",
              "    <span style=\"font-size: 0.8em; font-weight: bold; line-height: 1; border-radius: 0.35em; vertical-align: middle; margin-left: 0.5rem\">country</span>\n",
              "</mark>\n",
              " and \n",
              "<mark class=\"entity\" style=\"background: #16c2aa; padding: 0.45em 0.6em; margin: 0 0.25em; line-height: 1; border-radius: 0.35em;\">\n",
              "    Taiwan\n",
              "    <span style=\"font-size: 0.8em; font-weight: bold; line-height: 1; border-radius: 0.35em; vertical-align: middle; margin-left: 0.5rem\">country</span>\n",
              "</mark>\n",
              " have been on ice since \n",
              "<mark class=\"entity\" style=\"background: #ff2d34; padding: 0.45em 0.6em; margin: 0 0.25em; line-height: 1; border-radius: 0.35em;\">\n",
              "    2016\n",
              "    <span style=\"font-size: 0.8em; font-weight: bold; line-height: 1; border-radius: 0.35em; vertical-align: middle; margin-left: 0.5rem\">company</span>\n",
              "</mark>\n",
              " with \n",
              "<mark class=\"entity\" style=\"background: #fea7c1; padding: 0.45em 0.6em; margin: 0 0.25em; line-height: 1; border-radius: 0.35em;\">\n",
              "    Beijing\n",
              "    <span style=\"font-size: 0.8em; font-weight: bold; line-height: 1; border-radius: 0.35em; vertical-align: middle; margin-left: 0.5rem\">city</span>\n",
              "</mark>\n",
              " severing official communications and government visits between the two sides scrapped. But \n",
              "<mark class=\"entity\" style=\"background: #16c2aa; padding: 0.45em 0.6em; margin: 0 0.25em; line-height: 1; border-radius: 0.35em;\">\n",
              "    Taiwan\n",
              "    <span style=\"font-size: 0.8em; font-weight: bold; line-height: 1; border-radius: 0.35em; vertical-align: middle; margin-left: 0.5rem\">country</span>\n",
              "</mark>\n",
              " has made an exception after \n",
              "<mark class=\"entity\" style=\"background: #2a1801; padding: 0.45em 0.6em; margin: 0 0.25em; line-height: 1; border-radius: 0.35em;\">\n",
              "    Tuan Tuan\n",
              "    <span style=\"font-size: 0.8em; font-weight: bold; line-height: 1; border-radius: 0.35em; vertical-align: middle; margin-left: 0.5rem\">person</span>\n",
              "</mark>\n",
              ", a male panda that was gifted to the island by \n",
              "<mark class=\"entity\" style=\"background: #16c2aa; padding: 0.45em 0.6em; margin: 0 0.25em; line-height: 1; border-radius: 0.35em;\">\n",
              "    Beijing\n",
              "    <span style=\"font-size: 0.8em; font-weight: bold; line-height: 1; border-radius: 0.35em; vertical-align: middle; margin-left: 0.5rem\">country</span>\n",
              "</mark>\n",
              " in \n",
              "<mark class=\"entity\" style=\"background: #44d163; padding: 0.45em 0.6em; margin: 0 0.25em; line-height: 1; border-radius: 0.35em;\">\n",
              "    2008\n",
              "    <span style=\"font-size: 0.8em; font-weight: bold; line-height: 1; border-radius: 0.35em; vertical-align: middle; margin-left: 0.5rem\">location</span>\n",
              "</mark>\n",
              ", fell ill in recent weeks and looks to be entering his twilight days.</div></span>"
            ]
          },
          "metadata": {}
        }
      ]
    },
    {
      "cell_type": "code",
      "source": [],
      "metadata": {
        "id": "-8e6GUYXq9pB"
      },
      "execution_count": null,
      "outputs": []
    }
  ]
}