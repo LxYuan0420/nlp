{
 "cells": [
  {
   "cell_type": "markdown",
   "id": "c199d666-1e77-4e4e-a9bb-e47063c76279",
   "metadata": {},
   "source": [
    "###### 0. System check"
   ]
  },
  {
   "cell_type": "code",
   "execution_count": 1,
   "id": "d2c6c8ca-950a-4bd7-b16d-5418d6cd5476",
   "metadata": {
    "tags": []
   },
   "outputs": [
    {
     "name": "stdout",
     "output_type": "stream",
     "text": [
      "Wed May 31 08:16:08 2023       \n",
      "+-----------------------------------------------------------------------------+\n",
      "| NVIDIA-SMI 510.47.03    Driver Version: 510.47.03    CUDA Version: 11.6     |\n",
      "|-------------------------------+----------------------+----------------------+\n",
      "| GPU  Name        Persistence-M| Bus-Id        Disp.A | Volatile Uncorr. ECC |\n",
      "| Fan  Temp  Perf  Pwr:Usage/Cap|         Memory-Usage | GPU-Util  Compute M. |\n",
      "|                               |                      |               MIG M. |\n",
      "|===============================+======================+======================|\n",
      "|   0  Tesla T4            Off  | 00000000:00:04.0 Off |                    0 |\n",
      "| N/A   60C    P0    30W /  70W |      0MiB / 15360MiB |     11%      Default |\n",
      "|                               |                      |                  N/A |\n",
      "+-------------------------------+----------------------+----------------------+\n",
      "                                                                               \n",
      "+-----------------------------------------------------------------------------+\n",
      "| Processes:                                                                  |\n",
      "|  GPU   GI   CI        PID   Type   Process name                  GPU Memory |\n",
      "|        ID   ID                                                   Usage      |\n",
      "|=============================================================================|\n",
      "|  No running processes found                                                 |\n",
      "+-----------------------------------------------------------------------------+\n"
     ]
    }
   ],
   "source": [
    "!nvidia-smi"
   ]
  },
  {
   "cell_type": "code",
   "execution_count": 2,
   "id": "70a04e0d-8989-495d-970d-17fbb3ee578f",
   "metadata": {
    "collapsed": true,
    "jupyter": {
     "outputs_hidden": true
    },
    "tags": []
   },
   "outputs": [
    {
     "name": "stdout",
     "output_type": "stream",
     "text": [
      "Requirement already satisfied: transformers in /home/lx/env37/lib/python3.7/site-packages (4.29.2)\n",
      "Requirement already satisfied: datasets in /home/lx/env37/lib/python3.7/site-packages (2.12.0)\n",
      "Requirement already satisfied: evaluate in /home/lx/env37/lib/python3.7/site-packages (0.4.0)\n",
      "Requirement already satisfied: filelock in /home/lx/env37/lib/python3.7/site-packages (from transformers) (3.12.0)\n",
      "Requirement already satisfied: huggingface-hub<1.0,>=0.14.1 in /home/lx/env37/lib/python3.7/site-packages (from transformers) (0.14.1)\n",
      "Requirement already satisfied: numpy>=1.17 in /home/lx/env37/lib/python3.7/site-packages (from transformers) (1.21.6)\n",
      "Requirement already satisfied: packaging>=20.0 in /home/lx/env37/lib/python3.7/site-packages (from transformers) (23.1)\n",
      "Requirement already satisfied: pyyaml>=5.1 in /home/lx/env37/lib/python3.7/site-packages (from transformers) (6.0)\n",
      "Requirement already satisfied: regex!=2019.12.17 in /home/lx/env37/lib/python3.7/site-packages (from transformers) (2023.5.5)\n",
      "Requirement already satisfied: requests in /home/lx/env37/lib/python3.7/site-packages (from transformers) (2.31.0)\n",
      "Requirement already satisfied: tokenizers!=0.11.3,<0.14,>=0.11.1 in /home/lx/env37/lib/python3.7/site-packages (from transformers) (0.13.3)\n",
      "Requirement already satisfied: tqdm>=4.27 in /home/lx/env37/lib/python3.7/site-packages (from transformers) (4.65.0)\n",
      "Requirement already satisfied: importlib-metadata in /home/lx/env37/lib/python3.7/site-packages (from transformers) (6.6.0)\n",
      "Requirement already satisfied: pyarrow>=8.0.0 in /home/lx/env37/lib/python3.7/site-packages (from datasets) (12.0.0)\n",
      "Requirement already satisfied: dill<0.3.7,>=0.3.0 in /home/lx/env37/lib/python3.7/site-packages (from datasets) (0.3.6)\n",
      "Requirement already satisfied: pandas in /home/lx/env37/lib/python3.7/site-packages (from datasets) (1.3.5)\n",
      "Requirement already satisfied: xxhash in /home/lx/env37/lib/python3.7/site-packages (from datasets) (3.2.0)\n",
      "Requirement already satisfied: multiprocess in /home/lx/env37/lib/python3.7/site-packages (from datasets) (0.70.14)\n",
      "Requirement already satisfied: fsspec[http]>=2021.11.1 in /home/lx/env37/lib/python3.7/site-packages (from datasets) (2023.1.0)\n",
      "Requirement already satisfied: aiohttp in /home/lx/env37/lib/python3.7/site-packages (from datasets) (3.8.4)\n",
      "Requirement already satisfied: responses<0.19 in /home/lx/env37/lib/python3.7/site-packages (from datasets) (0.18.0)\n",
      "Requirement already satisfied: attrs>=17.3.0 in /home/lx/env37/lib/python3.7/site-packages (from aiohttp->datasets) (23.1.0)\n",
      "Requirement already satisfied: charset-normalizer<4.0,>=2.0 in /home/lx/env37/lib/python3.7/site-packages (from aiohttp->datasets) (3.1.0)\n",
      "Requirement already satisfied: multidict<7.0,>=4.5 in /home/lx/env37/lib/python3.7/site-packages (from aiohttp->datasets) (6.0.4)\n",
      "Requirement already satisfied: async-timeout<5.0,>=4.0.0a3 in /home/lx/env37/lib/python3.7/site-packages (from aiohttp->datasets) (4.0.2)\n",
      "Requirement already satisfied: yarl<2.0,>=1.0 in /home/lx/env37/lib/python3.7/site-packages (from aiohttp->datasets) (1.9.2)\n",
      "Requirement already satisfied: frozenlist>=1.1.1 in /home/lx/env37/lib/python3.7/site-packages (from aiohttp->datasets) (1.3.3)\n",
      "Requirement already satisfied: aiosignal>=1.1.2 in /home/lx/env37/lib/python3.7/site-packages (from aiohttp->datasets) (1.3.1)\n",
      "Requirement already satisfied: asynctest==0.13.0 in /home/lx/env37/lib/python3.7/site-packages (from aiohttp->datasets) (0.13.0)\n",
      "Requirement already satisfied: typing-extensions>=3.7.4 in /home/lx/env37/lib/python3.7/site-packages (from aiohttp->datasets) (4.6.2)\n",
      "Requirement already satisfied: idna<4,>=2.5 in /home/lx/env37/lib/python3.7/site-packages (from requests->transformers) (3.4)\n",
      "Requirement already satisfied: urllib3<3,>=1.21.1 in /home/lx/env37/lib/python3.7/site-packages (from requests->transformers) (2.0.2)\n",
      "Requirement already satisfied: certifi>=2017.4.17 in /home/lx/env37/lib/python3.7/site-packages (from requests->transformers) (2023.5.7)\n",
      "Requirement already satisfied: zipp>=0.5 in /home/lx/env37/lib/python3.7/site-packages (from importlib-metadata->transformers) (3.15.0)\n",
      "Requirement already satisfied: python-dateutil>=2.7.3 in /home/lx/env37/lib/python3.7/site-packages (from pandas->datasets) (2.8.2)\n",
      "Requirement already satisfied: pytz>=2017.3 in /home/lx/env37/lib/python3.7/site-packages (from pandas->datasets) (2023.3)\n",
      "Requirement already satisfied: six>=1.5 in /home/lx/env37/lib/python3.7/site-packages (from python-dateutil>=2.7.3->pandas->datasets) (1.16.0)\n",
      "Requirement already satisfied: ipywidgets in /home/lx/env37/lib/python3.7/site-packages (8.0.6)\n",
      "Requirement already satisfied: ipykernel>=4.5.1 in /home/lx/env37/lib/python3.7/site-packages (from ipywidgets) (6.16.2)\n",
      "Requirement already satisfied: ipython>=6.1.0 in /home/lx/env37/lib/python3.7/site-packages (from ipywidgets) (7.34.0)\n",
      "Requirement already satisfied: traitlets>=4.3.1 in /home/lx/env37/lib/python3.7/site-packages (from ipywidgets) (5.9.0)\n",
      "Requirement already satisfied: widgetsnbextension~=4.0.7 in /home/lx/env37/lib/python3.7/site-packages (from ipywidgets) (4.0.7)\n",
      "Requirement already satisfied: jupyterlab-widgets~=3.0.7 in /home/lx/env37/lib/python3.7/site-packages (from ipywidgets) (3.0.7)\n",
      "Requirement already satisfied: debugpy>=1.0 in /home/lx/env37/lib/python3.7/site-packages (from ipykernel>=4.5.1->ipywidgets) (1.6.7)\n",
      "Requirement already satisfied: jupyter-client>=6.1.12 in /home/lx/env37/lib/python3.7/site-packages (from ipykernel>=4.5.1->ipywidgets) (7.4.9)\n",
      "Requirement already satisfied: matplotlib-inline>=0.1 in /home/lx/env37/lib/python3.7/site-packages (from ipykernel>=4.5.1->ipywidgets) (0.1.6)\n",
      "Requirement already satisfied: nest-asyncio in /home/lx/env37/lib/python3.7/site-packages (from ipykernel>=4.5.1->ipywidgets) (1.5.6)\n",
      "Requirement already satisfied: packaging in /home/lx/env37/lib/python3.7/site-packages (from ipykernel>=4.5.1->ipywidgets) (23.1)\n",
      "Requirement already satisfied: psutil in /home/lx/env37/lib/python3.7/site-packages (from ipykernel>=4.5.1->ipywidgets) (5.9.5)\n",
      "Requirement already satisfied: pyzmq>=17 in /home/lx/env37/lib/python3.7/site-packages (from ipykernel>=4.5.1->ipywidgets) (25.1.0)\n",
      "Requirement already satisfied: tornado>=6.1 in /home/lx/env37/lib/python3.7/site-packages (from ipykernel>=4.5.1->ipywidgets) (6.2)\n",
      "Requirement already satisfied: setuptools>=18.5 in /home/lx/env37/lib/python3.7/site-packages (from ipython>=6.1.0->ipywidgets) (47.1.0)\n",
      "Requirement already satisfied: jedi>=0.16 in /home/lx/env37/lib/python3.7/site-packages (from ipython>=6.1.0->ipywidgets) (0.18.2)\n",
      "Requirement already satisfied: decorator in /home/lx/env37/lib/python3.7/site-packages (from ipython>=6.1.0->ipywidgets) (5.1.1)\n",
      "Requirement already satisfied: pickleshare in /home/lx/env37/lib/python3.7/site-packages (from ipython>=6.1.0->ipywidgets) (0.7.5)\n",
      "Requirement already satisfied: prompt-toolkit!=3.0.0,!=3.0.1,<3.1.0,>=2.0.0 in /home/lx/env37/lib/python3.7/site-packages (from ipython>=6.1.0->ipywidgets) (3.0.38)\n",
      "Requirement already satisfied: pygments in /home/lx/env37/lib/python3.7/site-packages (from ipython>=6.1.0->ipywidgets) (2.15.1)\n",
      "Requirement already satisfied: backcall in /home/lx/env37/lib/python3.7/site-packages (from ipython>=6.1.0->ipywidgets) (0.2.0)\n",
      "Requirement already satisfied: pexpect>4.3 in /home/lx/env37/lib/python3.7/site-packages (from ipython>=6.1.0->ipywidgets) (4.8.0)\n",
      "Requirement already satisfied: parso<0.9.0,>=0.8.0 in /home/lx/env37/lib/python3.7/site-packages (from jedi>=0.16->ipython>=6.1.0->ipywidgets) (0.8.3)\n",
      "Requirement already satisfied: entrypoints in /home/lx/env37/lib/python3.7/site-packages (from jupyter-client>=6.1.12->ipykernel>=4.5.1->ipywidgets) (0.4)\n",
      "Requirement already satisfied: jupyter-core>=4.9.2 in /home/lx/env37/lib/python3.7/site-packages (from jupyter-client>=6.1.12->ipykernel>=4.5.1->ipywidgets) (4.12.0)\n",
      "Requirement already satisfied: python-dateutil>=2.8.2 in /home/lx/env37/lib/python3.7/site-packages (from jupyter-client>=6.1.12->ipykernel>=4.5.1->ipywidgets) (2.8.2)\n",
      "Requirement already satisfied: ptyprocess>=0.5 in /home/lx/env37/lib/python3.7/site-packages (from pexpect>4.3->ipython>=6.1.0->ipywidgets) (0.7.0)\n",
      "Requirement already satisfied: wcwidth in /home/lx/env37/lib/python3.7/site-packages (from prompt-toolkit!=3.0.0,!=3.0.1,<3.1.0,>=2.0.0->ipython>=6.1.0->ipywidgets) (0.2.6)\n",
      "Requirement already satisfied: six>=1.5 in /home/lx/env37/lib/python3.7/site-packages (from python-dateutil>=2.8.2->jupyter-client>=6.1.12->ipykernel>=4.5.1->ipywidgets) (1.16.0)\n",
      "Collecting sklearn\n",
      "  Using cached sklearn-0.0.post5.tar.gz (3.7 kB)\n",
      "  Installing build dependencies ... \u001b[?25ldone\n",
      "\u001b[?25h  Getting requirements to build wheel ... \u001b[?25ldone\n",
      "\u001b[?25h  Preparing metadata (pyproject.toml) ... \u001b[?25ldone\n",
      "\u001b[?25hBuilding wheels for collected packages: sklearn\n",
      "  Building wheel for sklearn (pyproject.toml) ... \u001b[?25ldone\n",
      "\u001b[?25h  Created wheel for sklearn: filename=sklearn-0.0.post5-py3-none-any.whl size=2950 sha256=9b5fc3ccf2424be7e1d71d1098acf21e5b21c6f5e1365c51dbb1a33a7bff6333\n",
      "  Stored in directory: /home/lx/.cache/pip/wheels/d7/16/66/2658c4919dbc6cdf8b4642da29d3bbf83de902fc01e2c9a999\n",
      "Successfully built sklearn\n",
      "Installing collected packages: sklearn\n",
      "Successfully installed sklearn-0.0.post5\n",
      "Requirement already satisfied: huggingface_hub in /home/lx/env37/lib/python3.7/site-packages (0.14.1)\n",
      "Requirement already satisfied: filelock in /home/lx/env37/lib/python3.7/site-packages (from huggingface_hub) (3.12.0)\n",
      "Requirement already satisfied: fsspec in /home/lx/env37/lib/python3.7/site-packages (from huggingface_hub) (2023.1.0)\n",
      "Requirement already satisfied: requests in /home/lx/env37/lib/python3.7/site-packages (from huggingface_hub) (2.31.0)\n",
      "Requirement already satisfied: tqdm>=4.42.1 in /home/lx/env37/lib/python3.7/site-packages (from huggingface_hub) (4.65.0)\n",
      "Requirement already satisfied: pyyaml>=5.1 in /home/lx/env37/lib/python3.7/site-packages (from huggingface_hub) (6.0)\n",
      "Requirement already satisfied: typing-extensions>=3.7.4.3 in /home/lx/env37/lib/python3.7/site-packages (from huggingface_hub) (4.6.2)\n",
      "Requirement already satisfied: packaging>=20.9 in /home/lx/env37/lib/python3.7/site-packages (from huggingface_hub) (23.1)\n",
      "Requirement already satisfied: importlib-metadata in /home/lx/env37/lib/python3.7/site-packages (from huggingface_hub) (6.6.0)\n",
      "Requirement already satisfied: zipp>=0.5 in /home/lx/env37/lib/python3.7/site-packages (from importlib-metadata->huggingface_hub) (3.15.0)\n",
      "Requirement already satisfied: charset-normalizer<4,>=2 in /home/lx/env37/lib/python3.7/site-packages (from requests->huggingface_hub) (3.1.0)\n",
      "Requirement already satisfied: idna<4,>=2.5 in /home/lx/env37/lib/python3.7/site-packages (from requests->huggingface_hub) (3.4)\n",
      "Requirement already satisfied: urllib3<3,>=1.21.1 in /home/lx/env37/lib/python3.7/site-packages (from requests->huggingface_hub) (2.0.2)\n",
      "Requirement already satisfied: certifi>=2017.4.17 in /home/lx/env37/lib/python3.7/site-packages (from requests->huggingface_hub) (2023.5.7)\n",
      "Requirement already satisfied: scikit-learn in /home/lx/env37/lib/python3.7/site-packages (1.0.2)\n",
      "Requirement already satisfied: numpy>=1.14.6 in /home/lx/env37/lib/python3.7/site-packages (from scikit-learn) (1.21.6)\n",
      "Requirement already satisfied: scipy>=1.1.0 in /home/lx/env37/lib/python3.7/site-packages (from scikit-learn) (1.7.3)\n",
      "Requirement already satisfied: joblib>=0.11 in /home/lx/env37/lib/python3.7/site-packages (from scikit-learn) (1.2.0)\n",
      "Requirement already satisfied: threadpoolctl>=2.0.0 in /home/lx/env37/lib/python3.7/site-packages (from scikit-learn) (3.1.0)\n",
      "Requirement already satisfied: accelerate in /home/lx/env37/lib/python3.7/site-packages (0.19.0)\n",
      "Requirement already satisfied: numpy>=1.17 in /home/lx/env37/lib/python3.7/site-packages (from accelerate) (1.21.6)\n",
      "Requirement already satisfied: packaging>=20.0 in /home/lx/env37/lib/python3.7/site-packages (from accelerate) (23.1)\n",
      "Requirement already satisfied: psutil in /home/lx/env37/lib/python3.7/site-packages (from accelerate) (5.9.5)\n",
      "Requirement already satisfied: pyyaml in /home/lx/env37/lib/python3.7/site-packages (from accelerate) (6.0)\n",
      "Requirement already satisfied: torch>=1.6.0 in /home/lx/env37/lib/python3.7/site-packages (from accelerate) (1.9.0+cu111)\n",
      "Requirement already satisfied: typing-extensions in /home/lx/env37/lib/python3.7/site-packages (from torch>=1.6.0->accelerate) (4.6.2)\n"
     ]
    }
   ],
   "source": [
    "!pip install transformers datasets evaluate\n",
    "\n",
    "!pip install ipywidgets\n",
    "!pip install sklearn\n",
    "\n",
    "!pip install --upgrade huggingface_hub\n",
    "\n",
    "!pip install scikit-learn\n",
    "!pip install --upgrade accelerate"
   ]
  },
  {
   "cell_type": "code",
   "execution_count": 18,
   "id": "52ac316d-d91d-4e29-9f5a-c53c32866bee",
   "metadata": {
    "tags": []
   },
   "outputs": [
    {
     "name": "stdout",
     "output_type": "stream",
     "text": [
      "E: Could not open lock file /var/lib/dpkg/lock-frontend - open (13: Permission denied)\n",
      "E: Unable to acquire the dpkg frontend lock (/var/lib/dpkg/lock-frontend), are you root?\n"
     ]
    }
   ],
   "source": [
    "#!apt install git-lfs"
   ]
  },
  {
   "cell_type": "code",
   "execution_count": 3,
   "id": "0a7c7c74-88a8-469d-9fdc-560a30a41b90",
   "metadata": {
    "tags": []
   },
   "outputs": [
    {
     "name": "stdout",
     "output_type": "stream",
     "text": [
      "Token will not been saved to git credential helper. Pass `add_to_git_credential=True` if you want to set the git credential as well.\n",
      "Token is valid.\n",
      "Your token has been saved to /home/lx/.cache/huggingface/token\n",
      "Login successful\n"
     ]
    }
   ],
   "source": [
    "!huggingface-cli login --token ${YOUR_HF_TOKEN} "
   ]
  },
  {
   "cell_type": "markdown",
   "id": "053df435-3114-4909-8d64-982041cd6c65",
   "metadata": {},
   "source": [
    "###### 1. Import libraries "
   ]
  },
  {
   "cell_type": "code",
   "execution_count": 4,
   "id": "839fa2ce-02bc-4251-bee6-7c03b1a72578",
   "metadata": {
    "tags": []
   },
   "outputs": [],
   "source": [
    "from datasets import load_dataset\n",
    "from transformers import AutoTokenizer\n",
    "from transformers import DataCollatorWithPadding\n",
    "import evaluate\n",
    "from transformers import AutoModelForSequenceClassification, TrainingArguments, Trainer\n",
    "import numpy as np"
   ]
  },
  {
   "cell_type": "markdown",
   "id": "6f0d5c9b-fb5b-4972-9b49-9f91581e5651",
   "metadata": {},
   "source": [
    "###### 2. Load dataset and define helper functions"
   ]
  },
  {
   "cell_type": "code",
   "execution_count": 5,
   "id": "1543e12e-0fa2-4aa4-9d6f-61c47611c68e",
   "metadata": {
    "tags": []
   },
   "outputs": [],
   "source": [
    "def preprocess_function(examples):\n",
    "    return tokenizer(examples[\"text\"], truncation=True)\n",
    "\n",
    "def compute_metrics(eval_pred):\n",
    "    predictions, labels = eval_pred\n",
    "    predictions = np.argmax(predictions, axis=1)\n",
    "    return accuracy.compute(predictions=predictions, references=labels)"
   ]
  },
  {
   "cell_type": "code",
   "execution_count": 6,
   "id": "c0618422-1d68-4a47-bac4-754edbce23c5",
   "metadata": {
    "tags": []
   },
   "outputs": [
    {
     "name": "stderr",
     "output_type": "stream",
     "text": [
      "Found cached dataset banking77 (/home/lx/.cache/huggingface/datasets/PolyAI___banking77/default/1.1.0/aec0289529599d4572d76ab00c8944cb84f88410ad0c9e7da26189d31f62a55b)\n"
     ]
    },
    {
     "data": {
      "application/vnd.jupyter.widget-view+json": {
       "model_id": "ab486fda160f4500b95e77f93a01e956",
       "version_major": 2,
       "version_minor": 0
      },
      "text/plain": [
       "  0%|          | 0/2 [00:00<?, ?it/s]"
      ]
     },
     "metadata": {},
     "output_type": "display_data"
    }
   ],
   "source": [
    "dataset = load_dataset(\"PolyAI/banking77\")"
   ]
  },
  {
   "cell_type": "code",
   "execution_count": 7,
   "id": "8c6bfad2-474c-4c89-a493-4d4caaf84758",
   "metadata": {
    "tags": []
   },
   "outputs": [
    {
     "data": {
      "text/plain": [
       "DatasetDict({\n",
       "    train: Dataset({\n",
       "        features: ['text', 'label'],\n",
       "        num_rows: 10003\n",
       "    })\n",
       "    test: Dataset({\n",
       "        features: ['text', 'label'],\n",
       "        num_rows: 3080\n",
       "    })\n",
       "})"
      ]
     },
     "execution_count": 7,
     "metadata": {},
     "output_type": "execute_result"
    }
   ],
   "source": [
    "dataset"
   ]
  },
  {
   "cell_type": "code",
   "execution_count": 8,
   "id": "037b1287-c4bf-4b8b-a1e7-60eed9935b59",
   "metadata": {
    "tags": []
   },
   "outputs": [
    {
     "data": {
      "text/plain": [
       "{'text': 'I am still waiting on my card?', 'label': 11}"
      ]
     },
     "execution_count": 8,
     "metadata": {},
     "output_type": "execute_result"
    }
   ],
   "source": [
    "dataset[\"train\"][0]"
   ]
  },
  {
   "cell_type": "code",
   "execution_count": 9,
   "id": "a404331d-d400-4db0-a515-3c25d449d399",
   "metadata": {
    "tags": []
   },
   "outputs": [
    {
     "data": {
      "text/plain": [
       "['activate_my_card',\n",
       " 'age_limit',\n",
       " 'apple_pay_or_google_pay',\n",
       " 'atm_support',\n",
       " 'automatic_top_up']"
      ]
     },
     "execution_count": 9,
     "metadata": {},
     "output_type": "execute_result"
    }
   ],
   "source": [
    "labels = dataset[\"train\"].features[\"label\"].names\n",
    "labels[:5]"
   ]
  },
  {
   "cell_type": "code",
   "execution_count": 10,
   "id": "045f7190-964a-41d0-801a-b6e24f1b2a9f",
   "metadata": {
    "tags": []
   },
   "outputs": [],
   "source": [
    "label2id = {label: idx for idx, label in enumerate(labels)}\n",
    "id2label = {idx: label for idx, label in enumerate(labels)}\n",
    "num_labels = len(labels)"
   ]
  },
  {
   "cell_type": "markdown",
   "id": "77d046f0-f3cc-4a53-bb5d-d250f38c0f4e",
   "metadata": {},
   "source": [
    "###### 3. Load model and tokenizer and collator"
   ]
  },
  {
   "cell_type": "code",
   "execution_count": 11,
   "id": "9bd2212c-fb5c-4e4c-ba93-6e0197ec7f18",
   "metadata": {
    "tags": []
   },
   "outputs": [],
   "source": [
    "tokenizer = AutoTokenizer.from_pretrained(\"distilbert-base-uncased\")\n",
    "data_collator = DataCollatorWithPadding(tokenizer=tokenizer)\n",
    "accuracy = evaluate.load(\"accuracy\")"
   ]
  },
  {
   "cell_type": "code",
   "execution_count": 12,
   "id": "8411571a-bf83-4b2e-b7ba-b7e633961bb7",
   "metadata": {
    "tags": []
   },
   "outputs": [
    {
     "name": "stderr",
     "output_type": "stream",
     "text": [
      "Loading cached processed dataset at /home/lx/.cache/huggingface/datasets/PolyAI___banking77/default/1.1.0/aec0289529599d4572d76ab00c8944cb84f88410ad0c9e7da26189d31f62a55b/cache-3eb98eaad63f0c9c.arrow\n",
      "Loading cached processed dataset at /home/lx/.cache/huggingface/datasets/PolyAI___banking77/default/1.1.0/aec0289529599d4572d76ab00c8944cb84f88410ad0c9e7da26189d31f62a55b/cache-2d07f228ebc49458.arrow\n"
     ]
    }
   ],
   "source": [
    "tokenized_dataset = dataset.map(preprocess_function, batched=True)"
   ]
  },
  {
   "cell_type": "code",
   "execution_count": 13,
   "id": "4a979938-709f-4123-bc8c-3cf62e79c354",
   "metadata": {
    "tags": []
   },
   "outputs": [
    {
     "data": {
      "text/plain": [
       "{'text': 'When did you send me my new card?',\n",
       " 'label': 11,\n",
       " 'input_ids': [101, 2043, 2106, 2017, 4604, 2033, 2026, 2047, 4003, 1029, 102],\n",
       " 'attention_mask': [1, 1, 1, 1, 1, 1, 1, 1, 1, 1, 1]}"
      ]
     },
     "execution_count": 13,
     "metadata": {},
     "output_type": "execute_result"
    }
   ],
   "source": [
    "tokenized_dataset[\"train\"][5]"
   ]
  },
  {
   "cell_type": "code",
   "execution_count": 14,
   "id": "cd6d6219-d474-42ec-8cba-1d7509a0fb5e",
   "metadata": {
    "tags": []
   },
   "outputs": [
    {
     "data": {
      "text/plain": [
       "'card_arrival'"
      ]
     },
     "execution_count": 14,
     "metadata": {},
     "output_type": "execute_result"
    }
   ],
   "source": [
    "id2label[11]"
   ]
  },
  {
   "cell_type": "code",
   "execution_count": 15,
   "id": "2caaee4b-e3d2-408a-bd62-3ad0ba45006a",
   "metadata": {
    "tags": []
   },
   "outputs": [
    {
     "name": "stderr",
     "output_type": "stream",
     "text": [
      "Some weights of the model checkpoint at distilbert-base-uncased were not used when initializing DistilBertForSequenceClassification: ['vocab_transform.bias', 'vocab_layer_norm.bias', 'vocab_layer_norm.weight', 'vocab_projector.bias', 'vocab_transform.weight', 'vocab_projector.weight']\n",
      "- This IS expected if you are initializing DistilBertForSequenceClassification from the checkpoint of a model trained on another task or with another architecture (e.g. initializing a BertForSequenceClassification model from a BertForPreTraining model).\n",
      "- This IS NOT expected if you are initializing DistilBertForSequenceClassification from the checkpoint of a model that you expect to be exactly identical (initializing a BertForSequenceClassification model from a BertForSequenceClassification model).\n",
      "Some weights of DistilBertForSequenceClassification were not initialized from the model checkpoint at distilbert-base-uncased and are newly initialized: ['pre_classifier.weight', 'pre_classifier.bias', 'classifier.bias', 'classifier.weight']\n",
      "You should probably TRAIN this model on a down-stream task to be able to use it for predictions and inference.\n"
     ]
    }
   ],
   "source": [
    "model = AutoModelForSequenceClassification.from_pretrained(\n",
    "    \"distilbert-base-uncased\", num_labels=num_labels, id2label=id2label, label2id=label2id\n",
    ")"
   ]
  },
  {
   "cell_type": "markdown",
   "id": "7d3913f3-2e5a-4796-a851-ad803d032a98",
   "metadata": {},
   "source": [
    "###### 4. Defined  "
   ]
  },
  {
   "cell_type": "code",
   "execution_count": 19,
   "id": "34bfd338-db0b-4711-9402-c01741db0c14",
   "metadata": {
    "tags": []
   },
   "outputs": [
    {
     "name": "stderr",
     "output_type": "stream",
     "text": [
      "Cloning https://huggingface.co/lxyuan/banking-intent-distilbert-classifier into local empty directory.\n"
     ]
    }
   ],
   "source": [
    "training_args = TrainingArguments(\n",
    "    output_dir=\"banking-intent-distilbert-classifier\",\n",
    "    evaluation_strategy = \"epoch\",\n",
    "    save_strategy = \"epoch\",\n",
    "    logging_strategy = \"epoch\",\n",
    "    gradient_accumulation_steps=2,\n",
    "    learning_rate=2e-5,\n",
    "    per_device_train_batch_size=16,\n",
    "    per_device_eval_batch_size=16,\n",
    "    weight_decay=0.01,\n",
    "    num_train_epochs=10,\n",
    "    load_best_model_at_end=True,\n",
    "    metric_for_best_model=\"eval_loss\",\n",
    "    greater_is_better=False,\n",
    "    fp16=True,\n",
    "    push_to_hub=True,\n",
    ")\n",
    "\n",
    "trainer = Trainer(\n",
    "    model=model,\n",
    "    args=training_args,\n",
    "    train_dataset=tokenized_dataset[\"train\"],\n",
    "    eval_dataset=tokenized_dataset[\"test\"],\n",
    "    tokenizer=tokenizer,\n",
    "    data_collator=data_collator,\n",
    "    compute_metrics=compute_metrics,\n",
    ")"
   ]
  },
  {
   "cell_type": "code",
   "execution_count": null,
   "id": "f13ee68e-05fe-43c2-9b26-3a0155162c72",
   "metadata": {
    "tags": []
   },
   "outputs": [],
   "source": [
    "trainer.train()"
   ]
  },
  {
   "cell_type": "code",
   "execution_count": 21,
   "id": "2b01af99-fa3f-4de8-b118-5113fdfcff7b",
   "metadata": {
    "tags": []
   },
   "outputs": [
    {
     "data": {
      "application/vnd.jupyter.widget-view+json": {
       "model_id": "1e53f6152d584b16a8410a8911581cab",
       "version_major": 2,
       "version_minor": 0
      },
      "text/plain": [
       "Upload file pytorch_model.bin:   0%|          | 1.00/256M [00:00<?, ?B/s]"
      ]
     },
     "metadata": {},
     "output_type": "display_data"
    },
    {
     "name": "stderr",
     "output_type": "stream",
     "text": [
      "To https://huggingface.co/lxyuan/banking-intent-distilbert-classifier\n",
      "   8268a4a..8bb4fdd  main -> main\n",
      "\n",
      "To https://huggingface.co/lxyuan/banking-intent-distilbert-classifier\n",
      "   8bb4fdd..97fdc1f  main -> main\n",
      "\n"
     ]
    },
    {
     "data": {
      "text/plain": [
       "'https://huggingface.co/lxyuan/banking-intent-distilbert-classifier/commit/8bb4fddcf9e8f6f8696696410043423a1c66ced7'"
      ]
     },
     "execution_count": 21,
     "metadata": {},
     "output_type": "execute_result"
    }
   ],
   "source": [
    "trainer.push_to_hub()"
   ]
  },
  {
   "cell_type": "code",
   "execution_count": 22,
   "id": "fdab1010-fa39-4a8c-8bd5-e019bcf0f581",
   "metadata": {
    "tags": []
   },
   "outputs": [
    {
     "data": {
      "text/plain": [
       "CommitInfo(commit_url='https://huggingface.co/lxyuan/banking-intent-distilbert-classifier/commit/1cf4fbd8341c4087b4acd55874e3e4494f059737', commit_message='Upload tokenizer', commit_description='', oid='1cf4fbd8341c4087b4acd55874e3e4494f059737', pr_url=None, pr_revision=None, pr_num=None)"
      ]
     },
     "execution_count": 22,
     "metadata": {},
     "output_type": "execute_result"
    }
   ],
   "source": [
    "tokenizer.push_to_hub(\"banking-intent-distilbert-classifier\")"
   ]
  },
  {
   "cell_type": "code",
   "execution_count": 23,
   "id": "b176d85b-5503-4e79-9c7f-4f3e85c5b99e",
   "metadata": {
    "tags": []
   },
   "outputs": [
    {
     "data": {
      "text/plain": [
       "{'eval_loss': 0.2885272204875946, 'eval_accuracy': 0.9243506493506494}"
      ]
     },
     "execution_count": 23,
     "metadata": {},
     "output_type": "execute_result"
    }
   ],
   "source": [
    "trainer.evaluate()\n",
    "# {'eval_loss': 0.2885272204875946, 'eval_accuracy': 0.9243506493506494}"
   ]
  },
  {
   "cell_type": "code",
   "execution_count": 24,
   "id": "9b4b7a51-a49d-4ecd-a61f-700ee1fce4b7",
   "metadata": {
    "tags": []
   },
   "outputs": [
    {
     "data": {
      "text/plain": [
       "{'eval_loss': 0.05775526165962219, 'eval_accuracy': 0.9925022493252025}"
      ]
     },
     "execution_count": 24,
     "metadata": {},
     "output_type": "execute_result"
    }
   ],
   "source": [
    "trainer.evaluate(tokenized_dataset[\"train\"])\n",
    "# {'eval_loss': 0.05775526165962219, 'eval_accuracy': 0.9925022493252025}"
   ]
  },
  {
   "cell_type": "code",
   "execution_count": 29,
   "id": "a4ff3b00-9a2c-460b-95fe-c4f728408935",
   "metadata": {
    "tags": []
   },
   "outputs": [],
   "source": [
    "from transformers import TextClassificationPipeline\n",
    "\n",
    "banking_intend_classifier = TextClassificationPipeline(model=trainer.model, tokenizer=tokenizer, device=0)"
   ]
  },
  {
   "cell_type": "code",
   "execution_count": 31,
   "id": "f024f0e9-e9ae-4207-bb02-4e69bc58f3ae",
   "metadata": {
    "tags": []
   },
   "outputs": [
    {
     "data": {
      "text/plain": [
       "[{'label': 'lost_or_stolen_card', 'score': 0.9518502950668335}]"
      ]
     },
     "execution_count": 31,
     "metadata": {},
     "output_type": "execute_result"
    }
   ],
   "source": [
    "banking_intend_classifier(\"How to report lost card?\")"
   ]
  }
 ],
 "metadata": {
  "kernelspec": {
   "display_name": "Python 3 (ipykernel)",
   "language": "python",
   "name": "python3"
  },
  "language_info": {
   "codemirror_mode": {
    "name": "ipython",
    "version": 3
   },
   "file_extension": ".py",
   "mimetype": "text/x-python",
   "name": "python",
   "nbconvert_exporter": "python",
   "pygments_lexer": "ipython3",
   "version": "3.7.12"
  }
 },
 "nbformat": 4,
 "nbformat_minor": 5
}
